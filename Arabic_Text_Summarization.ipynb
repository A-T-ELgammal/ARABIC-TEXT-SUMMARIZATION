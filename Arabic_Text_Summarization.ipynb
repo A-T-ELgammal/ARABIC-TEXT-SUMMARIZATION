{
  "nbformat": 4,
  "nbformat_minor": 0,
  "metadata": {
    "colab": {
      "name": "Copy of ِArabic_Text_Summarization.ipynb",
      "provenance": [],
      "collapsed_sections": []
    },
    "kernelspec": {
      "name": "python3",
      "display_name": "Python 3"
    },
    "accelerator": "GPU"
  },
  "cells": [
    {
      "cell_type": "markdown",
      "metadata": {
        "id": "awF9632E5L7U"
      },
      "source": [
        "# Resources\n",
        "\n",
        "\n",
        "*  https://github.com/LIAAD/yake\n",
        "*  https://pypi.org/project/PyArabic/\n",
        "\n"
      ]
    },
    {
      "cell_type": "markdown",
      "metadata": {
        "id": "HVauLcILDIl6"
      },
      "source": [
        "# Get Data (Text Files)\n"
      ]
    },
    {
      "cell_type": "code",
      "metadata": {
        "id": "J-v5Pw4i629h"
      },
      "source": [
        "import numpy as np\n",
        "import pandas as pd\n",
        "import pdb\n",
        "import string\n",
        "import os\n",
        "import re\n",
        "\n",
        "from nltk.tokenize import word_tokenize\n",
        "from nltk.stem.isri import ISRIStemmer"
      ],
      "execution_count": null,
      "outputs": []
    },
    {
      "cell_type": "code",
      "metadata": {
        "id": "ln_0E_ArDLd-",
        "colab": {
          "base_uri": "https://localhost:8080/",
          "height": 204
        },
        "outputId": "3707f07d-1234-4ac7-91b3-c4d17c9692b2"
      },
      "source": [
        "!wget https://liquidtelecom.dl.sourceforge.net/project/easc-corpus/EASC/EASC.zip"
      ],
      "execution_count": null,
      "outputs": [
        {
          "output_type": "stream",
          "text": [
            "--2019-09-03 08:17:03--  https://liquidtelecom.dl.sourceforge.net/project/easc-corpus/EASC/EASC.zip\n",
            "Resolving liquidtelecom.dl.sourceforge.net (liquidtelecom.dl.sourceforge.net)... 197.155.77.8\n",
            "Connecting to liquidtelecom.dl.sourceforge.net (liquidtelecom.dl.sourceforge.net)|197.155.77.8|:443... connected.\n",
            "HTTP request sent, awaiting response... 200 OK\n",
            "Length: 1519413 (1.4M) [application/octet-stream]\n",
            "Saving to: ‘EASC.zip’\n",
            "\n",
            "EASC.zip            100%[===================>]   1.45M  1.95MB/s    in 0.7s    \n",
            "\n",
            "2019-09-03 08:17:05 (1.95 MB/s) - ‘EASC.zip’ saved [1519413/1519413]\n",
            "\n"
          ],
          "name": "stdout"
        }
      ]
    },
    {
      "cell_type": "code",
      "metadata": {
        "id": "9rWGXGd9-lV-",
        "colab": {
          "base_uri": "https://localhost:8080/",
          "height": 1000
        },
        "outputId": "27fa0496-3bd5-4618-c5bb-747f809547f8"
      },
      "source": [
        "!unzip EASC.zip"
      ],
      "execution_count": null,
      "outputs": [
        {
          "output_type": "stream",
          "text": [
            "Archive:  EASC.zip\n",
            "  inflating: EASC/COPYRIGHT          \n",
            "   creating: EASC/EASC-ISO-Arabic/\n",
            "   creating: EASC/EASC-ISO-Arabic/Articles/\n",
            "   creating: EASC/EASC-ISO-Arabic/Articles/Topic1/\n",
            "  inflating: EASC/EASC-ISO-Arabic/Articles/Topic1/Art and Music (1).txt  \n",
            "   creating: EASC/EASC-ISO-Arabic/Articles/Topic10/\n",
            "  inflating: EASC/EASC-ISO-Arabic/Articles/Topic10/Art and Music (10).txt  \n",
            "   creating: EASC/EASC-ISO-Arabic/Articles/Topic100/\n",
            "  inflating: EASC/EASC-ISO-Arabic/Articles/Topic100/politics (16).TXT  \n",
            "   creating: EASC/EASC-ISO-Arabic/Articles/Topic101/\n",
            "  inflating: EASC/EASC-ISO-Arabic/Articles/Topic101/politics (17).TXT  \n",
            "   creating: EASC/EASC-ISO-Arabic/Articles/Topic102/\n",
            "  inflating: EASC/EASC-ISO-Arabic/Articles/Topic102/politics (18).TXT  \n",
            "   creating: EASC/EASC-ISO-Arabic/Articles/Topic103/\n",
            "  inflating: EASC/EASC-ISO-Arabic/Articles/Topic103/politics (19).txt  \n",
            "   creating: EASC/EASC-ISO-Arabic/Articles/Topic104/\n",
            "  inflating: EASC/EASC-ISO-Arabic/Articles/Topic104/politics (2).txt  \n",
            "   creating: EASC/EASC-ISO-Arabic/Articles/Topic105/\n",
            "  inflating: EASC/EASC-ISO-Arabic/Articles/Topic105/politics (20).txt  \n",
            "   creating: EASC/EASC-ISO-Arabic/Articles/Topic106/\n",
            "  inflating: EASC/EASC-ISO-Arabic/Articles/Topic106/religion (1).txt  \n",
            "   creating: EASC/EASC-ISO-Arabic/Articles/Topic107/\n",
            "  inflating: EASC/EASC-ISO-Arabic/Articles/Topic107/religion (2).txt  \n",
            "   creating: EASC/EASC-ISO-Arabic/Articles/Topic108/\n",
            "  inflating: EASC/EASC-ISO-Arabic/Articles/Topic108/religion (3).txt  \n",
            "   creating: EASC/EASC-ISO-Arabic/Articles/Topic109/\n",
            "  inflating: EASC/EASC-ISO-Arabic/Articles/Topic109/religion (4).txt  \n",
            "   creating: EASC/EASC-ISO-Arabic/Articles/Topic11/\n",
            "  inflating: EASC/EASC-ISO-Arabic/Articles/Topic11/education (1).txt  \n",
            "   creating: EASC/EASC-ISO-Arabic/Articles/Topic110/\n",
            "  inflating: EASC/EASC-ISO-Arabic/Articles/Topic110/religion (5).txt  \n",
            "   creating: EASC/EASC-ISO-Arabic/Articles/Topic111/\n",
            "  inflating: EASC/EASC-ISO-Arabic/Articles/Topic111/religion (6).txt  \n",
            "   creating: EASC/EASC-ISO-Arabic/Articles/Topic112/\n",
            "  inflating: EASC/EASC-ISO-Arabic/Articles/Topic112/religion (7).txt  \n",
            "   creating: EASC/EASC-ISO-Arabic/Articles/Topic113/\n",
            "  inflating: EASC/EASC-ISO-Arabic/Articles/Topic113/religion (8).txt  \n",
            "   creating: EASC/EASC-ISO-Arabic/Articles/Topic114/\n",
            "  inflating: EASC/EASC-ISO-Arabic/Articles/Topic114/Science and Technology (1).txt  \n",
            "   creating: EASC/EASC-ISO-Arabic/Articles/Topic115/\n",
            "  inflating: EASC/EASC-ISO-Arabic/Articles/Topic115/Science and Technology (2).txt  \n",
            "   creating: EASC/EASC-ISO-Arabic/Articles/Topic116/\n",
            "  inflating: EASC/EASC-ISO-Arabic/Articles/Topic116/Science and Technology (3).txt  \n",
            "   creating: EASC/EASC-ISO-Arabic/Articles/Topic117/\n",
            "  inflating: EASC/EASC-ISO-Arabic/Articles/Topic117/Science and Technology (4).txt  \n",
            "   creating: EASC/EASC-ISO-Arabic/Articles/Topic118/\n",
            "  inflating: EASC/EASC-ISO-Arabic/Articles/Topic118/Science and Technology (5).txt  \n",
            "   creating: EASC/EASC-ISO-Arabic/Articles/Topic119/\n",
            "  inflating: EASC/EASC-ISO-Arabic/Articles/Topic119/Science and Technology (6).txt  \n",
            "   creating: EASC/EASC-ISO-Arabic/Articles/Topic12/\n",
            "  inflating: EASC/EASC-ISO-Arabic/Articles/Topic12/education (2).txt  \n",
            "   creating: EASC/EASC-ISO-Arabic/Articles/Topic120/\n",
            "  inflating: EASC/EASC-ISO-Arabic/Articles/Topic120/Science and Technology (7).txt  \n",
            "   creating: EASC/EASC-ISO-Arabic/Articles/Topic121/\n",
            "  inflating: EASC/EASC-ISO-Arabic/Articles/Topic121/Science and Technology (8).TXT  \n",
            "   creating: EASC/EASC-ISO-Arabic/Articles/Topic122/\n",
            "  inflating: EASC/EASC-ISO-Arabic/Articles/Topic122/Science and Technology (9).TXT  \n",
            "   creating: EASC/EASC-ISO-Arabic/Articles/Topic123/\n",
            "  inflating: EASC/EASC-ISO-Arabic/Articles/Topic123/Science and Technology (10).TXT  \n",
            "   creating: EASC/EASC-ISO-Arabic/Articles/Topic124/\n",
            "  inflating: EASC/EASC-ISO-Arabic/Articles/Topic124/Science and Technology (11).txt  \n",
            "   creating: EASC/EASC-ISO-Arabic/Articles/Topic125/\n",
            "  inflating: EASC/EASC-ISO-Arabic/Articles/Topic125/Science and Technology (12).txt  \n",
            "   creating: EASC/EASC-ISO-Arabic/Articles/Topic126/\n",
            "  inflating: EASC/EASC-ISO-Arabic/Articles/Topic126/Science and Technology (13).txt  \n",
            "   creating: EASC/EASC-ISO-Arabic/Articles/Topic127/\n",
            "  inflating: EASC/EASC-ISO-Arabic/Articles/Topic127/Science and Technology (14).txt  \n",
            "   creating: EASC/EASC-ISO-Arabic/Articles/Topic128/\n",
            "  inflating: EASC/EASC-ISO-Arabic/Articles/Topic128/Science and Technology (15).txt  \n",
            "   creating: EASC/EASC-ISO-Arabic/Articles/Topic129/\n",
            "  inflating: EASC/EASC-ISO-Arabic/Articles/Topic129/Science and Technology (16).txt  \n",
            "   creating: EASC/EASC-ISO-Arabic/Articles/Topic13/\n",
            "  inflating: EASC/EASC-ISO-Arabic/Articles/Topic13/education (3).txt  \n",
            "   creating: EASC/EASC-ISO-Arabic/Articles/Topic130/\n",
            "  inflating: EASC/EASC-ISO-Arabic/Articles/Topic130/sport (1).TXT  \n",
            "   creating: EASC/EASC-ISO-Arabic/Articles/Topic131/\n",
            "  inflating: EASC/EASC-ISO-Arabic/Articles/Topic131/sport (2).txt  \n",
            "   creating: EASC/EASC-ISO-Arabic/Articles/Topic132/\n",
            "  inflating: EASC/EASC-ISO-Arabic/Articles/Topic132/sport (3).txt  \n",
            "   creating: EASC/EASC-ISO-Arabic/Articles/Topic133/\n",
            "  inflating: EASC/EASC-ISO-Arabic/Articles/Topic133/sport (4).txt  \n",
            "   creating: EASC/EASC-ISO-Arabic/Articles/Topic134/\n",
            "  inflating: EASC/EASC-ISO-Arabic/Articles/Topic134/sport (5).txt  \n",
            "   creating: EASC/EASC-ISO-Arabic/Articles/Topic135/\n",
            "  inflating: EASC/EASC-ISO-Arabic/Articles/Topic135/sport (6).txt  \n",
            "   creating: EASC/EASC-ISO-Arabic/Articles/Topic136/\n",
            "  inflating: EASC/EASC-ISO-Arabic/Articles/Topic136/sport (7).TXT  \n",
            "   creating: EASC/EASC-ISO-Arabic/Articles/Topic137/\n",
            "  inflating: EASC/EASC-ISO-Arabic/Articles/Topic137/sport (8).TXT  \n",
            "   creating: EASC/EASC-ISO-Arabic/Articles/Topic138/\n",
            "  inflating: EASC/EASC-ISO-Arabic/Articles/Topic138/sport (9).TXT  \n",
            "   creating: EASC/EASC-ISO-Arabic/Articles/Topic139/\n",
            "  inflating: EASC/EASC-ISO-Arabic/Articles/Topic139/sport (10).txt  \n",
            "   creating: EASC/EASC-ISO-Arabic/Articles/Topic14/\n",
            "  inflating: EASC/EASC-ISO-Arabic/Articles/Topic14/education (4).txt  \n",
            "   creating: EASC/EASC-ISO-Arabic/Articles/Topic140/\n",
            "  inflating: EASC/EASC-ISO-Arabic/Articles/Topic140/tourisms (1).txt  \n",
            "   creating: EASC/EASC-ISO-Arabic/Articles/Topic141/\n",
            "  inflating: EASC/EASC-ISO-Arabic/Articles/Topic141/tourisms (2).txt  \n",
            "   creating: EASC/EASC-ISO-Arabic/Articles/Topic142/\n",
            "  inflating: EASC/EASC-ISO-Arabic/Articles/Topic142/tourisms (3).txt  \n",
            "   creating: EASC/EASC-ISO-Arabic/Articles/Topic143/\n",
            "  inflating: EASC/EASC-ISO-Arabic/Articles/Topic143/tourisms (4).txt  \n",
            "   creating: EASC/EASC-ISO-Arabic/Articles/Topic144/\n",
            "  inflating: EASC/EASC-ISO-Arabic/Articles/Topic144/tourisms (5).txt  \n",
            "   creating: EASC/EASC-ISO-Arabic/Articles/Topic145/\n",
            "  inflating: EASC/EASC-ISO-Arabic/Articles/Topic145/tourisms (6).txt  \n",
            "   creating: EASC/EASC-ISO-Arabic/Articles/Topic146/\n",
            "  inflating: EASC/EASC-ISO-Arabic/Articles/Topic146/tourisms (7).txt  \n",
            "   creating: EASC/EASC-ISO-Arabic/Articles/Topic147/\n",
            "  inflating: EASC/EASC-ISO-Arabic/Articles/Topic147/tourisms (8).txt  \n",
            "   creating: EASC/EASC-ISO-Arabic/Articles/Topic148/\n",
            "  inflating: EASC/EASC-ISO-Arabic/Articles/Topic148/tourisms (9).txt  \n",
            "   creating: EASC/EASC-ISO-Arabic/Articles/Topic149/\n",
            "  inflating: EASC/EASC-ISO-Arabic/Articles/Topic149/tourisms (10).txt  \n",
            "   creating: EASC/EASC-ISO-Arabic/Articles/Topic15/\n",
            "  inflating: EASC/EASC-ISO-Arabic/Articles/Topic15/education (5).txt  \n",
            "   creating: EASC/EASC-ISO-Arabic/Articles/Topic150/\n",
            "  inflating: EASC/EASC-ISO-Arabic/Articles/Topic150/tourisms (11).txt  \n",
            "   creating: EASC/EASC-ISO-Arabic/Articles/Topic151/\n",
            "  inflating: EASC/EASC-ISO-Arabic/Articles/Topic151/tourisms (12).txt  \n",
            "   creating: EASC/EASC-ISO-Arabic/Articles/Topic152/\n",
            "  inflating: EASC/EASC-ISO-Arabic/Articles/Topic152/tourisms (13).txt  \n",
            "   creating: EASC/EASC-ISO-Arabic/Articles/Topic153/\n",
            "  inflating: EASC/EASC-ISO-Arabic/Articles/Topic153/tourisms (14).txt  \n",
            "   creating: EASC/EASC-ISO-Arabic/Articles/Topic16/\n",
            "  inflating: EASC/EASC-ISO-Arabic/Articles/Topic16/education (6).txt  \n",
            "   creating: EASC/EASC-ISO-Arabic/Articles/Topic17/\n",
            "  inflating: EASC/EASC-ISO-Arabic/Articles/Topic17/education (7).txt  \n",
            "   creating: EASC/EASC-ISO-Arabic/Articles/Topic18/\n",
            "  inflating: EASC/EASC-ISO-Arabic/Articles/Topic18/environment (1).TXT  \n",
            "   creating: EASC/EASC-ISO-Arabic/Articles/Topic19/\n",
            "  inflating: EASC/EASC-ISO-Arabic/Articles/Topic19/environment (3).txt  \n",
            "   creating: EASC/EASC-ISO-Arabic/Articles/Topic2/\n",
            "  inflating: EASC/EASC-ISO-Arabic/Articles/Topic2/Art and Music (2).txt  \n",
            "   creating: EASC/EASC-ISO-Arabic/Articles/Topic20/\n",
            "  inflating: EASC/EASC-ISO-Arabic/Articles/Topic20/environment (4).txt  \n",
            "   creating: EASC/EASC-ISO-Arabic/Articles/Topic21/\n",
            "  inflating: EASC/EASC-ISO-Arabic/Articles/Topic21/environment (5).txt  \n",
            "   creating: EASC/EASC-ISO-Arabic/Articles/Topic22/\n",
            "  inflating: EASC/EASC-ISO-Arabic/Articles/Topic22/environment (6).txt  \n",
            "   creating: EASC/EASC-ISO-Arabic/Articles/Topic23/\n",
            "  inflating: EASC/EASC-ISO-Arabic/Articles/Topic23/environment (7).txt  \n",
            "   creating: EASC/EASC-ISO-Arabic/Articles/Topic24/\n",
            "  inflating: EASC/EASC-ISO-Arabic/Articles/Topic24/environment (8).TXT  \n",
            "   creating: EASC/EASC-ISO-Arabic/Articles/Topic25/\n",
            "  inflating: EASC/EASC-ISO-Arabic/Articles/Topic25/environment (9).txt  \n",
            "   creating: EASC/EASC-ISO-Arabic/Articles/Topic26/\n",
            "  inflating: EASC/EASC-ISO-Arabic/Articles/Topic26/environment (10).txt  \n",
            "   creating: EASC/EASC-ISO-Arabic/Articles/Topic27/\n",
            "  inflating: EASC/EASC-ISO-Arabic/Articles/Topic27/environment (11).txt  \n",
            "   creating: EASC/EASC-ISO-Arabic/Articles/Topic28/\n",
            "  inflating: EASC/EASC-ISO-Arabic/Articles/Topic28/environment (12).txt  \n",
            "   creating: EASC/EASC-ISO-Arabic/Articles/Topic29/\n",
            "  inflating: EASC/EASC-ISO-Arabic/Articles/Topic29/environment (13).txt  \n",
            "   creating: EASC/EASC-ISO-Arabic/Articles/Topic3/\n",
            "  inflating: EASC/EASC-ISO-Arabic/Articles/Topic3/Art and Music (3).txt  \n",
            "   creating: EASC/EASC-ISO-Arabic/Articles/Topic30/\n",
            "  inflating: EASC/EASC-ISO-Arabic/Articles/Topic30/environment (14).txt  \n",
            "   creating: EASC/EASC-ISO-Arabic/Articles/Topic31/\n",
            "  inflating: EASC/EASC-ISO-Arabic/Articles/Topic31/environment (15).txt  \n",
            "   creating: EASC/EASC-ISO-Arabic/Articles/Topic32/\n",
            "  inflating: EASC/EASC-ISO-Arabic/Articles/Topic32/environment (16).txt  \n",
            "   creating: EASC/EASC-ISO-Arabic/Articles/Topic33/\n",
            "  inflating: EASC/EASC-ISO-Arabic/Articles/Topic33/environment (17).txt  \n",
            "   creating: EASC/EASC-ISO-Arabic/Articles/Topic34/\n",
            "  inflating: EASC/EASC-ISO-Arabic/Articles/Topic34/environment (18).txt  \n",
            "   creating: EASC/EASC-ISO-Arabic/Articles/Topic35/\n",
            "  inflating: EASC/EASC-ISO-Arabic/Articles/Topic35/environment (19).txt  \n",
            "   creating: EASC/EASC-ISO-Arabic/Articles/Topic36/\n",
            "  inflating: EASC/EASC-ISO-Arabic/Articles/Topic36/environment (20).txt  \n",
            "   creating: EASC/EASC-ISO-Arabic/Articles/Topic37/\n",
            "  inflating: EASC/EASC-ISO-Arabic/Articles/Topic37/environment (21).txt  \n",
            "   creating: EASC/EASC-ISO-Arabic/Articles/Topic38/\n",
            "  inflating: EASC/EASC-ISO-Arabic/Articles/Topic38/environment (22).txt  \n",
            "   creating: EASC/EASC-ISO-Arabic/Articles/Topic39/\n",
            "  inflating: EASC/EASC-ISO-Arabic/Articles/Topic39/environment (23).txt  \n",
            "   creating: EASC/EASC-ISO-Arabic/Articles/Topic4/\n",
            "  inflating: EASC/EASC-ISO-Arabic/Articles/Topic4/Art and Music (4).txt  \n",
            "   creating: EASC/EASC-ISO-Arabic/Articles/Topic40/\n",
            "  inflating: EASC/EASC-ISO-Arabic/Articles/Topic40/environment (24).txt  \n",
            "   creating: EASC/EASC-ISO-Arabic/Articles/Topic41/\n",
            "  inflating: EASC/EASC-ISO-Arabic/Articles/Topic41/environment (25).txt  \n",
            "   creating: EASC/EASC-ISO-Arabic/Articles/Topic42/\n",
            "  inflating: EASC/EASC-ISO-Arabic/Articles/Topic42/environment (26).txt  \n",
            "   creating: EASC/EASC-ISO-Arabic/Articles/Topic43/\n",
            "  inflating: EASC/EASC-ISO-Arabic/Articles/Topic43/environment (27).txt  \n",
            "   creating: EASC/EASC-ISO-Arabic/Articles/Topic44/\n",
            "  inflating: EASC/EASC-ISO-Arabic/Articles/Topic44/environment (28).txt  \n",
            "   creating: EASC/EASC-ISO-Arabic/Articles/Topic45/\n",
            "  inflating: EASC/EASC-ISO-Arabic/Articles/Topic45/environment (29).txt  \n",
            "   creating: EASC/EASC-ISO-Arabic/Articles/Topic46/\n",
            "  inflating: EASC/EASC-ISO-Arabic/Articles/Topic46/environment (30).txt  \n",
            "   creating: EASC/EASC-ISO-Arabic/Articles/Topic47/\n",
            "  inflating: EASC/EASC-ISO-Arabic/Articles/Topic47/environment (31).txt  \n",
            "   creating: EASC/EASC-ISO-Arabic/Articles/Topic48/\n",
            "  inflating: EASC/EASC-ISO-Arabic/Articles/Topic48/environment (32).txt  \n",
            "   creating: EASC/EASC-ISO-Arabic/Articles/Topic49/\n",
            "  inflating: EASC/EASC-ISO-Arabic/Articles/Topic49/environment (33).txt  \n",
            "   creating: EASC/EASC-ISO-Arabic/Articles/Topic5/\n",
            "  inflating: EASC/EASC-ISO-Arabic/Articles/Topic5/Art and Music (5).txt  \n",
            "   creating: EASC/EASC-ISO-Arabic/Articles/Topic50/\n",
            "  inflating: EASC/EASC-ISO-Arabic/Articles/Topic50/environment (34).TXT  \n",
            "   creating: EASC/EASC-ISO-Arabic/Articles/Topic51/\n",
            "  inflating: EASC/EASC-ISO-Arabic/Articles/Topic51/finance (1).txt  \n",
            "   creating: EASC/EASC-ISO-Arabic/Articles/Topic52/\n",
            "  inflating: EASC/EASC-ISO-Arabic/Articles/Topic52/finance (2).txt  \n",
            "   creating: EASC/EASC-ISO-Arabic/Articles/Topic53/\n",
            "  inflating: EASC/EASC-ISO-Arabic/Articles/Topic53/finance (3).txt  \n",
            "   creating: EASC/EASC-ISO-Arabic/Articles/Topic54/\n",
            "  inflating: EASC/EASC-ISO-Arabic/Articles/Topic54/finance (4).txt  \n",
            "   creating: EASC/EASC-ISO-Arabic/Articles/Topic55/\n",
            "  inflating: EASC/EASC-ISO-Arabic/Articles/Topic55/finance (5).txt  \n",
            "   creating: EASC/EASC-ISO-Arabic/Articles/Topic56/\n",
            "  inflating: EASC/EASC-ISO-Arabic/Articles/Topic56/finance (6).txt  \n",
            "   creating: EASC/EASC-ISO-Arabic/Articles/Topic57/\n",
            "  inflating: EASC/EASC-ISO-Arabic/Articles/Topic57/finance (7).txt  \n",
            "   creating: EASC/EASC-ISO-Arabic/Articles/Topic58/\n",
            "  inflating: EASC/EASC-ISO-Arabic/Articles/Topic58/finance (8).txt  \n",
            "   creating: EASC/EASC-ISO-Arabic/Articles/Topic59/\n",
            "  inflating: EASC/EASC-ISO-Arabic/Articles/Topic59/finance (9).txt  \n",
            "   creating: EASC/EASC-ISO-Arabic/Articles/Topic6/\n",
            "  inflating: EASC/EASC-ISO-Arabic/Articles/Topic6/Art and Music (6).txt  \n",
            "   creating: EASC/EASC-ISO-Arabic/Articles/Topic60/\n",
            "  inflating: EASC/EASC-ISO-Arabic/Articles/Topic60/finance (10).txt  \n",
            "   creating: EASC/EASC-ISO-Arabic/Articles/Topic61/\n",
            "  inflating: EASC/EASC-ISO-Arabic/Articles/Topic61/finance (11).txt  \n",
            "   creating: EASC/EASC-ISO-Arabic/Articles/Topic62/\n",
            "  inflating: EASC/EASC-ISO-Arabic/Articles/Topic62/finance (12).txt  \n",
            "   creating: EASC/EASC-ISO-Arabic/Articles/Topic63/\n",
            "  inflating: EASC/EASC-ISO-Arabic/Articles/Topic63/finance (13).txt  \n",
            "   creating: EASC/EASC-ISO-Arabic/Articles/Topic64/\n",
            "  inflating: EASC/EASC-ISO-Arabic/Articles/Topic64/finance (14).txt  \n",
            "   creating: EASC/EASC-ISO-Arabic/Articles/Topic65/\n",
            "  inflating: EASC/EASC-ISO-Arabic/Articles/Topic65/finance (15).TXT  \n",
            "   creating: EASC/EASC-ISO-Arabic/Articles/Topic66/\n",
            "  inflating: EASC/EASC-ISO-Arabic/Articles/Topic66/finance (16).TXT  \n",
            "   creating: EASC/EASC-ISO-Arabic/Articles/Topic67/\n",
            "  inflating: EASC/EASC-ISO-Arabic/Articles/Topic67/finance (17).txt  \n",
            "   creating: EASC/EASC-ISO-Arabic/Articles/Topic68/\n",
            "  inflating: EASC/EASC-ISO-Arabic/Articles/Topic68/health (1).txt  \n",
            "   creating: EASC/EASC-ISO-Arabic/Articles/Topic69/\n",
            "  inflating: EASC/EASC-ISO-Arabic/Articles/Topic69/health (2).TXT  \n",
            "   creating: EASC/EASC-ISO-Arabic/Articles/Topic7/\n",
            "  inflating: EASC/EASC-ISO-Arabic/Articles/Topic7/Art and Music (7).txt  \n",
            "   creating: EASC/EASC-ISO-Arabic/Articles/Topic70/\n",
            "  inflating: EASC/EASC-ISO-Arabic/Articles/Topic70/health (3).txt  \n",
            "   creating: EASC/EASC-ISO-Arabic/Articles/Topic71/\n",
            "  inflating: EASC/EASC-ISO-Arabic/Articles/Topic71/health (4).txt  \n",
            "   creating: EASC/EASC-ISO-Arabic/Articles/Topic72/\n",
            "  inflating: EASC/EASC-ISO-Arabic/Articles/Topic72/health (5).txt  \n",
            "   creating: EASC/EASC-ISO-Arabic/Articles/Topic73/\n",
            "  inflating: EASC/EASC-ISO-Arabic/Articles/Topic73/health (6).txt  \n",
            "   creating: EASC/EASC-ISO-Arabic/Articles/Topic74/\n",
            "  inflating: EASC/EASC-ISO-Arabic/Articles/Topic74/health (7).txt  \n",
            "   creating: EASC/EASC-ISO-Arabic/Articles/Topic75/\n",
            "  inflating: EASC/EASC-ISO-Arabic/Articles/Topic75/health (8).txt  \n",
            "   creating: EASC/EASC-ISO-Arabic/Articles/Topic76/\n",
            "  inflating: EASC/EASC-ISO-Arabic/Articles/Topic76/health (9).TXT  \n",
            "   creating: EASC/EASC-ISO-Arabic/Articles/Topic77/\n",
            "  inflating: EASC/EASC-ISO-Arabic/Articles/Topic77/health (10).TXT  \n",
            "   creating: EASC/EASC-ISO-Arabic/Articles/Topic78/\n",
            "  inflating: EASC/EASC-ISO-Arabic/Articles/Topic78/health (11).TXT  \n",
            "   creating: EASC/EASC-ISO-Arabic/Articles/Topic79/\n",
            "  inflating: EASC/EASC-ISO-Arabic/Articles/Topic79/health (12).txt  \n",
            "   creating: EASC/EASC-ISO-Arabic/Articles/Topic8/\n",
            "  inflating: EASC/EASC-ISO-Arabic/Articles/Topic8/art and music (8).txt  \n",
            "   creating: EASC/EASC-ISO-Arabic/Articles/Topic80/\n",
            "  inflating: EASC/EASC-ISO-Arabic/Articles/Topic80/health (13).txt  \n",
            "   creating: EASC/EASC-ISO-Arabic/Articles/Topic81/\n",
            "  inflating: EASC/EASC-ISO-Arabic/Articles/Topic81/health (14).txt  \n",
            "   creating: EASC/EASC-ISO-Arabic/Articles/Topic82/\n",
            "  inflating: EASC/EASC-ISO-Arabic/Articles/Topic82/health (15).txt  \n",
            "   creating: EASC/EASC-ISO-Arabic/Articles/Topic83/\n",
            "  inflating: EASC/EASC-ISO-Arabic/Articles/Topic83/health (16).txt  \n",
            "   creating: EASC/EASC-ISO-Arabic/Articles/Topic84/\n",
            "  inflating: EASC/EASC-ISO-Arabic/Articles/Topic84/health (17).txt  \n",
            "   creating: EASC/EASC-ISO-Arabic/Articles/Topic85/\n",
            "  inflating: EASC/EASC-ISO-Arabic/Articles/Topic85/politics (1).txt  \n",
            "   creating: EASC/EASC-ISO-Arabic/Articles/Topic86/\n",
            "  inflating: EASC/EASC-ISO-Arabic/Articles/Topic86/politics (21).txt  \n",
            "   creating: EASC/EASC-ISO-Arabic/Articles/Topic87/\n",
            "  inflating: EASC/EASC-ISO-Arabic/Articles/Topic87/politics (3).txt  \n",
            "   creating: EASC/EASC-ISO-Arabic/Articles/Topic88/\n",
            "  inflating: EASC/EASC-ISO-Arabic/Articles/Topic88/politics (4).txt  \n",
            "   creating: EASC/EASC-ISO-Arabic/Articles/Topic89/\n",
            "  inflating: EASC/EASC-ISO-Arabic/Articles/Topic89/politics (5).txt  \n",
            "   creating: EASC/EASC-ISO-Arabic/Articles/Topic9/\n",
            "  inflating: EASC/EASC-ISO-Arabic/Articles/Topic9/art and music (9).txt  \n",
            "   creating: EASC/EASC-ISO-Arabic/Articles/Topic90/\n",
            "  inflating: EASC/EASC-ISO-Arabic/Articles/Topic90/politics (6).txt  \n",
            "   creating: EASC/EASC-ISO-Arabic/Articles/Topic91/\n",
            "  inflating: EASC/EASC-ISO-Arabic/Articles/Topic91/politics (7).txt  \n",
            "   creating: EASC/EASC-ISO-Arabic/Articles/Topic92/\n",
            "  inflating: EASC/EASC-ISO-Arabic/Articles/Topic92/politics (8).txt  \n",
            "   creating: EASC/EASC-ISO-Arabic/Articles/Topic93/\n",
            "  inflating: EASC/EASC-ISO-Arabic/Articles/Topic93/politics (9).txt  \n",
            "   creating: EASC/EASC-ISO-Arabic/Articles/Topic94/\n",
            "  inflating: EASC/EASC-ISO-Arabic/Articles/Topic94/politics (10).txt  \n",
            "   creating: EASC/EASC-ISO-Arabic/Articles/Topic95/\n",
            "  inflating: EASC/EASC-ISO-Arabic/Articles/Topic95/politics (11).txt  \n",
            "   creating: EASC/EASC-ISO-Arabic/Articles/Topic96/\n",
            "  inflating: EASC/EASC-ISO-Arabic/Articles/Topic96/politics (12).txt  \n",
            "   creating: EASC/EASC-ISO-Arabic/Articles/Topic97/\n",
            "  inflating: EASC/EASC-ISO-Arabic/Articles/Topic97/politics (13).txt  \n",
            "   creating: EASC/EASC-ISO-Arabic/Articles/Topic98/\n",
            "  inflating: EASC/EASC-ISO-Arabic/Articles/Topic98/politics (14).txt  \n",
            "   creating: EASC/EASC-ISO-Arabic/Articles/Topic99/\n",
            "  inflating: EASC/EASC-ISO-Arabic/Articles/Topic99/politics (15).txt  \n",
            "   creating: EASC/EASC-ISO-Arabic/MTurk/\n",
            "   creating: EASC/EASC-ISO-Arabic/MTurk/Topic1/\n",
            "  inflating: EASC/EASC-ISO-Arabic/MTurk/Topic1/D0101.M.250.A.1.A  \n",
            "  inflating: EASC/EASC-ISO-Arabic/MTurk/Topic1/D0101.M.250.A.2.B  \n",
            "  inflating: EASC/EASC-ISO-Arabic/MTurk/Topic1/D0101.M.250.A.3.C  \n",
            "  inflating: EASC/EASC-ISO-Arabic/MTurk/Topic1/D0101.M.250.A.4.D  \n",
            "  inflating: EASC/EASC-ISO-Arabic/MTurk/Topic1/D0101.M.250.A.5.E  \n",
            "   creating: EASC/EASC-ISO-Arabic/MTurk/Topic10/\n",
            "  inflating: EASC/EASC-ISO-Arabic/MTurk/Topic10/D01010.M.250.A.1.A  \n",
            "  inflating: EASC/EASC-ISO-Arabic/MTurk/Topic10/D01010.M.250.A.2.B  \n",
            "  inflating: EASC/EASC-ISO-Arabic/MTurk/Topic10/D01010.M.250.A.3.C  \n",
            "  inflating: EASC/EASC-ISO-Arabic/MTurk/Topic10/D01010.M.250.A.4.D  \n",
            "  inflating: EASC/EASC-ISO-Arabic/MTurk/Topic10/D01010.M.250.A.5.E  \n",
            "   creating: EASC/EASC-ISO-Arabic/MTurk/Topic100/\n",
            "  inflating: EASC/EASC-ISO-Arabic/MTurk/Topic100/D06016.M.250.A.1.A  \n",
            "  inflating: EASC/EASC-ISO-Arabic/MTurk/Topic100/D06016.M.250.A.2.B  \n",
            "  inflating: EASC/EASC-ISO-Arabic/MTurk/Topic100/D06016.M.250.A.3.C  \n",
            "  inflating: EASC/EASC-ISO-Arabic/MTurk/Topic100/D06016.M.250.A.4.D  \n",
            "  inflating: EASC/EASC-ISO-Arabic/MTurk/Topic100/D06016.M.250.A.5.E  \n",
            "   creating: EASC/EASC-ISO-Arabic/MTurk/Topic101/\n",
            " extracting: EASC/EASC-ISO-Arabic/MTurk/Topic101/D06017.M.250.A.1.A  \n",
            "  inflating: EASC/EASC-ISO-Arabic/MTurk/Topic101/D06017.M.250.A.2.B  \n",
            "  inflating: EASC/EASC-ISO-Arabic/MTurk/Topic101/D06017.M.250.A.3.C  \n",
            "  inflating: EASC/EASC-ISO-Arabic/MTurk/Topic101/D06017.M.250.A.4.D  \n",
            "  inflating: EASC/EASC-ISO-Arabic/MTurk/Topic101/D06017.M.250.A.5.E  \n",
            "   creating: EASC/EASC-ISO-Arabic/MTurk/Topic102/\n",
            "  inflating: EASC/EASC-ISO-Arabic/MTurk/Topic102/D06018.M.250.A.1.A  \n",
            "  inflating: EASC/EASC-ISO-Arabic/MTurk/Topic102/D06018.M.250.A.2.B  \n",
            "  inflating: EASC/EASC-ISO-Arabic/MTurk/Topic102/D06018.M.250.A.3.C  \n",
            "  inflating: EASC/EASC-ISO-Arabic/MTurk/Topic102/D06018.M.250.A.4.D  \n",
            "  inflating: EASC/EASC-ISO-Arabic/MTurk/Topic102/D06018.M.250.A.5.E  \n",
            "   creating: EASC/EASC-ISO-Arabic/MTurk/Topic103/\n",
            "  inflating: EASC/EASC-ISO-Arabic/MTurk/Topic103/D06019.M.250.A.1.A  \n",
            "  inflating: EASC/EASC-ISO-Arabic/MTurk/Topic103/D06019.M.250.A.2.B  \n",
            "  inflating: EASC/EASC-ISO-Arabic/MTurk/Topic103/D06019.M.250.A.3.C  \n",
            "  inflating: EASC/EASC-ISO-Arabic/MTurk/Topic103/D06019.M.250.A.4.D  \n",
            "  inflating: EASC/EASC-ISO-Arabic/MTurk/Topic103/D06019.M.250.A.5.E  \n",
            "   creating: EASC/EASC-ISO-Arabic/MTurk/Topic104/\n",
            "  inflating: EASC/EASC-ISO-Arabic/MTurk/Topic104/D06020.M.250.A.1.A  \n",
            "  inflating: EASC/EASC-ISO-Arabic/MTurk/Topic104/D06020.M.250.A.2.B  \n",
            "  inflating: EASC/EASC-ISO-Arabic/MTurk/Topic104/D06020.M.250.A.3.C  \n",
            "  inflating: EASC/EASC-ISO-Arabic/MTurk/Topic104/D06020.M.250.A.4.D  \n",
            "  inflating: EASC/EASC-ISO-Arabic/MTurk/Topic104/D06020.M.250.A.5.E  \n",
            "   creating: EASC/EASC-ISO-Arabic/MTurk/Topic105/\n",
            "  inflating: EASC/EASC-ISO-Arabic/MTurk/Topic105/D06021.M.250.A.1.A  \n",
            "  inflating: EASC/EASC-ISO-Arabic/MTurk/Topic105/D06021.M.250.A.2.B  \n",
            "  inflating: EASC/EASC-ISO-Arabic/MTurk/Topic105/D06021.M.250.A.3.C  \n",
            "  inflating: EASC/EASC-ISO-Arabic/MTurk/Topic105/D06021.M.250.A.4.D  \n",
            "  inflating: EASC/EASC-ISO-Arabic/MTurk/Topic105/D06021.M.250.A.5.E  \n",
            "   creating: EASC/EASC-ISO-Arabic/MTurk/Topic106/\n",
            "  inflating: EASC/EASC-ISO-Arabic/MTurk/Topic106/D0701.M.250.A.1.A  \n",
            "  inflating: EASC/EASC-ISO-Arabic/MTurk/Topic106/D0701.M.250.A.2.B  \n",
            "  inflating: EASC/EASC-ISO-Arabic/MTurk/Topic106/D0701.M.250.A.3.C  \n",
            "  inflating: EASC/EASC-ISO-Arabic/MTurk/Topic106/D0701.M.250.A.4.D  \n",
            "  inflating: EASC/EASC-ISO-Arabic/MTurk/Topic106/D0701.M.250.A.5.E  \n",
            "   creating: EASC/EASC-ISO-Arabic/MTurk/Topic107/\n",
            "  inflating: EASC/EASC-ISO-Arabic/MTurk/Topic107/D0702.M.250.A.1.A  \n",
            "  inflating: EASC/EASC-ISO-Arabic/MTurk/Topic107/D0702.M.250.A.2.B  \n",
            "  inflating: EASC/EASC-ISO-Arabic/MTurk/Topic107/D0702.M.250.A.3.C  \n",
            "  inflating: EASC/EASC-ISO-Arabic/MTurk/Topic107/D0702.M.250.A.4.D  \n",
            "  inflating: EASC/EASC-ISO-Arabic/MTurk/Topic107/D0702.M.250.A.5.E  \n",
            "   creating: EASC/EASC-ISO-Arabic/MTurk/Topic108/\n",
            "  inflating: EASC/EASC-ISO-Arabic/MTurk/Topic108/D0703.M.250.A.1.A  \n",
            "  inflating: EASC/EASC-ISO-Arabic/MTurk/Topic108/D0703.M.250.A.2.B  \n",
            "  inflating: EASC/EASC-ISO-Arabic/MTurk/Topic108/D0703.M.250.A.3.C  \n",
            "  inflating: EASC/EASC-ISO-Arabic/MTurk/Topic108/D0703.M.250.A.4.D  \n",
            "  inflating: EASC/EASC-ISO-Arabic/MTurk/Topic108/D0703.M.250.A.5.E  \n",
            "   creating: EASC/EASC-ISO-Arabic/MTurk/Topic109/\n",
            "  inflating: EASC/EASC-ISO-Arabic/MTurk/Topic109/D0704.M.250.A.1.A  \n",
            " extracting: EASC/EASC-ISO-Arabic/MTurk/Topic109/D0704.M.250.A.2.B  \n",
            "  inflating: EASC/EASC-ISO-Arabic/MTurk/Topic109/D0704.M.250.A.3.C  \n",
            " extracting: EASC/EASC-ISO-Arabic/MTurk/Topic109/D0704.M.250.A.4.D  \n",
            "  inflating: EASC/EASC-ISO-Arabic/MTurk/Topic109/D0704.M.250.A.5.E  \n",
            "   creating: EASC/EASC-ISO-Arabic/MTurk/Topic11/\n",
            "  inflating: EASC/EASC-ISO-Arabic/MTurk/Topic11/D0201.M.250.A.1.A  \n",
            "  inflating: EASC/EASC-ISO-Arabic/MTurk/Topic11/D0201.M.250.A.2.B  \n",
            "  inflating: EASC/EASC-ISO-Arabic/MTurk/Topic11/D0201.M.250.A.3.C  \n",
            "  inflating: EASC/EASC-ISO-Arabic/MTurk/Topic11/D0201.M.250.A.4.D  \n",
            "  inflating: EASC/EASC-ISO-Arabic/MTurk/Topic11/D0201.M.250.A.5.E  \n",
            "   creating: EASC/EASC-ISO-Arabic/MTurk/Topic110/\n",
            "  inflating: EASC/EASC-ISO-Arabic/MTurk/Topic110/D0705.M.250.A.1.A  \n",
            "  inflating: EASC/EASC-ISO-Arabic/MTurk/Topic110/D0705.M.250.A.2.B  \n",
            "  inflating: EASC/EASC-ISO-Arabic/MTurk/Topic110/D0705.M.250.A.3.C  \n",
            "  inflating: EASC/EASC-ISO-Arabic/MTurk/Topic110/D0705.M.250.A.4.D  \n",
            "  inflating: EASC/EASC-ISO-Arabic/MTurk/Topic110/D0705.M.250.A.5.E  \n",
            "   creating: EASC/EASC-ISO-Arabic/MTurk/Topic111/\n",
            "  inflating: EASC/EASC-ISO-Arabic/MTurk/Topic111/D0706.M.250.A.1.A  \n",
            "  inflating: EASC/EASC-ISO-Arabic/MTurk/Topic111/D0706.M.250.A.2.B  \n",
            "  inflating: EASC/EASC-ISO-Arabic/MTurk/Topic111/D0706.M.250.A.3.C  \n",
            "  inflating: EASC/EASC-ISO-Arabic/MTurk/Topic111/D0706.M.250.A.4.D  \n",
            "  inflating: EASC/EASC-ISO-Arabic/MTurk/Topic111/D0706.M.250.A.5.E  \n",
            "   creating: EASC/EASC-ISO-Arabic/MTurk/Topic112/\n",
            "  inflating: EASC/EASC-ISO-Arabic/MTurk/Topic112/D0707.M.250.A.1.A  \n",
            "  inflating: EASC/EASC-ISO-Arabic/MTurk/Topic112/D0707.M.250.A.2.B  \n",
            "  inflating: EASC/EASC-ISO-Arabic/MTurk/Topic112/D0707.M.250.A.3.C  \n",
            "  inflating: EASC/EASC-ISO-Arabic/MTurk/Topic112/D0707.M.250.A.4.D  \n",
            "  inflating: EASC/EASC-ISO-Arabic/MTurk/Topic112/D0707.M.250.A.5.E  \n",
            "   creating: EASC/EASC-ISO-Arabic/MTurk/Topic113/\n",
            "  inflating: EASC/EASC-ISO-Arabic/MTurk/Topic113/D0708.M.250.A.1.A  \n",
            "  inflating: EASC/EASC-ISO-Arabic/MTurk/Topic113/D0708.M.250.A.2.B  \n",
            "  inflating: EASC/EASC-ISO-Arabic/MTurk/Topic113/D0708.M.250.A.3.C  \n",
            "  inflating: EASC/EASC-ISO-Arabic/MTurk/Topic113/D0708.M.250.A.4.D  \n",
            " extracting: EASC/EASC-ISO-Arabic/MTurk/Topic113/D0708.M.250.A.5.E  \n",
            "   creating: EASC/EASC-ISO-Arabic/MTurk/Topic114/\n",
            "  inflating: EASC/EASC-ISO-Arabic/MTurk/Topic114/D0801.M.250.A.1.A  \n",
            "  inflating: EASC/EASC-ISO-Arabic/MTurk/Topic114/D0801.M.250.A.2.B  \n",
            "  inflating: EASC/EASC-ISO-Arabic/MTurk/Topic114/D0801.M.250.A.3.C  \n",
            "  inflating: EASC/EASC-ISO-Arabic/MTurk/Topic114/D0801.M.250.A.4.D  \n",
            "  inflating: EASC/EASC-ISO-Arabic/MTurk/Topic114/D0801.M.250.A.5.E  \n",
            "   creating: EASC/EASC-ISO-Arabic/MTurk/Topic115/\n",
            "  inflating: EASC/EASC-ISO-Arabic/MTurk/Topic115/D0802.M.250.A.1.A  \n",
            "  inflating: EASC/EASC-ISO-Arabic/MTurk/Topic115/D0802.M.250.A.2.B  \n",
            "  inflating: EASC/EASC-ISO-Arabic/MTurk/Topic115/D0802.M.250.A.3.C  \n",
            "  inflating: EASC/EASC-ISO-Arabic/MTurk/Topic115/D0802.M.250.A.4.D  \n",
            "  inflating: EASC/EASC-ISO-Arabic/MTurk/Topic115/D0802.M.250.A.5.E  \n",
            "   creating: EASC/EASC-ISO-Arabic/MTurk/Topic116/\n",
            " extracting: EASC/EASC-ISO-Arabic/MTurk/Topic116/D0803.M.250.A.1.A  \n",
            "  inflating: EASC/EASC-ISO-Arabic/MTurk/Topic116/D0803.M.250.A.2.B  \n",
            "  inflating: EASC/EASC-ISO-Arabic/MTurk/Topic116/D0803.M.250.A.3.C  \n",
            " extracting: EASC/EASC-ISO-Arabic/MTurk/Topic116/D0803.M.250.A.4.D  \n",
            "  inflating: EASC/EASC-ISO-Arabic/MTurk/Topic116/D0803.M.250.A.5.E  \n",
            "   creating: EASC/EASC-ISO-Arabic/MTurk/Topic117/\n",
            "  inflating: EASC/EASC-ISO-Arabic/MTurk/Topic117/D0804.M.250.A.1.A  \n",
            "  inflating: EASC/EASC-ISO-Arabic/MTurk/Topic117/D0804.M.250.A.2.B  \n",
            "  inflating: EASC/EASC-ISO-Arabic/MTurk/Topic117/D0804.M.250.A.3.C  \n",
            "  inflating: EASC/EASC-ISO-Arabic/MTurk/Topic117/D0804.M.250.A.4.D  \n",
            "  inflating: EASC/EASC-ISO-Arabic/MTurk/Topic117/D0804.M.250.A.5.E  \n",
            "   creating: EASC/EASC-ISO-Arabic/MTurk/Topic118/\n",
            "  inflating: EASC/EASC-ISO-Arabic/MTurk/Topic118/D0805.M.250.A.1.A  \n",
            "  inflating: EASC/EASC-ISO-Arabic/MTurk/Topic118/D0805.M.250.A.2.B  \n",
            "  inflating: EASC/EASC-ISO-Arabic/MTurk/Topic118/D0805.M.250.A.3.C  \n",
            "  inflating: EASC/EASC-ISO-Arabic/MTurk/Topic118/D0805.M.250.A.4.D  \n",
            "  inflating: EASC/EASC-ISO-Arabic/MTurk/Topic118/D0805.M.250.A.5.E  \n",
            "   creating: EASC/EASC-ISO-Arabic/MTurk/Topic119/\n",
            "  inflating: EASC/EASC-ISO-Arabic/MTurk/Topic119/D0806.M.250.A.1.A  \n",
            "  inflating: EASC/EASC-ISO-Arabic/MTurk/Topic119/D0806.M.250.A.2.B  \n",
            "  inflating: EASC/EASC-ISO-Arabic/MTurk/Topic119/D0806.M.250.A.3.C  \n",
            "  inflating: EASC/EASC-ISO-Arabic/MTurk/Topic119/D0806.M.250.A.4.D  \n",
            "  inflating: EASC/EASC-ISO-Arabic/MTurk/Topic119/D0806.M.250.A.5.E  \n",
            "   creating: EASC/EASC-ISO-Arabic/MTurk/Topic12/\n",
            "  inflating: EASC/EASC-ISO-Arabic/MTurk/Topic12/D0202.M.250.A.1.A  \n",
            " extracting: EASC/EASC-ISO-Arabic/MTurk/Topic12/D0202.M.250.A.2.B  \n",
            " extracting: EASC/EASC-ISO-Arabic/MTurk/Topic12/D0202.M.250.A.3.C  \n",
            " extracting: EASC/EASC-ISO-Arabic/MTurk/Topic12/D0202.M.250.A.4.D  \n",
            "  inflating: EASC/EASC-ISO-Arabic/MTurk/Topic12/D0202.M.250.A.5.E  \n",
            "   creating: EASC/EASC-ISO-Arabic/MTurk/Topic120/\n",
            "  inflating: EASC/EASC-ISO-Arabic/MTurk/Topic120/D0807.M.250.A.1.A  \n",
            "  inflating: EASC/EASC-ISO-Arabic/MTurk/Topic120/D0807.M.250.A.2.B  \n",
            " extracting: EASC/EASC-ISO-Arabic/MTurk/Topic120/D0807.M.250.A.3.C  \n",
            "  inflating: EASC/EASC-ISO-Arabic/MTurk/Topic120/D0807.M.250.A.4.D  \n",
            "  inflating: EASC/EASC-ISO-Arabic/MTurk/Topic120/D0807.M.250.A.5.E  \n",
            "   creating: EASC/EASC-ISO-Arabic/MTurk/Topic121/\n",
            "  inflating: EASC/EASC-ISO-Arabic/MTurk/Topic121/D0808.M.250.A.1.A  \n",
            "  inflating: EASC/EASC-ISO-Arabic/MTurk/Topic121/D0808.M.250.A.2.B  \n",
            " extracting: EASC/EASC-ISO-Arabic/MTurk/Topic121/D0808.M.250.A.3.C  \n",
            "  inflating: EASC/EASC-ISO-Arabic/MTurk/Topic121/D0808.M.250.A.4.D  \n",
            "  inflating: EASC/EASC-ISO-Arabic/MTurk/Topic121/D0808.M.250.A.5.E  \n",
            "   creating: EASC/EASC-ISO-Arabic/MTurk/Topic122/\n",
            "  inflating: EASC/EASC-ISO-Arabic/MTurk/Topic122/D0809.M.250.A.1.A  \n",
            "  inflating: EASC/EASC-ISO-Arabic/MTurk/Topic122/D0809.M.250.A.2.B  \n",
            "  inflating: EASC/EASC-ISO-Arabic/MTurk/Topic122/D0809.M.250.A.3.C  \n",
            "  inflating: EASC/EASC-ISO-Arabic/MTurk/Topic122/D0809.M.250.A.4.D  \n",
            "  inflating: EASC/EASC-ISO-Arabic/MTurk/Topic122/D0809.M.250.A.5.E  \n",
            "   creating: EASC/EASC-ISO-Arabic/MTurk/Topic123/\n",
            "  inflating: EASC/EASC-ISO-Arabic/MTurk/Topic123/D08010.M.250.A.1.A  \n",
            "  inflating: EASC/EASC-ISO-Arabic/MTurk/Topic123/D08010.M.250.A.2.B  \n",
            "  inflating: EASC/EASC-ISO-Arabic/MTurk/Topic123/D08010.M.250.A.3.C  \n",
            "  inflating: EASC/EASC-ISO-Arabic/MTurk/Topic123/D08010.M.250.A.4.D  \n",
            "  inflating: EASC/EASC-ISO-Arabic/MTurk/Topic123/D08010.M.250.A.5.E  \n",
            "   creating: EASC/EASC-ISO-Arabic/MTurk/Topic124/\n",
            "  inflating: EASC/EASC-ISO-Arabic/MTurk/Topic124/D08011.M.250.A.1.A  \n",
            "  inflating: EASC/EASC-ISO-Arabic/MTurk/Topic124/D08011.M.250.A.2.B  \n",
            "  inflating: EASC/EASC-ISO-Arabic/MTurk/Topic124/D08011.M.250.A.3.C  \n",
            "  inflating: EASC/EASC-ISO-Arabic/MTurk/Topic124/D08011.M.250.A.4.D  \n",
            "  inflating: EASC/EASC-ISO-Arabic/MTurk/Topic124/D08011.M.250.A.5.E  \n",
            "   creating: EASC/EASC-ISO-Arabic/MTurk/Topic125/\n",
            "  inflating: EASC/EASC-ISO-Arabic/MTurk/Topic125/D08012.M.250.A.1.A  \n",
            "  inflating: EASC/EASC-ISO-Arabic/MTurk/Topic125/D08012.M.250.A.2.B  \n",
            "  inflating: EASC/EASC-ISO-Arabic/MTurk/Topic125/D08012.M.250.A.3.C  \n",
            "  inflating: EASC/EASC-ISO-Arabic/MTurk/Topic125/D08012.M.250.A.4.D  \n",
            "  inflating: EASC/EASC-ISO-Arabic/MTurk/Topic125/D08012.M.250.A.5.E  \n",
            "   creating: EASC/EASC-ISO-Arabic/MTurk/Topic126/\n",
            "  inflating: EASC/EASC-ISO-Arabic/MTurk/Topic126/D08013.M.250.A.1.A  \n",
            "  inflating: EASC/EASC-ISO-Arabic/MTurk/Topic126/D08013.M.250.A.2.B  \n",
            "  inflating: EASC/EASC-ISO-Arabic/MTurk/Topic126/D08013.M.250.A.3.C  \n",
            "  inflating: EASC/EASC-ISO-Arabic/MTurk/Topic126/D08013.M.250.A.4.D  \n",
            "  inflating: EASC/EASC-ISO-Arabic/MTurk/Topic126/D08013.M.250.A.5.E  \n",
            "   creating: EASC/EASC-ISO-Arabic/MTurk/Topic127/\n",
            "  inflating: EASC/EASC-ISO-Arabic/MTurk/Topic127/D08014.M.250.A.1.A  \n",
            "  inflating: EASC/EASC-ISO-Arabic/MTurk/Topic127/D08014.M.250.A.2.B  \n",
            "  inflating: EASC/EASC-ISO-Arabic/MTurk/Topic127/D08014.M.250.A.3.C  \n",
            "  inflating: EASC/EASC-ISO-Arabic/MTurk/Topic127/D08014.M.250.A.4.D  \n",
            "  inflating: EASC/EASC-ISO-Arabic/MTurk/Topic127/D08014.M.250.A.5.E  \n",
            "   creating: EASC/EASC-ISO-Arabic/MTurk/Topic128/\n",
            "  inflating: EASC/EASC-ISO-Arabic/MTurk/Topic128/D08015.M.250.A.1.A  \n",
            "  inflating: EASC/EASC-ISO-Arabic/MTurk/Topic128/D08015.M.250.A.2.B  \n",
            "  inflating: EASC/EASC-ISO-Arabic/MTurk/Topic128/D08015.M.250.A.3.C  \n",
            "  inflating: EASC/EASC-ISO-Arabic/MTurk/Topic128/D08015.M.250.A.4.D  \n",
            "  inflating: EASC/EASC-ISO-Arabic/MTurk/Topic128/D08015.M.250.A.5.E  \n",
            "   creating: EASC/EASC-ISO-Arabic/MTurk/Topic129/\n",
            "  inflating: EASC/EASC-ISO-Arabic/MTurk/Topic129/D08016.M.250.A.1.A  \n",
            "  inflating: EASC/EASC-ISO-Arabic/MTurk/Topic129/D08016.M.250.A.2.B  \n",
            "  inflating: EASC/EASC-ISO-Arabic/MTurk/Topic129/D08016.M.250.A.3.C  \n",
            "  inflating: EASC/EASC-ISO-Arabic/MTurk/Topic129/D08016.M.250.A.4.D  \n",
            "  inflating: EASC/EASC-ISO-Arabic/MTurk/Topic129/D08016.M.250.A.5.E  \n",
            "   creating: EASC/EASC-ISO-Arabic/MTurk/Topic13/\n",
            "  inflating: EASC/EASC-ISO-Arabic/MTurk/Topic13/D0203.M.250.A.1.A  \n",
            "  inflating: EASC/EASC-ISO-Arabic/MTurk/Topic13/D0203.M.250.A.2.B  \n",
            "  inflating: EASC/EASC-ISO-Arabic/MTurk/Topic13/D0203.M.250.A.3.C  \n",
            "  inflating: EASC/EASC-ISO-Arabic/MTurk/Topic13/D0203.M.250.A.4.D  \n",
            "  inflating: EASC/EASC-ISO-Arabic/MTurk/Topic13/D0203.M.250.A.5.E  \n",
            "   creating: EASC/EASC-ISO-Arabic/MTurk/Topic130/\n",
            "  inflating: EASC/EASC-ISO-Arabic/MTurk/Topic130/D0901.M.250.A.1.A  \n",
            "  inflating: EASC/EASC-ISO-Arabic/MTurk/Topic130/D0901.M.250.A.2.B  \n",
            "  inflating: EASC/EASC-ISO-Arabic/MTurk/Topic130/D0901.M.250.A.3.C  \n",
            "  inflating: EASC/EASC-ISO-Arabic/MTurk/Topic130/D0901.M.250.A.4.D  \n",
            "  inflating: EASC/EASC-ISO-Arabic/MTurk/Topic130/D0901.M.250.A.5.E  \n",
            "   creating: EASC/EASC-ISO-Arabic/MTurk/Topic131/\n",
            "  inflating: EASC/EASC-ISO-Arabic/MTurk/Topic131/D0902.M.250.A.1.A  \n",
            "  inflating: EASC/EASC-ISO-Arabic/MTurk/Topic131/D0902.M.250.A.2.B  \n",
            "  inflating: EASC/EASC-ISO-Arabic/MTurk/Topic131/D0902.M.250.A.3.C  \n",
            "  inflating: EASC/EASC-ISO-Arabic/MTurk/Topic131/D0902.M.250.A.4.D  \n",
            "  inflating: EASC/EASC-ISO-Arabic/MTurk/Topic131/D0902.M.250.A.5.E  \n",
            "   creating: EASC/EASC-ISO-Arabic/MTurk/Topic132/\n",
            "  inflating: EASC/EASC-ISO-Arabic/MTurk/Topic132/D0903.M.250.A.1.A  \n",
            "  inflating: EASC/EASC-ISO-Arabic/MTurk/Topic132/D0903.M.250.A.2.B  \n",
            "  inflating: EASC/EASC-ISO-Arabic/MTurk/Topic132/D0903.M.250.A.3.C  \n",
            "  inflating: EASC/EASC-ISO-Arabic/MTurk/Topic132/D0903.M.250.A.4.D  \n",
            "  inflating: EASC/EASC-ISO-Arabic/MTurk/Topic132/D0903.M.250.A.5.E  \n",
            "   creating: EASC/EASC-ISO-Arabic/MTurk/Topic133/\n",
            "  inflating: EASC/EASC-ISO-Arabic/MTurk/Topic133/D0904.M.250.A.1.A  \n",
            "  inflating: EASC/EASC-ISO-Arabic/MTurk/Topic133/D0904.M.250.A.2.B  \n",
            "  inflating: EASC/EASC-ISO-Arabic/MTurk/Topic133/D0904.M.250.A.3.C  \n",
            "  inflating: EASC/EASC-ISO-Arabic/MTurk/Topic133/D0904.M.250.A.4.D  \n",
            "  inflating: EASC/EASC-ISO-Arabic/MTurk/Topic133/D0904.M.250.A.5.E  \n",
            "   creating: EASC/EASC-ISO-Arabic/MTurk/Topic134/\n",
            "  inflating: EASC/EASC-ISO-Arabic/MTurk/Topic134/D0905.M.250.A.1.A  \n",
            "  inflating: EASC/EASC-ISO-Arabic/MTurk/Topic134/D0905.M.250.A.2.B  \n",
            "  inflating: EASC/EASC-ISO-Arabic/MTurk/Topic134/D0905.M.250.A.3.C  \n",
            "  inflating: EASC/EASC-ISO-Arabic/MTurk/Topic134/D0905.M.250.A.4.D  \n",
            "  inflating: EASC/EASC-ISO-Arabic/MTurk/Topic134/D0905.M.250.A.5.E  \n",
            "   creating: EASC/EASC-ISO-Arabic/MTurk/Topic135/\n",
            "  inflating: EASC/EASC-ISO-Arabic/MTurk/Topic135/D0906.M.250.A.1.A  \n",
            "  inflating: EASC/EASC-ISO-Arabic/MTurk/Topic135/D0906.M.250.A.2.B  \n",
            "  inflating: EASC/EASC-ISO-Arabic/MTurk/Topic135/D0906.M.250.A.3.C  \n",
            " extracting: EASC/EASC-ISO-Arabic/MTurk/Topic135/D0906.M.250.A.4.D  \n",
            " extracting: EASC/EASC-ISO-Arabic/MTurk/Topic135/D0906.M.250.A.5.E  \n",
            "   creating: EASC/EASC-ISO-Arabic/MTurk/Topic136/\n",
            "  inflating: EASC/EASC-ISO-Arabic/MTurk/Topic136/D0907.M.250.A.1.A  \n",
            "  inflating: EASC/EASC-ISO-Arabic/MTurk/Topic136/D0907.M.250.A.2.B  \n",
            "  inflating: EASC/EASC-ISO-Arabic/MTurk/Topic136/D0907.M.250.A.3.C  \n",
            "  inflating: EASC/EASC-ISO-Arabic/MTurk/Topic136/D0907.M.250.A.4.D  \n",
            "  inflating: EASC/EASC-ISO-Arabic/MTurk/Topic136/D0907.M.250.A.5.E  \n",
            "   creating: EASC/EASC-ISO-Arabic/MTurk/Topic137/\n",
            "  inflating: EASC/EASC-ISO-Arabic/MTurk/Topic137/D0908.M.250.A.1.A  \n",
            "  inflating: EASC/EASC-ISO-Arabic/MTurk/Topic137/D0908.M.250.A.2.B  \n",
            "  inflating: EASC/EASC-ISO-Arabic/MTurk/Topic137/D0908.M.250.A.3.C  \n",
            "  inflating: EASC/EASC-ISO-Arabic/MTurk/Topic137/D0908.M.250.A.4.D  \n",
            "  inflating: EASC/EASC-ISO-Arabic/MTurk/Topic137/D0908.M.250.A.5.E  \n",
            "   creating: EASC/EASC-ISO-Arabic/MTurk/Topic138/\n",
            "  inflating: EASC/EASC-ISO-Arabic/MTurk/Topic138/D0909.M.250.A.1.A  \n",
            "  inflating: EASC/EASC-ISO-Arabic/MTurk/Topic138/D0909.M.250.A.2.B  \n",
            "  inflating: EASC/EASC-ISO-Arabic/MTurk/Topic138/D0909.M.250.A.3.C  \n",
            "  inflating: EASC/EASC-ISO-Arabic/MTurk/Topic138/D0909.M.250.A.4.D  \n",
            "  inflating: EASC/EASC-ISO-Arabic/MTurk/Topic138/D0909.M.250.A.5.E  \n",
            "   creating: EASC/EASC-ISO-Arabic/MTurk/Topic139/\n",
            " extracting: EASC/EASC-ISO-Arabic/MTurk/Topic139/D09010.M.250.A.1.A  \n",
            " extracting: EASC/EASC-ISO-Arabic/MTurk/Topic139/D09010.M.250.A.2.B  \n",
            " extracting: EASC/EASC-ISO-Arabic/MTurk/Topic139/D09010.M.250.A.3.C  \n",
            " extracting: EASC/EASC-ISO-Arabic/MTurk/Topic139/D09010.M.250.A.4.D  \n",
            " extracting: EASC/EASC-ISO-Arabic/MTurk/Topic139/D09010.M.250.A.5.E  \n",
            "   creating: EASC/EASC-ISO-Arabic/MTurk/Topic14/\n",
            "  inflating: EASC/EASC-ISO-Arabic/MTurk/Topic14/D0204.M.250.A.1.A  \n",
            "  inflating: EASC/EASC-ISO-Arabic/MTurk/Topic14/D0204.M.250.A.2.B  \n",
            "  inflating: EASC/EASC-ISO-Arabic/MTurk/Topic14/D0204.M.250.A.3.C  \n",
            "  inflating: EASC/EASC-ISO-Arabic/MTurk/Topic14/D0204.M.250.A.4.D  \n",
            "  inflating: EASC/EASC-ISO-Arabic/MTurk/Topic14/D0204.M.250.A.5.E  \n",
            "   creating: EASC/EASC-ISO-Arabic/MTurk/Topic140/\n",
            "  inflating: EASC/EASC-ISO-Arabic/MTurk/Topic140/D01001.M.250.A.1.A  \n",
            "  inflating: EASC/EASC-ISO-Arabic/MTurk/Topic140/D01001.M.250.A.2.B  \n",
            "  inflating: EASC/EASC-ISO-Arabic/MTurk/Topic140/D01001.M.250.A.3.C  \n",
            "  inflating: EASC/EASC-ISO-Arabic/MTurk/Topic140/D01001.M.250.A.4.D  \n",
            "  inflating: EASC/EASC-ISO-Arabic/MTurk/Topic140/D01001.M.250.A.5.E  \n",
            "   creating: EASC/EASC-ISO-Arabic/MTurk/Topic141/\n",
            "  inflating: EASC/EASC-ISO-Arabic/MTurk/Topic141/D01002.M.250.A.1.A  \n",
            "  inflating: EASC/EASC-ISO-Arabic/MTurk/Topic141/D01002.M.250.A.2.B  \n",
            "  inflating: EASC/EASC-ISO-Arabic/MTurk/Topic141/D01002.M.250.A.3.C  \n",
            "  inflating: EASC/EASC-ISO-Arabic/MTurk/Topic141/D01002.M.250.A.4.D  \n",
            "  inflating: EASC/EASC-ISO-Arabic/MTurk/Topic141/D01002.M.250.A.5.E  \n",
            "   creating: EASC/EASC-ISO-Arabic/MTurk/Topic142/\n",
            "  inflating: EASC/EASC-ISO-Arabic/MTurk/Topic142/D01003.M.250.A.1.A  \n",
            " extracting: EASC/EASC-ISO-Arabic/MTurk/Topic142/D01003.M.250.A.2.B  \n",
            "  inflating: EASC/EASC-ISO-Arabic/MTurk/Topic142/D01003.M.250.A.3.C  \n",
            "  inflating: EASC/EASC-ISO-Arabic/MTurk/Topic142/D01003.M.250.A.4.D  \n",
            "  inflating: EASC/EASC-ISO-Arabic/MTurk/Topic142/D01003.M.250.A.5.E  \n",
            "   creating: EASC/EASC-ISO-Arabic/MTurk/Topic143/\n",
            "  inflating: EASC/EASC-ISO-Arabic/MTurk/Topic143/D01004.M.250.A.1.A  \n",
            "  inflating: EASC/EASC-ISO-Arabic/MTurk/Topic143/D01004.M.250.A.2.B  \n",
            "  inflating: EASC/EASC-ISO-Arabic/MTurk/Topic143/D01004.M.250.A.3.C  \n",
            "  inflating: EASC/EASC-ISO-Arabic/MTurk/Topic143/D01004.M.250.A.4.D  \n",
            "  inflating: EASC/EASC-ISO-Arabic/MTurk/Topic143/D01004.M.250.A.5.E  \n",
            "   creating: EASC/EASC-ISO-Arabic/MTurk/Topic144/\n",
            "  inflating: EASC/EASC-ISO-Arabic/MTurk/Topic144/D01005.M.250.A.1.A  \n",
            "  inflating: EASC/EASC-ISO-Arabic/MTurk/Topic144/D01005.M.250.A.2.B  \n",
            "  inflating: EASC/EASC-ISO-Arabic/MTurk/Topic144/D01005.M.250.A.3.C  \n",
            "  inflating: EASC/EASC-ISO-Arabic/MTurk/Topic144/D01005.M.250.A.4.D  \n",
            "  inflating: EASC/EASC-ISO-Arabic/MTurk/Topic144/D01005.M.250.A.5.E  \n",
            "   creating: EASC/EASC-ISO-Arabic/MTurk/Topic145/\n",
            "  inflating: EASC/EASC-ISO-Arabic/MTurk/Topic145/D01006.M.250.A.1.A  \n",
            "  inflating: EASC/EASC-ISO-Arabic/MTurk/Topic145/D01006.M.250.A.2.B  \n",
            "  inflating: EASC/EASC-ISO-Arabic/MTurk/Topic145/D01006.M.250.A.3.C  \n",
            "  inflating: EASC/EASC-ISO-Arabic/MTurk/Topic145/D01006.M.250.A.4.D  \n",
            "  inflating: EASC/EASC-ISO-Arabic/MTurk/Topic145/D01006.M.250.A.5.E  \n",
            "   creating: EASC/EASC-ISO-Arabic/MTurk/Topic146/\n",
            "  inflating: EASC/EASC-ISO-Arabic/MTurk/Topic146/D01007.M.250.A.1.A  \n",
            "  inflating: EASC/EASC-ISO-Arabic/MTurk/Topic146/D01007.M.250.A.2.B  \n",
            "  inflating: EASC/EASC-ISO-Arabic/MTurk/Topic146/D01007.M.250.A.3.C  \n",
            "  inflating: EASC/EASC-ISO-Arabic/MTurk/Topic146/D01007.M.250.A.4.D  \n",
            "  inflating: EASC/EASC-ISO-Arabic/MTurk/Topic146/D01007.M.250.A.5.E  \n",
            "   creating: EASC/EASC-ISO-Arabic/MTurk/Topic147/\n",
            "  inflating: EASC/EASC-ISO-Arabic/MTurk/Topic147/D01008.M.250.A.1.A  \n",
            "  inflating: EASC/EASC-ISO-Arabic/MTurk/Topic147/D01008.M.250.A.2.B  \n",
            " extracting: EASC/EASC-ISO-Arabic/MTurk/Topic147/D01008.M.250.A.3.C  \n",
            "  inflating: EASC/EASC-ISO-Arabic/MTurk/Topic147/D01008.M.250.A.4.D  \n",
            "  inflating: EASC/EASC-ISO-Arabic/MTurk/Topic147/D01008.M.250.A.5.E  \n",
            "   creating: EASC/EASC-ISO-Arabic/MTurk/Topic148/\n",
            "  inflating: EASC/EASC-ISO-Arabic/MTurk/Topic148/D01009.M.250.A.1.A  \n",
            "  inflating: EASC/EASC-ISO-Arabic/MTurk/Topic148/D01009.M.250.A.2.B  \n",
            "  inflating: EASC/EASC-ISO-Arabic/MTurk/Topic148/D01009.M.250.A.3.C  \n",
            "  inflating: EASC/EASC-ISO-Arabic/MTurk/Topic148/D01009.M.250.A.4.D  \n",
            " extracting: EASC/EASC-ISO-Arabic/MTurk/Topic148/D01009.M.250.A.5.E  \n",
            "   creating: EASC/EASC-ISO-Arabic/MTurk/Topic149/\n",
            "  inflating: EASC/EASC-ISO-Arabic/MTurk/Topic149/D010010.M.250.A.1.A  \n",
            "  inflating: EASC/EASC-ISO-Arabic/MTurk/Topic149/D010010.M.250.A.2.B  \n",
            "  inflating: EASC/EASC-ISO-Arabic/MTurk/Topic149/D010010.M.250.A.3.C  \n",
            "  inflating: EASC/EASC-ISO-Arabic/MTurk/Topic149/D010010.M.250.A.4.D  \n",
            "  inflating: EASC/EASC-ISO-Arabic/MTurk/Topic149/D010010.M.250.A.5.E  \n",
            "   creating: EASC/EASC-ISO-Arabic/MTurk/Topic15/\n",
            "  inflating: EASC/EASC-ISO-Arabic/MTurk/Topic15/D0205.M.250.A.1.A  \n",
            "  inflating: EASC/EASC-ISO-Arabic/MTurk/Topic15/D0205.M.250.A.2.B  \n",
            "  inflating: EASC/EASC-ISO-Arabic/MTurk/Topic15/D0205.M.250.A.3.C  \n",
            "  inflating: EASC/EASC-ISO-Arabic/MTurk/Topic15/D0205.M.250.A.4.D  \n",
            "  inflating: EASC/EASC-ISO-Arabic/MTurk/Topic15/D0205.M.250.A.5.E  \n",
            "   creating: EASC/EASC-ISO-Arabic/MTurk/Topic150/\n",
            "  inflating: EASC/EASC-ISO-Arabic/MTurk/Topic150/D010011.M.250.A.1.A  \n",
            "  inflating: EASC/EASC-ISO-Arabic/MTurk/Topic150/D010011.M.250.A.2.B  \n",
            " extracting: EASC/EASC-ISO-Arabic/MTurk/Topic150/D010011.M.250.A.3.C  \n",
            "  inflating: EASC/EASC-ISO-Arabic/MTurk/Topic150/D010011.M.250.A.4.D  \n",
            "  inflating: EASC/EASC-ISO-Arabic/MTurk/Topic150/D010011.M.250.A.5.E  \n",
            "   creating: EASC/EASC-ISO-Arabic/MTurk/Topic151/\n",
            "  inflating: EASC/EASC-ISO-Arabic/MTurk/Topic151/D010012.M.250.A.1.A  \n",
            "  inflating: EASC/EASC-ISO-Arabic/MTurk/Topic151/D010012.M.250.A.2.B  \n",
            "  inflating: EASC/EASC-ISO-Arabic/MTurk/Topic151/D010012.M.250.A.3.C  \n",
            "  inflating: EASC/EASC-ISO-Arabic/MTurk/Topic151/D010012.M.250.A.4.D  \n",
            "  inflating: EASC/EASC-ISO-Arabic/MTurk/Topic151/D010012.M.250.A.5.E  \n",
            "   creating: EASC/EASC-ISO-Arabic/MTurk/Topic152/\n",
            "  inflating: EASC/EASC-ISO-Arabic/MTurk/Topic152/D010013.M.250.A.1.A  \n",
            "  inflating: EASC/EASC-ISO-Arabic/MTurk/Topic152/D010013.M.250.A.2.B  \n",
            "  inflating: EASC/EASC-ISO-Arabic/MTurk/Topic152/D010013.M.250.A.3.C  \n",
            "  inflating: EASC/EASC-ISO-Arabic/MTurk/Topic152/D010013.M.250.A.4.D  \n",
            "  inflating: EASC/EASC-ISO-Arabic/MTurk/Topic152/D010013.M.250.A.5.E  \n",
            "   creating: EASC/EASC-ISO-Arabic/MTurk/Topic153/\n",
            "  inflating: EASC/EASC-ISO-Arabic/MTurk/Topic153/D010014.M.250.A.1.A  \n",
            "  inflating: EASC/EASC-ISO-Arabic/MTurk/Topic153/D010014.M.250.A.2.B  \n",
            "  inflating: EASC/EASC-ISO-Arabic/MTurk/Topic153/D010014.M.250.A.3.C  \n",
            "  inflating: EASC/EASC-ISO-Arabic/MTurk/Topic153/D010014.M.250.A.4.D  \n",
            "  inflating: EASC/EASC-ISO-Arabic/MTurk/Topic153/D010014.M.250.A.5.E  \n",
            "   creating: EASC/EASC-ISO-Arabic/MTurk/Topic16/\n",
            "  inflating: EASC/EASC-ISO-Arabic/MTurk/Topic16/D0206.M.250.A.1.A  \n",
            "  inflating: EASC/EASC-ISO-Arabic/MTurk/Topic16/D0206.M.250.A.2.B  \n",
            "  inflating: EASC/EASC-ISO-Arabic/MTurk/Topic16/D0206.M.250.A.3.C  \n",
            "  inflating: EASC/EASC-ISO-Arabic/MTurk/Topic16/D0206.M.250.A.4.D  \n",
            "  inflating: EASC/EASC-ISO-Arabic/MTurk/Topic16/D0206.M.250.A.5.E  \n",
            "   creating: EASC/EASC-ISO-Arabic/MTurk/Topic17/\n",
            "  inflating: EASC/EASC-ISO-Arabic/MTurk/Topic17/D0207.M.250.A.1.A  \n",
            "  inflating: EASC/EASC-ISO-Arabic/MTurk/Topic17/D0207.M.250.A.2.B  \n",
            "  inflating: EASC/EASC-ISO-Arabic/MTurk/Topic17/D0207.M.250.A.3.C  \n",
            "  inflating: EASC/EASC-ISO-Arabic/MTurk/Topic17/D0207.M.250.A.4.D  \n",
            "  inflating: EASC/EASC-ISO-Arabic/MTurk/Topic17/D0207.M.250.A.5.E  \n",
            "   creating: EASC/EASC-ISO-Arabic/MTurk/Topic18/\n",
            "  inflating: EASC/EASC-ISO-Arabic/MTurk/Topic18/D0301.M.250.A.1.A  \n",
            "  inflating: EASC/EASC-ISO-Arabic/MTurk/Topic18/D0301.M.250.A.2.B  \n",
            "  inflating: EASC/EASC-ISO-Arabic/MTurk/Topic18/D0301.M.250.A.3.C  \n",
            "  inflating: EASC/EASC-ISO-Arabic/MTurk/Topic18/D0301.M.250.A.4.D  \n",
            "  inflating: EASC/EASC-ISO-Arabic/MTurk/Topic18/D0301.M.250.A.5.E  \n",
            "   creating: EASC/EASC-ISO-Arabic/MTurk/Topic19/\n",
            "  inflating: EASC/EASC-ISO-Arabic/MTurk/Topic19/D0303.M.250.A.1.A  \n",
            "  inflating: EASC/EASC-ISO-Arabic/MTurk/Topic19/D0303.M.250.A.2.B  \n",
            "  inflating: EASC/EASC-ISO-Arabic/MTurk/Topic19/D0303.M.250.A.3.C  \n",
            "  inflating: EASC/EASC-ISO-Arabic/MTurk/Topic19/D0303.M.250.A.4.D  \n",
            "  inflating: EASC/EASC-ISO-Arabic/MTurk/Topic19/D0303.M.250.A.5.E  \n",
            "   creating: EASC/EASC-ISO-Arabic/MTurk/Topic2/\n",
            "  inflating: EASC/EASC-ISO-Arabic/MTurk/Topic2/D0102.M.250.A.1.A  \n",
            "  inflating: EASC/EASC-ISO-Arabic/MTurk/Topic2/D0102.M.250.A.2.B  \n",
            "  inflating: EASC/EASC-ISO-Arabic/MTurk/Topic2/D0102.M.250.A.3.C  \n",
            "  inflating: EASC/EASC-ISO-Arabic/MTurk/Topic2/D0102.M.250.A.4.D  \n",
            "  inflating: EASC/EASC-ISO-Arabic/MTurk/Topic2/D0102.M.250.A.5.E  \n",
            "   creating: EASC/EASC-ISO-Arabic/MTurk/Topic20/\n",
            "  inflating: EASC/EASC-ISO-Arabic/MTurk/Topic20/D0304.M.250.A.1.A  \n",
            "  inflating: EASC/EASC-ISO-Arabic/MTurk/Topic20/D0304.M.250.A.2.B  \n",
            "  inflating: EASC/EASC-ISO-Arabic/MTurk/Topic20/D0304.M.250.A.3.C  \n",
            "  inflating: EASC/EASC-ISO-Arabic/MTurk/Topic20/D0304.M.250.A.4.D  \n",
            "  inflating: EASC/EASC-ISO-Arabic/MTurk/Topic20/D0304.M.250.A.5.E  \n",
            "   creating: EASC/EASC-ISO-Arabic/MTurk/Topic21/\n",
            "  inflating: EASC/EASC-ISO-Arabic/MTurk/Topic21/D0305.M.250.A.1.A  \n",
            "  inflating: EASC/EASC-ISO-Arabic/MTurk/Topic21/D0305.M.250.A.2.B  \n",
            "  inflating: EASC/EASC-ISO-Arabic/MTurk/Topic21/D0305.M.250.A.3.C  \n",
            "  inflating: EASC/EASC-ISO-Arabic/MTurk/Topic21/D0305.M.250.A.4.D  \n",
            "  inflating: EASC/EASC-ISO-Arabic/MTurk/Topic21/D0305.M.250.A.5.E  \n",
            "   creating: EASC/EASC-ISO-Arabic/MTurk/Topic22/\n",
            "  inflating: EASC/EASC-ISO-Arabic/MTurk/Topic22/D0306.M.250.A.1.A  \n",
            "  inflating: EASC/EASC-ISO-Arabic/MTurk/Topic22/D0306.M.250.A.2.B  \n",
            "  inflating: EASC/EASC-ISO-Arabic/MTurk/Topic22/D0306.M.250.A.3.C  \n",
            "  inflating: EASC/EASC-ISO-Arabic/MTurk/Topic22/D0306.M.250.A.4.D  \n",
            "  inflating: EASC/EASC-ISO-Arabic/MTurk/Topic22/D0306.M.250.A.5.E  \n",
            "   creating: EASC/EASC-ISO-Arabic/MTurk/Topic23/\n",
            "  inflating: EASC/EASC-ISO-Arabic/MTurk/Topic23/D0307.M.250.A.1.A  \n",
            "  inflating: EASC/EASC-ISO-Arabic/MTurk/Topic23/D0307.M.250.A.2.B  \n",
            "  inflating: EASC/EASC-ISO-Arabic/MTurk/Topic23/D0307.M.250.A.3.C  \n",
            "  inflating: EASC/EASC-ISO-Arabic/MTurk/Topic23/D0307.M.250.A.4.D  \n",
            "  inflating: EASC/EASC-ISO-Arabic/MTurk/Topic23/D0307.M.250.A.5.E  \n",
            "   creating: EASC/EASC-ISO-Arabic/MTurk/Topic24/\n",
            "  inflating: EASC/EASC-ISO-Arabic/MTurk/Topic24/D0308.M.250.A.1.A  \n",
            "  inflating: EASC/EASC-ISO-Arabic/MTurk/Topic24/D0308.M.250.A.2.B  \n",
            "  inflating: EASC/EASC-ISO-Arabic/MTurk/Topic24/D0308.M.250.A.3.C  \n",
            "  inflating: EASC/EASC-ISO-Arabic/MTurk/Topic24/D0308.M.250.A.4.D  \n",
            "  inflating: EASC/EASC-ISO-Arabic/MTurk/Topic24/D0308.M.250.A.5.E  \n",
            "   creating: EASC/EASC-ISO-Arabic/MTurk/Topic25/\n",
            "  inflating: EASC/EASC-ISO-Arabic/MTurk/Topic25/D0309.M.250.A.1.A  \n",
            "  inflating: EASC/EASC-ISO-Arabic/MTurk/Topic25/D0309.M.250.A.2.B  \n",
            "  inflating: EASC/EASC-ISO-Arabic/MTurk/Topic25/D0309.M.250.A.3.C  \n",
            "  inflating: EASC/EASC-ISO-Arabic/MTurk/Topic25/D0309.M.250.A.4.D  \n",
            "  inflating: EASC/EASC-ISO-Arabic/MTurk/Topic25/D0309.M.250.A.5.E  \n",
            "   creating: EASC/EASC-ISO-Arabic/MTurk/Topic26/\n",
            "  inflating: EASC/EASC-ISO-Arabic/MTurk/Topic26/D03010.M.250.A.1.A  \n",
            "  inflating: EASC/EASC-ISO-Arabic/MTurk/Topic26/D03010.M.250.A.2.B  \n",
            "  inflating: EASC/EASC-ISO-Arabic/MTurk/Topic26/D03010.M.250.A.3.C  \n",
            "  inflating: EASC/EASC-ISO-Arabic/MTurk/Topic26/D03010.M.250.A.4.D  \n",
            "  inflating: EASC/EASC-ISO-Arabic/MTurk/Topic26/D03010.M.250.A.5.E  \n",
            "   creating: EASC/EASC-ISO-Arabic/MTurk/Topic27/\n",
            "  inflating: EASC/EASC-ISO-Arabic/MTurk/Topic27/D03011.M.250.A.1.A  \n",
            "  inflating: EASC/EASC-ISO-Arabic/MTurk/Topic27/D03011.M.250.A.2.B  \n",
            "  inflating: EASC/EASC-ISO-Arabic/MTurk/Topic27/D03011.M.250.A.3.C  \n",
            "  inflating: EASC/EASC-ISO-Arabic/MTurk/Topic27/D03011.M.250.A.4.D  \n",
            "  inflating: EASC/EASC-ISO-Arabic/MTurk/Topic27/D03011.M.250.A.5.E  \n",
            "   creating: EASC/EASC-ISO-Arabic/MTurk/Topic28/\n",
            "  inflating: EASC/EASC-ISO-Arabic/MTurk/Topic28/D03012.M.250.A.1.A  \n",
            "  inflating: EASC/EASC-ISO-Arabic/MTurk/Topic28/D03012.M.250.A.2.B  \n",
            "  inflating: EASC/EASC-ISO-Arabic/MTurk/Topic28/D03012.M.250.A.3.C  \n",
            "  inflating: EASC/EASC-ISO-Arabic/MTurk/Topic28/D03012.M.250.A.4.D  \n",
            "  inflating: EASC/EASC-ISO-Arabic/MTurk/Topic28/D03012.M.250.A.5.E  \n",
            "   creating: EASC/EASC-ISO-Arabic/MTurk/Topic29/\n",
            "  inflating: EASC/EASC-ISO-Arabic/MTurk/Topic29/D03013.M.250.A.1.A  \n",
            "  inflating: EASC/EASC-ISO-Arabic/MTurk/Topic29/D03013.M.250.A.2.B  \n",
            "  inflating: EASC/EASC-ISO-Arabic/MTurk/Topic29/D03013.M.250.A.3.C  \n",
            "  inflating: EASC/EASC-ISO-Arabic/MTurk/Topic29/D03013.M.250.A.4.D  \n",
            "  inflating: EASC/EASC-ISO-Arabic/MTurk/Topic29/D03013.M.250.A.5.E  \n",
            "   creating: EASC/EASC-ISO-Arabic/MTurk/Topic3/\n",
            "  inflating: EASC/EASC-ISO-Arabic/MTurk/Topic3/D0103.M.250.A.1.A  \n",
            "  inflating: EASC/EASC-ISO-Arabic/MTurk/Topic3/D0103.M.250.A.2.B  \n",
            "  inflating: EASC/EASC-ISO-Arabic/MTurk/Topic3/D0103.M.250.A.3.C  \n",
            "  inflating: EASC/EASC-ISO-Arabic/MTurk/Topic3/D0103.M.250.A.4.D  \n",
            "  inflating: EASC/EASC-ISO-Arabic/MTurk/Topic3/D0103.M.250.A.5.E  \n",
            "   creating: EASC/EASC-ISO-Arabic/MTurk/Topic30/\n",
            "  inflating: EASC/EASC-ISO-Arabic/MTurk/Topic30/D03014.M.250.A.1.A  \n",
            "  inflating: EASC/EASC-ISO-Arabic/MTurk/Topic30/D03014.M.250.A.2.B  \n",
            "  inflating: EASC/EASC-ISO-Arabic/MTurk/Topic30/D03014.M.250.A.3.C  \n",
            "  inflating: EASC/EASC-ISO-Arabic/MTurk/Topic30/D03014.M.250.A.4.D  \n",
            "  inflating: EASC/EASC-ISO-Arabic/MTurk/Topic30/D03014.M.250.A.5.E  \n",
            "   creating: EASC/EASC-ISO-Arabic/MTurk/Topic31/\n",
            "  inflating: EASC/EASC-ISO-Arabic/MTurk/Topic31/D03015.M.250.A.1.A  \n",
            "  inflating: EASC/EASC-ISO-Arabic/MTurk/Topic31/D03015.M.250.A.2.B  \n",
            "  inflating: EASC/EASC-ISO-Arabic/MTurk/Topic31/D03015.M.250.A.3.C  \n",
            "  inflating: EASC/EASC-ISO-Arabic/MTurk/Topic31/D03015.M.250.A.4.D  \n",
            "  inflating: EASC/EASC-ISO-Arabic/MTurk/Topic31/D03015.M.250.A.5.E  \n",
            "   creating: EASC/EASC-ISO-Arabic/MTurk/Topic32/\n",
            "  inflating: EASC/EASC-ISO-Arabic/MTurk/Topic32/D03016.M.250.A.1.A  \n",
            "  inflating: EASC/EASC-ISO-Arabic/MTurk/Topic32/D03016.M.250.A.2.B  \n",
            "  inflating: EASC/EASC-ISO-Arabic/MTurk/Topic32/D03016.M.250.A.3.C  \n",
            "  inflating: EASC/EASC-ISO-Arabic/MTurk/Topic32/D03016.M.250.A.4.D  \n",
            "  inflating: EASC/EASC-ISO-Arabic/MTurk/Topic32/D03016.M.250.A.5.E  \n",
            "   creating: EASC/EASC-ISO-Arabic/MTurk/Topic33/\n",
            "  inflating: EASC/EASC-ISO-Arabic/MTurk/Topic33/D03017.M.250.A.1.A  \n",
            "  inflating: EASC/EASC-ISO-Arabic/MTurk/Topic33/D03017.M.250.A.2.B  \n",
            "  inflating: EASC/EASC-ISO-Arabic/MTurk/Topic33/D03017.M.250.A.3.C  \n",
            "  inflating: EASC/EASC-ISO-Arabic/MTurk/Topic33/D03017.M.250.A.4.D  \n",
            "  inflating: EASC/EASC-ISO-Arabic/MTurk/Topic33/D03017.M.250.A.5.E  \n",
            "   creating: EASC/EASC-ISO-Arabic/MTurk/Topic34/\n",
            "  inflating: EASC/EASC-ISO-Arabic/MTurk/Topic34/D03018.M.250.A.1.A  \n",
            "  inflating: EASC/EASC-ISO-Arabic/MTurk/Topic34/D03018.M.250.A.2.B  \n",
            "  inflating: EASC/EASC-ISO-Arabic/MTurk/Topic34/D03018.M.250.A.3.C  \n",
            "  inflating: EASC/EASC-ISO-Arabic/MTurk/Topic34/D03018.M.250.A.4.D  \n",
            "  inflating: EASC/EASC-ISO-Arabic/MTurk/Topic34/D03018.M.250.A.5.E  \n",
            "   creating: EASC/EASC-ISO-Arabic/MTurk/Topic35/\n",
            "  inflating: EASC/EASC-ISO-Arabic/MTurk/Topic35/D03019.M.250.A.1.A  \n",
            "  inflating: EASC/EASC-ISO-Arabic/MTurk/Topic35/D03019.M.250.A.2.B  \n",
            "  inflating: EASC/EASC-ISO-Arabic/MTurk/Topic35/D03019.M.250.A.3.C  \n",
            "  inflating: EASC/EASC-ISO-Arabic/MTurk/Topic35/D03019.M.250.A.4.D  \n",
            "  inflating: EASC/EASC-ISO-Arabic/MTurk/Topic35/D03019.M.250.A.5.E  \n",
            "   creating: EASC/EASC-ISO-Arabic/MTurk/Topic36/\n",
            "  inflating: EASC/EASC-ISO-Arabic/MTurk/Topic36/D03020.M.250.A.1.A  \n",
            "  inflating: EASC/EASC-ISO-Arabic/MTurk/Topic36/D03020.M.250.A.2.B  \n",
            "  inflating: EASC/EASC-ISO-Arabic/MTurk/Topic36/D03020.M.250.A.3.C  \n",
            "  inflating: EASC/EASC-ISO-Arabic/MTurk/Topic36/D03020.M.250.A.4.D  \n",
            "  inflating: EASC/EASC-ISO-Arabic/MTurk/Topic36/D03020.M.250.A.5.E  \n",
            "   creating: EASC/EASC-ISO-Arabic/MTurk/Topic37/\n",
            "  inflating: EASC/EASC-ISO-Arabic/MTurk/Topic37/D03021.M.250.A.1.A  \n",
            "  inflating: EASC/EASC-ISO-Arabic/MTurk/Topic37/D03021.M.250.A.2.B  \n",
            "  inflating: EASC/EASC-ISO-Arabic/MTurk/Topic37/D03021.M.250.A.3.C  \n",
            "  inflating: EASC/EASC-ISO-Arabic/MTurk/Topic37/D03021.M.250.A.4.D  \n",
            "  inflating: EASC/EASC-ISO-Arabic/MTurk/Topic37/D03021.M.250.A.5.E  \n",
            "   creating: EASC/EASC-ISO-Arabic/MTurk/Topic38/\n",
            "  inflating: EASC/EASC-ISO-Arabic/MTurk/Topic38/D03022.M.250.A.1.A  \n",
            "  inflating: EASC/EASC-ISO-Arabic/MTurk/Topic38/D03022.M.250.A.2.B  \n",
            "  inflating: EASC/EASC-ISO-Arabic/MTurk/Topic38/D03022.M.250.A.3.C  \n",
            "  inflating: EASC/EASC-ISO-Arabic/MTurk/Topic38/D03022.M.250.A.4.D  \n",
            "  inflating: EASC/EASC-ISO-Arabic/MTurk/Topic38/D03022.M.250.A.5.E  \n",
            "   creating: EASC/EASC-ISO-Arabic/MTurk/Topic39/\n",
            "  inflating: EASC/EASC-ISO-Arabic/MTurk/Topic39/D03023.M.250.A.1.A  \n",
            "  inflating: EASC/EASC-ISO-Arabic/MTurk/Topic39/D03023.M.250.A.2.B  \n",
            "  inflating: EASC/EASC-ISO-Arabic/MTurk/Topic39/D03023.M.250.A.3.C  \n",
            "  inflating: EASC/EASC-ISO-Arabic/MTurk/Topic39/D03023.M.250.A.4.D  \n",
            "  inflating: EASC/EASC-ISO-Arabic/MTurk/Topic39/D03023.M.250.A.5.E  \n",
            "   creating: EASC/EASC-ISO-Arabic/MTurk/Topic4/\n",
            "  inflating: EASC/EASC-ISO-Arabic/MTurk/Topic4/D0104.M.250.A.1.A  \n",
            "  inflating: EASC/EASC-ISO-Arabic/MTurk/Topic4/D0104.M.250.A.2.B  \n",
            "  inflating: EASC/EASC-ISO-Arabic/MTurk/Topic4/D0104.M.250.A.3.C  \n",
            "  inflating: EASC/EASC-ISO-Arabic/MTurk/Topic4/D0104.M.250.A.4.D  \n",
            "  inflating: EASC/EASC-ISO-Arabic/MTurk/Topic4/D0104.M.250.A.5.E  \n",
            "   creating: EASC/EASC-ISO-Arabic/MTurk/Topic40/\n",
            "  inflating: EASC/EASC-ISO-Arabic/MTurk/Topic40/D03024.M.250.A.1.A  \n",
            "  inflating: EASC/EASC-ISO-Arabic/MTurk/Topic40/D03024.M.250.A.2.B  \n",
            "  inflating: EASC/EASC-ISO-Arabic/MTurk/Topic40/D03024.M.250.A.3.C  \n",
            "  inflating: EASC/EASC-ISO-Arabic/MTurk/Topic40/D03024.M.250.A.4.D  \n",
            "  inflating: EASC/EASC-ISO-Arabic/MTurk/Topic40/D03024.M.250.A.5.E  \n",
            "   creating: EASC/EASC-ISO-Arabic/MTurk/Topic41/\n",
            "  inflating: EASC/EASC-ISO-Arabic/MTurk/Topic41/D03025.M.250.A.1.A  \n",
            "  inflating: EASC/EASC-ISO-Arabic/MTurk/Topic41/D03025.M.250.A.2.B  \n",
            "  inflating: EASC/EASC-ISO-Arabic/MTurk/Topic41/D03025.M.250.A.3.C  \n",
            "  inflating: EASC/EASC-ISO-Arabic/MTurk/Topic41/D03025.M.250.A.4.D  \n",
            "  inflating: EASC/EASC-ISO-Arabic/MTurk/Topic41/D03025.M.250.A.5.E  \n",
            "   creating: EASC/EASC-ISO-Arabic/MTurk/Topic42/\n",
            "  inflating: EASC/EASC-ISO-Arabic/MTurk/Topic42/D03026.M.250.A.1.A  \n",
            "  inflating: EASC/EASC-ISO-Arabic/MTurk/Topic42/D03026.M.250.A.2.B  \n",
            "  inflating: EASC/EASC-ISO-Arabic/MTurk/Topic42/D03026.M.250.A.3.C  \n",
            "  inflating: EASC/EASC-ISO-Arabic/MTurk/Topic42/D03026.M.250.A.4.D  \n",
            "  inflating: EASC/EASC-ISO-Arabic/MTurk/Topic42/D03026.M.250.A.5.E  \n",
            "   creating: EASC/EASC-ISO-Arabic/MTurk/Topic43/\n",
            "  inflating: EASC/EASC-ISO-Arabic/MTurk/Topic43/D03027.M.250.A.1.A  \n",
            "  inflating: EASC/EASC-ISO-Arabic/MTurk/Topic43/D03027.M.250.A.2.B  \n",
            "  inflating: EASC/EASC-ISO-Arabic/MTurk/Topic43/D03027.M.250.A.3.C  \n",
            "  inflating: EASC/EASC-ISO-Arabic/MTurk/Topic43/D03027.M.250.A.4.D  \n",
            "  inflating: EASC/EASC-ISO-Arabic/MTurk/Topic43/D03027.M.250.A.5.E  \n",
            "   creating: EASC/EASC-ISO-Arabic/MTurk/Topic44/\n",
            " extracting: EASC/EASC-ISO-Arabic/MTurk/Topic44/D03028.M.250.A.1.A  \n",
            "  inflating: EASC/EASC-ISO-Arabic/MTurk/Topic44/D03028.M.250.A.2.B  \n",
            "  inflating: EASC/EASC-ISO-Arabic/MTurk/Topic44/D03028.M.250.A.3.C  \n",
            "  inflating: EASC/EASC-ISO-Arabic/MTurk/Topic44/D03028.M.250.A.4.D  \n",
            "  inflating: EASC/EASC-ISO-Arabic/MTurk/Topic44/D03028.M.250.A.5.E  \n",
            "   creating: EASC/EASC-ISO-Arabic/MTurk/Topic45/\n",
            " extracting: EASC/EASC-ISO-Arabic/MTurk/Topic45/D03029.M.250.A.1.A  \n",
            "  inflating: EASC/EASC-ISO-Arabic/MTurk/Topic45/D03029.M.250.A.2.B  \n",
            "  inflating: EASC/EASC-ISO-Arabic/MTurk/Topic45/D03029.M.250.A.3.C  \n",
            "  inflating: EASC/EASC-ISO-Arabic/MTurk/Topic45/D03029.M.250.A.4.D  \n",
            "  inflating: EASC/EASC-ISO-Arabic/MTurk/Topic45/D03029.M.250.A.5.E  \n",
            "   creating: EASC/EASC-ISO-Arabic/MTurk/Topic46/\n",
            "  inflating: EASC/EASC-ISO-Arabic/MTurk/Topic46/D03030.M.250.A.1.A  \n",
            "  inflating: EASC/EASC-ISO-Arabic/MTurk/Topic46/D03030.M.250.A.2.B  \n",
            "  inflating: EASC/EASC-ISO-Arabic/MTurk/Topic46/D03030.M.250.A.3.C  \n",
            "  inflating: EASC/EASC-ISO-Arabic/MTurk/Topic46/D03030.M.250.A.4.D  \n",
            "  inflating: EASC/EASC-ISO-Arabic/MTurk/Topic46/D03030.M.250.A.5.E  \n",
            "   creating: EASC/EASC-ISO-Arabic/MTurk/Topic47/\n",
            " extracting: EASC/EASC-ISO-Arabic/MTurk/Topic47/D03031.M.250.A.1.A  \n",
            " extracting: EASC/EASC-ISO-Arabic/MTurk/Topic47/D03031.M.250.A.2.B  \n",
            " extracting: EASC/EASC-ISO-Arabic/MTurk/Topic47/D03031.M.250.A.3.C  \n",
            " extracting: EASC/EASC-ISO-Arabic/MTurk/Topic47/D03031.M.250.A.4.D  \n",
            " extracting: EASC/EASC-ISO-Arabic/MTurk/Topic47/D03031.M.250.A.5.E  \n",
            "   creating: EASC/EASC-ISO-Arabic/MTurk/Topic48/\n",
            "  inflating: EASC/EASC-ISO-Arabic/MTurk/Topic48/D03032.M.250.A.1.A  \n",
            "  inflating: EASC/EASC-ISO-Arabic/MTurk/Topic48/D03032.M.250.A.2.B  \n",
            "  inflating: EASC/EASC-ISO-Arabic/MTurk/Topic48/D03032.M.250.A.3.C  \n",
            "  inflating: EASC/EASC-ISO-Arabic/MTurk/Topic48/D03032.M.250.A.4.D  \n",
            "  inflating: EASC/EASC-ISO-Arabic/MTurk/Topic48/D03032.M.250.A.5.E  \n",
            "   creating: EASC/EASC-ISO-Arabic/MTurk/Topic49/\n",
            "  inflating: EASC/EASC-ISO-Arabic/MTurk/Topic49/D03033.M.250.A.1.A  \n",
            "  inflating: EASC/EASC-ISO-Arabic/MTurk/Topic49/D03033.M.250.A.2.B  \n",
            "  inflating: EASC/EASC-ISO-Arabic/MTurk/Topic49/D03033.M.250.A.3.C  \n",
            "  inflating: EASC/EASC-ISO-Arabic/MTurk/Topic49/D03033.M.250.A.4.D  \n",
            "  inflating: EASC/EASC-ISO-Arabic/MTurk/Topic49/D03033.M.250.A.5.E  \n",
            "   creating: EASC/EASC-ISO-Arabic/MTurk/Topic5/\n",
            "  inflating: EASC/EASC-ISO-Arabic/MTurk/Topic5/D0105.M.250.A.1.A  \n",
            "  inflating: EASC/EASC-ISO-Arabic/MTurk/Topic5/D0105.M.250.A.2.B  \n",
            "  inflating: EASC/EASC-ISO-Arabic/MTurk/Topic5/D0105.M.250.A.3.C  \n",
            "  inflating: EASC/EASC-ISO-Arabic/MTurk/Topic5/D0105.M.250.A.4.D  \n",
            "  inflating: EASC/EASC-ISO-Arabic/MTurk/Topic5/D0105.M.250.A.5.E  \n",
            "   creating: EASC/EASC-ISO-Arabic/MTurk/Topic50/\n",
            "  inflating: EASC/EASC-ISO-Arabic/MTurk/Topic50/D03034.M.250.A.1.A  \n",
            "  inflating: EASC/EASC-ISO-Arabic/MTurk/Topic50/D03034.M.250.A.2.B  \n",
            "  inflating: EASC/EASC-ISO-Arabic/MTurk/Topic50/D03034.M.250.A.3.C  \n",
            "  inflating: EASC/EASC-ISO-Arabic/MTurk/Topic50/D03034.M.250.A.4.D  \n",
            "  inflating: EASC/EASC-ISO-Arabic/MTurk/Topic50/D03034.M.250.A.5.E  \n",
            "   creating: EASC/EASC-ISO-Arabic/MTurk/Topic51/\n",
            "  inflating: EASC/EASC-ISO-Arabic/MTurk/Topic51/D0401.M.250.A.1.A  \n",
            "  inflating: EASC/EASC-ISO-Arabic/MTurk/Topic51/D0401.M.250.A.2.B  \n",
            "  inflating: EASC/EASC-ISO-Arabic/MTurk/Topic51/D0401.M.250.A.3.C  \n",
            "  inflating: EASC/EASC-ISO-Arabic/MTurk/Topic51/D0401.M.250.A.4.D  \n",
            "  inflating: EASC/EASC-ISO-Arabic/MTurk/Topic51/D0401.M.250.A.5.E  \n",
            "   creating: EASC/EASC-ISO-Arabic/MTurk/Topic52/\n",
            "  inflating: EASC/EASC-ISO-Arabic/MTurk/Topic52/D0402.M.250.A.1.A  \n",
            "  inflating: EASC/EASC-ISO-Arabic/MTurk/Topic52/D0402.M.250.A.2.B  \n",
            "  inflating: EASC/EASC-ISO-Arabic/MTurk/Topic52/D0402.M.250.A.3.C  \n",
            "  inflating: EASC/EASC-ISO-Arabic/MTurk/Topic52/D0402.M.250.A.4.D  \n",
            "  inflating: EASC/EASC-ISO-Arabic/MTurk/Topic52/D0402.M.250.A.5.E  \n",
            "   creating: EASC/EASC-ISO-Arabic/MTurk/Topic53/\n",
            "  inflating: EASC/EASC-ISO-Arabic/MTurk/Topic53/D0403.M.250.A.1.A  \n",
            "  inflating: EASC/EASC-ISO-Arabic/MTurk/Topic53/D0403.M.250.A.2.B  \n",
            "  inflating: EASC/EASC-ISO-Arabic/MTurk/Topic53/D0403.M.250.A.3.C  \n",
            "  inflating: EASC/EASC-ISO-Arabic/MTurk/Topic53/D0403.M.250.A.4.D  \n",
            "  inflating: EASC/EASC-ISO-Arabic/MTurk/Topic53/D0403.M.250.A.5.E  \n",
            "   creating: EASC/EASC-ISO-Arabic/MTurk/Topic54/\n",
            "  inflating: EASC/EASC-ISO-Arabic/MTurk/Topic54/D0404.M.250.A.1.A  \n",
            "  inflating: EASC/EASC-ISO-Arabic/MTurk/Topic54/D0404.M.250.A.2.B  \n",
            "  inflating: EASC/EASC-ISO-Arabic/MTurk/Topic54/D0404.M.250.A.3.C  \n",
            "  inflating: EASC/EASC-ISO-Arabic/MTurk/Topic54/D0404.M.250.A.4.D  \n",
            "  inflating: EASC/EASC-ISO-Arabic/MTurk/Topic54/D0404.M.250.A.5.E  \n",
            "   creating: EASC/EASC-ISO-Arabic/MTurk/Topic55/\n",
            "  inflating: EASC/EASC-ISO-Arabic/MTurk/Topic55/D0405.M.250.A.1.A  \n",
            "  inflating: EASC/EASC-ISO-Arabic/MTurk/Topic55/D0405.M.250.A.2.B  \n",
            "  inflating: EASC/EASC-ISO-Arabic/MTurk/Topic55/D0405.M.250.A.3.C  \n",
            "  inflating: EASC/EASC-ISO-Arabic/MTurk/Topic55/D0405.M.250.A.4.D  \n",
            "  inflating: EASC/EASC-ISO-Arabic/MTurk/Topic55/D0405.M.250.A.5.E  \n",
            "   creating: EASC/EASC-ISO-Arabic/MTurk/Topic56/\n",
            "  inflating: EASC/EASC-ISO-Arabic/MTurk/Topic56/D0406.M.250.A.1.A  \n",
            "  inflating: EASC/EASC-ISO-Arabic/MTurk/Topic56/D0406.M.250.A.2.B  \n",
            "  inflating: EASC/EASC-ISO-Arabic/MTurk/Topic56/D0406.M.250.A.3.C  \n",
            "  inflating: EASC/EASC-ISO-Arabic/MTurk/Topic56/D0406.M.250.A.4.D  \n",
            "  inflating: EASC/EASC-ISO-Arabic/MTurk/Topic56/D0406.M.250.A.5.E  \n",
            "   creating: EASC/EASC-ISO-Arabic/MTurk/Topic57/\n",
            "  inflating: EASC/EASC-ISO-Arabic/MTurk/Topic57/D0407.M.250.A.1.A  \n",
            "  inflating: EASC/EASC-ISO-Arabic/MTurk/Topic57/D0407.M.250.A.2.B  \n",
            "  inflating: EASC/EASC-ISO-Arabic/MTurk/Topic57/D0407.M.250.A.3.C  \n",
            "  inflating: EASC/EASC-ISO-Arabic/MTurk/Topic57/D0407.M.250.A.4.D  \n",
            "  inflating: EASC/EASC-ISO-Arabic/MTurk/Topic57/D0407.M.250.A.5.E  \n",
            "   creating: EASC/EASC-ISO-Arabic/MTurk/Topic58/\n",
            "  inflating: EASC/EASC-ISO-Arabic/MTurk/Topic58/D0408.M.250.A.1.A  \n",
            "  inflating: EASC/EASC-ISO-Arabic/MTurk/Topic58/D0408.M.250.A.2.B  \n",
            "  inflating: EASC/EASC-ISO-Arabic/MTurk/Topic58/D0408.M.250.A.3.C  \n",
            "  inflating: EASC/EASC-ISO-Arabic/MTurk/Topic58/D0408.M.250.A.4.D  \n",
            "  inflating: EASC/EASC-ISO-Arabic/MTurk/Topic58/D0408.M.250.A.5.E  \n",
            "   creating: EASC/EASC-ISO-Arabic/MTurk/Topic59/\n",
            "  inflating: EASC/EASC-ISO-Arabic/MTurk/Topic59/D0409.M.250.A.1.A  \n",
            "  inflating: EASC/EASC-ISO-Arabic/MTurk/Topic59/D0409.M.250.A.2.B  \n",
            "  inflating: EASC/EASC-ISO-Arabic/MTurk/Topic59/D0409.M.250.A.3.C  \n",
            "  inflating: EASC/EASC-ISO-Arabic/MTurk/Topic59/D0409.M.250.A.4.D  \n",
            "  inflating: EASC/EASC-ISO-Arabic/MTurk/Topic59/D0409.M.250.A.5.E  \n",
            "   creating: EASC/EASC-ISO-Arabic/MTurk/Topic6/\n",
            "  inflating: EASC/EASC-ISO-Arabic/MTurk/Topic6/D0106.M.250.A.1.A  \n",
            "  inflating: EASC/EASC-ISO-Arabic/MTurk/Topic6/D0106.M.250.A.2.B  \n",
            "  inflating: EASC/EASC-ISO-Arabic/MTurk/Topic6/D0106.M.250.A.3.C  \n",
            "  inflating: EASC/EASC-ISO-Arabic/MTurk/Topic6/D0106.M.250.A.4.D  \n",
            "  inflating: EASC/EASC-ISO-Arabic/MTurk/Topic6/D0106.M.250.A.5.E  \n",
            "   creating: EASC/EASC-ISO-Arabic/MTurk/Topic60/\n",
            " extracting: EASC/EASC-ISO-Arabic/MTurk/Topic60/D04010.M.250.A.1.A  \n",
            "  inflating: EASC/EASC-ISO-Arabic/MTurk/Topic60/D04010.M.250.A.2.B  \n",
            " extracting: EASC/EASC-ISO-Arabic/MTurk/Topic60/D04010.M.250.A.3.C  \n",
            "  inflating: EASC/EASC-ISO-Arabic/MTurk/Topic60/D04010.M.250.A.4.D  \n",
            "  inflating: EASC/EASC-ISO-Arabic/MTurk/Topic60/D04010.M.250.A.5.E  \n",
            "   creating: EASC/EASC-ISO-Arabic/MTurk/Topic61/\n",
            "  inflating: EASC/EASC-ISO-Arabic/MTurk/Topic61/D04011.M.250.A.1.A  \n",
            "  inflating: EASC/EASC-ISO-Arabic/MTurk/Topic61/D04011.M.250.A.2.B  \n",
            "  inflating: EASC/EASC-ISO-Arabic/MTurk/Topic61/D04011.M.250.A.3.C  \n",
            "  inflating: EASC/EASC-ISO-Arabic/MTurk/Topic61/D04011.M.250.A.4.D  \n",
            "  inflating: EASC/EASC-ISO-Arabic/MTurk/Topic61/D04011.M.250.A.5.E  \n",
            "   creating: EASC/EASC-ISO-Arabic/MTurk/Topic62/\n",
            "  inflating: EASC/EASC-ISO-Arabic/MTurk/Topic62/D04012.M.250.A.1.A  \n",
            "  inflating: EASC/EASC-ISO-Arabic/MTurk/Topic62/D04012.M.250.A.2.B  \n",
            "  inflating: EASC/EASC-ISO-Arabic/MTurk/Topic62/D04012.M.250.A.3.C  \n",
            "  inflating: EASC/EASC-ISO-Arabic/MTurk/Topic62/D04012.M.250.A.4.D  \n",
            "  inflating: EASC/EASC-ISO-Arabic/MTurk/Topic62/D04012.M.250.A.5.E  \n",
            "   creating: EASC/EASC-ISO-Arabic/MTurk/Topic63/\n",
            "  inflating: EASC/EASC-ISO-Arabic/MTurk/Topic63/D04013.M.250.A.1.A  \n",
            "  inflating: EASC/EASC-ISO-Arabic/MTurk/Topic63/D04013.M.250.A.2.B  \n",
            "  inflating: EASC/EASC-ISO-Arabic/MTurk/Topic63/D04013.M.250.A.3.C  \n",
            "  inflating: EASC/EASC-ISO-Arabic/MTurk/Topic63/D04013.M.250.A.4.D  \n",
            "  inflating: EASC/EASC-ISO-Arabic/MTurk/Topic63/D04013.M.250.A.5.E  \n",
            "   creating: EASC/EASC-ISO-Arabic/MTurk/Topic64/\n",
            "  inflating: EASC/EASC-ISO-Arabic/MTurk/Topic64/D04014.M.250.A.1.A  \n",
            "  inflating: EASC/EASC-ISO-Arabic/MTurk/Topic64/D04014.M.250.A.2.B  \n",
            "  inflating: EASC/EASC-ISO-Arabic/MTurk/Topic64/D04014.M.250.A.3.C  \n",
            "  inflating: EASC/EASC-ISO-Arabic/MTurk/Topic64/D04014.M.250.A.4.D  \n",
            "  inflating: EASC/EASC-ISO-Arabic/MTurk/Topic64/D04014.M.250.A.5.E  \n",
            "   creating: EASC/EASC-ISO-Arabic/MTurk/Topic65/\n",
            "  inflating: EASC/EASC-ISO-Arabic/MTurk/Topic65/D04015.M.250.A.1.A  \n",
            "  inflating: EASC/EASC-ISO-Arabic/MTurk/Topic65/D04015.M.250.A.2.B  \n",
            "  inflating: EASC/EASC-ISO-Arabic/MTurk/Topic65/D04015.M.250.A.3.C  \n",
            "  inflating: EASC/EASC-ISO-Arabic/MTurk/Topic65/D04015.M.250.A.4.D  \n",
            "  inflating: EASC/EASC-ISO-Arabic/MTurk/Topic65/D04015.M.250.A.5.E  \n",
            "   creating: EASC/EASC-ISO-Arabic/MTurk/Topic66/\n",
            "  inflating: EASC/EASC-ISO-Arabic/MTurk/Topic66/D04016.M.250.A.1.A  \n",
            "  inflating: EASC/EASC-ISO-Arabic/MTurk/Topic66/D04016.M.250.A.2.B  \n",
            "  inflating: EASC/EASC-ISO-Arabic/MTurk/Topic66/D04016.M.250.A.3.C  \n",
            "  inflating: EASC/EASC-ISO-Arabic/MTurk/Topic66/D04016.M.250.A.4.D  \n",
            "  inflating: EASC/EASC-ISO-Arabic/MTurk/Topic66/D04016.M.250.A.5.E  \n",
            "   creating: EASC/EASC-ISO-Arabic/MTurk/Topic67/\n",
            "  inflating: EASC/EASC-ISO-Arabic/MTurk/Topic67/D04017.M.250.A.1.A  \n",
            "  inflating: EASC/EASC-ISO-Arabic/MTurk/Topic67/D04017.M.250.A.2.B  \n",
            "  inflating: EASC/EASC-ISO-Arabic/MTurk/Topic67/D04017.M.250.A.3.C  \n",
            "  inflating: EASC/EASC-ISO-Arabic/MTurk/Topic67/D04017.M.250.A.4.D  \n",
            "  inflating: EASC/EASC-ISO-Arabic/MTurk/Topic67/D04017.M.250.A.5.E  \n",
            "   creating: EASC/EASC-ISO-Arabic/MTurk/Topic68/\n",
            "  inflating: EASC/EASC-ISO-Arabic/MTurk/Topic68/D0501.M.250.A.1.A  \n",
            "  inflating: EASC/EASC-ISO-Arabic/MTurk/Topic68/D0501.M.250.A.2.B  \n",
            " extracting: EASC/EASC-ISO-Arabic/MTurk/Topic68/D0501.M.250.A.3.C  \n",
            "  inflating: EASC/EASC-ISO-Arabic/MTurk/Topic68/D0501.M.250.A.4.D  \n",
            "  inflating: EASC/EASC-ISO-Arabic/MTurk/Topic68/D0501.M.250.A.5.E  \n",
            "   creating: EASC/EASC-ISO-Arabic/MTurk/Topic69/\n",
            "  inflating: EASC/EASC-ISO-Arabic/MTurk/Topic69/D0502.M.250.A.1.A  \n",
            " extracting: EASC/EASC-ISO-Arabic/MTurk/Topic69/D0502.M.250.A.2.B  \n",
            "  inflating: EASC/EASC-ISO-Arabic/MTurk/Topic69/D0502.M.250.A.3.C  \n",
            "  inflating: EASC/EASC-ISO-Arabic/MTurk/Topic69/D0502.M.250.A.4.D  \n",
            "  inflating: EASC/EASC-ISO-Arabic/MTurk/Topic69/D0502.M.250.A.5.E  \n",
            "   creating: EASC/EASC-ISO-Arabic/MTurk/Topic7/\n",
            "  inflating: EASC/EASC-ISO-Arabic/MTurk/Topic7/D0107.M.250.A.1.A  \n",
            "  inflating: EASC/EASC-ISO-Arabic/MTurk/Topic7/D0107.M.250.A.2.B  \n",
            "  inflating: EASC/EASC-ISO-Arabic/MTurk/Topic7/D0107.M.250.A.3.C  \n",
            "  inflating: EASC/EASC-ISO-Arabic/MTurk/Topic7/D0107.M.250.A.4.D  \n",
            "  inflating: EASC/EASC-ISO-Arabic/MTurk/Topic7/D0107.M.250.A.5.E  \n",
            "   creating: EASC/EASC-ISO-Arabic/MTurk/Topic70/\n",
            "  inflating: EASC/EASC-ISO-Arabic/MTurk/Topic70/D0503.M.250.A.1.A  \n",
            "  inflating: EASC/EASC-ISO-Arabic/MTurk/Topic70/D0503.M.250.A.2.B  \n",
            "  inflating: EASC/EASC-ISO-Arabic/MTurk/Topic70/D0503.M.250.A.3.C  \n",
            "  inflating: EASC/EASC-ISO-Arabic/MTurk/Topic70/D0503.M.250.A.4.D  \n",
            "  inflating: EASC/EASC-ISO-Arabic/MTurk/Topic70/D0503.M.250.A.5.E  \n",
            "   creating: EASC/EASC-ISO-Arabic/MTurk/Topic71/\n",
            "  inflating: EASC/EASC-ISO-Arabic/MTurk/Topic71/D0504.M.250.A.1.A  \n",
            "  inflating: EASC/EASC-ISO-Arabic/MTurk/Topic71/D0504.M.250.A.2.B  \n",
            "  inflating: EASC/EASC-ISO-Arabic/MTurk/Topic71/D0504.M.250.A.3.C  \n",
            "  inflating: EASC/EASC-ISO-Arabic/MTurk/Topic71/D0504.M.250.A.4.D  \n",
            "  inflating: EASC/EASC-ISO-Arabic/MTurk/Topic71/D0504.M.250.A.5.E  \n",
            "   creating: EASC/EASC-ISO-Arabic/MTurk/Topic72/\n",
            "  inflating: EASC/EASC-ISO-Arabic/MTurk/Topic72/D0505.M.250.A.1.A  \n",
            "  inflating: EASC/EASC-ISO-Arabic/MTurk/Topic72/D0505.M.250.A.2.B  \n",
            "  inflating: EASC/EASC-ISO-Arabic/MTurk/Topic72/D0505.M.250.A.3.C  \n",
            "  inflating: EASC/EASC-ISO-Arabic/MTurk/Topic72/D0505.M.250.A.4.D  \n",
            "  inflating: EASC/EASC-ISO-Arabic/MTurk/Topic72/D0505.M.250.A.5.E  \n",
            "   creating: EASC/EASC-ISO-Arabic/MTurk/Topic73/\n",
            "  inflating: EASC/EASC-ISO-Arabic/MTurk/Topic73/D0506.M.250.A.1.A  \n",
            "  inflating: EASC/EASC-ISO-Arabic/MTurk/Topic73/D0506.M.250.A.2.B  \n",
            "  inflating: EASC/EASC-ISO-Arabic/MTurk/Topic73/D0506.M.250.A.3.C  \n",
            "  inflating: EASC/EASC-ISO-Arabic/MTurk/Topic73/D0506.M.250.A.4.D  \n",
            "  inflating: EASC/EASC-ISO-Arabic/MTurk/Topic73/D0506.M.250.A.5.E  \n",
            "   creating: EASC/EASC-ISO-Arabic/MTurk/Topic74/\n",
            "  inflating: EASC/EASC-ISO-Arabic/MTurk/Topic74/D0507.M.250.A.1.A  \n",
            "  inflating: EASC/EASC-ISO-Arabic/MTurk/Topic74/D0507.M.250.A.2.B  \n",
            "  inflating: EASC/EASC-ISO-Arabic/MTurk/Topic74/D0507.M.250.A.3.C  \n",
            "  inflating: EASC/EASC-ISO-Arabic/MTurk/Topic74/D0507.M.250.A.4.D  \n",
            "  inflating: EASC/EASC-ISO-Arabic/MTurk/Topic74/D0507.M.250.A.5.E  \n",
            "   creating: EASC/EASC-ISO-Arabic/MTurk/Topic75/\n",
            "  inflating: EASC/EASC-ISO-Arabic/MTurk/Topic75/D0508.M.250.A.1.A  \n",
            "  inflating: EASC/EASC-ISO-Arabic/MTurk/Topic75/D0508.M.250.A.2.B  \n",
            "  inflating: EASC/EASC-ISO-Arabic/MTurk/Topic75/D0508.M.250.A.3.C  \n",
            "  inflating: EASC/EASC-ISO-Arabic/MTurk/Topic75/D0508.M.250.A.4.D  \n",
            "  inflating: EASC/EASC-ISO-Arabic/MTurk/Topic75/D0508.M.250.A.5.E  \n",
            "   creating: EASC/EASC-ISO-Arabic/MTurk/Topic76/\n",
            "  inflating: EASC/EASC-ISO-Arabic/MTurk/Topic76/D0509.M.250.A.1.A  \n",
            "  inflating: EASC/EASC-ISO-Arabic/MTurk/Topic76/D0509.M.250.A.2.B  \n",
            "  inflating: EASC/EASC-ISO-Arabic/MTurk/Topic76/D0509.M.250.A.3.C  \n",
            "  inflating: EASC/EASC-ISO-Arabic/MTurk/Topic76/D0509.M.250.A.4.D  \n",
            "  inflating: EASC/EASC-ISO-Arabic/MTurk/Topic76/D0509.M.250.A.5.E  \n",
            "   creating: EASC/EASC-ISO-Arabic/MTurk/Topic77/\n",
            "  inflating: EASC/EASC-ISO-Arabic/MTurk/Topic77/D05010.M.250.A.1.A  \n",
            "  inflating: EASC/EASC-ISO-Arabic/MTurk/Topic77/D05010.M.250.A.2.B  \n",
            "  inflating: EASC/EASC-ISO-Arabic/MTurk/Topic77/D05010.M.250.A.3.C  \n",
            "  inflating: EASC/EASC-ISO-Arabic/MTurk/Topic77/D05010.M.250.A.4.D  \n",
            "  inflating: EASC/EASC-ISO-Arabic/MTurk/Topic77/D05010.M.250.A.5.E  \n",
            "   creating: EASC/EASC-ISO-Arabic/MTurk/Topic78/\n",
            "  inflating: EASC/EASC-ISO-Arabic/MTurk/Topic78/D05011.M.250.A.1.A  \n",
            "  inflating: EASC/EASC-ISO-Arabic/MTurk/Topic78/D05011.M.250.A.2.B  \n",
            "  inflating: EASC/EASC-ISO-Arabic/MTurk/Topic78/D05011.M.250.A.3.C  \n",
            "  inflating: EASC/EASC-ISO-Arabic/MTurk/Topic78/D05011.M.250.A.4.D  \n",
            "  inflating: EASC/EASC-ISO-Arabic/MTurk/Topic78/D05011.M.250.A.5.E  \n",
            "   creating: EASC/EASC-ISO-Arabic/MTurk/Topic79/\n",
            "  inflating: EASC/EASC-ISO-Arabic/MTurk/Topic79/D05012.M.250.A.1.A  \n",
            "  inflating: EASC/EASC-ISO-Arabic/MTurk/Topic79/D05012.M.250.A.2.B  \n",
            "  inflating: EASC/EASC-ISO-Arabic/MTurk/Topic79/D05012.M.250.A.3.C  \n",
            "  inflating: EASC/EASC-ISO-Arabic/MTurk/Topic79/D05012.M.250.A.4.D  \n",
            "  inflating: EASC/EASC-ISO-Arabic/MTurk/Topic79/D05012.M.250.A.5.E  \n",
            "   creating: EASC/EASC-ISO-Arabic/MTurk/Topic8/\n",
            "  inflating: EASC/EASC-ISO-Arabic/MTurk/Topic8/D0108.M.250.A.1.A  \n",
            "  inflating: EASC/EASC-ISO-Arabic/MTurk/Topic8/D0108.M.250.A.2.B  \n",
            "  inflating: EASC/EASC-ISO-Arabic/MTurk/Topic8/D0108.M.250.A.3.C  \n",
            "  inflating: EASC/EASC-ISO-Arabic/MTurk/Topic8/D0108.M.250.A.4.D  \n",
            "  inflating: EASC/EASC-ISO-Arabic/MTurk/Topic8/D0108.M.250.A.5.E  \n",
            "   creating: EASC/EASC-ISO-Arabic/MTurk/Topic80/\n",
            "  inflating: EASC/EASC-ISO-Arabic/MTurk/Topic80/D05013.M.250.A.1.A  \n",
            " extracting: EASC/EASC-ISO-Arabic/MTurk/Topic80/D05013.M.250.A.2.B  \n",
            "  inflating: EASC/EASC-ISO-Arabic/MTurk/Topic80/D05013.M.250.A.3.C  \n",
            "  inflating: EASC/EASC-ISO-Arabic/MTurk/Topic80/D05013.M.250.A.4.D  \n",
            "  inflating: EASC/EASC-ISO-Arabic/MTurk/Topic80/D05013.M.250.A.5.E  \n",
            "   creating: EASC/EASC-ISO-Arabic/MTurk/Topic81/\n",
            "  inflating: EASC/EASC-ISO-Arabic/MTurk/Topic81/D05014.M.250.A.1.A  \n",
            "  inflating: EASC/EASC-ISO-Arabic/MTurk/Topic81/D05014.M.250.A.2.B  \n",
            "  inflating: EASC/EASC-ISO-Arabic/MTurk/Topic81/D05014.M.250.A.3.C  \n",
            "  inflating: EASC/EASC-ISO-Arabic/MTurk/Topic81/D05014.M.250.A.4.D  \n",
            "  inflating: EASC/EASC-ISO-Arabic/MTurk/Topic81/D05014.M.250.A.5.E  \n",
            "   creating: EASC/EASC-ISO-Arabic/MTurk/Topic82/\n",
            "  inflating: EASC/EASC-ISO-Arabic/MTurk/Topic82/D05015.M.250.A.1.A  \n",
            "  inflating: EASC/EASC-ISO-Arabic/MTurk/Topic82/D05015.M.250.A.2.B  \n",
            "  inflating: EASC/EASC-ISO-Arabic/MTurk/Topic82/D05015.M.250.A.3.C  \n",
            "  inflating: EASC/EASC-ISO-Arabic/MTurk/Topic82/D05015.M.250.A.4.D  \n",
            "  inflating: EASC/EASC-ISO-Arabic/MTurk/Topic82/D05015.M.250.A.5.E  \n",
            "   creating: EASC/EASC-ISO-Arabic/MTurk/Topic83/\n",
            "  inflating: EASC/EASC-ISO-Arabic/MTurk/Topic83/D05016.M.250.A.1.A  \n",
            "  inflating: EASC/EASC-ISO-Arabic/MTurk/Topic83/D05016.M.250.A.2.B  \n",
            "  inflating: EASC/EASC-ISO-Arabic/MTurk/Topic83/D05016.M.250.A.3.C  \n",
            "  inflating: EASC/EASC-ISO-Arabic/MTurk/Topic83/D05016.M.250.A.4.D  \n",
            "  inflating: EASC/EASC-ISO-Arabic/MTurk/Topic83/D05016.M.250.A.5.E  \n",
            "   creating: EASC/EASC-ISO-Arabic/MTurk/Topic84/\n",
            "  inflating: EASC/EASC-ISO-Arabic/MTurk/Topic84/D05017.M.250.A.1.A  \n",
            "  inflating: EASC/EASC-ISO-Arabic/MTurk/Topic84/D05017.M.250.A.2.B  \n",
            "  inflating: EASC/EASC-ISO-Arabic/MTurk/Topic84/D05017.M.250.A.3.C  \n",
            "  inflating: EASC/EASC-ISO-Arabic/MTurk/Topic84/D05017.M.250.A.4.D  \n",
            "  inflating: EASC/EASC-ISO-Arabic/MTurk/Topic84/D05017.M.250.A.5.E  \n",
            "   creating: EASC/EASC-ISO-Arabic/MTurk/Topic85/\n",
            "  inflating: EASC/EASC-ISO-Arabic/MTurk/Topic85/D0601.M.250.A.1.A  \n",
            "  inflating: EASC/EASC-ISO-Arabic/MTurk/Topic85/D0601.M.250.A.2.B  \n",
            "  inflating: EASC/EASC-ISO-Arabic/MTurk/Topic85/D0601.M.250.A.3.C  \n",
            "  inflating: EASC/EASC-ISO-Arabic/MTurk/Topic85/D0601.M.250.A.4.D  \n",
            "  inflating: EASC/EASC-ISO-Arabic/MTurk/Topic85/D0601.M.250.A.5.E  \n",
            "   creating: EASC/EASC-ISO-Arabic/MTurk/Topic86/\n",
            "  inflating: EASC/EASC-ISO-Arabic/MTurk/Topic86/D0602.M.250.A.1.A  \n",
            "  inflating: EASC/EASC-ISO-Arabic/MTurk/Topic86/D0602.M.250.A.2.B  \n",
            "  inflating: EASC/EASC-ISO-Arabic/MTurk/Topic86/D0602.M.250.A.3.C  \n",
            "  inflating: EASC/EASC-ISO-Arabic/MTurk/Topic86/D0602.M.250.A.4.D  \n",
            "  inflating: EASC/EASC-ISO-Arabic/MTurk/Topic86/D0602.M.250.A.5.E  \n",
            "   creating: EASC/EASC-ISO-Arabic/MTurk/Topic87/\n",
            "  inflating: EASC/EASC-ISO-Arabic/MTurk/Topic87/D0603.M.250.A.1.A  \n",
            "  inflating: EASC/EASC-ISO-Arabic/MTurk/Topic87/D0603.M.250.A.2.B  \n",
            "  inflating: EASC/EASC-ISO-Arabic/MTurk/Topic87/D0603.M.250.A.3.C  \n",
            "  inflating: EASC/EASC-ISO-Arabic/MTurk/Topic87/D0603.M.250.A.4.D  \n",
            "  inflating: EASC/EASC-ISO-Arabic/MTurk/Topic87/D0603.M.250.A.5.E  \n",
            "   creating: EASC/EASC-ISO-Arabic/MTurk/Topic88/\n",
            "  inflating: EASC/EASC-ISO-Arabic/MTurk/Topic88/D0604.M.250.A.1.A  \n",
            "  inflating: EASC/EASC-ISO-Arabic/MTurk/Topic88/D0604.M.250.A.2.B  \n",
            "  inflating: EASC/EASC-ISO-Arabic/MTurk/Topic88/D0604.M.250.A.3.C  \n",
            "  inflating: EASC/EASC-ISO-Arabic/MTurk/Topic88/D0604.M.250.A.4.D  \n",
            "  inflating: EASC/EASC-ISO-Arabic/MTurk/Topic88/D0604.M.250.A.5.E  \n",
            "   creating: EASC/EASC-ISO-Arabic/MTurk/Topic89/\n",
            "  inflating: EASC/EASC-ISO-Arabic/MTurk/Topic89/D0605.M.250.A.1.A  \n",
            "  inflating: EASC/EASC-ISO-Arabic/MTurk/Topic89/D0605.M.250.A.2.B  \n",
            "  inflating: EASC/EASC-ISO-Arabic/MTurk/Topic89/D0605.M.250.A.3.C  \n",
            "  inflating: EASC/EASC-ISO-Arabic/MTurk/Topic89/D0605.M.250.A.4.D  \n",
            "  inflating: EASC/EASC-ISO-Arabic/MTurk/Topic89/D0605.M.250.A.5.E  \n",
            "   creating: EASC/EASC-ISO-Arabic/MTurk/Topic9/\n",
            "  inflating: EASC/EASC-ISO-Arabic/MTurk/Topic9/D0109.M.250.A.1.A  \n",
            "  inflating: EASC/EASC-ISO-Arabic/MTurk/Topic9/D0109.M.250.A.2.B  \n",
            "  inflating: EASC/EASC-ISO-Arabic/MTurk/Topic9/D0109.M.250.A.3.C  \n",
            "  inflating: EASC/EASC-ISO-Arabic/MTurk/Topic9/D0109.M.250.A.4.D  \n",
            "  inflating: EASC/EASC-ISO-Arabic/MTurk/Topic9/D0109.M.250.A.5.E  \n",
            "   creating: EASC/EASC-ISO-Arabic/MTurk/Topic90/\n",
            "  inflating: EASC/EASC-ISO-Arabic/MTurk/Topic90/D0606.M.250.A.1.A  \n",
            "  inflating: EASC/EASC-ISO-Arabic/MTurk/Topic90/D0606.M.250.A.2.B  \n",
            "  inflating: EASC/EASC-ISO-Arabic/MTurk/Topic90/D0606.M.250.A.3.C  \n",
            "  inflating: EASC/EASC-ISO-Arabic/MTurk/Topic90/D0606.M.250.A.4.D  \n",
            "  inflating: EASC/EASC-ISO-Arabic/MTurk/Topic90/D0606.M.250.A.5.E  \n",
            "   creating: EASC/EASC-ISO-Arabic/MTurk/Topic91/\n",
            "  inflating: EASC/EASC-ISO-Arabic/MTurk/Topic91/D0607.M.250.A.1.A  \n",
            "  inflating: EASC/EASC-ISO-Arabic/MTurk/Topic91/D0607.M.250.A.2.B  \n",
            "  inflating: EASC/EASC-ISO-Arabic/MTurk/Topic91/D0607.M.250.A.3.C  \n",
            "  inflating: EASC/EASC-ISO-Arabic/MTurk/Topic91/D0607.M.250.A.4.D  \n",
            "  inflating: EASC/EASC-ISO-Arabic/MTurk/Topic91/D0607.M.250.A.5.E  \n",
            "   creating: EASC/EASC-ISO-Arabic/MTurk/Topic92/\n",
            "  inflating: EASC/EASC-ISO-Arabic/MTurk/Topic92/D0608.M.250.A.1.A  \n",
            "  inflating: EASC/EASC-ISO-Arabic/MTurk/Topic92/D0608.M.250.A.2.B  \n",
            "  inflating: EASC/EASC-ISO-Arabic/MTurk/Topic92/D0608.M.250.A.3.C  \n",
            "  inflating: EASC/EASC-ISO-Arabic/MTurk/Topic92/D0608.M.250.A.4.D  \n",
            "  inflating: EASC/EASC-ISO-Arabic/MTurk/Topic92/D0608.M.250.A.5.E  \n",
            "   creating: EASC/EASC-ISO-Arabic/MTurk/Topic93/\n",
            "  inflating: EASC/EASC-ISO-Arabic/MTurk/Topic93/D0609.M.250.A.1.A  \n",
            "  inflating: EASC/EASC-ISO-Arabic/MTurk/Topic93/D0609.M.250.A.2.B  \n",
            "  inflating: EASC/EASC-ISO-Arabic/MTurk/Topic93/D0609.M.250.A.3.C  \n",
            "  inflating: EASC/EASC-ISO-Arabic/MTurk/Topic93/D0609.M.250.A.4.D  \n",
            "  inflating: EASC/EASC-ISO-Arabic/MTurk/Topic93/D0609.M.250.A.5.E  \n",
            "   creating: EASC/EASC-ISO-Arabic/MTurk/Topic94/\n",
            "  inflating: EASC/EASC-ISO-Arabic/MTurk/Topic94/D06010.M.250.A.1.A  \n",
            "  inflating: EASC/EASC-ISO-Arabic/MTurk/Topic94/D06010.M.250.A.2.B  \n",
            "  inflating: EASC/EASC-ISO-Arabic/MTurk/Topic94/D06010.M.250.A.3.C  \n",
            "  inflating: EASC/EASC-ISO-Arabic/MTurk/Topic94/D06010.M.250.A.4.D  \n",
            "  inflating: EASC/EASC-ISO-Arabic/MTurk/Topic94/D06010.M.250.A.5.E  \n",
            "   creating: EASC/EASC-ISO-Arabic/MTurk/Topic95/\n",
            "  inflating: EASC/EASC-ISO-Arabic/MTurk/Topic95/D06011.M.250.A.1.A  \n",
            "  inflating: EASC/EASC-ISO-Arabic/MTurk/Topic95/D06011.M.250.A.2.B  \n",
            "  inflating: EASC/EASC-ISO-Arabic/MTurk/Topic95/D06011.M.250.A.3.C  \n",
            "  inflating: EASC/EASC-ISO-Arabic/MTurk/Topic95/D06011.M.250.A.4.D  \n",
            "  inflating: EASC/EASC-ISO-Arabic/MTurk/Topic95/D06011.M.250.A.5.E  \n",
            "   creating: EASC/EASC-ISO-Arabic/MTurk/Topic96/\n",
            " extracting: EASC/EASC-ISO-Arabic/MTurk/Topic96/D06012.M.250.A.1.A  \n",
            "  inflating: EASC/EASC-ISO-Arabic/MTurk/Topic96/D06012.M.250.A.2.B  \n",
            "  inflating: EASC/EASC-ISO-Arabic/MTurk/Topic96/D06012.M.250.A.3.C  \n",
            "  inflating: EASC/EASC-ISO-Arabic/MTurk/Topic96/D06012.M.250.A.4.D  \n",
            "  inflating: EASC/EASC-ISO-Arabic/MTurk/Topic96/D06012.M.250.A.5.E  \n",
            "   creating: EASC/EASC-ISO-Arabic/MTurk/Topic97/\n",
            "  inflating: EASC/EASC-ISO-Arabic/MTurk/Topic97/D06013.M.250.A.1.A  \n",
            "  inflating: EASC/EASC-ISO-Arabic/MTurk/Topic97/D06013.M.250.A.2.B  \n",
            "  inflating: EASC/EASC-ISO-Arabic/MTurk/Topic97/D06013.M.250.A.3.C  \n",
            "  inflating: EASC/EASC-ISO-Arabic/MTurk/Topic97/D06013.M.250.A.4.D  \n",
            "  inflating: EASC/EASC-ISO-Arabic/MTurk/Topic97/D06013.M.250.A.5.E  \n",
            "   creating: EASC/EASC-ISO-Arabic/MTurk/Topic98/\n",
            "  inflating: EASC/EASC-ISO-Arabic/MTurk/Topic98/D06014.M.250.A.1.A  \n",
            "  inflating: EASC/EASC-ISO-Arabic/MTurk/Topic98/D06014.M.250.A.2.B  \n",
            "  inflating: EASC/EASC-ISO-Arabic/MTurk/Topic98/D06014.M.250.A.3.C  \n",
            "  inflating: EASC/EASC-ISO-Arabic/MTurk/Topic98/D06014.M.250.A.4.D  \n",
            "  inflating: EASC/EASC-ISO-Arabic/MTurk/Topic98/D06014.M.250.A.5.E  \n",
            "   creating: EASC/EASC-ISO-Arabic/MTurk/Topic99/\n",
            "  inflating: EASC/EASC-ISO-Arabic/MTurk/Topic99/D06015.M.250.A.1.A  \n",
            "  inflating: EASC/EASC-ISO-Arabic/MTurk/Topic99/D06015.M.250.A.2.B  \n",
            "  inflating: EASC/EASC-ISO-Arabic/MTurk/Topic99/D06015.M.250.A.3.C  \n",
            "  inflating: EASC/EASC-ISO-Arabic/MTurk/Topic99/D06015.M.250.A.4.D  \n",
            "  inflating: EASC/EASC-ISO-Arabic/MTurk/Topic99/D06015.M.250.A.5.E  \n",
            "   creating: EASC/EASC-UTF-8/\n",
            "   creating: EASC/EASC-UTF-8/Articles/\n",
            "   creating: EASC/EASC-UTF-8/Articles/Topic1/\n",
            "  inflating: EASC/EASC-UTF-8/Articles/Topic1/Art and Music (1).txt  \n",
            "   creating: EASC/EASC-UTF-8/Articles/Topic10/\n",
            "  inflating: EASC/EASC-UTF-8/Articles/Topic10/Art and Music (10).txt  \n",
            "   creating: EASC/EASC-UTF-8/Articles/Topic100/\n",
            "  inflating: EASC/EASC-UTF-8/Articles/Topic100/politics (16).TXT  \n",
            "   creating: EASC/EASC-UTF-8/Articles/Topic101/\n",
            "  inflating: EASC/EASC-UTF-8/Articles/Topic101/politics (17).TXT  \n",
            "   creating: EASC/EASC-UTF-8/Articles/Topic102/\n",
            "  inflating: EASC/EASC-UTF-8/Articles/Topic102/politics (18).TXT  \n",
            "   creating: EASC/EASC-UTF-8/Articles/Topic103/\n",
            "  inflating: EASC/EASC-UTF-8/Articles/Topic103/politics (19).txt  \n",
            "   creating: EASC/EASC-UTF-8/Articles/Topic104/\n",
            "  inflating: EASC/EASC-UTF-8/Articles/Topic104/politics (2).txt  \n",
            "   creating: EASC/EASC-UTF-8/Articles/Topic105/\n",
            "  inflating: EASC/EASC-UTF-8/Articles/Topic105/politics (20).txt  \n",
            "   creating: EASC/EASC-UTF-8/Articles/Topic106/\n",
            "  inflating: EASC/EASC-UTF-8/Articles/Topic106/religion (1).txt  \n",
            "   creating: EASC/EASC-UTF-8/Articles/Topic107/\n",
            "  inflating: EASC/EASC-UTF-8/Articles/Topic107/religion (2).txt  \n",
            "   creating: EASC/EASC-UTF-8/Articles/Topic108/\n",
            "  inflating: EASC/EASC-UTF-8/Articles/Topic108/religion (3).txt  \n",
            "   creating: EASC/EASC-UTF-8/Articles/Topic109/\n",
            "  inflating: EASC/EASC-UTF-8/Articles/Topic109/religion (4).txt  \n",
            "   creating: EASC/EASC-UTF-8/Articles/Topic11/\n",
            "  inflating: EASC/EASC-UTF-8/Articles/Topic11/education (1).txt  \n",
            "   creating: EASC/EASC-UTF-8/Articles/Topic110/\n",
            "  inflating: EASC/EASC-UTF-8/Articles/Topic110/religion (5).txt  \n",
            "   creating: EASC/EASC-UTF-8/Articles/Topic111/\n",
            "  inflating: EASC/EASC-UTF-8/Articles/Topic111/religion (6).txt  \n",
            "   creating: EASC/EASC-UTF-8/Articles/Topic112/\n",
            "  inflating: EASC/EASC-UTF-8/Articles/Topic112/religion (7).txt  \n",
            "   creating: EASC/EASC-UTF-8/Articles/Topic113/\n",
            "  inflating: EASC/EASC-UTF-8/Articles/Topic113/religion (8).txt  \n",
            "   creating: EASC/EASC-UTF-8/Articles/Topic114/\n",
            "  inflating: EASC/EASC-UTF-8/Articles/Topic114/Science and Technology (1).txt  \n",
            "   creating: EASC/EASC-UTF-8/Articles/Topic115/\n",
            "  inflating: EASC/EASC-UTF-8/Articles/Topic115/Science and Technology (2).txt  \n",
            "   creating: EASC/EASC-UTF-8/Articles/Topic116/\n",
            "  inflating: EASC/EASC-UTF-8/Articles/Topic116/Science and Technology (3).txt  \n",
            "   creating: EASC/EASC-UTF-8/Articles/Topic117/\n",
            "  inflating: EASC/EASC-UTF-8/Articles/Topic117/Science and Technology (4).txt  \n",
            "   creating: EASC/EASC-UTF-8/Articles/Topic118/\n",
            "  inflating: EASC/EASC-UTF-8/Articles/Topic118/Science and Technology (5).txt  \n",
            "   creating: EASC/EASC-UTF-8/Articles/Topic119/\n",
            "  inflating: EASC/EASC-UTF-8/Articles/Topic119/Science and Technology (6).txt  \n",
            "   creating: EASC/EASC-UTF-8/Articles/Topic12/\n",
            "  inflating: EASC/EASC-UTF-8/Articles/Topic12/education (2).txt  \n",
            "   creating: EASC/EASC-UTF-8/Articles/Topic120/\n",
            "  inflating: EASC/EASC-UTF-8/Articles/Topic120/Science and Technology (7).txt  \n",
            "   creating: EASC/EASC-UTF-8/Articles/Topic121/\n",
            "  inflating: EASC/EASC-UTF-8/Articles/Topic121/Science and Technology (8).TXT  \n",
            "   creating: EASC/EASC-UTF-8/Articles/Topic122/\n",
            "  inflating: EASC/EASC-UTF-8/Articles/Topic122/Science and Technology (9).TXT  \n",
            "   creating: EASC/EASC-UTF-8/Articles/Topic123/\n",
            "  inflating: EASC/EASC-UTF-8/Articles/Topic123/Science and Technology (10).TXT  \n",
            "   creating: EASC/EASC-UTF-8/Articles/Topic124/\n",
            "  inflating: EASC/EASC-UTF-8/Articles/Topic124/Science and Technology (11).txt  \n",
            "   creating: EASC/EASC-UTF-8/Articles/Topic125/\n",
            "  inflating: EASC/EASC-UTF-8/Articles/Topic125/Science and Technology (12).txt  \n",
            "   creating: EASC/EASC-UTF-8/Articles/Topic126/\n",
            "  inflating: EASC/EASC-UTF-8/Articles/Topic126/Science and Technology (13).txt  \n",
            "   creating: EASC/EASC-UTF-8/Articles/Topic127/\n",
            "  inflating: EASC/EASC-UTF-8/Articles/Topic127/Science and Technology (14).txt  \n",
            "   creating: EASC/EASC-UTF-8/Articles/Topic128/\n",
            "  inflating: EASC/EASC-UTF-8/Articles/Topic128/Science and Technology (15).txt  \n",
            "   creating: EASC/EASC-UTF-8/Articles/Topic129/\n",
            "  inflating: EASC/EASC-UTF-8/Articles/Topic129/Science and Technology (16).txt  \n",
            "   creating: EASC/EASC-UTF-8/Articles/Topic13/\n",
            "  inflating: EASC/EASC-UTF-8/Articles/Topic13/education (3).txt  \n",
            "   creating: EASC/EASC-UTF-8/Articles/Topic130/\n",
            "  inflating: EASC/EASC-UTF-8/Articles/Topic130/sport (1).TXT  \n",
            "   creating: EASC/EASC-UTF-8/Articles/Topic131/\n",
            "  inflating: EASC/EASC-UTF-8/Articles/Topic131/sport (2).txt  \n",
            "   creating: EASC/EASC-UTF-8/Articles/Topic132/\n",
            "  inflating: EASC/EASC-UTF-8/Articles/Topic132/sport (3).txt  \n",
            "   creating: EASC/EASC-UTF-8/Articles/Topic133/\n",
            "  inflating: EASC/EASC-UTF-8/Articles/Topic133/sport (4).txt  \n",
            "   creating: EASC/EASC-UTF-8/Articles/Topic134/\n",
            "  inflating: EASC/EASC-UTF-8/Articles/Topic134/sport (5).txt  \n",
            "   creating: EASC/EASC-UTF-8/Articles/Topic135/\n",
            "  inflating: EASC/EASC-UTF-8/Articles/Topic135/sport (6).txt  \n",
            "   creating: EASC/EASC-UTF-8/Articles/Topic136/\n",
            "  inflating: EASC/EASC-UTF-8/Articles/Topic136/sport (7).TXT  \n",
            "   creating: EASC/EASC-UTF-8/Articles/Topic137/\n",
            "  inflating: EASC/EASC-UTF-8/Articles/Topic137/sport (8).TXT  \n",
            "   creating: EASC/EASC-UTF-8/Articles/Topic138/\n",
            "  inflating: EASC/EASC-UTF-8/Articles/Topic138/sport (9).TXT  \n",
            "   creating: EASC/EASC-UTF-8/Articles/Topic139/\n",
            "  inflating: EASC/EASC-UTF-8/Articles/Topic139/sport (10).txt  \n",
            "   creating: EASC/EASC-UTF-8/Articles/Topic14/\n",
            "  inflating: EASC/EASC-UTF-8/Articles/Topic14/education (4).txt  \n",
            "   creating: EASC/EASC-UTF-8/Articles/Topic140/\n",
            "  inflating: EASC/EASC-UTF-8/Articles/Topic140/tourisms (1).txt  \n",
            "   creating: EASC/EASC-UTF-8/Articles/Topic141/\n",
            "  inflating: EASC/EASC-UTF-8/Articles/Topic141/tourisms (2).txt  \n",
            "   creating: EASC/EASC-UTF-8/Articles/Topic142/\n",
            "  inflating: EASC/EASC-UTF-8/Articles/Topic142/tourisms (3).txt  \n",
            "   creating: EASC/EASC-UTF-8/Articles/Topic143/\n",
            "  inflating: EASC/EASC-UTF-8/Articles/Topic143/tourisms (4).txt  \n",
            "   creating: EASC/EASC-UTF-8/Articles/Topic144/\n",
            "  inflating: EASC/EASC-UTF-8/Articles/Topic144/tourisms (5).txt  \n",
            "   creating: EASC/EASC-UTF-8/Articles/Topic145/\n",
            "  inflating: EASC/EASC-UTF-8/Articles/Topic145/tourisms (6).txt  \n",
            "   creating: EASC/EASC-UTF-8/Articles/Topic146/\n",
            "  inflating: EASC/EASC-UTF-8/Articles/Topic146/tourisms (7).txt  \n",
            "   creating: EASC/EASC-UTF-8/Articles/Topic147/\n",
            "  inflating: EASC/EASC-UTF-8/Articles/Topic147/tourisms (8).txt  \n",
            "   creating: EASC/EASC-UTF-8/Articles/Topic148/\n",
            "  inflating: EASC/EASC-UTF-8/Articles/Topic148/tourisms (9).txt  \n",
            "   creating: EASC/EASC-UTF-8/Articles/Topic149/\n",
            "  inflating: EASC/EASC-UTF-8/Articles/Topic149/tourisms (10).txt  \n",
            "   creating: EASC/EASC-UTF-8/Articles/Topic15/\n",
            "  inflating: EASC/EASC-UTF-8/Articles/Topic15/education (5).txt  \n",
            "   creating: EASC/EASC-UTF-8/Articles/Topic150/\n",
            "  inflating: EASC/EASC-UTF-8/Articles/Topic150/tourisms (11).txt  \n",
            "   creating: EASC/EASC-UTF-8/Articles/Topic151/\n",
            "  inflating: EASC/EASC-UTF-8/Articles/Topic151/tourisms (12).txt  \n",
            "   creating: EASC/EASC-UTF-8/Articles/Topic152/\n",
            "  inflating: EASC/EASC-UTF-8/Articles/Topic152/tourisms (13).txt  \n",
            "   creating: EASC/EASC-UTF-8/Articles/Topic153/\n",
            "  inflating: EASC/EASC-UTF-8/Articles/Topic153/tourisms (14).txt  \n",
            "   creating: EASC/EASC-UTF-8/Articles/Topic16/\n",
            "  inflating: EASC/EASC-UTF-8/Articles/Topic16/education (6).txt  \n",
            "   creating: EASC/EASC-UTF-8/Articles/Topic17/\n",
            "  inflating: EASC/EASC-UTF-8/Articles/Topic17/education (7).txt  \n",
            "   creating: EASC/EASC-UTF-8/Articles/Topic18/\n",
            "  inflating: EASC/EASC-UTF-8/Articles/Topic18/environment (1).TXT  \n",
            "   creating: EASC/EASC-UTF-8/Articles/Topic19/\n",
            "  inflating: EASC/EASC-UTF-8/Articles/Topic19/environment (3).txt  \n",
            "   creating: EASC/EASC-UTF-8/Articles/Topic2/\n",
            "  inflating: EASC/EASC-UTF-8/Articles/Topic2/Art and Music (2).txt  \n",
            "   creating: EASC/EASC-UTF-8/Articles/Topic20/\n",
            "  inflating: EASC/EASC-UTF-8/Articles/Topic20/environment (4).txt  \n",
            "   creating: EASC/EASC-UTF-8/Articles/Topic21/\n",
            "  inflating: EASC/EASC-UTF-8/Articles/Topic21/environment (5).txt  \n",
            "   creating: EASC/EASC-UTF-8/Articles/Topic22/\n",
            "  inflating: EASC/EASC-UTF-8/Articles/Topic22/environment (6).txt  \n",
            "   creating: EASC/EASC-UTF-8/Articles/Topic23/\n",
            "  inflating: EASC/EASC-UTF-8/Articles/Topic23/environment (7).txt  \n",
            "   creating: EASC/EASC-UTF-8/Articles/Topic24/\n",
            "  inflating: EASC/EASC-UTF-8/Articles/Topic24/environment (8).TXT  \n",
            "   creating: EASC/EASC-UTF-8/Articles/Topic25/\n",
            "  inflating: EASC/EASC-UTF-8/Articles/Topic25/environment (9).txt  \n",
            "   creating: EASC/EASC-UTF-8/Articles/Topic26/\n",
            "  inflating: EASC/EASC-UTF-8/Articles/Topic26/environment (10).txt  \n",
            "   creating: EASC/EASC-UTF-8/Articles/Topic27/\n",
            "  inflating: EASC/EASC-UTF-8/Articles/Topic27/environment (11).txt  \n",
            "   creating: EASC/EASC-UTF-8/Articles/Topic28/\n",
            "  inflating: EASC/EASC-UTF-8/Articles/Topic28/environment (12).txt  \n",
            "   creating: EASC/EASC-UTF-8/Articles/Topic29/\n",
            "  inflating: EASC/EASC-UTF-8/Articles/Topic29/environment (13).txt  \n",
            "   creating: EASC/EASC-UTF-8/Articles/Topic3/\n",
            "  inflating: EASC/EASC-UTF-8/Articles/Topic3/Art and Music (3).txt  \n",
            "   creating: EASC/EASC-UTF-8/Articles/Topic30/\n",
            "  inflating: EASC/EASC-UTF-8/Articles/Topic30/environment (14).txt  \n",
            "   creating: EASC/EASC-UTF-8/Articles/Topic31/\n",
            "  inflating: EASC/EASC-UTF-8/Articles/Topic31/environment (15).txt  \n",
            "   creating: EASC/EASC-UTF-8/Articles/Topic32/\n",
            "  inflating: EASC/EASC-UTF-8/Articles/Topic32/environment (16).txt  \n",
            "   creating: EASC/EASC-UTF-8/Articles/Topic33/\n",
            "  inflating: EASC/EASC-UTF-8/Articles/Topic33/environment (17).txt  \n",
            "   creating: EASC/EASC-UTF-8/Articles/Topic34/\n",
            "  inflating: EASC/EASC-UTF-8/Articles/Topic34/environment (18).txt  \n",
            "   creating: EASC/EASC-UTF-8/Articles/Topic35/\n",
            "  inflating: EASC/EASC-UTF-8/Articles/Topic35/environment (19).txt  \n",
            "   creating: EASC/EASC-UTF-8/Articles/Topic36/\n",
            "  inflating: EASC/EASC-UTF-8/Articles/Topic36/environment (20).txt  \n",
            "   creating: EASC/EASC-UTF-8/Articles/Topic37/\n",
            "  inflating: EASC/EASC-UTF-8/Articles/Topic37/environment (21).txt  \n",
            "   creating: EASC/EASC-UTF-8/Articles/Topic38/\n",
            "  inflating: EASC/EASC-UTF-8/Articles/Topic38/environment (22).txt  \n",
            "   creating: EASC/EASC-UTF-8/Articles/Topic39/\n",
            "  inflating: EASC/EASC-UTF-8/Articles/Topic39/environment (23).txt  \n",
            "   creating: EASC/EASC-UTF-8/Articles/Topic4/\n",
            "  inflating: EASC/EASC-UTF-8/Articles/Topic4/Art and Music (4).txt  \n",
            "   creating: EASC/EASC-UTF-8/Articles/Topic40/\n",
            "  inflating: EASC/EASC-UTF-8/Articles/Topic40/environment (24).txt  \n",
            "   creating: EASC/EASC-UTF-8/Articles/Topic41/\n",
            "  inflating: EASC/EASC-UTF-8/Articles/Topic41/environment (25).txt  \n",
            "   creating: EASC/EASC-UTF-8/Articles/Topic42/\n",
            "  inflating: EASC/EASC-UTF-8/Articles/Topic42/environment (26).txt  \n",
            "   creating: EASC/EASC-UTF-8/Articles/Topic43/\n",
            "  inflating: EASC/EASC-UTF-8/Articles/Topic43/environment (27).txt  \n",
            "   creating: EASC/EASC-UTF-8/Articles/Topic44/\n",
            "  inflating: EASC/EASC-UTF-8/Articles/Topic44/environment (28).txt  \n",
            "   creating: EASC/EASC-UTF-8/Articles/Topic45/\n",
            "  inflating: EASC/EASC-UTF-8/Articles/Topic45/environment (29).txt  \n",
            "   creating: EASC/EASC-UTF-8/Articles/Topic46/\n",
            "  inflating: EASC/EASC-UTF-8/Articles/Topic46/environment (30).txt  \n",
            "   creating: EASC/EASC-UTF-8/Articles/Topic47/\n",
            "  inflating: EASC/EASC-UTF-8/Articles/Topic47/environment (31).txt  \n",
            "   creating: EASC/EASC-UTF-8/Articles/Topic48/\n",
            "  inflating: EASC/EASC-UTF-8/Articles/Topic48/environment (32).txt  \n",
            "   creating: EASC/EASC-UTF-8/Articles/Topic49/\n",
            "  inflating: EASC/EASC-UTF-8/Articles/Topic49/environment (33).txt  \n",
            "   creating: EASC/EASC-UTF-8/Articles/Topic5/\n",
            "  inflating: EASC/EASC-UTF-8/Articles/Topic5/Art and Music (5).txt  \n",
            "   creating: EASC/EASC-UTF-8/Articles/Topic50/\n",
            "  inflating: EASC/EASC-UTF-8/Articles/Topic50/environment (34).TXT  \n",
            "   creating: EASC/EASC-UTF-8/Articles/Topic51/\n",
            "  inflating: EASC/EASC-UTF-8/Articles/Topic51/finance (1).txt  \n",
            "   creating: EASC/EASC-UTF-8/Articles/Topic52/\n",
            "  inflating: EASC/EASC-UTF-8/Articles/Topic52/finance (2).txt  \n",
            "   creating: EASC/EASC-UTF-8/Articles/Topic53/\n",
            "  inflating: EASC/EASC-UTF-8/Articles/Topic53/finance (3).txt  \n",
            "   creating: EASC/EASC-UTF-8/Articles/Topic54/\n",
            "  inflating: EASC/EASC-UTF-8/Articles/Topic54/finance (4).txt  \n",
            "   creating: EASC/EASC-UTF-8/Articles/Topic55/\n",
            "  inflating: EASC/EASC-UTF-8/Articles/Topic55/finance (5).txt  \n",
            "   creating: EASC/EASC-UTF-8/Articles/Topic56/\n",
            "  inflating: EASC/EASC-UTF-8/Articles/Topic56/finance (6).txt  \n",
            "   creating: EASC/EASC-UTF-8/Articles/Topic57/\n",
            "  inflating: EASC/EASC-UTF-8/Articles/Topic57/finance (7).txt  \n",
            "   creating: EASC/EASC-UTF-8/Articles/Topic58/\n",
            "  inflating: EASC/EASC-UTF-8/Articles/Topic58/finance (8).txt  \n",
            "   creating: EASC/EASC-UTF-8/Articles/Topic59/\n",
            "  inflating: EASC/EASC-UTF-8/Articles/Topic59/finance (9).txt  \n",
            "   creating: EASC/EASC-UTF-8/Articles/Topic6/\n",
            "  inflating: EASC/EASC-UTF-8/Articles/Topic6/Art and Music (6).txt  \n",
            "   creating: EASC/EASC-UTF-8/Articles/Topic60/\n",
            "  inflating: EASC/EASC-UTF-8/Articles/Topic60/finance (10).txt  \n",
            "   creating: EASC/EASC-UTF-8/Articles/Topic61/\n",
            "  inflating: EASC/EASC-UTF-8/Articles/Topic61/finance (11).txt  \n",
            "   creating: EASC/EASC-UTF-8/Articles/Topic62/\n",
            "  inflating: EASC/EASC-UTF-8/Articles/Topic62/finance (12).txt  \n",
            "   creating: EASC/EASC-UTF-8/Articles/Topic63/\n",
            "  inflating: EASC/EASC-UTF-8/Articles/Topic63/finance (13).txt  \n",
            "   creating: EASC/EASC-UTF-8/Articles/Topic64/\n",
            "  inflating: EASC/EASC-UTF-8/Articles/Topic64/finance (14).txt  \n",
            "   creating: EASC/EASC-UTF-8/Articles/Topic65/\n",
            "  inflating: EASC/EASC-UTF-8/Articles/Topic65/finance (15).TXT  \n",
            "   creating: EASC/EASC-UTF-8/Articles/Topic66/\n",
            "  inflating: EASC/EASC-UTF-8/Articles/Topic66/finance (16).TXT  \n",
            "   creating: EASC/EASC-UTF-8/Articles/Topic67/\n",
            "  inflating: EASC/EASC-UTF-8/Articles/Topic67/finance (17).txt  \n",
            "   creating: EASC/EASC-UTF-8/Articles/Topic68/\n",
            "  inflating: EASC/EASC-UTF-8/Articles/Topic68/health (1).txt  \n",
            "   creating: EASC/EASC-UTF-8/Articles/Topic69/\n",
            "  inflating: EASC/EASC-UTF-8/Articles/Topic69/health (2).TXT  \n",
            "   creating: EASC/EASC-UTF-8/Articles/Topic7/\n",
            "  inflating: EASC/EASC-UTF-8/Articles/Topic7/Art and Music (7).txt  \n",
            "   creating: EASC/EASC-UTF-8/Articles/Topic70/\n",
            "  inflating: EASC/EASC-UTF-8/Articles/Topic70/health (3).txt  \n",
            "   creating: EASC/EASC-UTF-8/Articles/Topic71/\n",
            "  inflating: EASC/EASC-UTF-8/Articles/Topic71/health (4).txt  \n",
            "   creating: EASC/EASC-UTF-8/Articles/Topic72/\n",
            "  inflating: EASC/EASC-UTF-8/Articles/Topic72/health (5).txt  \n",
            "   creating: EASC/EASC-UTF-8/Articles/Topic73/\n",
            "  inflating: EASC/EASC-UTF-8/Articles/Topic73/health (6).txt  \n",
            "   creating: EASC/EASC-UTF-8/Articles/Topic74/\n",
            "  inflating: EASC/EASC-UTF-8/Articles/Topic74/health (7).txt  \n",
            "   creating: EASC/EASC-UTF-8/Articles/Topic75/\n",
            "  inflating: EASC/EASC-UTF-8/Articles/Topic75/health (8).txt  \n",
            "   creating: EASC/EASC-UTF-8/Articles/Topic76/\n",
            "  inflating: EASC/EASC-UTF-8/Articles/Topic76/health (9).TXT  \n",
            "   creating: EASC/EASC-UTF-8/Articles/Topic77/\n",
            "  inflating: EASC/EASC-UTF-8/Articles/Topic77/health (10).TXT  \n",
            "   creating: EASC/EASC-UTF-8/Articles/Topic78/\n",
            "  inflating: EASC/EASC-UTF-8/Articles/Topic78/health (11).TXT  \n",
            "   creating: EASC/EASC-UTF-8/Articles/Topic79/\n",
            "  inflating: EASC/EASC-UTF-8/Articles/Topic79/health (12).txt  \n",
            "   creating: EASC/EASC-UTF-8/Articles/Topic8/\n",
            "  inflating: EASC/EASC-UTF-8/Articles/Topic8/art and music (8).txt  \n",
            "   creating: EASC/EASC-UTF-8/Articles/Topic80/\n",
            "  inflating: EASC/EASC-UTF-8/Articles/Topic80/health (13).txt  \n",
            "   creating: EASC/EASC-UTF-8/Articles/Topic81/\n",
            "  inflating: EASC/EASC-UTF-8/Articles/Topic81/health (14).txt  \n",
            "   creating: EASC/EASC-UTF-8/Articles/Topic82/\n",
            "  inflating: EASC/EASC-UTF-8/Articles/Topic82/health (15).txt  \n",
            "   creating: EASC/EASC-UTF-8/Articles/Topic83/\n",
            "  inflating: EASC/EASC-UTF-8/Articles/Topic83/health (16).txt  \n",
            "   creating: EASC/EASC-UTF-8/Articles/Topic84/\n",
            "  inflating: EASC/EASC-UTF-8/Articles/Topic84/health (17).txt  \n",
            "   creating: EASC/EASC-UTF-8/Articles/Topic85/\n",
            "  inflating: EASC/EASC-UTF-8/Articles/Topic85/politics (1).txt  \n",
            "   creating: EASC/EASC-UTF-8/Articles/Topic86/\n",
            "  inflating: EASC/EASC-UTF-8/Articles/Topic86/politics (21).txt  \n",
            "   creating: EASC/EASC-UTF-8/Articles/Topic87/\n",
            "  inflating: EASC/EASC-UTF-8/Articles/Topic87/politics (3).txt  \n",
            "   creating: EASC/EASC-UTF-8/Articles/Topic88/\n",
            "  inflating: EASC/EASC-UTF-8/Articles/Topic88/politics (4).txt  \n",
            "   creating: EASC/EASC-UTF-8/Articles/Topic89/\n",
            "  inflating: EASC/EASC-UTF-8/Articles/Topic89/politics (5).txt  \n",
            "   creating: EASC/EASC-UTF-8/Articles/Topic9/\n",
            "  inflating: EASC/EASC-UTF-8/Articles/Topic9/art and music (9).txt  \n",
            "   creating: EASC/EASC-UTF-8/Articles/Topic90/\n",
            "  inflating: EASC/EASC-UTF-8/Articles/Topic90/politics (6).txt  \n",
            "   creating: EASC/EASC-UTF-8/Articles/Topic91/\n",
            "  inflating: EASC/EASC-UTF-8/Articles/Topic91/politics (7).txt  \n",
            "   creating: EASC/EASC-UTF-8/Articles/Topic92/\n",
            "  inflating: EASC/EASC-UTF-8/Articles/Topic92/politics (8).txt  \n",
            "   creating: EASC/EASC-UTF-8/Articles/Topic93/\n",
            "  inflating: EASC/EASC-UTF-8/Articles/Topic93/politics (9).txt  \n",
            "   creating: EASC/EASC-UTF-8/Articles/Topic94/\n",
            "  inflating: EASC/EASC-UTF-8/Articles/Topic94/politics (10).txt  \n",
            "   creating: EASC/EASC-UTF-8/Articles/Topic95/\n",
            "  inflating: EASC/EASC-UTF-8/Articles/Topic95/politics (11).txt  \n",
            "   creating: EASC/EASC-UTF-8/Articles/Topic96/\n",
            "  inflating: EASC/EASC-UTF-8/Articles/Topic96/politics (12).txt  \n",
            "   creating: EASC/EASC-UTF-8/Articles/Topic97/\n",
            "  inflating: EASC/EASC-UTF-8/Articles/Topic97/politics (13).txt  \n",
            "   creating: EASC/EASC-UTF-8/Articles/Topic98/\n",
            "  inflating: EASC/EASC-UTF-8/Articles/Topic98/politics (14).txt  \n",
            "   creating: EASC/EASC-UTF-8/Articles/Topic99/\n",
            "  inflating: EASC/EASC-UTF-8/Articles/Topic99/politics (15).txt  \n",
            "   creating: EASC/EASC-UTF-8/MTurk/\n",
            "   creating: EASC/EASC-UTF-8/MTurk/Topic1/\n",
            "  inflating: EASC/EASC-UTF-8/MTurk/Topic1/D0101.M.250.A.1.A  \n",
            "  inflating: EASC/EASC-UTF-8/MTurk/Topic1/D0101.M.250.A.2.B  \n",
            "  inflating: EASC/EASC-UTF-8/MTurk/Topic1/D0101.M.250.A.3.C  \n",
            "  inflating: EASC/EASC-UTF-8/MTurk/Topic1/D0101.M.250.A.4.D  \n",
            "  inflating: EASC/EASC-UTF-8/MTurk/Topic1/D0101.M.250.A.5.E  \n",
            "   creating: EASC/EASC-UTF-8/MTurk/Topic10/\n",
            "  inflating: EASC/EASC-UTF-8/MTurk/Topic10/D01010.M.250.A.1.A  \n",
            "  inflating: EASC/EASC-UTF-8/MTurk/Topic10/D01010.M.250.A.2.B  \n",
            "  inflating: EASC/EASC-UTF-8/MTurk/Topic10/D01010.M.250.A.3.C  \n",
            "  inflating: EASC/EASC-UTF-8/MTurk/Topic10/D01010.M.250.A.4.D  \n",
            "  inflating: EASC/EASC-UTF-8/MTurk/Topic10/D01010.M.250.A.5.E  \n",
            "   creating: EASC/EASC-UTF-8/MTurk/Topic100/\n",
            "  inflating: EASC/EASC-UTF-8/MTurk/Topic100/D06016.M.250.A.1.A  \n",
            "  inflating: EASC/EASC-UTF-8/MTurk/Topic100/D06016.M.250.A.2.B  \n",
            "  inflating: EASC/EASC-UTF-8/MTurk/Topic100/D06016.M.250.A.3.C  \n",
            "  inflating: EASC/EASC-UTF-8/MTurk/Topic100/D06016.M.250.A.4.D  \n",
            "  inflating: EASC/EASC-UTF-8/MTurk/Topic100/D06016.M.250.A.5.E  \n",
            "   creating: EASC/EASC-UTF-8/MTurk/Topic101/\n",
            "  inflating: EASC/EASC-UTF-8/MTurk/Topic101/D06017.M.250.A.1.A  \n",
            "  inflating: EASC/EASC-UTF-8/MTurk/Topic101/D06017.M.250.A.2.B  \n",
            "  inflating: EASC/EASC-UTF-8/MTurk/Topic101/D06017.M.250.A.3.C  \n",
            "  inflating: EASC/EASC-UTF-8/MTurk/Topic101/D06017.M.250.A.4.D  \n",
            "  inflating: EASC/EASC-UTF-8/MTurk/Topic101/D06017.M.250.A.5.E  \n",
            "   creating: EASC/EASC-UTF-8/MTurk/Topic102/\n",
            "  inflating: EASC/EASC-UTF-8/MTurk/Topic102/D06018.M.250.A.1.A  \n",
            "  inflating: EASC/EASC-UTF-8/MTurk/Topic102/D06018.M.250.A.2.B  \n",
            "  inflating: EASC/EASC-UTF-8/MTurk/Topic102/D06018.M.250.A.3.C  \n",
            "  inflating: EASC/EASC-UTF-8/MTurk/Topic102/D06018.M.250.A.4.D  \n",
            "  inflating: EASC/EASC-UTF-8/MTurk/Topic102/D06018.M.250.A.5.E  \n",
            "   creating: EASC/EASC-UTF-8/MTurk/Topic103/\n",
            "  inflating: EASC/EASC-UTF-8/MTurk/Topic103/D06019.M.250.A.1.A  \n",
            "  inflating: EASC/EASC-UTF-8/MTurk/Topic103/D06019.M.250.A.2.B  \n",
            "  inflating: EASC/EASC-UTF-8/MTurk/Topic103/D06019.M.250.A.3.C  \n",
            "  inflating: EASC/EASC-UTF-8/MTurk/Topic103/D06019.M.250.A.4.D  \n",
            "  inflating: EASC/EASC-UTF-8/MTurk/Topic103/D06019.M.250.A.5.E  \n",
            "   creating: EASC/EASC-UTF-8/MTurk/Topic104/\n",
            "  inflating: EASC/EASC-UTF-8/MTurk/Topic104/D06020.M.250.A.1.A  \n",
            "  inflating: EASC/EASC-UTF-8/MTurk/Topic104/D06020.M.250.A.2.B  \n",
            "  inflating: EASC/EASC-UTF-8/MTurk/Topic104/D06020.M.250.A.3.C  \n",
            "  inflating: EASC/EASC-UTF-8/MTurk/Topic104/D06020.M.250.A.4.D  \n",
            "  inflating: EASC/EASC-UTF-8/MTurk/Topic104/D06020.M.250.A.5.E  \n",
            "   creating: EASC/EASC-UTF-8/MTurk/Topic105/\n",
            "  inflating: EASC/EASC-UTF-8/MTurk/Topic105/D06021.M.250.A.1.A  \n",
            "  inflating: EASC/EASC-UTF-8/MTurk/Topic105/D06021.M.250.A.2.B  \n",
            "  inflating: EASC/EASC-UTF-8/MTurk/Topic105/D06021.M.250.A.3.C  \n",
            "  inflating: EASC/EASC-UTF-8/MTurk/Topic105/D06021.M.250.A.4.D  \n",
            "  inflating: EASC/EASC-UTF-8/MTurk/Topic105/D06021.M.250.A.5.E  \n",
            "   creating: EASC/EASC-UTF-8/MTurk/Topic106/\n",
            "  inflating: EASC/EASC-UTF-8/MTurk/Topic106/D0701.M.250.A.1.A  \n",
            "  inflating: EASC/EASC-UTF-8/MTurk/Topic106/D0701.M.250.A.2.B  \n",
            "  inflating: EASC/EASC-UTF-8/MTurk/Topic106/D0701.M.250.A.3.C  \n",
            "  inflating: EASC/EASC-UTF-8/MTurk/Topic106/D0701.M.250.A.4.D  \n",
            "  inflating: EASC/EASC-UTF-8/MTurk/Topic106/D0701.M.250.A.5.E  \n",
            "   creating: EASC/EASC-UTF-8/MTurk/Topic107/\n",
            "  inflating: EASC/EASC-UTF-8/MTurk/Topic107/D0702.M.250.A.1.A  \n",
            "  inflating: EASC/EASC-UTF-8/MTurk/Topic107/D0702.M.250.A.2.B  \n",
            "  inflating: EASC/EASC-UTF-8/MTurk/Topic107/D0702.M.250.A.3.C  \n",
            "  inflating: EASC/EASC-UTF-8/MTurk/Topic107/D0702.M.250.A.4.D  \n",
            "  inflating: EASC/EASC-UTF-8/MTurk/Topic107/D0702.M.250.A.5.E  \n",
            "   creating: EASC/EASC-UTF-8/MTurk/Topic108/\n",
            "  inflating: EASC/EASC-UTF-8/MTurk/Topic108/D0703.M.250.A.1.A  \n",
            "  inflating: EASC/EASC-UTF-8/MTurk/Topic108/D0703.M.250.A.2.B  \n",
            "  inflating: EASC/EASC-UTF-8/MTurk/Topic108/D0703.M.250.A.3.C  \n",
            "  inflating: EASC/EASC-UTF-8/MTurk/Topic108/D0703.M.250.A.4.D  \n",
            "  inflating: EASC/EASC-UTF-8/MTurk/Topic108/D0703.M.250.A.5.E  \n",
            "   creating: EASC/EASC-UTF-8/MTurk/Topic109/\n",
            "  inflating: EASC/EASC-UTF-8/MTurk/Topic109/D0704.M.250.A.1.A  \n",
            "  inflating: EASC/EASC-UTF-8/MTurk/Topic109/D0704.M.250.A.2.B  \n",
            "  inflating: EASC/EASC-UTF-8/MTurk/Topic109/D0704.M.250.A.3.C  \n",
            "  inflating: EASC/EASC-UTF-8/MTurk/Topic109/D0704.M.250.A.4.D  \n",
            "  inflating: EASC/EASC-UTF-8/MTurk/Topic109/D0704.M.250.A.5.E  \n",
            "   creating: EASC/EASC-UTF-8/MTurk/Topic11/\n",
            "  inflating: EASC/EASC-UTF-8/MTurk/Topic11/D0201.M.250.A.1.A  \n",
            "  inflating: EASC/EASC-UTF-8/MTurk/Topic11/D0201.M.250.A.2.B  \n",
            "  inflating: EASC/EASC-UTF-8/MTurk/Topic11/D0201.M.250.A.3.C  \n",
            "  inflating: EASC/EASC-UTF-8/MTurk/Topic11/D0201.M.250.A.4.D  \n",
            "  inflating: EASC/EASC-UTF-8/MTurk/Topic11/D0201.M.250.A.5.E  \n",
            "   creating: EASC/EASC-UTF-8/MTurk/Topic110/\n",
            "  inflating: EASC/EASC-UTF-8/MTurk/Topic110/D0705.M.250.A.1.A  \n",
            "  inflating: EASC/EASC-UTF-8/MTurk/Topic110/D0705.M.250.A.2.B  \n",
            "  inflating: EASC/EASC-UTF-8/MTurk/Topic110/D0705.M.250.A.3.C  \n",
            "  inflating: EASC/EASC-UTF-8/MTurk/Topic110/D0705.M.250.A.4.D  \n",
            "  inflating: EASC/EASC-UTF-8/MTurk/Topic110/D0705.M.250.A.5.E  \n",
            "   creating: EASC/EASC-UTF-8/MTurk/Topic111/\n",
            "  inflating: EASC/EASC-UTF-8/MTurk/Topic111/D0706.M.250.A.1.A  \n",
            "  inflating: EASC/EASC-UTF-8/MTurk/Topic111/D0706.M.250.A.2.B  \n",
            "  inflating: EASC/EASC-UTF-8/MTurk/Topic111/D0706.M.250.A.3.C  \n",
            "  inflating: EASC/EASC-UTF-8/MTurk/Topic111/D0706.M.250.A.4.D  \n",
            "  inflating: EASC/EASC-UTF-8/MTurk/Topic111/D0706.M.250.A.5.E  \n",
            "   creating: EASC/EASC-UTF-8/MTurk/Topic112/\n",
            "  inflating: EASC/EASC-UTF-8/MTurk/Topic112/D0707.M.250.A.1.A  \n",
            "  inflating: EASC/EASC-UTF-8/MTurk/Topic112/D0707.M.250.A.2.B  \n",
            "  inflating: EASC/EASC-UTF-8/MTurk/Topic112/D0707.M.250.A.3.C  \n",
            "  inflating: EASC/EASC-UTF-8/MTurk/Topic112/D0707.M.250.A.4.D  \n",
            "  inflating: EASC/EASC-UTF-8/MTurk/Topic112/D0707.M.250.A.5.E  \n",
            "   creating: EASC/EASC-UTF-8/MTurk/Topic113/\n",
            "  inflating: EASC/EASC-UTF-8/MTurk/Topic113/D0708.M.250.A.1.A  \n",
            "  inflating: EASC/EASC-UTF-8/MTurk/Topic113/D0708.M.250.A.2.B  \n",
            "  inflating: EASC/EASC-UTF-8/MTurk/Topic113/D0708.M.250.A.3.C  \n",
            "  inflating: EASC/EASC-UTF-8/MTurk/Topic113/D0708.M.250.A.4.D  \n",
            "  inflating: EASC/EASC-UTF-8/MTurk/Topic113/D0708.M.250.A.5.E  \n",
            "   creating: EASC/EASC-UTF-8/MTurk/Topic114/\n",
            "  inflating: EASC/EASC-UTF-8/MTurk/Topic114/D0801.M.250.A.1.A  \n",
            "  inflating: EASC/EASC-UTF-8/MTurk/Topic114/D0801.M.250.A.2.B  \n",
            "  inflating: EASC/EASC-UTF-8/MTurk/Topic114/D0801.M.250.A.3.C  \n",
            "  inflating: EASC/EASC-UTF-8/MTurk/Topic114/D0801.M.250.A.4.D  \n",
            "  inflating: EASC/EASC-UTF-8/MTurk/Topic114/D0801.M.250.A.5.E  \n",
            "   creating: EASC/EASC-UTF-8/MTurk/Topic115/\n",
            "  inflating: EASC/EASC-UTF-8/MTurk/Topic115/D0802.M.250.A.1.A  \n",
            "  inflating: EASC/EASC-UTF-8/MTurk/Topic115/D0802.M.250.A.2.B  \n",
            "  inflating: EASC/EASC-UTF-8/MTurk/Topic115/D0802.M.250.A.3.C  \n",
            "  inflating: EASC/EASC-UTF-8/MTurk/Topic115/D0802.M.250.A.4.D  \n",
            "  inflating: EASC/EASC-UTF-8/MTurk/Topic115/D0802.M.250.A.5.E  \n",
            "   creating: EASC/EASC-UTF-8/MTurk/Topic116/\n",
            "  inflating: EASC/EASC-UTF-8/MTurk/Topic116/D0803.M.250.A.1.A  \n",
            "  inflating: EASC/EASC-UTF-8/MTurk/Topic116/D0803.M.250.A.2.B  \n",
            "  inflating: EASC/EASC-UTF-8/MTurk/Topic116/D0803.M.250.A.3.C  \n",
            "  inflating: EASC/EASC-UTF-8/MTurk/Topic116/D0803.M.250.A.4.D  \n",
            "  inflating: EASC/EASC-UTF-8/MTurk/Topic116/D0803.M.250.A.5.E  \n",
            "   creating: EASC/EASC-UTF-8/MTurk/Topic117/\n",
            "  inflating: EASC/EASC-UTF-8/MTurk/Topic117/D0804.M.250.A.1.A  \n",
            "  inflating: EASC/EASC-UTF-8/MTurk/Topic117/D0804.M.250.A.2.B  \n",
            "  inflating: EASC/EASC-UTF-8/MTurk/Topic117/D0804.M.250.A.3.C  \n",
            "  inflating: EASC/EASC-UTF-8/MTurk/Topic117/D0804.M.250.A.4.D  \n",
            "  inflating: EASC/EASC-UTF-8/MTurk/Topic117/D0804.M.250.A.5.E  \n",
            "   creating: EASC/EASC-UTF-8/MTurk/Topic118/\n",
            "  inflating: EASC/EASC-UTF-8/MTurk/Topic118/D0805.M.250.A.1.A  \n",
            "  inflating: EASC/EASC-UTF-8/MTurk/Topic118/D0805.M.250.A.2.B  \n",
            "  inflating: EASC/EASC-UTF-8/MTurk/Topic118/D0805.M.250.A.3.C  \n",
            "  inflating: EASC/EASC-UTF-8/MTurk/Topic118/D0805.M.250.A.4.D  \n",
            "  inflating: EASC/EASC-UTF-8/MTurk/Topic118/D0805.M.250.A.5.E  \n",
            "   creating: EASC/EASC-UTF-8/MTurk/Topic119/\n",
            "  inflating: EASC/EASC-UTF-8/MTurk/Topic119/D0806.M.250.A.1.A  \n",
            "  inflating: EASC/EASC-UTF-8/MTurk/Topic119/D0806.M.250.A.2.B  \n",
            "  inflating: EASC/EASC-UTF-8/MTurk/Topic119/D0806.M.250.A.3.C  \n",
            "  inflating: EASC/EASC-UTF-8/MTurk/Topic119/D0806.M.250.A.4.D  \n",
            "  inflating: EASC/EASC-UTF-8/MTurk/Topic119/D0806.M.250.A.5.E  \n",
            "   creating: EASC/EASC-UTF-8/MTurk/Topic12/\n",
            "  inflating: EASC/EASC-UTF-8/MTurk/Topic12/D0202.M.250.A.1.A  \n",
            "  inflating: EASC/EASC-UTF-8/MTurk/Topic12/D0202.M.250.A.2.B  \n",
            "  inflating: EASC/EASC-UTF-8/MTurk/Topic12/D0202.M.250.A.3.C  \n",
            "  inflating: EASC/EASC-UTF-8/MTurk/Topic12/D0202.M.250.A.4.D  \n",
            "  inflating: EASC/EASC-UTF-8/MTurk/Topic12/D0202.M.250.A.5.E  \n",
            "   creating: EASC/EASC-UTF-8/MTurk/Topic120/\n",
            "  inflating: EASC/EASC-UTF-8/MTurk/Topic120/D0807.M.250.A.1.A  \n",
            "  inflating: EASC/EASC-UTF-8/MTurk/Topic120/D0807.M.250.A.2.B  \n",
            "  inflating: EASC/EASC-UTF-8/MTurk/Topic120/D0807.M.250.A.3.C  \n",
            "  inflating: EASC/EASC-UTF-8/MTurk/Topic120/D0807.M.250.A.4.D  \n",
            "  inflating: EASC/EASC-UTF-8/MTurk/Topic120/D0807.M.250.A.5.E  \n",
            "   creating: EASC/EASC-UTF-8/MTurk/Topic121/\n",
            "  inflating: EASC/EASC-UTF-8/MTurk/Topic121/D0808.M.250.A.1.A  \n",
            "  inflating: EASC/EASC-UTF-8/MTurk/Topic121/D0808.M.250.A.2.B  \n",
            "  inflating: EASC/EASC-UTF-8/MTurk/Topic121/D0808.M.250.A.3.C  \n",
            "  inflating: EASC/EASC-UTF-8/MTurk/Topic121/D0808.M.250.A.4.D  \n",
            "  inflating: EASC/EASC-UTF-8/MTurk/Topic121/D0808.M.250.A.5.E  \n",
            "   creating: EASC/EASC-UTF-8/MTurk/Topic122/\n",
            "  inflating: EASC/EASC-UTF-8/MTurk/Topic122/D0809.M.250.A.1.A  \n",
            "  inflating: EASC/EASC-UTF-8/MTurk/Topic122/D0809.M.250.A.2.B  \n",
            "  inflating: EASC/EASC-UTF-8/MTurk/Topic122/D0809.M.250.A.3.C  \n",
            "  inflating: EASC/EASC-UTF-8/MTurk/Topic122/D0809.M.250.A.4.D  \n",
            "  inflating: EASC/EASC-UTF-8/MTurk/Topic122/D0809.M.250.A.5.E  \n",
            "   creating: EASC/EASC-UTF-8/MTurk/Topic123/\n",
            "  inflating: EASC/EASC-UTF-8/MTurk/Topic123/D08010.M.250.A.1.A  \n",
            "  inflating: EASC/EASC-UTF-8/MTurk/Topic123/D08010.M.250.A.2.B  \n",
            "  inflating: EASC/EASC-UTF-8/MTurk/Topic123/D08010.M.250.A.3.C  \n",
            "  inflating: EASC/EASC-UTF-8/MTurk/Topic123/D08010.M.250.A.4.D  \n",
            "  inflating: EASC/EASC-UTF-8/MTurk/Topic123/D08010.M.250.A.5.E  \n",
            "   creating: EASC/EASC-UTF-8/MTurk/Topic124/\n",
            "  inflating: EASC/EASC-UTF-8/MTurk/Topic124/D08011.M.250.A.1.A  \n",
            "  inflating: EASC/EASC-UTF-8/MTurk/Topic124/D08011.M.250.A.2.B  \n",
            "  inflating: EASC/EASC-UTF-8/MTurk/Topic124/D08011.M.250.A.3.C  \n",
            "  inflating: EASC/EASC-UTF-8/MTurk/Topic124/D08011.M.250.A.4.D  \n",
            "  inflating: EASC/EASC-UTF-8/MTurk/Topic124/D08011.M.250.A.5.E  \n",
            "   creating: EASC/EASC-UTF-8/MTurk/Topic125/\n",
            "  inflating: EASC/EASC-UTF-8/MTurk/Topic125/D08012.M.250.A.1.A  \n",
            "  inflating: EASC/EASC-UTF-8/MTurk/Topic125/D08012.M.250.A.2.B  \n",
            "  inflating: EASC/EASC-UTF-8/MTurk/Topic125/D08012.M.250.A.3.C  \n",
            "  inflating: EASC/EASC-UTF-8/MTurk/Topic125/D08012.M.250.A.4.D  \n",
            "  inflating: EASC/EASC-UTF-8/MTurk/Topic125/D08012.M.250.A.5.E  \n",
            "   creating: EASC/EASC-UTF-8/MTurk/Topic126/\n",
            "  inflating: EASC/EASC-UTF-8/MTurk/Topic126/D08013.M.250.A.1.A  \n",
            "  inflating: EASC/EASC-UTF-8/MTurk/Topic126/D08013.M.250.A.2.B  \n",
            "  inflating: EASC/EASC-UTF-8/MTurk/Topic126/D08013.M.250.A.3.C  \n",
            "  inflating: EASC/EASC-UTF-8/MTurk/Topic126/D08013.M.250.A.4.D  \n",
            "  inflating: EASC/EASC-UTF-8/MTurk/Topic126/D08013.M.250.A.5.E  \n",
            "   creating: EASC/EASC-UTF-8/MTurk/Topic127/\n",
            "  inflating: EASC/EASC-UTF-8/MTurk/Topic127/D08014.M.250.A.1.A  \n",
            "  inflating: EASC/EASC-UTF-8/MTurk/Topic127/D08014.M.250.A.2.B  \n",
            "  inflating: EASC/EASC-UTF-8/MTurk/Topic127/D08014.M.250.A.3.C  \n",
            "  inflating: EASC/EASC-UTF-8/MTurk/Topic127/D08014.M.250.A.4.D  \n",
            "  inflating: EASC/EASC-UTF-8/MTurk/Topic127/D08014.M.250.A.5.E  \n",
            "   creating: EASC/EASC-UTF-8/MTurk/Topic128/\n",
            "  inflating: EASC/EASC-UTF-8/MTurk/Topic128/D08015.M.250.A.1.A  \n",
            "  inflating: EASC/EASC-UTF-8/MTurk/Topic128/D08015.M.250.A.2.B  \n",
            "  inflating: EASC/EASC-UTF-8/MTurk/Topic128/D08015.M.250.A.3.C  \n",
            "  inflating: EASC/EASC-UTF-8/MTurk/Topic128/D08015.M.250.A.4.D  \n",
            "  inflating: EASC/EASC-UTF-8/MTurk/Topic128/D08015.M.250.A.5.E  \n",
            "   creating: EASC/EASC-UTF-8/MTurk/Topic129/\n",
            "  inflating: EASC/EASC-UTF-8/MTurk/Topic129/D08016.M.250.A.1.A  \n",
            "  inflating: EASC/EASC-UTF-8/MTurk/Topic129/D08016.M.250.A.2.B  \n",
            "  inflating: EASC/EASC-UTF-8/MTurk/Topic129/D08016.M.250.A.3.C  \n",
            "  inflating: EASC/EASC-UTF-8/MTurk/Topic129/D08016.M.250.A.4.D  \n",
            "  inflating: EASC/EASC-UTF-8/MTurk/Topic129/D08016.M.250.A.5.E  \n",
            "   creating: EASC/EASC-UTF-8/MTurk/Topic13/\n",
            "  inflating: EASC/EASC-UTF-8/MTurk/Topic13/D0203.M.250.A.1.A  \n",
            "  inflating: EASC/EASC-UTF-8/MTurk/Topic13/D0203.M.250.A.2.B  \n",
            "  inflating: EASC/EASC-UTF-8/MTurk/Topic13/D0203.M.250.A.3.C  \n",
            "  inflating: EASC/EASC-UTF-8/MTurk/Topic13/D0203.M.250.A.4.D  \n",
            "  inflating: EASC/EASC-UTF-8/MTurk/Topic13/D0203.M.250.A.5.E  \n",
            "   creating: EASC/EASC-UTF-8/MTurk/Topic130/\n",
            "  inflating: EASC/EASC-UTF-8/MTurk/Topic130/D0901.M.250.A.1.A  \n",
            "  inflating: EASC/EASC-UTF-8/MTurk/Topic130/D0901.M.250.A.2.B  \n",
            "  inflating: EASC/EASC-UTF-8/MTurk/Topic130/D0901.M.250.A.3.C  \n",
            "  inflating: EASC/EASC-UTF-8/MTurk/Topic130/D0901.M.250.A.4.D  \n",
            "  inflating: EASC/EASC-UTF-8/MTurk/Topic130/D0901.M.250.A.5.E  \n",
            "   creating: EASC/EASC-UTF-8/MTurk/Topic131/\n",
            "  inflating: EASC/EASC-UTF-8/MTurk/Topic131/D0902.M.250.A.1.A  \n",
            "  inflating: EASC/EASC-UTF-8/MTurk/Topic131/D0902.M.250.A.2.B  \n",
            "  inflating: EASC/EASC-UTF-8/MTurk/Topic131/D0902.M.250.A.3.C  \n",
            "  inflating: EASC/EASC-UTF-8/MTurk/Topic131/D0902.M.250.A.4.D  \n",
            "  inflating: EASC/EASC-UTF-8/MTurk/Topic131/D0902.M.250.A.5.E  \n",
            "   creating: EASC/EASC-UTF-8/MTurk/Topic132/\n",
            "  inflating: EASC/EASC-UTF-8/MTurk/Topic132/D0903.M.250.A.1.A  \n",
            "  inflating: EASC/EASC-UTF-8/MTurk/Topic132/D0903.M.250.A.2.B  \n",
            "  inflating: EASC/EASC-UTF-8/MTurk/Topic132/D0903.M.250.A.3.C  \n",
            "  inflating: EASC/EASC-UTF-8/MTurk/Topic132/D0903.M.250.A.4.D  \n",
            "  inflating: EASC/EASC-UTF-8/MTurk/Topic132/D0903.M.250.A.5.E  \n",
            "   creating: EASC/EASC-UTF-8/MTurk/Topic133/\n",
            "  inflating: EASC/EASC-UTF-8/MTurk/Topic133/D0904.M.250.A.1.A  \n",
            "  inflating: EASC/EASC-UTF-8/MTurk/Topic133/D0904.M.250.A.2.B  \n",
            "  inflating: EASC/EASC-UTF-8/MTurk/Topic133/D0904.M.250.A.3.C  \n",
            "  inflating: EASC/EASC-UTF-8/MTurk/Topic133/D0904.M.250.A.4.D  \n",
            "  inflating: EASC/EASC-UTF-8/MTurk/Topic133/D0904.M.250.A.5.E  \n",
            "   creating: EASC/EASC-UTF-8/MTurk/Topic134/\n",
            "  inflating: EASC/EASC-UTF-8/MTurk/Topic134/D0905.M.250.A.1.A  \n",
            "  inflating: EASC/EASC-UTF-8/MTurk/Topic134/D0905.M.250.A.2.B  \n",
            "  inflating: EASC/EASC-UTF-8/MTurk/Topic134/D0905.M.250.A.3.C  \n",
            "  inflating: EASC/EASC-UTF-8/MTurk/Topic134/D0905.M.250.A.4.D  \n",
            "  inflating: EASC/EASC-UTF-8/MTurk/Topic134/D0905.M.250.A.5.E  \n",
            "   creating: EASC/EASC-UTF-8/MTurk/Topic135/\n",
            "  inflating: EASC/EASC-UTF-8/MTurk/Topic135/D0906.M.250.A.1.A  \n",
            "  inflating: EASC/EASC-UTF-8/MTurk/Topic135/D0906.M.250.A.2.B  \n",
            "  inflating: EASC/EASC-UTF-8/MTurk/Topic135/D0906.M.250.A.3.C  \n",
            "  inflating: EASC/EASC-UTF-8/MTurk/Topic135/D0906.M.250.A.4.D  \n",
            "  inflating: EASC/EASC-UTF-8/MTurk/Topic135/D0906.M.250.A.5.E  \n",
            "   creating: EASC/EASC-UTF-8/MTurk/Topic136/\n",
            "  inflating: EASC/EASC-UTF-8/MTurk/Topic136/D0907.M.250.A.1.A  \n",
            "  inflating: EASC/EASC-UTF-8/MTurk/Topic136/D0907.M.250.A.2.B  \n",
            "  inflating: EASC/EASC-UTF-8/MTurk/Topic136/D0907.M.250.A.3.C  \n",
            "  inflating: EASC/EASC-UTF-8/MTurk/Topic136/D0907.M.250.A.4.D  \n",
            "  inflating: EASC/EASC-UTF-8/MTurk/Topic136/D0907.M.250.A.5.E  \n",
            "   creating: EASC/EASC-UTF-8/MTurk/Topic137/\n",
            "  inflating: EASC/EASC-UTF-8/MTurk/Topic137/D0908.M.250.A.1.A  \n",
            "  inflating: EASC/EASC-UTF-8/MTurk/Topic137/D0908.M.250.A.2.B  \n",
            "  inflating: EASC/EASC-UTF-8/MTurk/Topic137/D0908.M.250.A.3.C  \n",
            "  inflating: EASC/EASC-UTF-8/MTurk/Topic137/D0908.M.250.A.4.D  \n",
            "  inflating: EASC/EASC-UTF-8/MTurk/Topic137/D0908.M.250.A.5.E  \n",
            "   creating: EASC/EASC-UTF-8/MTurk/Topic138/\n",
            "  inflating: EASC/EASC-UTF-8/MTurk/Topic138/D0909.M.250.A.1.A  \n",
            "  inflating: EASC/EASC-UTF-8/MTurk/Topic138/D0909.M.250.A.2.B  \n",
            "  inflating: EASC/EASC-UTF-8/MTurk/Topic138/D0909.M.250.A.3.C  \n",
            "  inflating: EASC/EASC-UTF-8/MTurk/Topic138/D0909.M.250.A.4.D  \n",
            "  inflating: EASC/EASC-UTF-8/MTurk/Topic138/D0909.M.250.A.5.E  \n",
            "   creating: EASC/EASC-UTF-8/MTurk/Topic139/\n",
            "  inflating: EASC/EASC-UTF-8/MTurk/Topic139/D09010.M.250.A.1.A  \n",
            "  inflating: EASC/EASC-UTF-8/MTurk/Topic139/D09010.M.250.A.2.B  \n",
            "  inflating: EASC/EASC-UTF-8/MTurk/Topic139/D09010.M.250.A.3.C  \n",
            "  inflating: EASC/EASC-UTF-8/MTurk/Topic139/D09010.M.250.A.4.D  \n",
            "  inflating: EASC/EASC-UTF-8/MTurk/Topic139/D09010.M.250.A.5.E  \n",
            "   creating: EASC/EASC-UTF-8/MTurk/Topic14/\n",
            "  inflating: EASC/EASC-UTF-8/MTurk/Topic14/D0204.M.250.A.1.A  \n",
            "  inflating: EASC/EASC-UTF-8/MTurk/Topic14/D0204.M.250.A.2.B  \n",
            "  inflating: EASC/EASC-UTF-8/MTurk/Topic14/D0204.M.250.A.3.C  \n",
            "  inflating: EASC/EASC-UTF-8/MTurk/Topic14/D0204.M.250.A.4.D  \n",
            "  inflating: EASC/EASC-UTF-8/MTurk/Topic14/D0204.M.250.A.5.E  \n",
            "   creating: EASC/EASC-UTF-8/MTurk/Topic140/\n",
            "  inflating: EASC/EASC-UTF-8/MTurk/Topic140/D01001.M.250.A.1.A  \n",
            "  inflating: EASC/EASC-UTF-8/MTurk/Topic140/D01001.M.250.A.2.B  \n",
            "  inflating: EASC/EASC-UTF-8/MTurk/Topic140/D01001.M.250.A.3.C  \n",
            "  inflating: EASC/EASC-UTF-8/MTurk/Topic140/D01001.M.250.A.4.D  \n",
            "  inflating: EASC/EASC-UTF-8/MTurk/Topic140/D01001.M.250.A.5.E  \n",
            "   creating: EASC/EASC-UTF-8/MTurk/Topic141/\n",
            "  inflating: EASC/EASC-UTF-8/MTurk/Topic141/D01002.M.250.A.1.A  \n",
            "  inflating: EASC/EASC-UTF-8/MTurk/Topic141/D01002.M.250.A.2.B  \n",
            "  inflating: EASC/EASC-UTF-8/MTurk/Topic141/D01002.M.250.A.3.C  \n",
            "  inflating: EASC/EASC-UTF-8/MTurk/Topic141/D01002.M.250.A.4.D  \n",
            "  inflating: EASC/EASC-UTF-8/MTurk/Topic141/D01002.M.250.A.5.E  \n",
            "   creating: EASC/EASC-UTF-8/MTurk/Topic142/\n",
            "  inflating: EASC/EASC-UTF-8/MTurk/Topic142/D01003.M.250.A.1.A  \n",
            "  inflating: EASC/EASC-UTF-8/MTurk/Topic142/D01003.M.250.A.2.B  \n",
            "  inflating: EASC/EASC-UTF-8/MTurk/Topic142/D01003.M.250.A.3.C  \n",
            "  inflating: EASC/EASC-UTF-8/MTurk/Topic142/D01003.M.250.A.4.D  \n",
            "  inflating: EASC/EASC-UTF-8/MTurk/Topic142/D01003.M.250.A.5.E  \n",
            "   creating: EASC/EASC-UTF-8/MTurk/Topic143/\n",
            "  inflating: EASC/EASC-UTF-8/MTurk/Topic143/D01004.M.250.A.1.A  \n",
            "  inflating: EASC/EASC-UTF-8/MTurk/Topic143/D01004.M.250.A.2.B  \n",
            "  inflating: EASC/EASC-UTF-8/MTurk/Topic143/D01004.M.250.A.3.C  \n",
            "  inflating: EASC/EASC-UTF-8/MTurk/Topic143/D01004.M.250.A.4.D  \n",
            "  inflating: EASC/EASC-UTF-8/MTurk/Topic143/D01004.M.250.A.5.E  \n",
            "   creating: EASC/EASC-UTF-8/MTurk/Topic144/\n",
            "  inflating: EASC/EASC-UTF-8/MTurk/Topic144/D01005.M.250.A.1.A  \n",
            "  inflating: EASC/EASC-UTF-8/MTurk/Topic144/D01005.M.250.A.2.B  \n",
            "  inflating: EASC/EASC-UTF-8/MTurk/Topic144/D01005.M.250.A.3.C  \n",
            "  inflating: EASC/EASC-UTF-8/MTurk/Topic144/D01005.M.250.A.4.D  \n",
            "  inflating: EASC/EASC-UTF-8/MTurk/Topic144/D01005.M.250.A.5.E  \n",
            "   creating: EASC/EASC-UTF-8/MTurk/Topic145/\n",
            "  inflating: EASC/EASC-UTF-8/MTurk/Topic145/D01006.M.250.A.1.A  \n",
            "  inflating: EASC/EASC-UTF-8/MTurk/Topic145/D01006.M.250.A.2.B  \n",
            "  inflating: EASC/EASC-UTF-8/MTurk/Topic145/D01006.M.250.A.3.C  \n",
            "  inflating: EASC/EASC-UTF-8/MTurk/Topic145/D01006.M.250.A.4.D  \n",
            "  inflating: EASC/EASC-UTF-8/MTurk/Topic145/D01006.M.250.A.5.E  \n",
            "   creating: EASC/EASC-UTF-8/MTurk/Topic146/\n",
            "  inflating: EASC/EASC-UTF-8/MTurk/Topic146/D01007.M.250.A.1.A  \n",
            "  inflating: EASC/EASC-UTF-8/MTurk/Topic146/D01007.M.250.A.2.B  \n",
            "  inflating: EASC/EASC-UTF-8/MTurk/Topic146/D01007.M.250.A.3.C  \n",
            "  inflating: EASC/EASC-UTF-8/MTurk/Topic146/D01007.M.250.A.4.D  \n",
            "  inflating: EASC/EASC-UTF-8/MTurk/Topic146/D01007.M.250.A.5.E  \n",
            "   creating: EASC/EASC-UTF-8/MTurk/Topic147/\n",
            "  inflating: EASC/EASC-UTF-8/MTurk/Topic147/D01008.M.250.A.1.A  \n",
            "  inflating: EASC/EASC-UTF-8/MTurk/Topic147/D01008.M.250.A.2.B  \n",
            "  inflating: EASC/EASC-UTF-8/MTurk/Topic147/D01008.M.250.A.3.C  \n",
            "  inflating: EASC/EASC-UTF-8/MTurk/Topic147/D01008.M.250.A.4.D  \n",
            "  inflating: EASC/EASC-UTF-8/MTurk/Topic147/D01008.M.250.A.5.E  \n",
            "   creating: EASC/EASC-UTF-8/MTurk/Topic148/\n",
            "  inflating: EASC/EASC-UTF-8/MTurk/Topic148/D01009.M.250.A.1.A  \n",
            "  inflating: EASC/EASC-UTF-8/MTurk/Topic148/D01009.M.250.A.2.B  \n",
            "  inflating: EASC/EASC-UTF-8/MTurk/Topic148/D01009.M.250.A.3.C  \n",
            "  inflating: EASC/EASC-UTF-8/MTurk/Topic148/D01009.M.250.A.4.D  \n",
            "  inflating: EASC/EASC-UTF-8/MTurk/Topic148/D01009.M.250.A.5.E  \n",
            "   creating: EASC/EASC-UTF-8/MTurk/Topic149/\n",
            "  inflating: EASC/EASC-UTF-8/MTurk/Topic149/D010010.M.250.A.1.A  \n",
            "  inflating: EASC/EASC-UTF-8/MTurk/Topic149/D010010.M.250.A.2.B  \n",
            "  inflating: EASC/EASC-UTF-8/MTurk/Topic149/D010010.M.250.A.3.C  \n",
            "  inflating: EASC/EASC-UTF-8/MTurk/Topic149/D010010.M.250.A.4.D  \n",
            "  inflating: EASC/EASC-UTF-8/MTurk/Topic149/D010010.M.250.A.5.E  \n",
            "   creating: EASC/EASC-UTF-8/MTurk/Topic15/\n",
            "  inflating: EASC/EASC-UTF-8/MTurk/Topic15/D0205.M.250.A.1.A  \n",
            "  inflating: EASC/EASC-UTF-8/MTurk/Topic15/D0205.M.250.A.2.B  \n",
            "  inflating: EASC/EASC-UTF-8/MTurk/Topic15/D0205.M.250.A.3.C  \n",
            "  inflating: EASC/EASC-UTF-8/MTurk/Topic15/D0205.M.250.A.4.D  \n",
            "  inflating: EASC/EASC-UTF-8/MTurk/Topic15/D0205.M.250.A.5.E  \n",
            "   creating: EASC/EASC-UTF-8/MTurk/Topic150/\n",
            "  inflating: EASC/EASC-UTF-8/MTurk/Topic150/D010011.M.250.A.1.A  \n",
            "  inflating: EASC/EASC-UTF-8/MTurk/Topic150/D010011.M.250.A.2.B  \n",
            "  inflating: EASC/EASC-UTF-8/MTurk/Topic150/D010011.M.250.A.3.C  \n",
            "  inflating: EASC/EASC-UTF-8/MTurk/Topic150/D010011.M.250.A.4.D  \n",
            "  inflating: EASC/EASC-UTF-8/MTurk/Topic150/D010011.M.250.A.5.E  \n",
            "   creating: EASC/EASC-UTF-8/MTurk/Topic151/\n",
            "  inflating: EASC/EASC-UTF-8/MTurk/Topic151/D010012.M.250.A.1.A  \n",
            "  inflating: EASC/EASC-UTF-8/MTurk/Topic151/D010012.M.250.A.2.B  \n",
            "  inflating: EASC/EASC-UTF-8/MTurk/Topic151/D010012.M.250.A.3.C  \n",
            "  inflating: EASC/EASC-UTF-8/MTurk/Topic151/D010012.M.250.A.4.D  \n",
            "  inflating: EASC/EASC-UTF-8/MTurk/Topic151/D010012.M.250.A.5.E  \n",
            "   creating: EASC/EASC-UTF-8/MTurk/Topic152/\n",
            "  inflating: EASC/EASC-UTF-8/MTurk/Topic152/D010013.M.250.A.1.A  \n",
            "  inflating: EASC/EASC-UTF-8/MTurk/Topic152/D010013.M.250.A.2.B  \n",
            "  inflating: EASC/EASC-UTF-8/MTurk/Topic152/D010013.M.250.A.3.C  \n",
            "  inflating: EASC/EASC-UTF-8/MTurk/Topic152/D010013.M.250.A.4.D  \n",
            "  inflating: EASC/EASC-UTF-8/MTurk/Topic152/D010013.M.250.A.5.E  \n",
            "   creating: EASC/EASC-UTF-8/MTurk/Topic153/\n",
            "  inflating: EASC/EASC-UTF-8/MTurk/Topic153/D010014.M.250.A.1.A  \n",
            "  inflating: EASC/EASC-UTF-8/MTurk/Topic153/D010014.M.250.A.2.B  \n",
            "  inflating: EASC/EASC-UTF-8/MTurk/Topic153/D010014.M.250.A.3.C  \n",
            "  inflating: EASC/EASC-UTF-8/MTurk/Topic153/D010014.M.250.A.4.D  \n",
            "  inflating: EASC/EASC-UTF-8/MTurk/Topic153/D010014.M.250.A.5.E  \n",
            "   creating: EASC/EASC-UTF-8/MTurk/Topic16/\n",
            "  inflating: EASC/EASC-UTF-8/MTurk/Topic16/D0206.M.250.A.1.A  \n",
            "  inflating: EASC/EASC-UTF-8/MTurk/Topic16/D0206.M.250.A.2.B  \n",
            "  inflating: EASC/EASC-UTF-8/MTurk/Topic16/D0206.M.250.A.3.C  \n",
            "  inflating: EASC/EASC-UTF-8/MTurk/Topic16/D0206.M.250.A.4.D  \n",
            "  inflating: EASC/EASC-UTF-8/MTurk/Topic16/D0206.M.250.A.5.E  \n",
            "   creating: EASC/EASC-UTF-8/MTurk/Topic17/\n",
            "  inflating: EASC/EASC-UTF-8/MTurk/Topic17/D0207.M.250.A.1.A  \n",
            "  inflating: EASC/EASC-UTF-8/MTurk/Topic17/D0207.M.250.A.2.B  \n",
            "  inflating: EASC/EASC-UTF-8/MTurk/Topic17/D0207.M.250.A.3.C  \n",
            "  inflating: EASC/EASC-UTF-8/MTurk/Topic17/D0207.M.250.A.4.D  \n",
            "  inflating: EASC/EASC-UTF-8/MTurk/Topic17/D0207.M.250.A.5.E  \n",
            "   creating: EASC/EASC-UTF-8/MTurk/Topic18/\n",
            "  inflating: EASC/EASC-UTF-8/MTurk/Topic18/D0301.M.250.A.1.A  \n",
            "  inflating: EASC/EASC-UTF-8/MTurk/Topic18/D0301.M.250.A.2.B  \n",
            "  inflating: EASC/EASC-UTF-8/MTurk/Topic18/D0301.M.250.A.3.C  \n",
            "  inflating: EASC/EASC-UTF-8/MTurk/Topic18/D0301.M.250.A.4.D  \n",
            "  inflating: EASC/EASC-UTF-8/MTurk/Topic18/D0301.M.250.A.5.E  \n",
            "   creating: EASC/EASC-UTF-8/MTurk/Topic19/\n",
            "  inflating: EASC/EASC-UTF-8/MTurk/Topic19/D0303.M.250.A.1.A  \n",
            "  inflating: EASC/EASC-UTF-8/MTurk/Topic19/D0303.M.250.A.2.B  \n",
            "  inflating: EASC/EASC-UTF-8/MTurk/Topic19/D0303.M.250.A.3.C  \n",
            "  inflating: EASC/EASC-UTF-8/MTurk/Topic19/D0303.M.250.A.4.D  \n",
            "  inflating: EASC/EASC-UTF-8/MTurk/Topic19/D0303.M.250.A.5.E  \n",
            "   creating: EASC/EASC-UTF-8/MTurk/Topic2/\n",
            "  inflating: EASC/EASC-UTF-8/MTurk/Topic2/D0102.M.250.A.1.A  \n",
            "  inflating: EASC/EASC-UTF-8/MTurk/Topic2/D0102.M.250.A.2.B  \n",
            "  inflating: EASC/EASC-UTF-8/MTurk/Topic2/D0102.M.250.A.3.C  \n",
            "  inflating: EASC/EASC-UTF-8/MTurk/Topic2/D0102.M.250.A.4.D  \n",
            "  inflating: EASC/EASC-UTF-8/MTurk/Topic2/D0102.M.250.A.5.E  \n",
            "   creating: EASC/EASC-UTF-8/MTurk/Topic20/\n",
            "  inflating: EASC/EASC-UTF-8/MTurk/Topic20/D0304.M.250.A.1.A  \n",
            "  inflating: EASC/EASC-UTF-8/MTurk/Topic20/D0304.M.250.A.2.B  \n",
            "  inflating: EASC/EASC-UTF-8/MTurk/Topic20/D0304.M.250.A.3.C  \n",
            "  inflating: EASC/EASC-UTF-8/MTurk/Topic20/D0304.M.250.A.4.D  \n",
            "  inflating: EASC/EASC-UTF-8/MTurk/Topic20/D0304.M.250.A.5.E  \n",
            "   creating: EASC/EASC-UTF-8/MTurk/Topic21/\n",
            "  inflating: EASC/EASC-UTF-8/MTurk/Topic21/D0305.M.250.A.1.A  \n",
            "  inflating: EASC/EASC-UTF-8/MTurk/Topic21/D0305.M.250.A.2.B  \n",
            "  inflating: EASC/EASC-UTF-8/MTurk/Topic21/D0305.M.250.A.3.C  \n",
            "  inflating: EASC/EASC-UTF-8/MTurk/Topic21/D0305.M.250.A.4.D  \n",
            "  inflating: EASC/EASC-UTF-8/MTurk/Topic21/D0305.M.250.A.5.E  \n",
            "   creating: EASC/EASC-UTF-8/MTurk/Topic22/\n",
            "  inflating: EASC/EASC-UTF-8/MTurk/Topic22/D0306.M.250.A.1.A  \n",
            "  inflating: EASC/EASC-UTF-8/MTurk/Topic22/D0306.M.250.A.2.B  \n",
            "  inflating: EASC/EASC-UTF-8/MTurk/Topic22/D0306.M.250.A.3.C  \n",
            "  inflating: EASC/EASC-UTF-8/MTurk/Topic22/D0306.M.250.A.4.D  \n",
            "  inflating: EASC/EASC-UTF-8/MTurk/Topic22/D0306.M.250.A.5.E  \n",
            "   creating: EASC/EASC-UTF-8/MTurk/Topic23/\n",
            "  inflating: EASC/EASC-UTF-8/MTurk/Topic23/D0307.M.250.A.1.A  \n",
            "  inflating: EASC/EASC-UTF-8/MTurk/Topic23/D0307.M.250.A.2.B  \n",
            "  inflating: EASC/EASC-UTF-8/MTurk/Topic23/D0307.M.250.A.3.C  \n",
            "  inflating: EASC/EASC-UTF-8/MTurk/Topic23/D0307.M.250.A.4.D  \n",
            "  inflating: EASC/EASC-UTF-8/MTurk/Topic23/D0307.M.250.A.5.E  \n",
            "   creating: EASC/EASC-UTF-8/MTurk/Topic24/\n",
            "  inflating: EASC/EASC-UTF-8/MTurk/Topic24/D0308.M.250.A.1.A  \n",
            "  inflating: EASC/EASC-UTF-8/MTurk/Topic24/D0308.M.250.A.2.B  \n",
            "  inflating: EASC/EASC-UTF-8/MTurk/Topic24/D0308.M.250.A.3.C  \n",
            "  inflating: EASC/EASC-UTF-8/MTurk/Topic24/D0308.M.250.A.4.D  \n",
            "  inflating: EASC/EASC-UTF-8/MTurk/Topic24/D0308.M.250.A.5.E  \n",
            "   creating: EASC/EASC-UTF-8/MTurk/Topic25/\n",
            "  inflating: EASC/EASC-UTF-8/MTurk/Topic25/D0309.M.250.A.1.A  \n",
            "  inflating: EASC/EASC-UTF-8/MTurk/Topic25/D0309.M.250.A.2.B  \n",
            "  inflating: EASC/EASC-UTF-8/MTurk/Topic25/D0309.M.250.A.3.C  \n",
            "  inflating: EASC/EASC-UTF-8/MTurk/Topic25/D0309.M.250.A.4.D  \n",
            "  inflating: EASC/EASC-UTF-8/MTurk/Topic25/D0309.M.250.A.5.E  \n",
            "   creating: EASC/EASC-UTF-8/MTurk/Topic26/\n",
            "  inflating: EASC/EASC-UTF-8/MTurk/Topic26/D03010.M.250.A.1.A  \n",
            "  inflating: EASC/EASC-UTF-8/MTurk/Topic26/D03010.M.250.A.2.B  \n",
            "  inflating: EASC/EASC-UTF-8/MTurk/Topic26/D03010.M.250.A.3.C  \n",
            "  inflating: EASC/EASC-UTF-8/MTurk/Topic26/D03010.M.250.A.4.D  \n",
            "  inflating: EASC/EASC-UTF-8/MTurk/Topic26/D03010.M.250.A.5.E  \n",
            "   creating: EASC/EASC-UTF-8/MTurk/Topic27/\n",
            "  inflating: EASC/EASC-UTF-8/MTurk/Topic27/D03011.M.250.A.1.A  \n",
            "  inflating: EASC/EASC-UTF-8/MTurk/Topic27/D03011.M.250.A.2.B  \n",
            "  inflating: EASC/EASC-UTF-8/MTurk/Topic27/D03011.M.250.A.3.C  \n",
            "  inflating: EASC/EASC-UTF-8/MTurk/Topic27/D03011.M.250.A.4.D  \n",
            "  inflating: EASC/EASC-UTF-8/MTurk/Topic27/D03011.M.250.A.5.E  \n",
            "   creating: EASC/EASC-UTF-8/MTurk/Topic28/\n",
            "  inflating: EASC/EASC-UTF-8/MTurk/Topic28/D03012.M.250.A.1.A  \n",
            "  inflating: EASC/EASC-UTF-8/MTurk/Topic28/D03012.M.250.A.2.B  \n",
            "  inflating: EASC/EASC-UTF-8/MTurk/Topic28/D03012.M.250.A.3.C  \n",
            "  inflating: EASC/EASC-UTF-8/MTurk/Topic28/D03012.M.250.A.4.D  \n",
            "  inflating: EASC/EASC-UTF-8/MTurk/Topic28/D03012.M.250.A.5.E  \n",
            "   creating: EASC/EASC-UTF-8/MTurk/Topic29/\n",
            "  inflating: EASC/EASC-UTF-8/MTurk/Topic29/D03013.M.250.A.1.A  \n",
            "  inflating: EASC/EASC-UTF-8/MTurk/Topic29/D03013.M.250.A.2.B  \n",
            "  inflating: EASC/EASC-UTF-8/MTurk/Topic29/D03013.M.250.A.3.C  \n",
            "  inflating: EASC/EASC-UTF-8/MTurk/Topic29/D03013.M.250.A.4.D  \n",
            "  inflating: EASC/EASC-UTF-8/MTurk/Topic29/D03013.M.250.A.5.E  \n",
            "   creating: EASC/EASC-UTF-8/MTurk/Topic3/\n",
            "  inflating: EASC/EASC-UTF-8/MTurk/Topic3/D0103.M.250.A.1.A  \n",
            "  inflating: EASC/EASC-UTF-8/MTurk/Topic3/D0103.M.250.A.2.B  \n",
            "  inflating: EASC/EASC-UTF-8/MTurk/Topic3/D0103.M.250.A.3.C  \n",
            "  inflating: EASC/EASC-UTF-8/MTurk/Topic3/D0103.M.250.A.4.D  \n",
            "  inflating: EASC/EASC-UTF-8/MTurk/Topic3/D0103.M.250.A.5.E  \n",
            "   creating: EASC/EASC-UTF-8/MTurk/Topic30/\n",
            "  inflating: EASC/EASC-UTF-8/MTurk/Topic30/D03014.M.250.A.1.A  \n",
            "  inflating: EASC/EASC-UTF-8/MTurk/Topic30/D03014.M.250.A.2.B  \n",
            "  inflating: EASC/EASC-UTF-8/MTurk/Topic30/D03014.M.250.A.3.C  \n",
            "  inflating: EASC/EASC-UTF-8/MTurk/Topic30/D03014.M.250.A.4.D  \n",
            "  inflating: EASC/EASC-UTF-8/MTurk/Topic30/D03014.M.250.A.5.E  \n",
            "   creating: EASC/EASC-UTF-8/MTurk/Topic31/\n",
            "  inflating: EASC/EASC-UTF-8/MTurk/Topic31/D03015.M.250.A.1.A  \n",
            "  inflating: EASC/EASC-UTF-8/MTurk/Topic31/D03015.M.250.A.2.B  \n",
            "  inflating: EASC/EASC-UTF-8/MTurk/Topic31/D03015.M.250.A.3.C  \n",
            "  inflating: EASC/EASC-UTF-8/MTurk/Topic31/D03015.M.250.A.4.D  \n",
            "  inflating: EASC/EASC-UTF-8/MTurk/Topic31/D03015.M.250.A.5.E  \n",
            "   creating: EASC/EASC-UTF-8/MTurk/Topic32/\n",
            "  inflating: EASC/EASC-UTF-8/MTurk/Topic32/D03016.M.250.A.1.A  \n",
            "  inflating: EASC/EASC-UTF-8/MTurk/Topic32/D03016.M.250.A.2.B  \n",
            "  inflating: EASC/EASC-UTF-8/MTurk/Topic32/D03016.M.250.A.3.C  \n",
            "  inflating: EASC/EASC-UTF-8/MTurk/Topic32/D03016.M.250.A.4.D  \n",
            "  inflating: EASC/EASC-UTF-8/MTurk/Topic32/D03016.M.250.A.5.E  \n",
            "   creating: EASC/EASC-UTF-8/MTurk/Topic33/\n",
            "  inflating: EASC/EASC-UTF-8/MTurk/Topic33/D03017.M.250.A.1.A  \n",
            "  inflating: EASC/EASC-UTF-8/MTurk/Topic33/D03017.M.250.A.2.B  \n",
            "  inflating: EASC/EASC-UTF-8/MTurk/Topic33/D03017.M.250.A.3.C  \n",
            "  inflating: EASC/EASC-UTF-8/MTurk/Topic33/D03017.M.250.A.4.D  \n",
            "  inflating: EASC/EASC-UTF-8/MTurk/Topic33/D03017.M.250.A.5.E  \n",
            "   creating: EASC/EASC-UTF-8/MTurk/Topic34/\n",
            "  inflating: EASC/EASC-UTF-8/MTurk/Topic34/D03018.M.250.A.1.A  \n",
            "  inflating: EASC/EASC-UTF-8/MTurk/Topic34/D03018.M.250.A.2.B  \n",
            "  inflating: EASC/EASC-UTF-8/MTurk/Topic34/D03018.M.250.A.3.C  \n",
            "  inflating: EASC/EASC-UTF-8/MTurk/Topic34/D03018.M.250.A.4.D  \n",
            "  inflating: EASC/EASC-UTF-8/MTurk/Topic34/D03018.M.250.A.5.E  \n",
            "   creating: EASC/EASC-UTF-8/MTurk/Topic35/\n",
            "  inflating: EASC/EASC-UTF-8/MTurk/Topic35/D03019.M.250.A.1.A  \n",
            "  inflating: EASC/EASC-UTF-8/MTurk/Topic35/D03019.M.250.A.2.B  \n",
            "  inflating: EASC/EASC-UTF-8/MTurk/Topic35/D03019.M.250.A.3.C  \n",
            "  inflating: EASC/EASC-UTF-8/MTurk/Topic35/D03019.M.250.A.4.D  \n",
            "  inflating: EASC/EASC-UTF-8/MTurk/Topic35/D03019.M.250.A.5.E  \n",
            "   creating: EASC/EASC-UTF-8/MTurk/Topic36/\n",
            "  inflating: EASC/EASC-UTF-8/MTurk/Topic36/D03020.M.250.A.1.A  \n",
            "  inflating: EASC/EASC-UTF-8/MTurk/Topic36/D03020.M.250.A.2.B  \n",
            "  inflating: EASC/EASC-UTF-8/MTurk/Topic36/D03020.M.250.A.3.C  \n",
            "  inflating: EASC/EASC-UTF-8/MTurk/Topic36/D03020.M.250.A.4.D  \n",
            "  inflating: EASC/EASC-UTF-8/MTurk/Topic36/D03020.M.250.A.5.E  \n",
            "   creating: EASC/EASC-UTF-8/MTurk/Topic37/\n",
            "  inflating: EASC/EASC-UTF-8/MTurk/Topic37/D03021.M.250.A.1.A  \n",
            "  inflating: EASC/EASC-UTF-8/MTurk/Topic37/D03021.M.250.A.2.B  \n",
            "  inflating: EASC/EASC-UTF-8/MTurk/Topic37/D03021.M.250.A.3.C  \n",
            "  inflating: EASC/EASC-UTF-8/MTurk/Topic37/D03021.M.250.A.4.D  \n",
            "  inflating: EASC/EASC-UTF-8/MTurk/Topic37/D03021.M.250.A.5.E  \n",
            "   creating: EASC/EASC-UTF-8/MTurk/Topic38/\n",
            "  inflating: EASC/EASC-UTF-8/MTurk/Topic38/D03022.M.250.A.1.A  \n",
            "  inflating: EASC/EASC-UTF-8/MTurk/Topic38/D03022.M.250.A.2.B  \n",
            "  inflating: EASC/EASC-UTF-8/MTurk/Topic38/D03022.M.250.A.3.C  \n",
            "  inflating: EASC/EASC-UTF-8/MTurk/Topic38/D03022.M.250.A.4.D  \n",
            "  inflating: EASC/EASC-UTF-8/MTurk/Topic38/D03022.M.250.A.5.E  \n",
            "   creating: EASC/EASC-UTF-8/MTurk/Topic39/\n",
            "  inflating: EASC/EASC-UTF-8/MTurk/Topic39/D03023.M.250.A.1.A  \n",
            "  inflating: EASC/EASC-UTF-8/MTurk/Topic39/D03023.M.250.A.2.B  \n",
            "  inflating: EASC/EASC-UTF-8/MTurk/Topic39/D03023.M.250.A.3.C  \n",
            "  inflating: EASC/EASC-UTF-8/MTurk/Topic39/D03023.M.250.A.4.D  \n",
            "  inflating: EASC/EASC-UTF-8/MTurk/Topic39/D03023.M.250.A.5.E  \n",
            "   creating: EASC/EASC-UTF-8/MTurk/Topic4/\n",
            "  inflating: EASC/EASC-UTF-8/MTurk/Topic4/D0104.M.250.A.1.A  \n",
            "  inflating: EASC/EASC-UTF-8/MTurk/Topic4/D0104.M.250.A.2.B  \n",
            "  inflating: EASC/EASC-UTF-8/MTurk/Topic4/D0104.M.250.A.3.C  \n",
            "  inflating: EASC/EASC-UTF-8/MTurk/Topic4/D0104.M.250.A.4.D  \n",
            "  inflating: EASC/EASC-UTF-8/MTurk/Topic4/D0104.M.250.A.5.E  \n",
            "   creating: EASC/EASC-UTF-8/MTurk/Topic40/\n",
            "  inflating: EASC/EASC-UTF-8/MTurk/Topic40/D03024.M.250.A.1.A  \n",
            "  inflating: EASC/EASC-UTF-8/MTurk/Topic40/D03024.M.250.A.2.B  \n",
            "  inflating: EASC/EASC-UTF-8/MTurk/Topic40/D03024.M.250.A.3.C  \n",
            "  inflating: EASC/EASC-UTF-8/MTurk/Topic40/D03024.M.250.A.4.D  \n",
            "  inflating: EASC/EASC-UTF-8/MTurk/Topic40/D03024.M.250.A.5.E  \n",
            "   creating: EASC/EASC-UTF-8/MTurk/Topic41/\n",
            "  inflating: EASC/EASC-UTF-8/MTurk/Topic41/D03025.M.250.A.1.A  \n",
            "  inflating: EASC/EASC-UTF-8/MTurk/Topic41/D03025.M.250.A.2.B  \n",
            "  inflating: EASC/EASC-UTF-8/MTurk/Topic41/D03025.M.250.A.3.C  \n",
            "  inflating: EASC/EASC-UTF-8/MTurk/Topic41/D03025.M.250.A.4.D  \n",
            "  inflating: EASC/EASC-UTF-8/MTurk/Topic41/D03025.M.250.A.5.E  \n",
            "   creating: EASC/EASC-UTF-8/MTurk/Topic42/\n",
            "  inflating: EASC/EASC-UTF-8/MTurk/Topic42/D03026.M.250.A.1.A  \n",
            "  inflating: EASC/EASC-UTF-8/MTurk/Topic42/D03026.M.250.A.2.B  \n",
            "  inflating: EASC/EASC-UTF-8/MTurk/Topic42/D03026.M.250.A.3.C  \n",
            "  inflating: EASC/EASC-UTF-8/MTurk/Topic42/D03026.M.250.A.4.D  \n",
            "  inflating: EASC/EASC-UTF-8/MTurk/Topic42/D03026.M.250.A.5.E  \n",
            "   creating: EASC/EASC-UTF-8/MTurk/Topic43/\n",
            "  inflating: EASC/EASC-UTF-8/MTurk/Topic43/D03027.M.250.A.1.A  \n",
            "  inflating: EASC/EASC-UTF-8/MTurk/Topic43/D03027.M.250.A.2.B  \n",
            "  inflating: EASC/EASC-UTF-8/MTurk/Topic43/D03027.M.250.A.3.C  \n",
            "  inflating: EASC/EASC-UTF-8/MTurk/Topic43/D03027.M.250.A.4.D  \n",
            "  inflating: EASC/EASC-UTF-8/MTurk/Topic43/D03027.M.250.A.5.E  \n",
            "   creating: EASC/EASC-UTF-8/MTurk/Topic44/\n",
            "  inflating: EASC/EASC-UTF-8/MTurk/Topic44/D03028.M.250.A.1.A  \n",
            "  inflating: EASC/EASC-UTF-8/MTurk/Topic44/D03028.M.250.A.2.B  \n",
            "  inflating: EASC/EASC-UTF-8/MTurk/Topic44/D03028.M.250.A.3.C  \n",
            "  inflating: EASC/EASC-UTF-8/MTurk/Topic44/D03028.M.250.A.4.D  \n",
            "  inflating: EASC/EASC-UTF-8/MTurk/Topic44/D03028.M.250.A.5.E  \n",
            "   creating: EASC/EASC-UTF-8/MTurk/Topic45/\n",
            "  inflating: EASC/EASC-UTF-8/MTurk/Topic45/D03029.M.250.A.1.A  \n",
            "  inflating: EASC/EASC-UTF-8/MTurk/Topic45/D03029.M.250.A.2.B  \n",
            "  inflating: EASC/EASC-UTF-8/MTurk/Topic45/D03029.M.250.A.3.C  \n",
            "  inflating: EASC/EASC-UTF-8/MTurk/Topic45/D03029.M.250.A.4.D  \n",
            "  inflating: EASC/EASC-UTF-8/MTurk/Topic45/D03029.M.250.A.5.E  \n",
            "   creating: EASC/EASC-UTF-8/MTurk/Topic46/\n",
            "  inflating: EASC/EASC-UTF-8/MTurk/Topic46/D03030.M.250.A.1.A  \n",
            "  inflating: EASC/EASC-UTF-8/MTurk/Topic46/D03030.M.250.A.2.B  \n",
            "  inflating: EASC/EASC-UTF-8/MTurk/Topic46/D03030.M.250.A.3.C  \n",
            "  inflating: EASC/EASC-UTF-8/MTurk/Topic46/D03030.M.250.A.4.D  \n",
            "  inflating: EASC/EASC-UTF-8/MTurk/Topic46/D03030.M.250.A.5.E  \n",
            "   creating: EASC/EASC-UTF-8/MTurk/Topic47/\n",
            "  inflating: EASC/EASC-UTF-8/MTurk/Topic47/D03031.M.250.A.1.A  \n",
            "  inflating: EASC/EASC-UTF-8/MTurk/Topic47/D03031.M.250.A.2.B  \n",
            "  inflating: EASC/EASC-UTF-8/MTurk/Topic47/D03031.M.250.A.3.C  \n",
            "  inflating: EASC/EASC-UTF-8/MTurk/Topic47/D03031.M.250.A.4.D  \n",
            "  inflating: EASC/EASC-UTF-8/MTurk/Topic47/D03031.M.250.A.5.E  \n",
            "   creating: EASC/EASC-UTF-8/MTurk/Topic48/\n",
            "  inflating: EASC/EASC-UTF-8/MTurk/Topic48/D03032.M.250.A.1.A  \n",
            "  inflating: EASC/EASC-UTF-8/MTurk/Topic48/D03032.M.250.A.2.B  \n",
            "  inflating: EASC/EASC-UTF-8/MTurk/Topic48/D03032.M.250.A.3.C  \n",
            "  inflating: EASC/EASC-UTF-8/MTurk/Topic48/D03032.M.250.A.4.D  \n",
            "  inflating: EASC/EASC-UTF-8/MTurk/Topic48/D03032.M.250.A.5.E  \n",
            "   creating: EASC/EASC-UTF-8/MTurk/Topic49/\n",
            "  inflating: EASC/EASC-UTF-8/MTurk/Topic49/D03033.M.250.A.1.A  \n",
            "  inflating: EASC/EASC-UTF-8/MTurk/Topic49/D03033.M.250.A.2.B  \n",
            "  inflating: EASC/EASC-UTF-8/MTurk/Topic49/D03033.M.250.A.3.C  \n",
            "  inflating: EASC/EASC-UTF-8/MTurk/Topic49/D03033.M.250.A.4.D  \n",
            "  inflating: EASC/EASC-UTF-8/MTurk/Topic49/D03033.M.250.A.5.E  \n",
            "   creating: EASC/EASC-UTF-8/MTurk/Topic5/\n",
            "  inflating: EASC/EASC-UTF-8/MTurk/Topic5/D0105.M.250.A.1.A  \n",
            "  inflating: EASC/EASC-UTF-8/MTurk/Topic5/D0105.M.250.A.2.B  \n",
            "  inflating: EASC/EASC-UTF-8/MTurk/Topic5/D0105.M.250.A.3.C  \n",
            "  inflating: EASC/EASC-UTF-8/MTurk/Topic5/D0105.M.250.A.4.D  \n",
            "  inflating: EASC/EASC-UTF-8/MTurk/Topic5/D0105.M.250.A.5.E  \n",
            "   creating: EASC/EASC-UTF-8/MTurk/Topic50/\n",
            "  inflating: EASC/EASC-UTF-8/MTurk/Topic50/D03034.M.250.A.1.A  \n",
            "  inflating: EASC/EASC-UTF-8/MTurk/Topic50/D03034.M.250.A.2.B  \n",
            "  inflating: EASC/EASC-UTF-8/MTurk/Topic50/D03034.M.250.A.3.C  \n",
            "  inflating: EASC/EASC-UTF-8/MTurk/Topic50/D03034.M.250.A.4.D  \n",
            "  inflating: EASC/EASC-UTF-8/MTurk/Topic50/D03034.M.250.A.5.E  \n",
            "   creating: EASC/EASC-UTF-8/MTurk/Topic51/\n",
            "  inflating: EASC/EASC-UTF-8/MTurk/Topic51/D0401.M.250.A.1.A  \n",
            "  inflating: EASC/EASC-UTF-8/MTurk/Topic51/D0401.M.250.A.2.B  \n",
            "  inflating: EASC/EASC-UTF-8/MTurk/Topic51/D0401.M.250.A.3.C  \n",
            "  inflating: EASC/EASC-UTF-8/MTurk/Topic51/D0401.M.250.A.4.D  \n",
            "  inflating: EASC/EASC-UTF-8/MTurk/Topic51/D0401.M.250.A.5.E  \n",
            "   creating: EASC/EASC-UTF-8/MTurk/Topic52/\n",
            "  inflating: EASC/EASC-UTF-8/MTurk/Topic52/D0402.M.250.A.1.A  \n",
            "  inflating: EASC/EASC-UTF-8/MTurk/Topic52/D0402.M.250.A.2.B  \n",
            "  inflating: EASC/EASC-UTF-8/MTurk/Topic52/D0402.M.250.A.3.C  \n",
            "  inflating: EASC/EASC-UTF-8/MTurk/Topic52/D0402.M.250.A.4.D  \n",
            "  inflating: EASC/EASC-UTF-8/MTurk/Topic52/D0402.M.250.A.5.E  \n",
            "   creating: EASC/EASC-UTF-8/MTurk/Topic53/\n",
            "  inflating: EASC/EASC-UTF-8/MTurk/Topic53/D0403.M.250.A.1.A  \n",
            "  inflating: EASC/EASC-UTF-8/MTurk/Topic53/D0403.M.250.A.2.B  \n",
            "  inflating: EASC/EASC-UTF-8/MTurk/Topic53/D0403.M.250.A.3.C  \n",
            "  inflating: EASC/EASC-UTF-8/MTurk/Topic53/D0403.M.250.A.4.D  \n",
            "  inflating: EASC/EASC-UTF-8/MTurk/Topic53/D0403.M.250.A.5.E  \n",
            "   creating: EASC/EASC-UTF-8/MTurk/Topic54/\n",
            "  inflating: EASC/EASC-UTF-8/MTurk/Topic54/D0404.M.250.A.1.A  \n",
            "  inflating: EASC/EASC-UTF-8/MTurk/Topic54/D0404.M.250.A.2.B  \n",
            "  inflating: EASC/EASC-UTF-8/MTurk/Topic54/D0404.M.250.A.3.C  \n",
            "  inflating: EASC/EASC-UTF-8/MTurk/Topic54/D0404.M.250.A.4.D  \n",
            "  inflating: EASC/EASC-UTF-8/MTurk/Topic54/D0404.M.250.A.5.E  \n",
            "   creating: EASC/EASC-UTF-8/MTurk/Topic55/\n",
            "  inflating: EASC/EASC-UTF-8/MTurk/Topic55/D0405.M.250.A.1.A  \n",
            "  inflating: EASC/EASC-UTF-8/MTurk/Topic55/D0405.M.250.A.2.B  \n",
            "  inflating: EASC/EASC-UTF-8/MTurk/Topic55/D0405.M.250.A.3.C  \n",
            "  inflating: EASC/EASC-UTF-8/MTurk/Topic55/D0405.M.250.A.4.D  \n",
            "  inflating: EASC/EASC-UTF-8/MTurk/Topic55/D0405.M.250.A.5.E  \n",
            "   creating: EASC/EASC-UTF-8/MTurk/Topic56/\n",
            "  inflating: EASC/EASC-UTF-8/MTurk/Topic56/D0406.M.250.A.1.A  \n",
            "  inflating: EASC/EASC-UTF-8/MTurk/Topic56/D0406.M.250.A.2.B  \n",
            "  inflating: EASC/EASC-UTF-8/MTurk/Topic56/D0406.M.250.A.3.C  \n",
            "  inflating: EASC/EASC-UTF-8/MTurk/Topic56/D0406.M.250.A.4.D  \n",
            "  inflating: EASC/EASC-UTF-8/MTurk/Topic56/D0406.M.250.A.5.E  \n",
            "   creating: EASC/EASC-UTF-8/MTurk/Topic57/\n",
            "  inflating: EASC/EASC-UTF-8/MTurk/Topic57/D0407.M.250.A.1.A  \n",
            "  inflating: EASC/EASC-UTF-8/MTurk/Topic57/D0407.M.250.A.2.B  \n",
            "  inflating: EASC/EASC-UTF-8/MTurk/Topic57/D0407.M.250.A.3.C  \n",
            "  inflating: EASC/EASC-UTF-8/MTurk/Topic57/D0407.M.250.A.4.D  \n",
            "  inflating: EASC/EASC-UTF-8/MTurk/Topic57/D0407.M.250.A.5.E  \n",
            "   creating: EASC/EASC-UTF-8/MTurk/Topic58/\n",
            "  inflating: EASC/EASC-UTF-8/MTurk/Topic58/D0408.M.250.A.1.A  \n",
            "  inflating: EASC/EASC-UTF-8/MTurk/Topic58/D0408.M.250.A.2.B  \n",
            "  inflating: EASC/EASC-UTF-8/MTurk/Topic58/D0408.M.250.A.3.C  \n",
            "  inflating: EASC/EASC-UTF-8/MTurk/Topic58/D0408.M.250.A.4.D  \n",
            "  inflating: EASC/EASC-UTF-8/MTurk/Topic58/D0408.M.250.A.5.E  \n",
            "   creating: EASC/EASC-UTF-8/MTurk/Topic59/\n",
            "  inflating: EASC/EASC-UTF-8/MTurk/Topic59/D0409.M.250.A.1.A  \n",
            "  inflating: EASC/EASC-UTF-8/MTurk/Topic59/D0409.M.250.A.2.B  \n",
            "  inflating: EASC/EASC-UTF-8/MTurk/Topic59/D0409.M.250.A.3.C  \n",
            "  inflating: EASC/EASC-UTF-8/MTurk/Topic59/D0409.M.250.A.4.D  \n",
            "  inflating: EASC/EASC-UTF-8/MTurk/Topic59/D0409.M.250.A.5.E  \n",
            "   creating: EASC/EASC-UTF-8/MTurk/Topic6/\n",
            "  inflating: EASC/EASC-UTF-8/MTurk/Topic6/D0106.M.250.A.1.A  \n",
            "  inflating: EASC/EASC-UTF-8/MTurk/Topic6/D0106.M.250.A.2.B  \n",
            "  inflating: EASC/EASC-UTF-8/MTurk/Topic6/D0106.M.250.A.3.C  \n",
            "  inflating: EASC/EASC-UTF-8/MTurk/Topic6/D0106.M.250.A.4.D  \n",
            "  inflating: EASC/EASC-UTF-8/MTurk/Topic6/D0106.M.250.A.5.E  \n",
            "   creating: EASC/EASC-UTF-8/MTurk/Topic60/\n",
            "  inflating: EASC/EASC-UTF-8/MTurk/Topic60/D04010.M.250.A.1.A  \n",
            "  inflating: EASC/EASC-UTF-8/MTurk/Topic60/D04010.M.250.A.2.B  \n",
            "  inflating: EASC/EASC-UTF-8/MTurk/Topic60/D04010.M.250.A.3.C  \n",
            "  inflating: EASC/EASC-UTF-8/MTurk/Topic60/D04010.M.250.A.4.D  \n",
            "  inflating: EASC/EASC-UTF-8/MTurk/Topic60/D04010.M.250.A.5.E  \n",
            "   creating: EASC/EASC-UTF-8/MTurk/Topic61/\n",
            "  inflating: EASC/EASC-UTF-8/MTurk/Topic61/D04011.M.250.A.1.A  \n",
            "  inflating: EASC/EASC-UTF-8/MTurk/Topic61/D04011.M.250.A.2.B  \n",
            "  inflating: EASC/EASC-UTF-8/MTurk/Topic61/D04011.M.250.A.3.C  \n",
            "  inflating: EASC/EASC-UTF-8/MTurk/Topic61/D04011.M.250.A.4.D  \n",
            "  inflating: EASC/EASC-UTF-8/MTurk/Topic61/D04011.M.250.A.5.E  \n",
            "   creating: EASC/EASC-UTF-8/MTurk/Topic62/\n",
            "  inflating: EASC/EASC-UTF-8/MTurk/Topic62/D04012.M.250.A.1.A  \n",
            "  inflating: EASC/EASC-UTF-8/MTurk/Topic62/D04012.M.250.A.2.B  \n",
            "  inflating: EASC/EASC-UTF-8/MTurk/Topic62/D04012.M.250.A.3.C  \n",
            "  inflating: EASC/EASC-UTF-8/MTurk/Topic62/D04012.M.250.A.4.D  \n",
            "  inflating: EASC/EASC-UTF-8/MTurk/Topic62/D04012.M.250.A.5.E  \n",
            "   creating: EASC/EASC-UTF-8/MTurk/Topic63/\n",
            "  inflating: EASC/EASC-UTF-8/MTurk/Topic63/D04013.M.250.A.1.A  \n",
            "  inflating: EASC/EASC-UTF-8/MTurk/Topic63/D04013.M.250.A.2.B  \n",
            "  inflating: EASC/EASC-UTF-8/MTurk/Topic63/D04013.M.250.A.3.C  \n",
            "  inflating: EASC/EASC-UTF-8/MTurk/Topic63/D04013.M.250.A.4.D  \n",
            "  inflating: EASC/EASC-UTF-8/MTurk/Topic63/D04013.M.250.A.5.E  \n",
            "   creating: EASC/EASC-UTF-8/MTurk/Topic64/\n",
            "  inflating: EASC/EASC-UTF-8/MTurk/Topic64/D04014.M.250.A.1.A  \n",
            "  inflating: EASC/EASC-UTF-8/MTurk/Topic64/D04014.M.250.A.2.B  \n",
            "  inflating: EASC/EASC-UTF-8/MTurk/Topic64/D04014.M.250.A.3.C  \n",
            "  inflating: EASC/EASC-UTF-8/MTurk/Topic64/D04014.M.250.A.4.D  \n",
            "  inflating: EASC/EASC-UTF-8/MTurk/Topic64/D04014.M.250.A.5.E  \n",
            "   creating: EASC/EASC-UTF-8/MTurk/Topic65/\n",
            "  inflating: EASC/EASC-UTF-8/MTurk/Topic65/D04015.M.250.A.1.A  \n",
            "  inflating: EASC/EASC-UTF-8/MTurk/Topic65/D04015.M.250.A.2.B  \n",
            "  inflating: EASC/EASC-UTF-8/MTurk/Topic65/D04015.M.250.A.3.C  \n",
            "  inflating: EASC/EASC-UTF-8/MTurk/Topic65/D04015.M.250.A.4.D  \n",
            "  inflating: EASC/EASC-UTF-8/MTurk/Topic65/D04015.M.250.A.5.E  \n",
            "   creating: EASC/EASC-UTF-8/MTurk/Topic66/\n",
            "  inflating: EASC/EASC-UTF-8/MTurk/Topic66/D04016.M.250.A.1.A  \n",
            "  inflating: EASC/EASC-UTF-8/MTurk/Topic66/D04016.M.250.A.2.B  \n",
            "  inflating: EASC/EASC-UTF-8/MTurk/Topic66/D04016.M.250.A.3.C  \n",
            "  inflating: EASC/EASC-UTF-8/MTurk/Topic66/D04016.M.250.A.4.D  \n",
            "  inflating: EASC/EASC-UTF-8/MTurk/Topic66/D04016.M.250.A.5.E  \n",
            "   creating: EASC/EASC-UTF-8/MTurk/Topic67/\n",
            "  inflating: EASC/EASC-UTF-8/MTurk/Topic67/D04017.M.250.A.1.A  \n",
            "  inflating: EASC/EASC-UTF-8/MTurk/Topic67/D04017.M.250.A.2.B  \n",
            "  inflating: EASC/EASC-UTF-8/MTurk/Topic67/D04017.M.250.A.3.C  \n",
            "  inflating: EASC/EASC-UTF-8/MTurk/Topic67/D04017.M.250.A.4.D  \n",
            "  inflating: EASC/EASC-UTF-8/MTurk/Topic67/D04017.M.250.A.5.E  \n",
            "   creating: EASC/EASC-UTF-8/MTurk/Topic68/\n",
            "  inflating: EASC/EASC-UTF-8/MTurk/Topic68/D0501.M.250.A.1.A  \n",
            "  inflating: EASC/EASC-UTF-8/MTurk/Topic68/D0501.M.250.A.2.B  \n",
            "  inflating: EASC/EASC-UTF-8/MTurk/Topic68/D0501.M.250.A.3.C  \n",
            "  inflating: EASC/EASC-UTF-8/MTurk/Topic68/D0501.M.250.A.4.D  \n",
            "  inflating: EASC/EASC-UTF-8/MTurk/Topic68/D0501.M.250.A.5.E  \n",
            "   creating: EASC/EASC-UTF-8/MTurk/Topic69/\n",
            "  inflating: EASC/EASC-UTF-8/MTurk/Topic69/D0502.M.250.A.1.A  \n",
            "  inflating: EASC/EASC-UTF-8/MTurk/Topic69/D0502.M.250.A.2.B  \n",
            "  inflating: EASC/EASC-UTF-8/MTurk/Topic69/D0502.M.250.A.3.C  \n",
            "  inflating: EASC/EASC-UTF-8/MTurk/Topic69/D0502.M.250.A.4.D  \n",
            "  inflating: EASC/EASC-UTF-8/MTurk/Topic69/D0502.M.250.A.5.E  \n",
            "   creating: EASC/EASC-UTF-8/MTurk/Topic7/\n",
            "  inflating: EASC/EASC-UTF-8/MTurk/Topic7/D0107.M.250.A.1.A  \n",
            "  inflating: EASC/EASC-UTF-8/MTurk/Topic7/D0107.M.250.A.2.B  \n",
            "  inflating: EASC/EASC-UTF-8/MTurk/Topic7/D0107.M.250.A.3.C  \n",
            "  inflating: EASC/EASC-UTF-8/MTurk/Topic7/D0107.M.250.A.4.D  \n",
            "  inflating: EASC/EASC-UTF-8/MTurk/Topic7/D0107.M.250.A.5.E  \n",
            "   creating: EASC/EASC-UTF-8/MTurk/Topic70/\n",
            "  inflating: EASC/EASC-UTF-8/MTurk/Topic70/D0503.M.250.A.1.A  \n",
            "  inflating: EASC/EASC-UTF-8/MTurk/Topic70/D0503.M.250.A.2.B  \n",
            "  inflating: EASC/EASC-UTF-8/MTurk/Topic70/D0503.M.250.A.3.C  \n",
            "  inflating: EASC/EASC-UTF-8/MTurk/Topic70/D0503.M.250.A.4.D  \n",
            "  inflating: EASC/EASC-UTF-8/MTurk/Topic70/D0503.M.250.A.5.E  \n",
            "   creating: EASC/EASC-UTF-8/MTurk/Topic71/\n",
            "  inflating: EASC/EASC-UTF-8/MTurk/Topic71/D0504.M.250.A.1.A  \n",
            "  inflating: EASC/EASC-UTF-8/MTurk/Topic71/D0504.M.250.A.2.B  \n",
            "  inflating: EASC/EASC-UTF-8/MTurk/Topic71/D0504.M.250.A.3.C  \n",
            "  inflating: EASC/EASC-UTF-8/MTurk/Topic71/D0504.M.250.A.4.D  \n",
            "  inflating: EASC/EASC-UTF-8/MTurk/Topic71/D0504.M.250.A.5.E  \n",
            "   creating: EASC/EASC-UTF-8/MTurk/Topic72/\n",
            "  inflating: EASC/EASC-UTF-8/MTurk/Topic72/D0505.M.250.A.1.A  \n",
            "  inflating: EASC/EASC-UTF-8/MTurk/Topic72/D0505.M.250.A.2.B  \n",
            "  inflating: EASC/EASC-UTF-8/MTurk/Topic72/D0505.M.250.A.3.C  \n",
            "  inflating: EASC/EASC-UTF-8/MTurk/Topic72/D0505.M.250.A.4.D  \n",
            "  inflating: EASC/EASC-UTF-8/MTurk/Topic72/D0505.M.250.A.5.E  \n",
            "   creating: EASC/EASC-UTF-8/MTurk/Topic73/\n",
            "  inflating: EASC/EASC-UTF-8/MTurk/Topic73/D0506.M.250.A.1.A  \n",
            "  inflating: EASC/EASC-UTF-8/MTurk/Topic73/D0506.M.250.A.2.B  \n",
            "  inflating: EASC/EASC-UTF-8/MTurk/Topic73/D0506.M.250.A.3.C  \n",
            "  inflating: EASC/EASC-UTF-8/MTurk/Topic73/D0506.M.250.A.4.D  \n",
            "  inflating: EASC/EASC-UTF-8/MTurk/Topic73/D0506.M.250.A.5.E  \n",
            "   creating: EASC/EASC-UTF-8/MTurk/Topic74/\n",
            "  inflating: EASC/EASC-UTF-8/MTurk/Topic74/D0507.M.250.A.1.A  \n",
            "  inflating: EASC/EASC-UTF-8/MTurk/Topic74/D0507.M.250.A.2.B  \n",
            "  inflating: EASC/EASC-UTF-8/MTurk/Topic74/D0507.M.250.A.3.C  \n",
            "  inflating: EASC/EASC-UTF-8/MTurk/Topic74/D0507.M.250.A.4.D  \n",
            "  inflating: EASC/EASC-UTF-8/MTurk/Topic74/D0507.M.250.A.5.E  \n",
            "   creating: EASC/EASC-UTF-8/MTurk/Topic75/\n",
            "  inflating: EASC/EASC-UTF-8/MTurk/Topic75/D0508.M.250.A.1.A  \n",
            "  inflating: EASC/EASC-UTF-8/MTurk/Topic75/D0508.M.250.A.2.B  \n",
            "  inflating: EASC/EASC-UTF-8/MTurk/Topic75/D0508.M.250.A.3.C  \n",
            "  inflating: EASC/EASC-UTF-8/MTurk/Topic75/D0508.M.250.A.4.D  \n",
            "  inflating: EASC/EASC-UTF-8/MTurk/Topic75/D0508.M.250.A.5.E  \n",
            "   creating: EASC/EASC-UTF-8/MTurk/Topic76/\n",
            "  inflating: EASC/EASC-UTF-8/MTurk/Topic76/D0509.M.250.A.1.A  \n",
            "  inflating: EASC/EASC-UTF-8/MTurk/Topic76/D0509.M.250.A.2.B  \n",
            "  inflating: EASC/EASC-UTF-8/MTurk/Topic76/D0509.M.250.A.3.C  \n",
            "  inflating: EASC/EASC-UTF-8/MTurk/Topic76/D0509.M.250.A.4.D  \n",
            "  inflating: EASC/EASC-UTF-8/MTurk/Topic76/D0509.M.250.A.5.E  \n",
            "   creating: EASC/EASC-UTF-8/MTurk/Topic77/\n",
            "  inflating: EASC/EASC-UTF-8/MTurk/Topic77/D05010.M.250.A.1.A  \n",
            "  inflating: EASC/EASC-UTF-8/MTurk/Topic77/D05010.M.250.A.2.B  \n",
            "  inflating: EASC/EASC-UTF-8/MTurk/Topic77/D05010.M.250.A.3.C  \n",
            "  inflating: EASC/EASC-UTF-8/MTurk/Topic77/D05010.M.250.A.4.D  \n",
            "  inflating: EASC/EASC-UTF-8/MTurk/Topic77/D05010.M.250.A.5.E  \n",
            "   creating: EASC/EASC-UTF-8/MTurk/Topic78/\n",
            "  inflating: EASC/EASC-UTF-8/MTurk/Topic78/D05011.M.250.A.1.A  \n",
            "  inflating: EASC/EASC-UTF-8/MTurk/Topic78/D05011.M.250.A.2.B  \n",
            "  inflating: EASC/EASC-UTF-8/MTurk/Topic78/D05011.M.250.A.3.C  \n",
            "  inflating: EASC/EASC-UTF-8/MTurk/Topic78/D05011.M.250.A.4.D  \n",
            "  inflating: EASC/EASC-UTF-8/MTurk/Topic78/D05011.M.250.A.5.E  \n",
            "   creating: EASC/EASC-UTF-8/MTurk/Topic79/\n",
            "  inflating: EASC/EASC-UTF-8/MTurk/Topic79/D05012.M.250.A.1.A  \n",
            "  inflating: EASC/EASC-UTF-8/MTurk/Topic79/D05012.M.250.A.2.B  \n",
            "  inflating: EASC/EASC-UTF-8/MTurk/Topic79/D05012.M.250.A.3.C  \n",
            "  inflating: EASC/EASC-UTF-8/MTurk/Topic79/D05012.M.250.A.4.D  \n",
            "  inflating: EASC/EASC-UTF-8/MTurk/Topic79/D05012.M.250.A.5.E  \n",
            "   creating: EASC/EASC-UTF-8/MTurk/Topic8/\n",
            "  inflating: EASC/EASC-UTF-8/MTurk/Topic8/D0108.M.250.A.1.A  \n",
            "  inflating: EASC/EASC-UTF-8/MTurk/Topic8/D0108.M.250.A.2.B  \n",
            "  inflating: EASC/EASC-UTF-8/MTurk/Topic8/D0108.M.250.A.3.C  \n",
            "  inflating: EASC/EASC-UTF-8/MTurk/Topic8/D0108.M.250.A.4.D  \n",
            "  inflating: EASC/EASC-UTF-8/MTurk/Topic8/D0108.M.250.A.5.E  \n",
            "   creating: EASC/EASC-UTF-8/MTurk/Topic80/\n",
            "  inflating: EASC/EASC-UTF-8/MTurk/Topic80/D05013.M.250.A.1.A  \n",
            "  inflating: EASC/EASC-UTF-8/MTurk/Topic80/D05013.M.250.A.2.B  \n",
            "  inflating: EASC/EASC-UTF-8/MTurk/Topic80/D05013.M.250.A.3.C  \n",
            "  inflating: EASC/EASC-UTF-8/MTurk/Topic80/D05013.M.250.A.4.D  \n",
            "  inflating: EASC/EASC-UTF-8/MTurk/Topic80/D05013.M.250.A.5.E  \n",
            "   creating: EASC/EASC-UTF-8/MTurk/Topic81/\n",
            "  inflating: EASC/EASC-UTF-8/MTurk/Topic81/D05014.M.250.A.1.A  \n",
            "  inflating: EASC/EASC-UTF-8/MTurk/Topic81/D05014.M.250.A.2.B  \n",
            "  inflating: EASC/EASC-UTF-8/MTurk/Topic81/D05014.M.250.A.3.C  \n",
            "  inflating: EASC/EASC-UTF-8/MTurk/Topic81/D05014.M.250.A.4.D  \n",
            "  inflating: EASC/EASC-UTF-8/MTurk/Topic81/D05014.M.250.A.5.E  \n",
            "   creating: EASC/EASC-UTF-8/MTurk/Topic82/\n",
            "  inflating: EASC/EASC-UTF-8/MTurk/Topic82/D05015.M.250.A.1.A  \n",
            "  inflating: EASC/EASC-UTF-8/MTurk/Topic82/D05015.M.250.A.2.B  \n",
            "  inflating: EASC/EASC-UTF-8/MTurk/Topic82/D05015.M.250.A.3.C  \n",
            "  inflating: EASC/EASC-UTF-8/MTurk/Topic82/D05015.M.250.A.4.D  \n",
            "  inflating: EASC/EASC-UTF-8/MTurk/Topic82/D05015.M.250.A.5.E  \n",
            "   creating: EASC/EASC-UTF-8/MTurk/Topic83/\n",
            "  inflating: EASC/EASC-UTF-8/MTurk/Topic83/D05016.M.250.A.1.A  \n",
            "  inflating: EASC/EASC-UTF-8/MTurk/Topic83/D05016.M.250.A.2.B  \n",
            "  inflating: EASC/EASC-UTF-8/MTurk/Topic83/D05016.M.250.A.3.C  \n",
            "  inflating: EASC/EASC-UTF-8/MTurk/Topic83/D05016.M.250.A.4.D  \n",
            "  inflating: EASC/EASC-UTF-8/MTurk/Topic83/D05016.M.250.A.5.E  \n",
            "   creating: EASC/EASC-UTF-8/MTurk/Topic84/\n",
            "  inflating: EASC/EASC-UTF-8/MTurk/Topic84/D05017.M.250.A.1.A  \n",
            "  inflating: EASC/EASC-UTF-8/MTurk/Topic84/D05017.M.250.A.2.B  \n",
            "  inflating: EASC/EASC-UTF-8/MTurk/Topic84/D05017.M.250.A.3.C  \n",
            "  inflating: EASC/EASC-UTF-8/MTurk/Topic84/D05017.M.250.A.4.D  \n",
            "  inflating: EASC/EASC-UTF-8/MTurk/Topic84/D05017.M.250.A.5.E  \n",
            "   creating: EASC/EASC-UTF-8/MTurk/Topic85/\n",
            "  inflating: EASC/EASC-UTF-8/MTurk/Topic85/D0601.M.250.A.1.A  \n",
            "  inflating: EASC/EASC-UTF-8/MTurk/Topic85/D0601.M.250.A.2.B  \n",
            "  inflating: EASC/EASC-UTF-8/MTurk/Topic85/D0601.M.250.A.3.C  \n",
            "  inflating: EASC/EASC-UTF-8/MTurk/Topic85/D0601.M.250.A.4.D  \n",
            "  inflating: EASC/EASC-UTF-8/MTurk/Topic85/D0601.M.250.A.5.E  \n",
            "   creating: EASC/EASC-UTF-8/MTurk/Topic86/\n",
            "  inflating: EASC/EASC-UTF-8/MTurk/Topic86/D0602.M.250.A.1.A  \n",
            "  inflating: EASC/EASC-UTF-8/MTurk/Topic86/D0602.M.250.A.2.B  \n",
            "  inflating: EASC/EASC-UTF-8/MTurk/Topic86/D0602.M.250.A.3.C  \n",
            "  inflating: EASC/EASC-UTF-8/MTurk/Topic86/D0602.M.250.A.4.D  \n",
            "  inflating: EASC/EASC-UTF-8/MTurk/Topic86/D0602.M.250.A.5.E  \n",
            "   creating: EASC/EASC-UTF-8/MTurk/Topic87/\n",
            "  inflating: EASC/EASC-UTF-8/MTurk/Topic87/D0603.M.250.A.1.A  \n",
            "  inflating: EASC/EASC-UTF-8/MTurk/Topic87/D0603.M.250.A.2.B  \n",
            "  inflating: EASC/EASC-UTF-8/MTurk/Topic87/D0603.M.250.A.3.C  \n",
            "  inflating: EASC/EASC-UTF-8/MTurk/Topic87/D0603.M.250.A.4.D  \n",
            "  inflating: EASC/EASC-UTF-8/MTurk/Topic87/D0603.M.250.A.5.E  \n",
            "   creating: EASC/EASC-UTF-8/MTurk/Topic88/\n",
            "  inflating: EASC/EASC-UTF-8/MTurk/Topic88/D0604.M.250.A.1.A  \n",
            "  inflating: EASC/EASC-UTF-8/MTurk/Topic88/D0604.M.250.A.2.B  \n",
            "  inflating: EASC/EASC-UTF-8/MTurk/Topic88/D0604.M.250.A.3.C  \n",
            "  inflating: EASC/EASC-UTF-8/MTurk/Topic88/D0604.M.250.A.4.D  \n",
            "  inflating: EASC/EASC-UTF-8/MTurk/Topic88/D0604.M.250.A.5.E  \n",
            "   creating: EASC/EASC-UTF-8/MTurk/Topic89/\n",
            "  inflating: EASC/EASC-UTF-8/MTurk/Topic89/D0605.M.250.A.1.A  \n",
            "  inflating: EASC/EASC-UTF-8/MTurk/Topic89/D0605.M.250.A.2.B  \n",
            "  inflating: EASC/EASC-UTF-8/MTurk/Topic89/D0605.M.250.A.3.C  \n",
            "  inflating: EASC/EASC-UTF-8/MTurk/Topic89/D0605.M.250.A.4.D  \n",
            "  inflating: EASC/EASC-UTF-8/MTurk/Topic89/D0605.M.250.A.5.E  \n",
            "   creating: EASC/EASC-UTF-8/MTurk/Topic9/\n",
            "  inflating: EASC/EASC-UTF-8/MTurk/Topic9/D0109.M.250.A.1.A  \n",
            "  inflating: EASC/EASC-UTF-8/MTurk/Topic9/D0109.M.250.A.2.B  \n",
            "  inflating: EASC/EASC-UTF-8/MTurk/Topic9/D0109.M.250.A.3.C  \n",
            "  inflating: EASC/EASC-UTF-8/MTurk/Topic9/D0109.M.250.A.4.D  \n",
            "  inflating: EASC/EASC-UTF-8/MTurk/Topic9/D0109.M.250.A.5.E  \n",
            "   creating: EASC/EASC-UTF-8/MTurk/Topic90/\n",
            "  inflating: EASC/EASC-UTF-8/MTurk/Topic90/D0606.M.250.A.1.A  \n",
            "  inflating: EASC/EASC-UTF-8/MTurk/Topic90/D0606.M.250.A.2.B  \n",
            "  inflating: EASC/EASC-UTF-8/MTurk/Topic90/D0606.M.250.A.3.C  \n",
            "  inflating: EASC/EASC-UTF-8/MTurk/Topic90/D0606.M.250.A.4.D  \n",
            "  inflating: EASC/EASC-UTF-8/MTurk/Topic90/D0606.M.250.A.5.E  \n",
            "   creating: EASC/EASC-UTF-8/MTurk/Topic91/\n",
            "  inflating: EASC/EASC-UTF-8/MTurk/Topic91/D0607.M.250.A.1.A  \n",
            "  inflating: EASC/EASC-UTF-8/MTurk/Topic91/D0607.M.250.A.2.B  \n",
            "  inflating: EASC/EASC-UTF-8/MTurk/Topic91/D0607.M.250.A.3.C  \n",
            "  inflating: EASC/EASC-UTF-8/MTurk/Topic91/D0607.M.250.A.4.D  \n",
            "  inflating: EASC/EASC-UTF-8/MTurk/Topic91/D0607.M.250.A.5.E  \n",
            "   creating: EASC/EASC-UTF-8/MTurk/Topic92/\n",
            "  inflating: EASC/EASC-UTF-8/MTurk/Topic92/D0608.M.250.A.1.A  \n",
            "  inflating: EASC/EASC-UTF-8/MTurk/Topic92/D0608.M.250.A.2.B  \n",
            "  inflating: EASC/EASC-UTF-8/MTurk/Topic92/D0608.M.250.A.3.C  \n",
            "  inflating: EASC/EASC-UTF-8/MTurk/Topic92/D0608.M.250.A.4.D  \n",
            "  inflating: EASC/EASC-UTF-8/MTurk/Topic92/D0608.M.250.A.5.E  \n",
            "   creating: EASC/EASC-UTF-8/MTurk/Topic93/\n",
            "  inflating: EASC/EASC-UTF-8/MTurk/Topic93/D0609.M.250.A.1.A  \n",
            "  inflating: EASC/EASC-UTF-8/MTurk/Topic93/D0609.M.250.A.2.B  \n",
            "  inflating: EASC/EASC-UTF-8/MTurk/Topic93/D0609.M.250.A.3.C  \n",
            "  inflating: EASC/EASC-UTF-8/MTurk/Topic93/D0609.M.250.A.4.D  \n",
            "  inflating: EASC/EASC-UTF-8/MTurk/Topic93/D0609.M.250.A.5.E  \n",
            "   creating: EASC/EASC-UTF-8/MTurk/Topic94/\n",
            "  inflating: EASC/EASC-UTF-8/MTurk/Topic94/D06010.M.250.A.1.A  \n",
            "  inflating: EASC/EASC-UTF-8/MTurk/Topic94/D06010.M.250.A.2.B  \n",
            "  inflating: EASC/EASC-UTF-8/MTurk/Topic94/D06010.M.250.A.3.C  \n",
            "  inflating: EASC/EASC-UTF-8/MTurk/Topic94/D06010.M.250.A.4.D  \n",
            "  inflating: EASC/EASC-UTF-8/MTurk/Topic94/D06010.M.250.A.5.E  \n",
            "   creating: EASC/EASC-UTF-8/MTurk/Topic95/\n",
            "  inflating: EASC/EASC-UTF-8/MTurk/Topic95/D06011.M.250.A.1.A  \n",
            "  inflating: EASC/EASC-UTF-8/MTurk/Topic95/D06011.M.250.A.2.B  \n",
            "  inflating: EASC/EASC-UTF-8/MTurk/Topic95/D06011.M.250.A.3.C  \n",
            "  inflating: EASC/EASC-UTF-8/MTurk/Topic95/D06011.M.250.A.4.D  \n",
            "  inflating: EASC/EASC-UTF-8/MTurk/Topic95/D06011.M.250.A.5.E  \n",
            "   creating: EASC/EASC-UTF-8/MTurk/Topic96/\n",
            "  inflating: EASC/EASC-UTF-8/MTurk/Topic96/D06012.M.250.A.1.A  \n",
            "  inflating: EASC/EASC-UTF-8/MTurk/Topic96/D06012.M.250.A.2.B  \n",
            "  inflating: EASC/EASC-UTF-8/MTurk/Topic96/D06012.M.250.A.3.C  \n",
            "  inflating: EASC/EASC-UTF-8/MTurk/Topic96/D06012.M.250.A.4.D  \n",
            "  inflating: EASC/EASC-UTF-8/MTurk/Topic96/D06012.M.250.A.5.E  \n",
            "   creating: EASC/EASC-UTF-8/MTurk/Topic97/\n",
            "  inflating: EASC/EASC-UTF-8/MTurk/Topic97/D06013.M.250.A.1.A  \n",
            "  inflating: EASC/EASC-UTF-8/MTurk/Topic97/D06013.M.250.A.2.B  \n",
            "  inflating: EASC/EASC-UTF-8/MTurk/Topic97/D06013.M.250.A.3.C  \n",
            "  inflating: EASC/EASC-UTF-8/MTurk/Topic97/D06013.M.250.A.4.D  \n",
            "  inflating: EASC/EASC-UTF-8/MTurk/Topic97/D06013.M.250.A.5.E  \n",
            "   creating: EASC/EASC-UTF-8/MTurk/Topic98/\n",
            "  inflating: EASC/EASC-UTF-8/MTurk/Topic98/D06014.M.250.A.1.A  \n",
            "  inflating: EASC/EASC-UTF-8/MTurk/Topic98/D06014.M.250.A.2.B  \n",
            "  inflating: EASC/EASC-UTF-8/MTurk/Topic98/D06014.M.250.A.3.C  \n",
            "  inflating: EASC/EASC-UTF-8/MTurk/Topic98/D06014.M.250.A.4.D  \n",
            "  inflating: EASC/EASC-UTF-8/MTurk/Topic98/D06014.M.250.A.5.E  \n",
            "   creating: EASC/EASC-UTF-8/MTurk/Topic99/\n",
            "  inflating: EASC/EASC-UTF-8/MTurk/Topic99/D06015.M.250.A.1.A  \n",
            "  inflating: EASC/EASC-UTF-8/MTurk/Topic99/D06015.M.250.A.2.B  \n",
            "  inflating: EASC/EASC-UTF-8/MTurk/Topic99/D06015.M.250.A.3.C  \n",
            "  inflating: EASC/EASC-UTF-8/MTurk/Topic99/D06015.M.250.A.4.D  \n",
            "  inflating: EASC/EASC-UTF-8/MTurk/Topic99/D06015.M.250.A.5.E  \n",
            "  inflating: EASC/README             \n",
            "  inflating: EASC/SOURCES.CSV        \n"
          ],
          "name": "stdout"
        }
      ]
    },
    {
      "cell_type": "code",
      "metadata": {
        "id": "iQBNz6PDDnPi",
        "colab": {
          "base_uri": "https://localhost:8080/",
          "height": 34
        },
        "outputId": "5240ca7c-ec4c-41dc-aafa-b12bfa2dda16"
      },
      "source": [
        "!ls"
      ],
      "execution_count": null,
      "outputs": [
        {
          "output_type": "stream",
          "text": [
            "EASC  EASC.zip\tsample_data\n"
          ],
          "name": "stdout"
        }
      ]
    },
    {
      "cell_type": "code",
      "metadata": {
        "id": "QPC7_W1t5Sux",
        "colab": {
          "base_uri": "https://localhost:8080/",
          "height": 34
        },
        "outputId": "9fd8090b-2b69-43a5-f188-ba172dba116e"
      },
      "source": [
        "cd EASC"
      ],
      "execution_count": null,
      "outputs": [
        {
          "output_type": "stream",
          "text": [
            "/content/EASC\n"
          ],
          "name": "stdout"
        }
      ]
    },
    {
      "cell_type": "code",
      "metadata": {
        "id": "CSXAMmk7DsJn",
        "colab": {
          "base_uri": "https://localhost:8080/",
          "height": 34
        },
        "outputId": "0505b69c-bff3-47aa-c1ac-78b5cccad9fd"
      },
      "source": [
        "!ls "
      ],
      "execution_count": null,
      "outputs": [
        {
          "output_type": "stream",
          "text": [
            "COPYRIGHT  EASC-ISO-Arabic  EASC-UTF-8\tREADME\tSOURCES.CSV\n"
          ],
          "name": "stdout"
        }
      ]
    },
    {
      "cell_type": "code",
      "metadata": {
        "id": "TWQiYho0N7Ly",
        "colab": {
          "base_uri": "https://localhost:8080/",
          "height": 204
        },
        "outputId": "32d15734-9570-452f-b606-34a1ad3a7446"
      },
      "source": [
        "!wget https://github.com/mohataher/arabic-stop-words/blob/master/list.txt"
      ],
      "execution_count": null,
      "outputs": [
        {
          "output_type": "stream",
          "text": [
            "--2019-09-03 08:17:16--  https://github.com/mohataher/arabic-stop-words/blob/master/list.txt\n",
            "Resolving github.com (github.com)... 192.30.253.113\n",
            "Connecting to github.com (github.com)|192.30.253.113|:443... connected.\n",
            "HTTP request sent, awaiting response... 200 OK\n",
            "Length: unspecified [text/html]\n",
            "Saving to: ‘list.txt’\n",
            "\n",
            "list.txt                [  <=>               ] 204.10K   638KB/s    in 0.3s    \n",
            "\n",
            "2019-09-03 08:17:17 (638 KB/s) - ‘list.txt’ saved [208999]\n",
            "\n"
          ],
          "name": "stdout"
        }
      ]
    },
    {
      "cell_type": "code",
      "metadata": {
        "id": "Uqu6_icDEVZw",
        "colab": {
          "base_uri": "https://localhost:8080/",
          "height": 34
        },
        "outputId": "aa3f086c-ebaa-4e07-f51a-45f3d1bffd2c"
      },
      "source": [
        "!cat EASC/EASC-UTF-8/MTurk/Topic1/D0101.M.250.A.1.A "
      ],
      "execution_count": null,
      "outputs": [
        {
          "output_type": "stream",
          "text": [
            "cat: EASC/EASC-UTF-8/MTurk/Topic1/D0101.M.250.A.1.A: No such file or directory\n"
          ],
          "name": "stdout"
        }
      ]
    },
    {
      "cell_type": "code",
      "metadata": {
        "id": "zMblBqiaEcvK",
        "colab": {
          "base_uri": "https://localhost:8080/",
          "height": 34
        },
        "outputId": "f759d12c-a1e0-448c-a840-6d6ee49ad6cb"
      },
      "source": [
        "!cat EASC/EASC-UTF-8/MTurk/Topic1/D0101.M.250.A.2.B"
      ],
      "execution_count": null,
      "outputs": [
        {
          "output_type": "stream",
          "text": [
            "cat: EASC/EASC-UTF-8/MTurk/Topic1/D0101.M.250.A.2.B: No such file or directory\n"
          ],
          "name": "stdout"
        }
      ]
    },
    {
      "cell_type": "code",
      "metadata": {
        "id": "7Ft8LYNvFDzi",
        "colab": {
          "base_uri": "https://localhost:8080/",
          "height": 51
        },
        "outputId": "35b1c55d-0cd5-47f6-99bb-3bf57c8ce4d7"
      },
      "source": [
        "cd  EASC/EASC-UTF-8/MTurk/Topic1/"
      ],
      "execution_count": null,
      "outputs": [
        {
          "output_type": "stream",
          "text": [
            "[Errno 2] No such file or directory: 'EASC/EASC-UTF-8/MTurk/Topic1/'\n",
            "/content/EASC\n"
          ],
          "name": "stdout"
        }
      ]
    },
    {
      "cell_type": "code",
      "metadata": {
        "id": "2zih0jPlj2x5",
        "colab": {
          "base_uri": "https://localhost:8080/",
          "height": 153
        },
        "outputId": "ccae835f-79f1-4b5e-f938-4fde58733a72"
      },
      "source": [
        "!find -maxdepth 1 -type f -ls -exec file -b {} \\;"
      ],
      "execution_count": null,
      "outputs": [
        {
          "output_type": "stream",
          "text": [
            " 19136545      4 -rw-r--r--   1 root     root         2718 Feb 20  2010 ./COPYRIGHT\n",
            "find: ‘file’: No such file or directory\n",
            " 19139000      4 -rw-r--r--   1 root     root         2317 Feb 20  2010 ./README\n",
            "find: ‘file’: No such file or directory\n",
            " 19139001     16 -rw-r--r--   1 root     root        13078 Feb 20  2010 ./SOURCES.CSV\n",
            "find: ‘file’: No such file or directory\n",
            " 19139005    208 -rw-r--r--   1 root     root       208999 Sep  3 08:17 ./list.txt\n",
            "find: ‘file’: No such file or directory\n"
          ],
          "name": "stdout"
        }
      ]
    },
    {
      "cell_type": "code",
      "metadata": {
        "id": "758RJa6ro2rX",
        "colab": {
          "base_uri": "https://localhost:8080/",
          "height": 34
        },
        "outputId": "45ea56ea-d697-4ed9-ddff-3dc7598adac1"
      },
      "source": [
        "!pwd\n"
      ],
      "execution_count": null,
      "outputs": [
        {
          "output_type": "stream",
          "text": [
            "/content/EASC\n"
          ],
          "name": "stdout"
        }
      ]
    },
    {
      "cell_type": "markdown",
      "metadata": {
        "id": "s_xA7dqXOTsQ"
      },
      "source": [
        "# Build the Dataset"
      ]
    },
    {
      "cell_type": "code",
      "metadata": {
        "id": "8lVqNpo6orAo"
      },
      "source": [
        "train_dir_name = '/content/EASC/EASC-UTF-8/Articles/'\n",
        "test_dir_name = '/content/EASC/EASC-UTF-8/MTurk/'\n",
        "def getListOfFiles(dirName):\n",
        "    listOfFile = os.listdir(dirName)\n",
        "    allFiles = list()\n",
        "    for entry in listOfFile:\n",
        "        fullPath = os.path.join(dirName, entry) \n",
        "        if os.path.isdir(fullPath):\n",
        "            allFiles = allFiles + getListOfFiles(fullPath)\n",
        "        else:\n",
        "            allFiles.append(fullPath)\n",
        "                \n",
        "    return allFiles"
      ],
      "execution_count": null,
      "outputs": []
    },
    {
      "cell_type": "code",
      "metadata": {
        "id": "QLJ9bxIcpL5B"
      },
      "source": [
        "train_files_path = getListOfFiles(train_dir_name)"
      ],
      "execution_count": null,
      "outputs": []
    },
    {
      "cell_type": "code",
      "metadata": {
        "id": "OEENJvHDpVV_",
        "colab": {
          "base_uri": "https://localhost:8080/",
          "height": 272
        },
        "outputId": "d344498b-24f5-442e-bd84-4787c239a5c9"
      },
      "source": [
        "train_files_path[:15]"
      ],
      "execution_count": null,
      "outputs": [
        {
          "output_type": "execute_result",
          "data": {
            "text/plain": [
              "['/content/EASC/EASC-UTF-8/Articles/Topic69/health (2).TXT',\n",
              " '/content/EASC/EASC-UTF-8/Articles/Topic67/finance (17).txt',\n",
              " '/content/EASC/EASC-UTF-8/Articles/Topic106/religion (1).txt',\n",
              " '/content/EASC/EASC-UTF-8/Articles/Topic143/tourisms (4).txt',\n",
              " '/content/EASC/EASC-UTF-8/Articles/Topic95/politics (11).txt',\n",
              " '/content/EASC/EASC-UTF-8/Articles/Topic3/Art and Music (3).txt',\n",
              " '/content/EASC/EASC-UTF-8/Articles/Topic21/environment (5).txt',\n",
              " '/content/EASC/EASC-UTF-8/Articles/Topic17/education (7).txt',\n",
              " '/content/EASC/EASC-UTF-8/Articles/Topic14/education (4).txt',\n",
              " '/content/EASC/EASC-UTF-8/Articles/Topic4/Art and Music (4).txt',\n",
              " '/content/EASC/EASC-UTF-8/Articles/Topic65/finance (15).TXT',\n",
              " '/content/EASC/EASC-UTF-8/Articles/Topic93/politics (9).txt',\n",
              " '/content/EASC/EASC-UTF-8/Articles/Topic96/politics (12).txt',\n",
              " '/content/EASC/EASC-UTF-8/Articles/Topic109/religion (4).txt',\n",
              " '/content/EASC/EASC-UTF-8/Articles/Topic24/environment (8).TXT']"
            ]
          },
          "metadata": {
            "tags": []
          },
          "execution_count": 15
        }
      ]
    },
    {
      "cell_type": "code",
      "metadata": {
        "id": "6C4J-6popgRC",
        "colab": {
          "base_uri": "https://localhost:8080/",
          "height": 34
        },
        "outputId": "08a038ae-205a-4a15-9275-f090bddb4b4e"
      },
      "source": [
        "len(train_files_path)"
      ],
      "execution_count": null,
      "outputs": [
        {
          "output_type": "execute_result",
          "data": {
            "text/plain": [
              "153"
            ]
          },
          "metadata": {
            "tags": []
          },
          "execution_count": 16
        }
      ]
    },
    {
      "cell_type": "code",
      "metadata": {
        "id": "FkeKi687ro4E"
      },
      "source": [
        "test_files_path = getListOfFiles(test_dir_name)"
      ],
      "execution_count": null,
      "outputs": []
    },
    {
      "cell_type": "code",
      "metadata": {
        "id": "hNDkyggxsBDb",
        "colab": {
          "base_uri": "https://localhost:8080/",
          "height": 272
        },
        "outputId": "967f1887-080a-467e-cc4b-53fc42111652"
      },
      "source": [
        "test_files_path[:15]"
      ],
      "execution_count": null,
      "outputs": [
        {
          "output_type": "execute_result",
          "data": {
            "text/plain": [
              "['/content/EASC/EASC-UTF-8/MTurk/Topic69/D0502.M.250.A.5.E',\n",
              " '/content/EASC/EASC-UTF-8/MTurk/Topic69/D0502.M.250.A.4.D',\n",
              " '/content/EASC/EASC-UTF-8/MTurk/Topic69/D0502.M.250.A.2.B',\n",
              " '/content/EASC/EASC-UTF-8/MTurk/Topic69/D0502.M.250.A.1.A',\n",
              " '/content/EASC/EASC-UTF-8/MTurk/Topic69/D0502.M.250.A.3.C',\n",
              " '/content/EASC/EASC-UTF-8/MTurk/Topic67/D04017.M.250.A.3.C',\n",
              " '/content/EASC/EASC-UTF-8/MTurk/Topic67/D04017.M.250.A.2.B',\n",
              " '/content/EASC/EASC-UTF-8/MTurk/Topic67/D04017.M.250.A.1.A',\n",
              " '/content/EASC/EASC-UTF-8/MTurk/Topic67/D04017.M.250.A.4.D',\n",
              " '/content/EASC/EASC-UTF-8/MTurk/Topic67/D04017.M.250.A.5.E',\n",
              " '/content/EASC/EASC-UTF-8/MTurk/Topic106/D0701.M.250.A.3.C',\n",
              " '/content/EASC/EASC-UTF-8/MTurk/Topic106/D0701.M.250.A.5.E',\n",
              " '/content/EASC/EASC-UTF-8/MTurk/Topic106/D0701.M.250.A.4.D',\n",
              " '/content/EASC/EASC-UTF-8/MTurk/Topic106/D0701.M.250.A.1.A',\n",
              " '/content/EASC/EASC-UTF-8/MTurk/Topic106/D0701.M.250.A.2.B']"
            ]
          },
          "metadata": {
            "tags": []
          },
          "execution_count": 18
        }
      ]
    },
    {
      "cell_type": "code",
      "metadata": {
        "id": "Pul04ZR6m9J-",
        "colab": {
          "base_uri": "https://localhost:8080/",
          "height": 34
        },
        "outputId": "67b9136b-bd56-452c-e98e-068db4f54e6d"
      },
      "source": [
        "len(test_files_path)\n"
      ],
      "execution_count": null,
      "outputs": [
        {
          "output_type": "execute_result",
          "data": {
            "text/plain": [
              "765"
            ]
          },
          "metadata": {
            "tags": []
          },
          "execution_count": 19
        }
      ]
    },
    {
      "cell_type": "code",
      "metadata": {
        "id": "qFAtpYQBpftH",
        "colab": {
          "base_uri": "https://localhost:8080/",
          "height": 34
        },
        "outputId": "5aee9c39-019e-46f9-98d2-9cba8e586fb5"
      },
      "source": [
        "len(train_files_path) * 5"
      ],
      "execution_count": null,
      "outputs": [
        {
          "output_type": "execute_result",
          "data": {
            "text/plain": [
              "765"
            ]
          },
          "metadata": {
            "tags": []
          },
          "execution_count": 20
        }
      ]
    },
    {
      "cell_type": "code",
      "metadata": {
        "id": "1ti8a6qnu7iv"
      },
      "source": [
        "data = pd.DataFrame(columns = ['Orignal' ,'Summary1' ,'Summary2' ,'Summary3' ,'Summary4' ,'Summary5'])"
      ],
      "execution_count": null,
      "outputs": []
    },
    {
      "cell_type": "code",
      "metadata": {
        "id": "9muyCUyysaYf"
      },
      "source": [
        "j = 0\n",
        "for i in range(len(train_files_path)) :\n",
        "  train_path = train_files_path[i]\n",
        "  test_path = test_files_path[j : j + 5]\n",
        "  j+=5\n",
        "  \n",
        "  train_file = open(train_path , 'r' ,encoding = 'utf-8').read()\n",
        "  sum1 =  open(test_path[0] , 'r' ,encoding = 'utf-8').read()\n",
        "  sum2 =  open(test_path[1] , 'r' ,encoding = 'utf-8').read()\n",
        "  sum3 =  open(test_path[2] , 'r' ,encoding = 'utf-8').read()\n",
        "  sum4 =  open(test_path[3] , 'r' ,encoding = 'utf-8').read()\n",
        "  sum5 =  open(test_path[4] , 'r' ,encoding = 'utf-8').read()\n",
        "  \n",
        "  row_list = []\n",
        "  row_list.extend((train_file, sum1, sum2,sum3,sum4,sum5))\n",
        "  data.loc[len(data)] = row_list\n",
        "\n",
        "  \n",
        "  \n",
        "  \n",
        "  "
      ],
      "execution_count": null,
      "outputs": []
    },
    {
      "cell_type": "code",
      "metadata": {
        "id": "HH40u7OK0CZh",
        "colab": {
          "base_uri": "https://localhost:8080/",
          "height": 204
        },
        "outputId": "50b9a129-c80d-4135-eb8c-2d2783ac1e6d"
      },
      "source": [
        "data.head()"
      ],
      "execution_count": null,
      "outputs": [
        {
          "output_type": "execute_result",
          "data": {
            "text/html": [
              "<div>\n",
              "<style scoped>\n",
              "    .dataframe tbody tr th:only-of-type {\n",
              "        vertical-align: middle;\n",
              "    }\n",
              "\n",
              "    .dataframe tbody tr th {\n",
              "        vertical-align: top;\n",
              "    }\n",
              "\n",
              "    .dataframe thead th {\n",
              "        text-align: right;\n",
              "    }\n",
              "</style>\n",
              "<table border=\"1\" class=\"dataframe\">\n",
              "  <thead>\n",
              "    <tr style=\"text-align: right;\">\n",
              "      <th></th>\n",
              "      <th>Orignal</th>\n",
              "      <th>Summary1</th>\n",
              "      <th>Summary2</th>\n",
              "      <th>Summary3</th>\n",
              "      <th>Summary4</th>\n",
              "      <th>Summary5</th>\n",
              "    </tr>\n",
              "  </thead>\n",
              "  <tbody>\n",
              "    <tr>\n",
              "      <th>0</th>\n",
              "      <td>﻿الإثنا عشري(بالإنجليزية: Duodenum) أو العفج ه...</td>\n",
              "      <td>يقوم الاثنا عشر بوظيفة أساسية في عملية الهضم.\\...</td>\n",
              "      <td>الإثنا عشري بالإنجليزية: Duodenum أو العفج هو ...</td>\n",
              "      <td>يقوم الاثنا عشر بوظيفة أساسية في عملية الهضم.</td>\n",
              "      <td>المواد النشوية التي لم يتم تفكيكها في الفم و ا...</td>\n",
              "      <td>الإثنا عشري بالإنجليزية: Duodenum أو العفج هو ...</td>\n",
              "    </tr>\n",
              "    <tr>\n",
              "      <th>1</th>\n",
              "      <td>﻿في وحدة خدمات المشتركين بكهرباء عسير، صباح ال...</td>\n",
              "      <td>في وحدة خدمات المشتركين بكهرباء عسير، صباح الي...</td>\n",
              "      <td>في وحدة خدمات المشتركين بكهرباء عسير، صباح الي...</td>\n",
              "      <td>في وحدة خدمات المشتركين بكهرباء عسير، صباح الي...</td>\n",
              "      <td>في وحدة خدمات المشتركين بكهرباء عسير، صباح الي...</td>\n",
              "      <td>في وحدة خدمات المشتركين بكهرباء عسير، صباح الي...</td>\n",
              "    </tr>\n",
              "    <tr>\n",
              "      <th>2</th>\n",
              "      <td>﻿المسيحية هي إحدى الديانات السماوية التي يعتبر...</td>\n",
              "      <td>المسيحية هي احدى الديانات السماوية التي يعتبر ...</td>\n",
              "      <td>المسيحية هي احدى الديانات السماوية التي يعتبر ...</td>\n",
              "      <td>المسيحية هي احدى الديانات السماوية التي يعتبر ...</td>\n",
              "      <td>تعتبر المسيحية اكثر الديانات اتباعا في العالم...</td>\n",
              "      <td>المسيحية هي احدى الديانات السماوية التي يعتبر ...</td>\n",
              "    </tr>\n",
              "    <tr>\n",
              "      <th>3</th>\n",
              "      <td>﻿تعتبر القدس مدينة مقدسة بالنسبة للديانات التو...</td>\n",
              "      <td>تعتبر القدس مدينة مقدسة بالنسبة للديانات التوح...</td>\n",
              "      <td>اول اسم ثابت لمدينة القدس هو اورسالم قبل خمسة ...</td>\n",
              "      <td>تعتبر القدس مدينة مقدسة بالنسبة للديانات التوح...</td>\n",
              "      <td>وتذكر في تاريخ اليهود والمسيحيين باعتبارها ال...</td>\n",
              "      <td>تعتبر القدس مدينة مقدسة بالنسبة للديانات التوح...</td>\n",
              "    </tr>\n",
              "    <tr>\n",
              "      <th>4</th>\n",
              "      <td>﻿أعلنت مصادر رسمية أن الحكومة الانتقالية برئاس...</td>\n",
              "      <td>اعلنت مصادر رسمية ان الحكومة الانتقالية برئاسة...</td>\n",
              "      <td>اعلنت مصادر رسمية ان الحكومة الانتقالية برئاسة...</td>\n",
              "      <td>اعلنت مصادر رسمية ان الحكومة الانتقالية برئاسة...</td>\n",
              "      <td>على صعيد آخر اعلن قيادي في حركة الوفاق الوطني...</td>\n",
              "      <td>اعلنت مصادر رسمية ان الحكومة الانتقالية برئاسة...</td>\n",
              "    </tr>\n",
              "  </tbody>\n",
              "</table>\n",
              "</div>"
            ],
            "text/plain": [
              "                                             Orignal  ...                                           Summary5\n",
              "0  ﻿الإثنا عشري(بالإنجليزية: Duodenum) أو العفج ه...  ...  الإثنا عشري بالإنجليزية: Duodenum أو العفج هو ...\n",
              "1  ﻿في وحدة خدمات المشتركين بكهرباء عسير، صباح ال...  ...  في وحدة خدمات المشتركين بكهرباء عسير، صباح الي...\n",
              "2  ﻿المسيحية هي إحدى الديانات السماوية التي يعتبر...  ...  المسيحية هي احدى الديانات السماوية التي يعتبر ...\n",
              "3  ﻿تعتبر القدس مدينة مقدسة بالنسبة للديانات التو...  ...  تعتبر القدس مدينة مقدسة بالنسبة للديانات التوح...\n",
              "4  ﻿أعلنت مصادر رسمية أن الحكومة الانتقالية برئاس...  ...  اعلنت مصادر رسمية ان الحكومة الانتقالية برئاسة...\n",
              "\n",
              "[5 rows x 6 columns]"
            ]
          },
          "metadata": {
            "tags": []
          },
          "execution_count": 23
        }
      ]
    },
    {
      "cell_type": "code",
      "metadata": {
        "id": "Z8SDwJUkOz7g",
        "colab": {
          "base_uri": "https://localhost:8080/",
          "height": 34
        },
        "outputId": "f510318b-3963-4913-bc25-4036463acf1d"
      },
      "source": [
        "data.shape"
      ],
      "execution_count": null,
      "outputs": [
        {
          "output_type": "execute_result",
          "data": {
            "text/plain": [
              "(153, 6)"
            ]
          },
          "metadata": {
            "tags": []
          },
          "execution_count": 24
        }
      ]
    },
    {
      "cell_type": "markdown",
      "metadata": {
        "id": "Y2O59oeEPqq-"
      },
      "source": [
        "# Preprocessing\n"
      ]
    },
    {
      "cell_type": "markdown",
      "metadata": {
        "id": "5JD_-UuJPpK7"
      },
      "source": [
        ""
      ]
    },
    {
      "cell_type": "code",
      "metadata": {
        "id": "4KDCr7HVPyKF"
      },
      "source": [
        "list_dir = '/content/EASC/list.txt'"
      ],
      "execution_count": null,
      "outputs": []
    },
    {
      "cell_type": "code",
      "metadata": {
        "id": "FWTNbtsCPymd",
        "colab": {
          "base_uri": "https://localhost:8080/",
          "height": 68
        },
        "outputId": "25965002-c4e1-4a98-f890-8ac8d2de8aaf"
      },
      "source": [
        "import nltk\n",
        "nltk.download('punkt')"
      ],
      "execution_count": null,
      "outputs": [
        {
          "output_type": "stream",
          "text": [
            "[nltk_data] Downloading package punkt to /root/nltk_data...\n",
            "[nltk_data]   Unzipping tokenizers/punkt.zip.\n"
          ],
          "name": "stdout"
        },
        {
          "output_type": "execute_result",
          "data": {
            "text/plain": [
              "True"
            ]
          },
          "metadata": {
            "tags": []
          },
          "execution_count": 26
        }
      ]
    },
    {
      "cell_type": "code",
      "metadata": {
        "id": "mcs3Gla9WP58",
        "colab": {
          "base_uri": "https://localhost:8080/",
          "height": 238
        },
        "outputId": "4f1c8409-6344-493e-d98e-d597f34250fc"
      },
      "source": [
        "import unicodedata as ud\n",
        "for c in 'abc:. . قيم ؟': print((c, ud.category(c)))"
      ],
      "execution_count": null,
      "outputs": [
        {
          "output_type": "stream",
          "text": [
            "('a', 'Ll')\n",
            "('b', 'Ll')\n",
            "('c', 'Ll')\n",
            "(':', 'Po')\n",
            "('.', 'Po')\n",
            "(' ', 'Zs')\n",
            "('.', 'Po')\n",
            "(' ', 'Zs')\n",
            "('ق', 'Lo')\n",
            "('ي', 'Lo')\n",
            "('م', 'Lo')\n",
            "(' ', 'Zs')\n",
            "('؟', 'Po')\n"
          ],
          "name": "stdout"
        }
      ]
    },
    {
      "cell_type": "code",
      "metadata": {
        "id": "DiAFrRVOdYlv"
      },
      "source": [
        "t = 'abc:. . قيم ؟'"
      ],
      "execution_count": null,
      "outputs": []
    },
    {
      "cell_type": "code",
      "metadata": {
        "id": "exjAzzaEcMf3",
        "colab": {
          "base_uri": "https://localhost:8080/",
          "height": 34
        },
        "outputId": "639792ec-924d-4975-c1a6-4cc1a9d52a2e"
      },
      "source": [
        "lst = []\n",
        "for c in t :\n",
        "  if c == '.' : lst.append(c)\n",
        "  if not ud.category(c).startswith('P') : lst.append(c)\n",
        "t2 = ''.join(lst)\n",
        "t2"
      ],
      "execution_count": null,
      "outputs": [
        {
          "output_type": "execute_result",
          "data": {
            "text/plain": [
              "'abc. . قيم '"
            ]
          },
          "metadata": {
            "tags": []
          },
          "execution_count": 29
        }
      ]
    },
    {
      "cell_type": "code",
      "metadata": {
        "id": "vUcFdBRAZ2Ky",
        "colab": {
          "base_uri": "https://localhost:8080/",
          "height": 34
        },
        "outputId": "34167aa3-42ca-4d11-bc8c-c31a344be814"
      },
      "source": [
        "ud.category(c).startswith('P')"
      ],
      "execution_count": null,
      "outputs": [
        {
          "output_type": "execute_result",
          "data": {
            "text/plain": [
              "True"
            ]
          },
          "metadata": {
            "tags": []
          },
          "execution_count": 30
        }
      ]
    },
    {
      "cell_type": "code",
      "metadata": {
        "id": "Mtm8-Jom4_YP"
      },
      "source": [
        "def noramlize(text):\n",
        "    text = re.sub(r\"[إأٱآا]\", \"ا\", text)\n",
        "    text = re.sub(r\"ى\", \"ي\", text)\n",
        "    text = re.sub(r\"ؤ\", \"ء\", text)\n",
        "    text = re.sub(r\"ئ\", \"ء\", text)\n",
        "    #text = re.sub(r\"ه\", \"ة\", text) \n",
        "  \n",
        "    \n",
        "    #text = re.sub(r'[^ا-ي ]', \"\", text)\n",
        "    \n",
        "    \n",
        "\n",
        "    noise = re.compile(\"\"\" ّ      | # Tashdid\n",
        "                             َ    | # Fatha\n",
        "                             ً    | # Tanwin Fath\n",
        "                             ُ    | # Damma\n",
        "                             ٌ    | # Tanwin Damm\n",
        "                             ِ    | # Kasra\n",
        "                             ٍ    | # Tanwin Kasr\n",
        "                             ْ    | # Sukun\n",
        "                             ـ     # Tatwil/Kashida\n",
        "                         \"\"\", re.VERBOSE)\n",
        "    text = re.sub(noise, '', text)\n",
        "    \n",
        "    lst = []\n",
        "    for c in text :\n",
        "      if c == '.' : lst.append(c)\n",
        "      if not ud.category(c).startswith('P') : lst.append(c)\n",
        "    text = ''.join(lst)\n",
        "        \n",
        "    #text = ''.join(c for c in text if not ud.category(c).startswith('P') and c != '.')\n",
        "    #remove = '!\"#$%&\\'()*+،-./:;<=>?@[\\\\]^_`{|}~'\n",
        "    #text = text.strip(remove)\n",
        "    #text = text.strip(string.punctuation)\n",
        "    \n",
        "    \n",
        "    return text"
      ],
      "execution_count": null,
      "outputs": []
    },
    {
      "cell_type": "code",
      "metadata": {
        "id": "1-c6IvDj06DB"
      },
      "source": [
        "def stopWordRmove(text):\n",
        "    ar_stop_list = open(list_dir, \"r\")\n",
        "    stop_words = ar_stop_list.read().split('\\n')\n",
        "    \n",
        "    text = text.replace('\\n' ,\" \")\n",
        "    text = text.replace(\"\\\"\" ,\" \").strip(\"''\")\n",
        "    text = text.replace('\\ufeff' ,\" \")\n",
        "    text = text.replace(\"``\" ,\" \").strip()\n",
        "    #text = noramlize(text)\n",
        "    \n",
        "    \n",
        "    words = word_tokenize(text)\n",
        "    needed_words = []\n",
        "    for w in words:\n",
        "        if w not in (stop_words) and w != '\\ufeff':\n",
        "            needed_words.append(w)\n",
        "            \n",
        "    filtered_sentence = \" \".join(needed_words)\n",
        "      \n",
        "    return filtered_sentence"
      ],
      "execution_count": null,
      "outputs": []
    },
    {
      "cell_type": "code",
      "metadata": {
        "id": "q40fwTitelir"
      },
      "source": [
        "def stopWordRmoveSentence(text):\n",
        "    ar_stop_list = open(list_dir, \"r\")\n",
        "    stop_words = ar_stop_list.read().split('\\n')\n",
        "    sentence_list = []\n",
        "    org_regex = \"[.]+\"\n",
        "    \n",
        "    text = text.replace('\\n' ,\" \")\n",
        "    text = text.replace(\"\\\"\" ,\" \").strip(\"''\")\n",
        "    text = text.replace(\"``\" ,\" \").strip()\n",
        "    #text = noramlize(text)\n",
        "    \n",
        "    sentences = [sentence for sentence in  re.split(org_regex,text)]\n",
        "    for sentence in sentences :\n",
        "      #pdb.set_trace()\n",
        "      words = word_tokenize(sentence)\n",
        "      needed_words = []\n",
        "      for w in words:\n",
        "          if w not in (stop_words) and w != '\\ufeff':\n",
        "              needed_words.append(w)\n",
        "      filtered_sentence = \"\"\n",
        "      if len(needed_words) > 1 : \n",
        "        filtered_sentence = \" \".join(needed_words)\n",
        "        sentence_list.append(needed_words)\n",
        "      \n",
        "    return sentence_list"
      ],
      "execution_count": null,
      "outputs": []
    },
    {
      "cell_type": "code",
      "metadata": {
        "id": "e5EzDliD6r4w"
      },
      "source": [
        "def stemming(text):\n",
        "    st = ISRIStemmer()\n",
        "    stemmed_words = []\n",
        "    words = word_tokenize(text)\n",
        "    for w in words:\n",
        "        stemmed_words.append(st.stem(w))\n",
        "    stemmed_sentence = \" \".join(stemmed_words)\n",
        "    return stemmed_sentence\n",
        "  \n",
        "\n"
      ],
      "execution_count": null,
      "outputs": []
    },
    {
      "cell_type": "code",
      "metadata": {
        "id": "1gh1E2SEZ-ch"
      },
      "source": [
        "def stemmingSentence(text):\n",
        "    st = ISRIStemmer()\n",
        "    org_regex = \"[.]+\"\n",
        "    #re.sub(r'([?!,.]+)',r' \\1 ',s) split on ther characters\n",
        "    #regex = \"/[^.\\s]+(?:\\s+\\([^)]*\\))?/g\"\n",
        "    sentence_list = []\n",
        "    sentences = [sentence for sentence in  re.split(org_regex,text)]\n",
        "\n",
        "    \n",
        "    for sentence in sentences :\n",
        "      words = word_tokenize(sentence)\n",
        "      stemmed_words = []\n",
        "      for w in words:\n",
        "          stemmed_words.append(st.stem(w))\n",
        "          \n",
        "      stemmed_sentence = \"\"\n",
        "      if len(stemmed_words) > 1 :\n",
        "        stemmed_sentence = \" \".join(stemmed_words)\n",
        "        sentence_list.append(stemmed_sentence)\n",
        "       \n",
        "    return sentence_list  "
      ],
      "execution_count": null,
      "outputs": []
    },
    {
      "cell_type": "code",
      "metadata": {
        "id": "cSc4atPacnjU",
        "colab": {
          "base_uri": "https://localhost:8080/",
          "height": 204
        },
        "outputId": "04d3aab8-6e57-421a-ec31-9471a35cb9f3"
      },
      "source": [
        "text = data['Orignal'][83]\n",
        "text = noramlize(text)\n",
        "text = stopWordRmove(text)\n",
        "stemmingSentence(text)"
      ],
      "execution_count": null,
      "outputs": [
        {
          "output_type": "execute_result",
          "data": {
            "text/plain": [
              "['حدد عنصر كيمياء فلز من قدم عدن كشف رمز له رمز Fe عدد ذري 26 وفي جدل دور يقع حدد في جمع ثمن دور ربع وهو عنصر ضرر لحا انس كون دخل في ركب هيموجلوب لدم كذل لحا نبت كون دخل في ركب كلوروفيل',\n",
              " 'و دخل في كل شيء حتل حدد ركز ربع من حيث وجد عنصر في قشر رضي وهو فلز قبل طرق سحب دخل في صنع عدد من سبء',\n",
              " 'حوي نيز سقط علي ارض علي كمي من حدد قد تصل الي 90 من كتل نيز',\n",
              " 'شبك بلر حدد علي هيء كعب وزع علي كل زاي من زيا ذرة حدد ثمن ذرت تقع اسع في ركز كعب اوتونيوم بنء فرد في دين روكسل مثل وذج شبك بلر حدد كبر 165 لير مرة جاء بنء رمز عظم حدد ودر في حية بشر',\n",
              " 'يعد حدد اقي فلز علي طلق كثر همي غرض هندس شرط حمي من صدا اي فعل مع كسج وهن عدة طرق لحم حدد من صداوابسط منع تمس كسج رطب عن حدد وذل غلف حدد بمد عزل مثل خدم صبغ او عزل',\n",
              " 'من فضل طرق خدم في صنع هي خدم نظم حمي كثد لحم حدد من صدا تكل',\n",
              " 'رمز حدد في ثقف عمة الي قوة و صلب ومن ذلك قول لا يفل حدد الا حدد و قول ضرب بيد من حدد',\n",
              " 'شكل حديداحدي قعد التي تقم عليها حضر',\n",
              " 'و رجع كون كثثر فاز خدا الي خصه قيمةو الي وفر خما و سهل وصل اليها',\n",
              " 'ان حدد وجد في عظم قشر رضي وهو مثل 50 منها من رغم من عدم سوي وزع في سطح ارض',\n",
              " 'نتج عمل جيولوجيةيترا حدد في رسب خلف حجم وهو كثر وفر في بطن ارض عقد ان لب ارض يتك من كثل من حديدو يكل في درج حرر 4000 م تحت ضغط علي جدا']"
            ]
          },
          "metadata": {
            "tags": []
          },
          "execution_count": 36
        }
      ]
    },
    {
      "cell_type": "code",
      "metadata": {
        "id": "biLLWlVzRC5u",
        "colab": {
          "base_uri": "https://localhost:8080/",
          "height": 54
        },
        "outputId": "9d459072-54fc-44fa-e05e-67179b06bac3"
      },
      "source": [
        "text = data['Orignal'][83]\n",
        "text = noramlize(text)\n",
        "text = stopWordRmove(text)\n",
        "text"
      ],
      "execution_count": null,
      "outputs": [
        {
          "output_type": "execute_result",
          "data": {
            "text/plain": [
              "'الحديد عنصر كيمياءي وفلز من اقدم المعادن المكتشفة يرمز له بالرمز Fe وعدده الذري 26 وفي الجدول الدوري يقع الحديد في المجموعة الثامنة والدورة الرابعة وهو عنصر ضروري لحياة الانسان كونه يدخل في تركيب هيموجلوبين الدم وكذلك لحياة النباتات كونه يدخل في تركيب الكلوروفيل .و يدخل في كل شيء ويحتل الحديد المركز الرابع من حيث وجود العناصر في القشرة الارضية وهو فلز قابل للطرق والسحب ويدخل في صناعة العديد من السباءك .تحتوي النيازك الساقطة علي الارض علي كميات من الحديد قد تصل الي 90 من كتلة النيازك.الشبكة البلورية للحديد علي هيءة مكعب تتوزع علي كل زاوية من زواياه ذرة حديد ثمانية ذرات وتقع تاسعة في مركز المكعب والاوتونيوم البناء الفريد في مدينة بروكسل يمثل نموذج الشبكة البلورية للحديد مكبرا 165 مليار مرة جاء البناء رمزا لعظمة الحديد ودوره في حياة البشرية.يعد الحديد اقوي الفلزات علي الاطلاق واكثرها اهمية للاغراض الهندسية شرط حمايته من الصدا اي التفاعل مع الاكسجين وهناك عدة طرق لحماية الحديد من الصداوابسطها منع تماس الاكسجين والرطوبة عن الحديد وذلك بتغليف الحديد بمادة عازلة مثل استخدام الاصباغ او عوازل . من افضل الطرق المستخدمة في الصناعة هي استخدام نظام الحماية الكاثودية لحماية الحديد من الصدا والتاكل.يرمز الحديد في الثقافة العامة الي القوة و الصلابة ومن ذلك قولنا لا يفل الحديد الا الحديد و قولنا سنضرب بيد من حديد . يشكل الحديداحدي القواعد التي تقوم عليها حضارتنا . و يرجع كونه اكثثر الفازات استخداما الي خواصه القيمةو الي وفرة خاماته و سهولة الوصول اليها.ان الحديد موجود في معظم القشرة الارضية وهو يمثل 50 منها من الرغم من عدم تساوي توزيعه في سطح الارض . ونتيجة لعمليات جيولوجيةيتراكم الحديد في رواسب مختلفة الحجم وهو اكثر توافرا في باطن الارض ويعتقد ان لب الارض يتكون من كثلة من الحديدو النيكل في درجة حرارة 4000 م تحت ضغوط عالية جدا .'"
            ]
          },
          "metadata": {
            "tags": []
          },
          "execution_count": 38
        }
      ]
    },
    {
      "cell_type": "code",
      "metadata": {
        "id": "VGJ9Yul2hHw9",
        "colab": {
          "base_uri": "https://localhost:8080/",
          "height": 173
        },
        "outputId": "a8be66d1-c3c9-43e9-ed68-9e966a361035"
      },
      "source": [
        "data[data['Orignal'].str.contains(\"العربية المتحدة\")]"
      ],
      "execution_count": null,
      "outputs": [
        {
          "output_type": "execute_result",
          "data": {
            "text/html": [
              "<div>\n",
              "<style scoped>\n",
              "    .dataframe tbody tr th:only-of-type {\n",
              "        vertical-align: middle;\n",
              "    }\n",
              "\n",
              "    .dataframe tbody tr th {\n",
              "        vertical-align: top;\n",
              "    }\n",
              "\n",
              "    .dataframe thead th {\n",
              "        text-align: right;\n",
              "    }\n",
              "</style>\n",
              "<table border=\"1\" class=\"dataframe\">\n",
              "  <thead>\n",
              "    <tr style=\"text-align: right;\">\n",
              "      <th></th>\n",
              "      <th>Orignal</th>\n",
              "      <th>Summary1</th>\n",
              "      <th>Summary2</th>\n",
              "      <th>Summary3</th>\n",
              "      <th>Summary4</th>\n",
              "      <th>Summary5</th>\n",
              "    </tr>\n",
              "  </thead>\n",
              "  <tbody>\n",
              "    <tr>\n",
              "      <th>28</th>\n",
              "      <td>﻿تم حفر أول بئر للبترول في الصين في القرن الرا...</td>\n",
              "      <td>تم حفر اول بئر للبترول في الصين في القرن الراب...</td>\n",
              "      <td>وكان يتم احراق الزيت لتبخير الماء المالح لانت...</td>\n",
              "      <td>وكان يتم احراق الزيت لتبخير الماء المالح لانت...</td>\n",
              "      <td>تم حفر اول بئر للبترول في الصين في القرن الراب...</td>\n",
              "      <td>وكان يتم احراق الزيت لتبخير الماء المالح لانت...</td>\n",
              "    </tr>\n",
              "    <tr>\n",
              "      <th>57</th>\n",
              "      <td>﻿هوكي الجليد هي رياضة يتبارى فيها فريقان على م...</td>\n",
              "      <td>هوكي الجليد هي رياضة يتبارى فيها فريقان على مس...</td>\n",
              "      <td>يضع اللاعبون زلاجات على اقدامهم لكي يتمكنوا م...</td>\n",
              "      <td>هوكي الجليد هي رياضة يتبارى فيها فريقان على مس...</td>\n",
              "      <td>هوكي الجليد هي رياضة يتبارى فيها فريقان على مس...</td>\n",
              "      <td>لكل فريق ستة لاعبين اثناء اللعب، ولكن عدد الف...</td>\n",
              "    </tr>\n",
              "    <tr>\n",
              "      <th>72</th>\n",
              "      <td>﻿إمارة دبي هي ثاني الإمارات المكونة لدولة الإم...</td>\n",
              "      <td>دبي هي العاصمة الاقتصادية للامارات العربية الم...</td>\n",
              "      <td>امارة دبي هي ثاني الامارات المكونة لدولة الاما...</td>\n",
              "      <td>امارة دبي هي ثاني الامارات المكونة لدولة الاما...</td>\n",
              "      <td>وتقع امارة دبي بين امارتي ابو ظبي والشارقة.</td>\n",
              "      <td>امارة دبي هي ثاني الامارات المكونة لدولة الاما...</td>\n",
              "    </tr>\n",
              "    <tr>\n",
              "      <th>118</th>\n",
              "      <td>﻿حرب اليمن أو حرب شمال اليمن الأهلية هي حرب دا...</td>\n",
              "      <td>﻿حرب اليمن أو حرب شمال اليمن الأهلية هي حرب دا...</td>\n",
              "      <td>فكانت الدول العربية مستقطبة بين المعسكرين الشر...</td>\n",
              "      <td>حرب اليمن أو حرب شمال اليمن الأهلية هي حرب دار...</td>\n",
              "      <td>وقد سيطرت الفصائل الجمهورية على الحكم في نهاية...</td>\n",
              "      <td>حرب اليمن أو حرب شمال اليمن الأهلية هي حرب دار...</td>\n",
              "    </tr>\n",
              "  </tbody>\n",
              "</table>\n",
              "</div>"
            ],
            "text/plain": [
              "                                               Orignal  ...                                           Summary5\n",
              "28   ﻿تم حفر أول بئر للبترول في الصين في القرن الرا...  ...   وكان يتم احراق الزيت لتبخير الماء المالح لانت...\n",
              "57   ﻿هوكي الجليد هي رياضة يتبارى فيها فريقان على م...  ...   لكل فريق ستة لاعبين اثناء اللعب، ولكن عدد الف...\n",
              "72   ﻿إمارة دبي هي ثاني الإمارات المكونة لدولة الإم...  ...  امارة دبي هي ثاني الامارات المكونة لدولة الاما...\n",
              "118  ﻿حرب اليمن أو حرب شمال اليمن الأهلية هي حرب دا...  ...  حرب اليمن أو حرب شمال اليمن الأهلية هي حرب دار...\n",
              "\n",
              "[4 rows x 6 columns]"
            ]
          },
          "metadata": {
            "tags": []
          },
          "execution_count": 39
        }
      ]
    },
    {
      "cell_type": "code",
      "metadata": {
        "id": "sX8luXJxh9-d",
        "colab": {
          "base_uri": "https://localhost:8080/",
          "height": 629
        },
        "outputId": "280f3a52-ca89-427a-b35b-a220f704172d"
      },
      "source": [
        "stemmingSentence(data.iloc[113,0])"
      ],
      "execution_count": null,
      "outputs": [
        {
          "output_type": "execute_result",
          "data": {
            "text/plain": [
              "['\\ufeffبعد نشر دين سلم بدأ حكم سلم لسط لمد 1300 سنة',\n",
              " 'لسط قدس سلم لأن الل امر سيد حمد عليه صلة و سلم بأن تكون قدس قبل اول سلم ( تجه الذي يجه سلم عند يصل ) ولأ صلي الل عليه سلم صعد في ليل سرء و عرج في رحل الى سمء من دين نور الى سجد قصى ضفة سجد قبة صخر بعد ذلك',\n",
              " 'صبح قدس دين قدس ثلث سلم',\n",
              " 'حكم سلم لم جبر دين على فلسطينيين، خلل كثر من قرن تحل غلب الى سلم',\n",
              " 'سيح يهد باق عبر اهل كتب',\n",
              " 'سمح لهم يطر قلة ذات في جمع وضم لهم امن وحر في عبد',\n",
              " 'مثل هذا سمح كان ندر في ارخ ادي و في ارخ لسط',\n",
              " 'كثر لسط تبن عرب ثقف سلم',\n",
              " 'لسط فاد من جار مع امبراطوري جار ومن اهم دين خلل حكم امي سلم في دمشق',\n",
              " 'عند نقل سلط الى غدد مع عبس في 750، صبح لسط همل',\n",
              " 'عنت بلد بعد ذلك من ضطراب هيم عاقب من قبل سلجوقيين، فاطميين، غزو صلب',\n",
              " 'شرك طين، على اية حل، في مجد حضر اسلامية، عند متع علم سلم عصر ذهب من علم، فن، فة، أدب',\n",
              " 'حيث بدأ سلم علم علم يون بدأ طرق جدد في عدة حقول، بعد سنن كان لكل ذلك سهم كبر في عصر نهض في ورب',\n",
              " 'عرب كنع كان اول سكن عرف لسط',\n",
              " 'خلل الف ثلث قبل يلد وقد صبح دني يعش في دول ومد منها ارح',\n",
              " 'طور بجد ومن شقت نظم كتب خرى',\n",
              " 'وقع لسط في ركز طرق التي ربط ثلث قار جعل لها وقع جمع دين و أثر ثقف على صر، ري، بلد ما بين هرين، وآس صغرى',\n",
              " 'وكانت ايض سحة حرب بين قوى عظمى في نطق و خضع لهم امبراطوري مجاورة، بدأ مصر في لفي ثلث قبل يلد',\n",
              " 'هيم صرة حكم ذتي كنع كنا شكل دئم في تحد خلل لفي ثني قبل يلد من قبل غزة تنع عرق عموريون، هيتيتيس، وهورريانس',\n",
              " 'على اية حل، هزم غزة من قبل صري كنع',\n",
              " 'بدأ سلط صرة ضعف بعد قرن ربع عشر قبل ميلاد، حتل جدد ومن عبر وهم جمع من قبل سمي من بلد ما بين هرين، و فلس ( بعد ذلك سمت بلد بسم ) ، وإج وهم شعب من اصل هند ورب',\n",
              " 'بعد نشر دين سلم بدأ حكم سلم لسط لمد 1300 سنة',\n",
              " 'لسط قدس سلم لأن الل امر سيد حمد عليه صلة و سلم بأن تكون قدس قبل اول سلم ( تجه الذي يجه سلم عند يصل ) ولأ صلي الل عليه سلم صعد في ليل سرء و عرج في رحل الى سمء من دين نور الى سجد قصى ضفة سجد قبة صخر بعد ذلك',\n",
              " 'صبح قدس دين قدس ثلث سلم',\n",
              " 'حكم سلم لم جبر دين على فلسطينيين، خلل كثر من قرن تحل غلب الى سلم',\n",
              " 'سيح يهد باق عبر اهل كتب',\n",
              " 'سمح لهم يطر قلة ذات في جمع وضم لهم امن وحر في عبد',\n",
              " 'مثل هذا سمح كان ندر في ارخ ادي و في ارخ لسط',\n",
              " 'كثر لسط تبن عرب ثقف سلم',\n",
              " 'لسط فاد من جار مع امبراطوري جار ومن اهم دين خلل حكم امي سلم في دمشق',\n",
              " 'عند نقل سلط الى غدد مع عبس في 750، صبح لسط همل',\n",
              " 'عنت بلد بعد ذلك من ضطراب هيم عاقب من قبل سلجوقيين، فاطميين، غزو صلب',\n",
              " 'شرك طين، على اية حل، في مجد حضر اسلامية، عند متع علم سلم عصر ذهب من علم، فن، فة، أدب',\n",
              " 'حيث بدأ سلم علم علم يون بدأ طرق جدد في عدة حقول، بعد سنن كان لكل ذلك سهم كبر في عصر نهض في ورب',\n",
              " 'كمنطق تحت يطر جهة سيس ، عبر لسط نطق نازع عليها ، وجد في لسط ارخ كين سيس هما دول رائيل سلط وطن فلسطينية واجد في نطق دنة فلسطينية في ضفة غرب قطع غزة',\n",
              " 'الا انه من وجه دول ، عبر رائيل دول عرف بها دول ، اما لسط فلس عرف بها كدل قلة الى حد الن']"
            ]
          },
          "metadata": {
            "tags": []
          },
          "execution_count": 40
        }
      ]
    },
    {
      "cell_type": "code",
      "metadata": {
        "id": "kEouaa9qhzs1",
        "colab": {
          "base_uri": "https://localhost:8080/",
          "height": 629
        },
        "outputId": "0480db7b-4fa7-4cf6-9cce-c9cd0537fcf6"
      },
      "source": [
        "dubai = data.iloc[113,0]\n",
        "dubai = noramlize(dubai)\n",
        "dubai = stopWordRmove(dubai)\n",
        "stemmingSentence(dubai)"
      ],
      "execution_count": null,
      "outputs": [
        {
          "output_type": "execute_result",
          "data": {
            "text/plain": [
              "['بعد نشر دين سلم بدا حكم سلم لسط لمد 1300 سنة',\n",
              " 'لسط قدس سلم لان الل امر سيد حمد عليه صلة و سلم بان تكون قدس قبل اول سلم تجه الذي يجه سلم عند يصل ولن صلي الل عليه سلم صعد في ليل سرء و عرج في رحل الي سمء من دين نور الي سجد اقص ضفة سجد قبة صخر بعد ذلك',\n",
              " 'صبح قدس دين قدس ثلث سلم',\n",
              " 'حكم سلم لم جبر دين علي لسط خلل كثر من قرن تحل غلب الي سلم',\n",
              " 'سيح يهد باق عبر اهل كتب',\n",
              " 'سمح لهم يطر قلة ذات في جمع وضم لهم امن وحر في عبد',\n",
              " 'مثل هذا سمح كان ندر في ارخ ادي و في ارخ لسط',\n",
              " 'كثر لسط تبن عرب ثقف سلم',\n",
              " 'لسط فاد من جار مع امبراطوري جار ومن اهم دين خلل حكم امي سلم في دمشق',\n",
              " 'عند نقل سلط الي غدد مع عبس في 750 صبح لسط همل',\n",
              " 'عنت بلد بعد ذلك من ضطراب هيم عاقب من قبل لجق فطم غزو صلب',\n",
              " 'شرك لسط علي اية حال في مجد حضر سلم عند متع علم سلم عصر ذهب من علم فن لسف ودب',\n",
              " 'حيث بدا سلم علم علم يون وبد طرق جدد في عدة حقل بعد سنن كان لكل ذلك سهم كبر في عصر نهض في ورب',\n",
              " 'عرب كنع كان اول سكن عرف لسط',\n",
              " 'خلل الف ثلث قبل يلد وقد صبح دني يعش في دول ومد منها ارح',\n",
              " 'طور بجد ومن شقت نظم كتب اخر',\n",
              " 'وقع لسط في ركز طرق التي ربط ثلث قار جعل لها وقع جمع دين و اثر ثقف علي مصر سور بلد ما بين نهر واس صغر',\n",
              " 'وكانت ايض سحة حرب بين قوي عظم في نطق و خضع لهم امبراطوري جار بدا مصر في فية ثلث قبل يلد',\n",
              " 'هيم صرة حكم ذتي كنع كنا شكل دءم في تحد خلل فية ثني قبل يلد من قبل غزة تنع عرق عمر هيتيتيس وهورريانس',\n",
              " 'علي اية حال هزم غزة من قبل صري كنع',\n",
              " 'بدت سلط صرة ضعف بعد قرن ربع عشر قبل يلد حتل جدد ومن عبر وهم جمع من قبءل سمي من بلد ما بين نهر و فلس بعد ذلك سمت بلد بسم ويج وهم شعب من اصل هند ورب',\n",
              " 'بعد نشر دين سلم بدا حكم سلم لسط لمد 1300 سنة',\n",
              " 'لسط قدس سلم لان الل امر سيد حمد عليه صلة و سلم بان تكون قدس قبل اول سلم تجه الذي يجه سلم عند يصل ولن صلي الل عليه سلم صعد في ليل سرء و عرج في رحل الي سمء من دين نور الي سجد اقص ضفة سجد قبة صخر بعد ذلك',\n",
              " 'صبح قدس دين قدس ثلث سلم',\n",
              " 'حكم سلم لم جبر دين علي لسط خلل كثر من قرن تحل غلب الي سلم',\n",
              " 'سيح يهد باق عبر اهل كتب',\n",
              " 'سمح لهم يطر قلة ذات في جمع وضم لهم امن وحر في عبد',\n",
              " 'مثل هذا سمح كان ندر في ارخ ادي و في ارخ لسط',\n",
              " 'كثر لسط تبن عرب ثقف سلم',\n",
              " 'لسط فاد من جار مع امبراطوري جار ومن اهم دين خلل حكم امي سلم في دمشق',\n",
              " 'عند نقل سلط الي غدد مع عبس في 750 صبح لسط همل',\n",
              " 'عنت بلد بعد ذلك من ضطراب هيم عاقب من قبل لجق فطم غزو صلب',\n",
              " 'شرك لسط علي اية حال في مجد حضر سلم عند متع علم سلم عصر ذهب من علم فن لسف ودب',\n",
              " 'حيث بدا سلم علم علم يون وبد طرق جدد في عدة حقل بعد سنن كان لكل ذلك سهم كبر في عصر نهض في ورب',\n",
              " 'كمنطق تحت يطر جهة سيس عبر لسط نطق نازع عليها وجد في لسط ارخ كين سيس هما دول راءيل سلط وطن فلسطينية واجد في نطق دنة فلسطينية في ضفة غرب قطع غزة',\n",
              " 'الا انه من وجه دول عبر راءيل دول عرف بها دول اما لسط فلس عرف بها كدل قلة الي حد الن']"
            ]
          },
          "metadata": {
            "tags": []
          },
          "execution_count": 41
        }
      ]
    },
    {
      "cell_type": "code",
      "metadata": {
        "id": "4Go_IDPtlt15",
        "colab": {
          "base_uri": "https://localhost:8080/",
          "height": 34
        },
        "outputId": "dd91aaae-21cf-43b7-9366-6d408b3d3f9a"
      },
      "source": [
        "len(stemmingSentence(dubai))"
      ],
      "execution_count": null,
      "outputs": [
        {
          "output_type": "execute_result",
          "data": {
            "text/plain": [
              "36"
            ]
          },
          "metadata": {
            "tags": []
          },
          "execution_count": 42
        }
      ]
    },
    {
      "cell_type": "code",
      "metadata": {
        "id": "QdjsVkP692GL",
        "colab": {
          "base_uri": "https://localhost:8080/",
          "height": 170
        },
        "outputId": "ff4d57d0-bf32-4386-872d-4c995d865c7f"
      },
      "source": [
        "text = data['Orignal'][0]\n",
        "regex = \"/[^.\\s]+(?:\\s+\\([^)]*\\))?/g\"\n",
        "org_regex = \"[.]+\"\n",
        "text = text.replace('\\n' ,\" \")\n",
        "sentences = [sentence for sentence in  re.split(org_regex,text)]\n",
        "sentences"
      ],
      "execution_count": null,
      "outputs": [
        {
          "output_type": "execute_result",
          "data": {
            "text/plain": [
              "['\\ufeffالإثنا عشري(بالإنجليزية: Duodenum) أو العفج هو أحد أجزاء القناة الهضمية وأول جزء من الأمعاء الدقيقة يصل بين المعدة و الصائم',\n",
              " ' طوله 25-30 سم وله أربعة قطع تشبه المضلع تنفتح في القطعة الثانية منه كلا من القناتين الصفراوية والمعثكلية ويفصله عن المعدة البواب',\n",
              " 'يقوم الاثنا عشر بوظيفة أساسية في عملية الهضم',\n",
              " 'المواد النشوية التي لم يتم تفكيكها في الفم و المعدة يقوم الثنى عشر بإكمال عملية تفكيكها بمساعدة أنزيمات يفرزها البنكرياس كذلك مقاطع البروتينات المسماه ببتونات التي تفككت من البروتينات في المعدة تستمر عملية هضمها في الاثنى عشر بمساعدة أنزيمات أساسية',\n",
              " ' كذلك يتم تحليل وهضم الدهون وكذا تتحلل وتهضم في الاثنى عشر بواسطة أنزيمات تصل من البنكرياس الفولماريات مثل المواد المضافة للغذاء كاللون والمنكهات وما شابه التي لم تحلل في المعدة والفم',\n",
              " 'المواد التي تصل من البنكرياس والكبد و المرارة تساعد على تحليل بعض مركبات الغذاء كيميائيا والمواد التي يتم تحليلها كيميائيا هي:بروتينات كروهيدرات ودهون بالاضافة لذلك يتم امتصاص مياة وموادمعدنية الى الدم علما بان المواد المعدنية لا يحل بها تغيير في العملية الهضمية(مواد غير عضوية)',\n",
              " ' الحامض الملحي الذي تفرزه المعدة يتم معادلته في الاثنى عشر بواسطة (NaHCO3) الذي يفرز من البنكرياس',\n",
              " 'كذلك يستقبل الاثنى عشر العصارة الصفراء التي تفرزها المرارة',\n",
              " '']"
            ]
          },
          "metadata": {
            "tags": []
          },
          "execution_count": 43
        }
      ]
    },
    {
      "cell_type": "code",
      "metadata": {
        "id": "mP8k6bwjfat3",
        "colab": {
          "base_uri": "https://localhost:8080/",
          "height": 1000
        },
        "outputId": "0aec96dd-cd0d-481f-c353-373a5f6db296"
      },
      "source": [
        "stopWordRmoveSentence(text)"
      ],
      "execution_count": null,
      "outputs": [
        {
          "output_type": "execute_result",
          "data": {
            "text/plain": [
              "[['\\ufeffالإثنا',\n",
              "  'عشري',\n",
              "  '(',\n",
              "  'بالإنجليزية',\n",
              "  ':',\n",
              "  'Duodenum',\n",
              "  ')',\n",
              "  'أو',\n",
              "  'العفج',\n",
              "  'هو',\n",
              "  'أحد',\n",
              "  'أجزاء',\n",
              "  'القناة',\n",
              "  'الهضمية',\n",
              "  'وأول',\n",
              "  'جزء',\n",
              "  'من',\n",
              "  'الأمعاء',\n",
              "  'الدقيقة',\n",
              "  'يصل',\n",
              "  'بين',\n",
              "  'المعدة',\n",
              "  'و',\n",
              "  'الصائم'],\n",
              " ['طوله',\n",
              "  '25-30',\n",
              "  'سم',\n",
              "  'وله',\n",
              "  'أربعة',\n",
              "  'قطع',\n",
              "  'تشبه',\n",
              "  'المضلع',\n",
              "  'تنفتح',\n",
              "  'في',\n",
              "  'القطعة',\n",
              "  'الثانية',\n",
              "  'منه',\n",
              "  'كلا',\n",
              "  'من',\n",
              "  'القناتين',\n",
              "  'الصفراوية',\n",
              "  'والمعثكلية',\n",
              "  'ويفصله',\n",
              "  'عن',\n",
              "  'المعدة',\n",
              "  'البواب'],\n",
              " ['يقوم', 'الاثنا', 'عشر', 'بوظيفة', 'أساسية', 'في', 'عملية', 'الهضم'],\n",
              " ['المواد',\n",
              "  'النشوية',\n",
              "  'التي',\n",
              "  'لم',\n",
              "  'يتم',\n",
              "  'تفكيكها',\n",
              "  'في',\n",
              "  'الفم',\n",
              "  'و',\n",
              "  'المعدة',\n",
              "  'يقوم',\n",
              "  'الثنى',\n",
              "  'عشر',\n",
              "  'بإكمال',\n",
              "  'عملية',\n",
              "  'تفكيكها',\n",
              "  'بمساعدة',\n",
              "  'أنزيمات',\n",
              "  'يفرزها',\n",
              "  'البنكرياس',\n",
              "  'كذلك',\n",
              "  'مقاطع',\n",
              "  'البروتينات',\n",
              "  'المسماه',\n",
              "  'ببتونات',\n",
              "  'التي',\n",
              "  'تفككت',\n",
              "  'من',\n",
              "  'البروتينات',\n",
              "  'في',\n",
              "  'المعدة',\n",
              "  'تستمر',\n",
              "  'عملية',\n",
              "  'هضمها',\n",
              "  'في',\n",
              "  'الاثنى',\n",
              "  'عشر',\n",
              "  'بمساعدة',\n",
              "  'أنزيمات',\n",
              "  'أساسية'],\n",
              " ['كذلك',\n",
              "  'يتم',\n",
              "  'تحليل',\n",
              "  'وهضم',\n",
              "  'الدهون',\n",
              "  'وكذا',\n",
              "  'تتحلل',\n",
              "  'وتهضم',\n",
              "  'في',\n",
              "  'الاثنى',\n",
              "  'عشر',\n",
              "  'بواسطة',\n",
              "  'أنزيمات',\n",
              "  'تصل',\n",
              "  'من',\n",
              "  'البنكرياس',\n",
              "  'الفولماريات',\n",
              "  'مثل',\n",
              "  'المواد',\n",
              "  'المضافة',\n",
              "  'للغذاء',\n",
              "  'كاللون',\n",
              "  'والمنكهات',\n",
              "  'وما',\n",
              "  'شابه',\n",
              "  'التي',\n",
              "  'لم',\n",
              "  'تحلل',\n",
              "  'في',\n",
              "  'المعدة',\n",
              "  'والفم'],\n",
              " ['المواد',\n",
              "  'التي',\n",
              "  'تصل',\n",
              "  'من',\n",
              "  'البنكرياس',\n",
              "  'والكبد',\n",
              "  'و',\n",
              "  'المرارة',\n",
              "  'تساعد',\n",
              "  'على',\n",
              "  'تحليل',\n",
              "  'بعض',\n",
              "  'مركبات',\n",
              "  'الغذاء',\n",
              "  'كيميائيا',\n",
              "  'والمواد',\n",
              "  'التي',\n",
              "  'يتم',\n",
              "  'تحليلها',\n",
              "  'كيميائيا',\n",
              "  'هي',\n",
              "  ':',\n",
              "  'بروتينات',\n",
              "  'كروهيدرات',\n",
              "  'ودهون',\n",
              "  'بالاضافة',\n",
              "  'لذلك',\n",
              "  'يتم',\n",
              "  'امتصاص',\n",
              "  'مياة',\n",
              "  'وموادمعدنية',\n",
              "  'الى',\n",
              "  'الدم',\n",
              "  'علما',\n",
              "  'بان',\n",
              "  'المواد',\n",
              "  'المعدنية',\n",
              "  'لا',\n",
              "  'يحل',\n",
              "  'بها',\n",
              "  'تغيير',\n",
              "  'في',\n",
              "  'العملية',\n",
              "  'الهضمية',\n",
              "  '(',\n",
              "  'مواد',\n",
              "  'غير',\n",
              "  'عضوية',\n",
              "  ')'],\n",
              " ['الحامض',\n",
              "  'الملحي',\n",
              "  'الذي',\n",
              "  'تفرزه',\n",
              "  'المعدة',\n",
              "  'يتم',\n",
              "  'معادلته',\n",
              "  'في',\n",
              "  'الاثنى',\n",
              "  'عشر',\n",
              "  'بواسطة',\n",
              "  '(',\n",
              "  'NaHCO3',\n",
              "  ')',\n",
              "  'الذي',\n",
              "  'يفرز',\n",
              "  'من',\n",
              "  'البنكرياس'],\n",
              " ['كذلك',\n",
              "  'يستقبل',\n",
              "  'الاثنى',\n",
              "  'عشر',\n",
              "  'العصارة',\n",
              "  'الصفراء',\n",
              "  'التي',\n",
              "  'تفرزها',\n",
              "  'المرارة']]"
            ]
          },
          "metadata": {
            "tags": []
          },
          "execution_count": 44
        }
      ]
    },
    {
      "cell_type": "code",
      "metadata": {
        "id": "6qCP5C92j9Pf"
      },
      "source": [
        "def preprocess(org_df):\n",
        "    df = org_df.copy()\n",
        "    ids_col = df.filter(regex='[Ii]d$').columns.values\n",
        "    df.drop(ids_col,axis =1 ,inplace = True)\n",
        "    \n",
        "    for col in df.columns :\n",
        "        if df[col].dtype == np.object:\n",
        "            df[col] = df[col].apply(lambda x : stopWordRmove(x))\n",
        "            df[col] = df[col].apply(lambda x : noramlize(x))\n",
        "            df[col] = df[col].apply(lambda x : stemming(x))\n",
        "                 \n",
        "    return df\n",
        "            "
      ],
      "execution_count": null,
      "outputs": []
    },
    {
      "cell_type": "code",
      "metadata": {
        "id": "d_hDitV3bu6r"
      },
      "source": [
        "def preprocessSentence(org_df):\n",
        "    df = org_df.copy()\n",
        "    ids_col = df.filter(regex='[Ii]d$').columns.values\n",
        "    df.drop(ids_col,axis =1 ,inplace = True)\n",
        "    \n",
        "    for col in df.columns :\n",
        "        if df[col].dtype == np.object:\n",
        "            df[col] = df[col].apply(lambda x : stopWordRmove(x))\n",
        "            df[col] = df[col].apply(lambda x : noramlize(x))\n",
        "            df[col] = df[col].apply(lambda x : stemmingSentence(x))\n",
        "                 \n",
        "    return df"
      ],
      "execution_count": null,
      "outputs": []
    },
    {
      "cell_type": "code",
      "metadata": {
        "id": "Xivd9ejU7pNJ",
        "colab": {
          "base_uri": "https://localhost:8080/",
          "height": 204
        },
        "outputId": "ace696d4-de29-46d4-d55d-a719628d8e15"
      },
      "source": [
        "new_df = preprocess(data)\n",
        "new_df.head()"
      ],
      "execution_count": null,
      "outputs": [
        {
          "output_type": "execute_result",
          "data": {
            "text/html": [
              "<div>\n",
              "<style scoped>\n",
              "    .dataframe tbody tr th:only-of-type {\n",
              "        vertical-align: middle;\n",
              "    }\n",
              "\n",
              "    .dataframe tbody tr th {\n",
              "        vertical-align: top;\n",
              "    }\n",
              "\n",
              "    .dataframe thead th {\n",
              "        text-align: right;\n",
              "    }\n",
              "</style>\n",
              "<table border=\"1\" class=\"dataframe\">\n",
              "  <thead>\n",
              "    <tr style=\"text-align: right;\">\n",
              "      <th></th>\n",
              "      <th>Orignal</th>\n",
              "      <th>Summary1</th>\n",
              "      <th>Summary2</th>\n",
              "      <th>Summary3</th>\n",
              "      <th>Summary4</th>\n",
              "      <th>Summary5</th>\n",
              "    </tr>\n",
              "  </thead>\n",
              "  <tbody>\n",
              "    <tr>\n",
              "      <th>0</th>\n",
              "      <td>اثن عشر انجليزية Duodenum او عفج هو احد جزء قن...</td>\n",
              "      <td>يقم اثن عشر وظف سسي في عمل هضم . كذلك قبل اثن ...</td>\n",
              "      <td>اثن عشر انجليزية Duodenum او عفج هو احد جزء قن...</td>\n",
              "      <td>يقم اثن عشر وظف سسي في عمل هضم .</td>\n",
              "      <td>واد نشي التي لم يتم فكك في لفم و عدة يقم ثني ع...</td>\n",
              "      <td>اثن عشر انجليزية Duodenum او عفج هو احد جزء قن...</td>\n",
              "    </tr>\n",
              "    <tr>\n",
              "      <th>1</th>\n",
              "      <td>في وحد خدم شرك كهرباء عسر صبح اليوم تقل رقم ال...</td>\n",
              "      <td>في وحد خدم شرك كهرباء عسر صبح اليوم تقل رقم ال...</td>\n",
              "      <td>في وحد خدم شرك كهرباء عسر صبح اليوم تقل رقم ال...</td>\n",
              "      <td>في وحد خدم شرك كهرباء عسر صبح اليوم تقل رقم ال...</td>\n",
              "      <td>في وحد خدم شرك كهرباء عسر صبح اليوم تقل رقم ال...</td>\n",
              "      <td>في وحد خدم شرك كهرباء عسر صبح اليوم تقل رقم ال...</td>\n",
              "    </tr>\n",
              "    <tr>\n",
              "      <th>2</th>\n",
              "      <td>سيح هي احد دين سمو التي عبر يسع سيح شخص سسي في...</td>\n",
              "      <td>سيح هي احد دين سمو التي عبر يسع سيح شخص سسي في...</td>\n",
              "      <td>سيح هي احد دين سمو التي عبر يسع سيح شخص سسي في...</td>\n",
              "      <td>سيح هي احد دين سمو التي عبر يسع سيح شخص سسي في...</td>\n",
              "      <td>عبر سيح كثر دين تبع في علم عدد تبع بلغ 2 . 1 ب...</td>\n",
              "      <td>سيح هي احد دين سمو التي عبر يسع سيح شخص سسي في...</td>\n",
              "    </tr>\n",
              "    <tr>\n",
              "      <th>3</th>\n",
              "      <td>عبر قدس دين قدس نسب دين وحد ثلث سلم سيح يهد نس...</td>\n",
              "      <td>عبر قدس دين قدس نسب دين وحد ثلث سلم سيح يهد نس...</td>\n",
              "      <td>اول اسم ثبت لمد قدس هو رسلم قبل خمس الف عام وي...</td>\n",
              "      <td>عبر قدس دين قدس نسب دين وحد ثلث سلم سيح يهد نس...</td>\n",
              "      <td>ذكر في ارخ يهد سيح عبر ركز لكي دين ممل يهذ ارخ...</td>\n",
              "      <td>عبر قدس دين قدس نسب دين وحد ثلث سلم سيح يهد نس...</td>\n",
              "    </tr>\n",
              "    <tr>\n",
              "      <th>4</th>\n",
              "      <td>اعل صدر رسم ان حكم انتقالية رءس دكتور راهيم جع...</td>\n",
              "      <td>اعل صدر رسم ان حكم انتقالية رءس دكتور راهيم جع...</td>\n",
              "      <td>اعل صدر رسم ان حكم انتقالية رءس دكتور راهيم جع...</td>\n",
              "      <td>اعل صدر رسم ان حكم انتقالية رءس دكتور راهيم جع...</td>\n",
              "      <td>علي صعد اخر اعل قيد في حرك وفق وطن عرق ل وطن و...</td>\n",
              "      <td>اعل صدر رسم ان حكم انتقالية رءس دكتور راهيم جع...</td>\n",
              "    </tr>\n",
              "  </tbody>\n",
              "</table>\n",
              "</div>"
            ],
            "text/plain": [
              "                                             Orignal  ...                                           Summary5\n",
              "0  اثن عشر انجليزية Duodenum او عفج هو احد جزء قن...  ...  اثن عشر انجليزية Duodenum او عفج هو احد جزء قن...\n",
              "1  في وحد خدم شرك كهرباء عسر صبح اليوم تقل رقم ال...  ...  في وحد خدم شرك كهرباء عسر صبح اليوم تقل رقم ال...\n",
              "2  سيح هي احد دين سمو التي عبر يسع سيح شخص سسي في...  ...  سيح هي احد دين سمو التي عبر يسع سيح شخص سسي في...\n",
              "3  عبر قدس دين قدس نسب دين وحد ثلث سلم سيح يهد نس...  ...  عبر قدس دين قدس نسب دين وحد ثلث سلم سيح يهد نس...\n",
              "4  اعل صدر رسم ان حكم انتقالية رءس دكتور راهيم جع...  ...  اعل صدر رسم ان حكم انتقالية رءس دكتور راهيم جع...\n",
              "\n",
              "[5 rows x 6 columns]"
            ]
          },
          "metadata": {
            "tags": []
          },
          "execution_count": 47
        }
      ]
    },
    {
      "cell_type": "code",
      "metadata": {
        "id": "wIRHN-h_71z2",
        "colab": {
          "base_uri": "https://localhost:8080/",
          "height": 34
        },
        "outputId": "129bad01-21f3-4849-e884-84c69bc11637"
      },
      "source": [
        "new_df['Summary1'][0]"
      ],
      "execution_count": null,
      "outputs": [
        {
          "output_type": "execute_result",
          "data": {
            "text/plain": [
              "'يقم اثن عشر وظف سسي في عمل هضم . كذلك قبل اثن عشر عصر صفراء التي فرز رار .'"
            ]
          },
          "metadata": {
            "tags": []
          },
          "execution_count": 48
        }
      ]
    },
    {
      "cell_type": "code",
      "metadata": {
        "id": "2X9KarKG8bfQ"
      },
      "source": [
        "new_df_list = preprocessSentence(data)"
      ],
      "execution_count": null,
      "outputs": []
    },
    {
      "cell_type": "code",
      "metadata": {
        "id": "EuLj9LlQjQkv",
        "colab": {
          "base_uri": "https://localhost:8080/",
          "height": 204
        },
        "outputId": "1d3d6333-c2e4-4802-9be1-93661a2027c1"
      },
      "source": [
        "new_df_list.head()"
      ],
      "execution_count": null,
      "outputs": [
        {
          "output_type": "execute_result",
          "data": {
            "text/html": [
              "<div>\n",
              "<style scoped>\n",
              "    .dataframe tbody tr th:only-of-type {\n",
              "        vertical-align: middle;\n",
              "    }\n",
              "\n",
              "    .dataframe tbody tr th {\n",
              "        vertical-align: top;\n",
              "    }\n",
              "\n",
              "    .dataframe thead th {\n",
              "        text-align: right;\n",
              "    }\n",
              "</style>\n",
              "<table border=\"1\" class=\"dataframe\">\n",
              "  <thead>\n",
              "    <tr style=\"text-align: right;\">\n",
              "      <th></th>\n",
              "      <th>Orignal</th>\n",
              "      <th>Summary1</th>\n",
              "      <th>Summary2</th>\n",
              "      <th>Summary3</th>\n",
              "      <th>Summary4</th>\n",
              "      <th>Summary5</th>\n",
              "    </tr>\n",
              "  </thead>\n",
              "  <tbody>\n",
              "    <tr>\n",
              "      <th>0</th>\n",
              "      <td>[اثن عشر انجليزية Duodenum او عفج هو احد جزء ق...</td>\n",
              "      <td>[يقم اثن عشر وظف سسي في عمل هضم, كذلك قبل اثن ...</td>\n",
              "      <td>[اثن عشر انجليزية Duodenum او عفج هو احد جزء ق...</td>\n",
              "      <td>[يقم اثن عشر وظف سسي في عمل هضم]</td>\n",
              "      <td>[واد نشي التي لم يتم فكك في لفم و عدة يقم ثني ...</td>\n",
              "      <td>[اثن عشر انجليزية Duodenum او عفج هو احد جزء ق...</td>\n",
              "    </tr>\n",
              "    <tr>\n",
              "      <th>1</th>\n",
              "      <td>[في وحد خدم شرك كهرباء عسر صبح اليوم تقل رقم ا...</td>\n",
              "      <td>[في وحد خدم شرك كهرباء عسر صبح اليوم تقل رقم ا...</td>\n",
              "      <td>[في وحد خدم شرك كهرباء عسر صبح اليوم تقل رقم ا...</td>\n",
              "      <td>[في وحد خدم شرك كهرباء عسر صبح اليوم تقل رقم ا...</td>\n",
              "      <td>[في وحد خدم شرك كهرباء عسر صبح اليوم تقل رقم ا...</td>\n",
              "      <td>[في وحد خدم شرك كهرباء عسر صبح اليوم تقل رقم ا...</td>\n",
              "    </tr>\n",
              "    <tr>\n",
              "      <th>2</th>\n",
              "      <td>[سيح هي احد دين سمو التي عبر يسع سيح شخص سسي ف...</td>\n",
              "      <td>[سيح هي احد دين سمو التي عبر يسع سيح شخص سسي ف...</td>\n",
              "      <td>[سيح هي احد دين سمو التي عبر يسع سيح شخص سسي ف...</td>\n",
              "      <td>[سيح هي احد دين سمو التي عبر يسع سيح شخص سسي ف...</td>\n",
              "      <td>[عبر سيح كثر دين تبع في علم عدد تبع بلغ 2, 1 ب...</td>\n",
              "      <td>[سيح هي احد دين سمو التي عبر يسع سيح شخص سسي ف...</td>\n",
              "    </tr>\n",
              "    <tr>\n",
              "      <th>3</th>\n",
              "      <td>[عبر قدس دين قدس نسب دين وحد ثلث سلم سيح يهد ن...</td>\n",
              "      <td>[عبر قدس دين قدس نسب دين وحد ثلث سلم سيح يهد ن...</td>\n",
              "      <td>[اول اسم ثبت لمد قدس هو رسلم قبل خمس الف عام و...</td>\n",
              "      <td>[عبر قدس دين قدس نسب دين وحد ثلث سلم سيح يهد ن...</td>\n",
              "      <td>[ذكر في ارخ يهد سيح عبر ركز لكي دين ممل يهذ ار...</td>\n",
              "      <td>[عبر قدس دين قدس نسب دين وحد ثلث سلم سيح يهد ن...</td>\n",
              "    </tr>\n",
              "    <tr>\n",
              "      <th>4</th>\n",
              "      <td>[اعل صدر رسم ان حكم انتقالية رءس دكتور راهيم ج...</td>\n",
              "      <td>[اعل صدر رسم ان حكم انتقالية رءس دكتور راهيم ج...</td>\n",
              "      <td>[اعل صدر رسم ان حكم انتقالية رءس دكتور راهيم ج...</td>\n",
              "      <td>[اعل صدر رسم ان حكم انتقالية رءس دكتور راهيم ج...</td>\n",
              "      <td>[علي صعد اخر اعل قيد في حرك وفق وطن عرق ل وطن ...</td>\n",
              "      <td>[اعل صدر رسم ان حكم انتقالية رءس دكتور راهيم ج...</td>\n",
              "    </tr>\n",
              "  </tbody>\n",
              "</table>\n",
              "</div>"
            ],
            "text/plain": [
              "                                             Orignal  ...                                           Summary5\n",
              "0  [اثن عشر انجليزية Duodenum او عفج هو احد جزء ق...  ...  [اثن عشر انجليزية Duodenum او عفج هو احد جزء ق...\n",
              "1  [في وحد خدم شرك كهرباء عسر صبح اليوم تقل رقم ا...  ...  [في وحد خدم شرك كهرباء عسر صبح اليوم تقل رقم ا...\n",
              "2  [سيح هي احد دين سمو التي عبر يسع سيح شخص سسي ف...  ...  [سيح هي احد دين سمو التي عبر يسع سيح شخص سسي ف...\n",
              "3  [عبر قدس دين قدس نسب دين وحد ثلث سلم سيح يهد ن...  ...  [عبر قدس دين قدس نسب دين وحد ثلث سلم سيح يهد ن...\n",
              "4  [اعل صدر رسم ان حكم انتقالية رءس دكتور راهيم ج...  ...  [اعل صدر رسم ان حكم انتقالية رءس دكتور راهيم ج...\n",
              "\n",
              "[5 rows x 6 columns]"
            ]
          },
          "metadata": {
            "tags": []
          },
          "execution_count": 50
        }
      ]
    },
    {
      "cell_type": "code",
      "metadata": {
        "id": "idwyFkggjd8f",
        "colab": {
          "base_uri": "https://localhost:8080/",
          "height": 85
        },
        "outputId": "53410aec-d0b9-49cc-bdc7-2527573fc2ce"
      },
      "source": [
        "new_df_list['Orignal'][133]"
      ],
      "execution_count": null,
      "outputs": [
        {
          "output_type": "execute_result",
          "data": {
            "text/plain": [
              "['عهد ءسس ثمر امر وبريطانية تدر اصل جوز قيم 3 ريليو دولار باستثمار لير دولار في شرك طقة نظف في حال لحد من خطر التي سبب تغر نخي',\n",
              " 'وقل رءس كتب خدم درة الة في يفر ستف ستل ان مول ثمر في اي شرع سوء ولد طقة كهرباءية او خدم ورب كثر كفء في محط كهرباء او شرك صنع سير مثل توو التي نتج سير عمل وقد كهرباء',\n",
              " 'وقل ستل همت شجع شرك علي فكر في بيء',\n",
              " 'جاء ذلك خلل جمع قمة ءسس ثمر تصد خطر نخي الذي عقد في مقر امم تحد حضر سءل الي من ولي امر مول ثمر كبر بحث كيف عمل مع خطر الة تغر نخي']"
            ]
          },
          "metadata": {
            "tags": []
          },
          "execution_count": 51
        }
      ]
    },
    {
      "cell_type": "code",
      "metadata": {
        "id": "qR3DtTLejwdg",
        "colab": {
          "base_uri": "https://localhost:8080/",
          "height": 34
        },
        "outputId": "3c517b7d-25d4-40f1-d1aa-3c66b40ed6be"
      },
      "source": [
        "len(new_df_list['Orignal'][133])"
      ],
      "execution_count": null,
      "outputs": [
        {
          "output_type": "execute_result",
          "data": {
            "text/plain": [
              "4"
            ]
          },
          "metadata": {
            "tags": []
          },
          "execution_count": 52
        }
      ]
    },
    {
      "cell_type": "markdown",
      "metadata": {
        "id": "UJ2vUDh_g4BA"
      },
      "source": [
        "# Feature extraction and formulation\n"
      ]
    },
    {
      "cell_type": "markdown",
      "metadata": {
        "id": "R7ZrgCH8qay4"
      },
      "source": [
        "## Keyphrase extraction"
      ]
    },
    {
      "cell_type": "code",
      "metadata": {
        "id": "MWwXWQR5g5Xn",
        "colab": {
          "base_uri": "https://localhost:8080/",
          "height": 561
        },
        "outputId": "58dec5b3-00ee-45f3-ce6a-eaf1448182f7"
      },
      "source": [
        "!pip install git+https://github.com/LIAAD/yake "
      ],
      "execution_count": null,
      "outputs": [
        {
          "output_type": "stream",
          "text": [
            "Collecting git+https://github.com/LIAAD/yake\n",
            "  Cloning https://github.com/LIAAD/yake to /tmp/pip-req-build-ojrfo1kw\n",
            "  Running command git clone -q https://github.com/LIAAD/yake /tmp/pip-req-build-ojrfo1kw\n",
            "Requirement already satisfied: tabulate in /usr/local/lib/python3.6/dist-packages (from yake==0.4.2) (0.8.3)\n",
            "Requirement already satisfied: click>=6.0 in /usr/local/lib/python3.6/dist-packages (from yake==0.4.2) (7.0)\n",
            "Requirement already satisfied: numpy in /usr/local/lib/python3.6/dist-packages (from yake==0.4.2) (1.16.4)\n",
            "Collecting segtok (from yake==0.4.2)\n",
            "  Downloading https://files.pythonhosted.org/packages/1d/59/6ed78856ab99d2da04084b59e7da797972baa0efecb71546b16d48e49d9b/segtok-1.5.7.tar.gz\n",
            "Requirement already satisfied: networkx in /usr/local/lib/python3.6/dist-packages (from yake==0.4.2) (2.3)\n",
            "Collecting jellyfish (from yake==0.4.2)\n",
            "\u001b[?25l  Downloading https://files.pythonhosted.org/packages/3f/80/bcacc7affb47be7279d7d35225e1a932416ed051b315a7f9df20acf04cbe/jellyfish-0.7.2.tar.gz (133kB)\n",
            "\u001b[K     |████████████████████████████████| 143kB 16.1MB/s \n",
            "\u001b[?25hCollecting regex (from segtok->yake==0.4.2)\n",
            "\u001b[?25l  Downloading https://files.pythonhosted.org/packages/6f/a6/99eeb5904ab763db87af4bd71d9b1dfdd9792681240657a4c0a599c10a81/regex-2019.08.19.tar.gz (654kB)\n",
            "\u001b[K     |████████████████████████████████| 655kB 38.9MB/s \n",
            "\u001b[?25hRequirement already satisfied: decorator>=4.3.0 in /usr/local/lib/python3.6/dist-packages (from networkx->yake==0.4.2) (4.4.0)\n",
            "Building wheels for collected packages: yake, segtok, jellyfish, regex\n",
            "  Building wheel for yake (setup.py) ... \u001b[?25l\u001b[?25hdone\n",
            "  Created wheel for yake: filename=yake-0.4.2-py2.py3-none-any.whl size=64301 sha256=3692970881c60752988f6fdc49223b53d46e1100266545db837428e4d257b769\n",
            "  Stored in directory: /tmp/pip-ephem-wheel-cache-2fdvlyc5/wheels/be/35/27/e4ebd54b78c1806ed8b0271ce247fcd91e2bedde35889fbc9b\n",
            "  Building wheel for segtok (setup.py) ... \u001b[?25l\u001b[?25hdone\n",
            "  Created wheel for segtok: filename=segtok-1.5.7-cp36-none-any.whl size=23258 sha256=be73b18c4fd1a8c5e746dfdf671040159098bc2ec7468cd44eac657328bcbdfb\n",
            "  Stored in directory: /root/.cache/pip/wheels/15/ee/a8/6112173f1386d33eebedb3f73429cfa41a4c3084556bcee254\n",
            "  Building wheel for jellyfish (setup.py) ... \u001b[?25l\u001b[?25hdone\n",
            "  Created wheel for jellyfish: filename=jellyfish-0.7.2-cp36-cp36m-linux_x86_64.whl size=72983 sha256=5a09744d9db1cd388e6d0629f631e73185213637d95635615fbf6e2ad44335cc\n",
            "  Stored in directory: /root/.cache/pip/wheels/e8/fe/99/d8fa8f2ef7b82a625b0b77a84d319b0b50693659823c4effb4\n",
            "  Building wheel for regex (setup.py) ... \u001b[?25l\u001b[?25hdone\n",
            "  Created wheel for regex: filename=regex-2019.8.19-cp36-cp36m-linux_x86_64.whl size=609230 sha256=d0b5a0eab5f3d78088bb85eb7689ca449ad37ff11ef0dde23bf8036446f3fc85\n",
            "  Stored in directory: /root/.cache/pip/wheels/90/04/07/b5010fb816721eb3d6dd64ed5cc8111ca23f97fdab8619b5be\n",
            "Successfully built yake segtok jellyfish regex\n",
            "Installing collected packages: regex, segtok, jellyfish, yake\n",
            "Successfully installed jellyfish-0.7.2 regex-2019.8.19 segtok-1.5.7 yake-0.4.2\n"
          ],
          "name": "stdout"
        }
      ]
    },
    {
      "cell_type": "code",
      "metadata": {
        "id": "NrByBwrKqeln",
        "colab": {
          "base_uri": "https://localhost:8080/",
          "height": 748
        },
        "outputId": "e1ed7384-64ea-47b6-ad34-d432e0e6f6db"
      },
      "source": [
        "import yake\n",
        "\n",
        "text = data.iloc[133,0]\n",
        "\n",
        "# assuming default parameters\n",
        "simple_kwextractor = yake.KeywordExtractor()\n",
        "keywords = simple_kwextractor.extract_keywords(text)\n",
        "\n",
        "print(\"assuming default parameters\")\n",
        "for kw in keywords:\n",
        "\tprint(kw)\n",
        "\n",
        "# specifying parameters\n",
        "max_ngram_size = 3\n",
        "custom_kwextractor = yake.KeywordExtractor(lan=\"ar\", n = max_ngram_size, dedupLim=0.9, dedupFunc='seqm', windowsSize=1, top=20, features=None)\n",
        "\n",
        "keywords = custom_kwextractor.extract_keywords(text)\n",
        "\n",
        "print(\"\\nspecifying parameters\")\n",
        "for kw in keywords:\n",
        "\tprint(kw)"
      ],
      "execution_count": null,
      "outputs": [
        {
          "output_type": "stream",
          "text": [
            "assuming default parameters\n",
            "('تريليونات دولار باستثمار', 0.0022186092091954343)\n",
            "('تعهدت مؤسسات مستثمرة', 0.0025302016573197153)\n",
            "('أصولا تتجاوز قيمتها', 0.0025302016573197153)\n",
            "('دولار باستثمار مليار', 0.0027412138035690712)\n",
            "('باستثمار مليار دولار', 0.0027412138035690712)\n",
            "('مؤسسات مستثمرة أمريكية', 0.0031273640945779515)\n",
            "('مستثمرة أمريكية وبريطانية', 0.0031273640945779515)\n",
            "('أمريكية وبريطانية تدير', 0.0031273640945779515)\n",
            "('وبريطانية تدير أصولا', 0.0031273640945779515)\n",
            "('تدير أصولا تتجاوز', 0.0031273640945779515)\n",
            "('التي تسببها التغيرات', 0.0051441986981571736)\n",
            "('تسببها التغيرات المناخية', 0.008242613143495878)\n",
            "('شركات الطاقة النظيفة', 0.00851744943114353)\n",
            "('المخاطر التي تسببها', 0.013561219145878258)\n",
            "('تريليونات دولار', 0.014983498131440719)\n",
            "('تعهدت مؤسسات', 0.017052913676598704)\n",
            "('تتجاوز قيمتها', 0.017052913676598704)\n",
            "('دولار باستثمار', 0.018455421033530744)\n",
            "('مليار دولار', 0.018455421033530744)\n",
            "('مؤسسات مستثمرة', 0.021014282152231275)\n",
            "\n",
            "specifying parameters\n",
            "('تريليونات دولار باستثمار', 0.0021396869733778727)\n",
            "('تعهدت مؤسسات مستثمرة', 0.0024448784996505503)\n",
            "('أصولا تتجاوز قيمتها', 0.0024448784996505503)\n",
            "('مؤسسات مستثمرة أمريكية', 0.003022518272272291)\n",
            "('مستثمرة أمريكية وبريطانية', 0.003022518272272291)\n",
            "('أمريكية وبريطانية تدير', 0.003022518272272291)\n",
            "('وبريطانية تدير أصولا', 0.003022518272272291)\n",
            "('تدير أصولا تتجاوز', 0.003022518272272291)\n",
            "('تسببها التغيرات المناخية', 0.007973108220988708)\n",
            "('شركات الطاقة النظيفة', 0.008242378047111256)\n",
            "('تريليونات دولار', 0.014619881457696935)\n",
            "('تعهدت مؤسسات', 0.016671220722561934)\n",
            "('تتجاوز قيمتها', 0.016671220722561934)\n",
            "('دولار باستثمار', 0.018012257423897466)\n",
            "('مؤسسات مستثمرة', 0.02054922674126416)\n",
            "('مستثمرة أمريكية', 0.02054922674126416)\n",
            "('أمريكية وبريطانية', 0.02054922674126416)\n",
            "('وبريطانية تدير', 0.02054922674126416)\n",
            "('تدير أصولا', 0.02054922674126416)\n",
            "('أصولا تتجاوز', 0.02054922674126416)\n"
          ],
          "name": "stdout"
        }
      ]
    },
    {
      "cell_type": "code",
      "metadata": {
        "id": "1uQ8uQeWrWLW",
        "colab": {
          "base_uri": "https://localhost:8080/",
          "height": 54
        },
        "outputId": "34d84443-85d8-463a-fc72-0bea56cc7dce"
      },
      "source": [
        "data['Orignal'][0].split('\\n')"
      ],
      "execution_count": null,
      "outputs": [
        {
          "output_type": "execute_result",
          "data": {
            "text/plain": [
              "['\\ufeffالإثنا عشري(بالإنجليزية: Duodenum) أو العفج هو أحد أجزاء القناة الهضمية وأول جزء من الأمعاء الدقيقة يصل بين المعدة و الصائم. طوله 25-30 سم وله أربعة قطع تشبه المضلع تنفتح في القطعة الثانية منه كلا من القناتين الصفراوية والمعثكلية ويفصله عن المعدة البواب.يقوم الاثنا عشر بوظيفة أساسية في عملية الهضم.المواد النشوية التي لم يتم تفكيكها في الفم و المعدة يقوم الثنى عشر بإكمال عملية تفكيكها بمساعدة أنزيمات يفرزها البنكرياس كذلك مقاطع البروتينات المسماه ببتونات التي تفككت من البروتينات في المعدة تستمر عملية هضمها في الاثنى عشر بمساعدة أنزيمات أساسية. كذلك يتم تحليل وهضم الدهون وكذا تتحلل وتهضم في الاثنى عشر بواسطة أنزيمات تصل من البنكرياس الفولماريات مثل المواد المضافة للغذاء كاللون والمنكهات وما شابه التي لم تحلل في المعدة والفم.المواد التي تصل من البنكرياس والكبد و المرارة تساعد على تحليل بعض مركبات الغذاء كيميائيا والمواد التي يتم تحليلها كيميائيا هي:بروتينات كروهيدرات ودهون بالاضافة لذلك يتم امتصاص مياة وموادمعدنية الى الدم علما بان المواد المعدنية لا يحل بها تغيير في العملية الهضمية(مواد غير عضوية). الحامض الملحي الذي تفرزه المعدة يتم معادلته في الاثنى عشر بواسطة (NaHCO3) الذي يفرز من البنكرياس.كذلك يستقبل الاثنى عشر العصارة الصفراء التي تفرزها المرارة.']"
            ]
          },
          "metadata": {
            "tags": []
          },
          "execution_count": 55
        }
      ]
    },
    {
      "cell_type": "code",
      "metadata": {
        "id": "9wNxSeBewVPy",
        "colab": {
          "base_uri": "https://localhost:8080/",
          "height": 34
        },
        "outputId": "e57d1157-37c0-48c2-9614-58037f6bb775"
      },
      "source": [
        "l = data['Orignal'][0].split('\\n')\n",
        "for s in l : print (len(s))"
      ],
      "execution_count": null,
      "outputs": [
        {
          "output_type": "stream",
          "text": [
            "1169\n"
          ],
          "name": "stdout"
        }
      ]
    },
    {
      "cell_type": "code",
      "metadata": {
        "id": "9Tg_XV8mxS3C",
        "colab": {
          "base_uri": "https://localhost:8080/",
          "height": 34
        },
        "outputId": "e1cd8fc5-2a76-47e7-8fef-e4eee9a8baa3"
      },
      "source": [
        "l = data['Orignal'][0].split('\\n')\n",
        "for s in l : print (len(s.split('.')))"
      ],
      "execution_count": null,
      "outputs": [
        {
          "output_type": "stream",
          "text": [
            "9\n"
          ],
          "name": "stdout"
        }
      ]
    },
    {
      "cell_type": "code",
      "metadata": {
        "id": "h9d1f0B61WhI"
      },
      "source": [
        ""
      ],
      "execution_count": null,
      "outputs": []
    },
    {
      "cell_type": "code",
      "metadata": {
        "id": "AUnEnVtkxoSY"
      },
      "source": [
        "def key_phrase(document):\n",
        "  '''\n",
        "  input : document is a string \n",
        "  output : tuples of keywords \n",
        "  \n",
        "  '''\n",
        "  \n",
        "  import yake\n",
        "\n",
        "  # specifying parameters\n",
        "  max_ngram_size = 3\n",
        "  custom_kwextractor = yake.KeywordExtractor(lan=\"ar\", n = max_ngram_size, dedupLim=0.9, dedupFunc='seqm', windowsSize=1, top=20, features=None)\n",
        "  keywords = custom_kwextractor.extract_keywords(text)\n",
        "  return keywords\n"
      ],
      "execution_count": null,
      "outputs": []
    },
    {
      "cell_type": "code",
      "metadata": {
        "id": "sLx7luNGzM_X"
      },
      "source": [
        ""
      ],
      "execution_count": null,
      "outputs": []
    },
    {
      "cell_type": "markdown",
      "metadata": {
        "id": "7J5MEvVpzREk"
      },
      "source": [
        "## Sentence location feature "
      ]
    },
    {
      "cell_type": "markdown",
      "metadata": {
        "id": "y3asRWAVIIDu"
      },
      "source": [
        ""
      ]
    },
    {
      "cell_type": "code",
      "metadata": {
        "id": "maZRWNhazxsl"
      },
      "source": [
        "# to be implmented after figuring paragraph structure "
      ],
      "execution_count": null,
      "outputs": []
    },
    {
      "cell_type": "code",
      "metadata": {
        "id": "DbpthT8Wz2YX"
      },
      "source": [
        ""
      ],
      "execution_count": null,
      "outputs": []
    },
    {
      "cell_type": "markdown",
      "metadata": {
        "id": "WftkIIz-z44T"
      },
      "source": [
        "## Similarity with title feature"
      ]
    },
    {
      "cell_type": "code",
      "metadata": {
        "id": "VWqJDLJs0GPM"
      },
      "source": [
        "# There is no title available \n",
        "title = ' الامارات دولة عظيمة'"
      ],
      "execution_count": null,
      "outputs": []
    },
    {
      "cell_type": "code",
      "metadata": {
        "id": "kZSMtBwqNzPY"
      },
      "source": [
        "def bag_of_words(all_sentences) :\n",
        "  '''\n",
        "  input : preprocessed list of all sentences in a document\n",
        "  output : return bag of words model array (where sentence i is model[i])\n",
        "  '''\n",
        "  from sklearn.feature_extraction.text import CountVectorizer \n",
        "  vectorizer = CountVectorizer()\n",
        "  X = vectorizer.fit_transform(all_sentences)\n",
        "  return X.toarray()"
      ],
      "execution_count": null,
      "outputs": []
    },
    {
      "cell_type": "code",
      "metadata": {
        "id": "_3QJvYjOKoWd"
      },
      "source": [
        "def get_bag_of_words_vector(sentence,document_list) :\n",
        "  '''\n",
        "  In this model, each sentence Si is represented as an N-dimensional vector Si = {wi1 ..wim}  where wik is the weight of term tk\n",
        "  that exists in the sentence Si, and n is the number of all possible unique words in the target document (target document is the original document )\n",
        "  \n",
        "  '''\n",
        "  bag_of_words_array = bag_of_words(document_list)"
      ],
      "execution_count": null,
      "outputs": []
    },
    {
      "cell_type": "code",
      "metadata": {
        "id": "UmE3g4kFJIZL"
      },
      "source": [
        "def cosine_similarity(sentence,title):\n",
        "  # the sentence and the title are represented using the bag-of-words model\n",
        "  pass"
      ],
      "execution_count": null,
      "outputs": []
    },
    {
      "cell_type": "code",
      "metadata": {
        "id": "EQEf4vHVQfLn"
      },
      "source": [
        ""
      ],
      "execution_count": null,
      "outputs": []
    },
    {
      "cell_type": "markdown",
      "metadata": {
        "id": "zh-heexshGl2"
      },
      "source": [
        "## Sentence centrality feature\n"
      ]
    },
    {
      "cell_type": "code",
      "metadata": {
        "id": "JdkiYR2NhH4l"
      },
      "source": [
        ""
      ],
      "execution_count": null,
      "outputs": []
    },
    {
      "cell_type": "code",
      "metadata": {
        "id": "HY_KATIiNq2Z"
      },
      "source": [
        ""
      ],
      "execution_count": null,
      "outputs": []
    },
    {
      "cell_type": "markdown",
      "metadata": {
        "id": "yGL_SNPTNrBn"
      },
      "source": [
        "## Sentence length feature\n"
      ]
    },
    {
      "cell_type": "code",
      "metadata": {
        "id": "BWgi315iPlrF"
      },
      "source": [
        "def outliers_iqr(sentences_length_list):\n",
        "  '''\n",
        "  compute interquartile range for all sentences \n",
        "  '''\n",
        "  quartile_1, quartile_3 = np.percentile(sentences_length_list, [25, 75])\n",
        "  iqr = quartile_3 - quartile_1\n",
        "  lower_bound = quartile_1 - (iqr * 1.5)\n",
        "  upper_bound = quartile_3 + (iqr * 1.5)\n",
        "  return np.where((sentences_length > upper_bound) | (sentences_length < lower_bound))"
      ],
      "execution_count": null,
      "outputs": []
    },
    {
      "cell_type": "code",
      "metadata": {
        "id": "2FyVF5u2P2nu"
      },
      "source": [
        "def outliers_iqr(sentence_length ,sentences_length_list):\n",
        "  '''\n",
        "  compute interquartile range for current sentence\n",
        "  '''\n",
        "  quartile_1, quartile_3 = np.percentile(sentences_length_list, [25, 75])\n",
        "  iqr = quartile_3 - quartile_1\n",
        "  lower_bound = quartile_1 - (iqr * 1.5)\n",
        "  upper_bound = quartile_3 + (iqr * 1.5)\n",
        "  return  1 if (sentence_length > upper_bound) | (sentence_length < lower_bound) else 0"
      ],
      "execution_count": null,
      "outputs": []
    },
    {
      "cell_type": "code",
      "metadata": {
        "id": "rVKdTcjVNr_C"
      },
      "source": [
        "def sentence_length_score(sentence ,document_list):\n",
        "  #pdb.set_trace()\n",
        "  sentences_length = [len(sentence) for sentence in document_list]\n",
        "  document_max_length = max(sentences_length)\n",
        "  is_outlier = outliers_iqr(len(sentence) ,sentences_length)\n",
        "  \n",
        "  if is_outlier : \n",
        "    return 0\n",
        "  else :\n",
        "    return len(sentence) / document_max_length\n",
        "    "
      ],
      "execution_count": null,
      "outputs": []
    },
    {
      "cell_type": "markdown",
      "metadata": {
        "id": "jF2Z0omaRxPb"
      },
      "source": [
        "## Cue-phrases feature\n"
      ]
    },
    {
      "cell_type": "code",
      "metadata": {
        "id": "g3fzg5DESOSE"
      },
      "source": [
        "cue_phrases = [\"الاهم\" , \"بالتحديد\" , \"كنتيجة\" , \"الافضل \"]"
      ],
      "execution_count": null,
      "outputs": []
    },
    {
      "cell_type": "code",
      "metadata": {
        "id": "QGUakJW3R0MA"
      },
      "source": [
        "def cue_phrases_score(sentence ,document_list , cue_phrases):\n",
        "  \n",
        "  number_of_sentence_cue_phrases = 0\n",
        "  for cue in cue_phrases : \n",
        "    for word in sentence :\n",
        "      if cue == word : \n",
        "        number_of_sentence_cue_phrases+=1\n",
        "        \n",
        "  number_of_document_list_cue_phrases = 0\n",
        "  for s in document_list :\n",
        "    for cue in cue_phrases : \n",
        "      for word in s :\n",
        "        if cue == word : \n",
        "          number_of_document_list_cue_phrases+=1\n",
        "          \n",
        "  return number_of_sentence_cue_phrases / number_of_document_list_cue_phrases\n"
      ],
      "execution_count": null,
      "outputs": []
    },
    {
      "cell_type": "code",
      "metadata": {
        "id": "eMuimmLyUh_K"
      },
      "source": [
        ""
      ],
      "execution_count": null,
      "outputs": []
    },
    {
      "cell_type": "markdown",
      "metadata": {
        "id": "BV2d6Zl6UnUB"
      },
      "source": [
        "## Strong Word Feature"
      ]
    },
    {
      "cell_type": "code",
      "metadata": {
        "id": "byHsHNoqUuJ5"
      },
      "source": [
        "strong_words = [\"وثّق\",\"أكّد \"]"
      ],
      "execution_count": null,
      "outputs": []
    },
    {
      "cell_type": "code",
      "metadata": {
        "id": "kcRJGdXSVNyp"
      },
      "source": [
        "def strong_words_score(sentence ,document_list , strong_words):\n",
        "  \n",
        "  number_of_strong_words = 0\n",
        "  for cue in strong_words : \n",
        "    for word in sentence :\n",
        "      if cue == word : \n",
        "        number_of_strong_words+=1\n",
        "        \n",
        "  number_of_document_list_strong_words = 0\n",
        "  for s in document_list :\n",
        "    for cue in cue_phrases : \n",
        "      for word in s :\n",
        "        if cue == word : \n",
        "          number_of_document_list_strong_words+=1\n",
        "          \n",
        "  return number_of_strong_words / number_of_document_list_strong_words"
      ],
      "execution_count": null,
      "outputs": []
    },
    {
      "cell_type": "code",
      "metadata": {
        "id": "_W4el1gZVdQP"
      },
      "source": [
        ""
      ],
      "execution_count": null,
      "outputs": []
    },
    {
      "cell_type": "markdown",
      "metadata": {
        "id": "V_d_rmoWVhqb"
      },
      "source": [
        "## Existence of numerical data"
      ]
    },
    {
      "cell_type": "code",
      "metadata": {
        "id": "oknvwzZFWoC0"
      },
      "source": [
        "# should handle both arabic and english numbers -> numbers in data already english maybe because of utf8 encoding "
      ],
      "execution_count": null,
      "outputs": []
    },
    {
      "cell_type": "code",
      "metadata": {
        "id": "oh6SiIl_vPqv"
      },
      "source": [
        "s = [['٣٣٣', '٢', 'يا', 'رباااااااه' ,'٣']]"
      ],
      "execution_count": null,
      "outputs": []
    },
    {
      "cell_type": "code",
      "metadata": {
        "id": "4NJq6RGZtTEC"
      },
      "source": [
        "def convert_arabic_to_english(document_list) :\n",
        "  eastern_to_western = {\"٠\":\"0\",\"١\":\"1\",\"٢\":\"2\",\"٣\":\"3\",\"٤\":\"4\",\"٥\":\"5\",\"٦\":\"6\",\"٧\":\"7\",\"٨\":\"8\",\"٩\":\"9\"}\n",
        "  \n",
        "  for i in  range(len(document_list)) : \n",
        "    for j in range(len(document_list[i])):\n",
        "      if document_list[i][j][0] in eastern_to_western :\n",
        "        document_list[i][j]  = ''.join([eastern_to_western[c] for c in document_list[i][j]])\n",
        "  return document_list"
      ],
      "execution_count": null,
      "outputs": []
    },
    {
      "cell_type": "code",
      "metadata": {
        "id": "J-CoXJgCvZvb",
        "colab": {
          "base_uri": "https://localhost:8080/",
          "height": 34
        },
        "outputId": "804b6697-6c9c-469e-9a24-a04822e28855"
      },
      "source": [
        "convert_arabic_to_english(s)"
      ],
      "execution_count": null,
      "outputs": [
        {
          "output_type": "execute_result",
          "data": {
            "text/plain": [
              "[['333', '2', 'يا', 'رباااااااه', '3']]"
            ]
          },
          "metadata": {
            "tags": []
          },
          "execution_count": 74
        }
      ]
    },
    {
      "cell_type": "code",
      "metadata": {
        "id": "u4vzTCyuVpuW"
      },
      "source": [
        "def numerical_data_score(sentence ,document_list):\n",
        "  \n",
        "  numbers_count_sentence = 0\n",
        "  for word in sentence :\n",
        "    if word : \n",
        "      number_of_strong_words+=1\n",
        "        \n",
        "  number_of_document_list_strong_words = 0\n",
        "  for s in document_list :\n",
        "    for cue in cue_phrases : \n",
        "      for word in s :\n",
        "        if cue == word : \n",
        "          number_of_document_list_strong_words+=1\n",
        "          \n",
        "  return number_of_strong_words / number_of_document_list_strong_words"
      ],
      "execution_count": null,
      "outputs": []
    },
    {
      "cell_type": "code",
      "metadata": {
        "id": "ielH5MwT1X2v"
      },
      "source": [
        ""
      ],
      "execution_count": null,
      "outputs": []
    },
    {
      "cell_type": "markdown",
      "metadata": {
        "id": "TkwOZA1U1fY_"
      },
      "source": [
        "# Score-Based Algorithm"
      ]
    },
    {
      "cell_type": "code",
      "metadata": {
        "id": "NjXKv6c54QQS"
      },
      "source": [
        "features = [sentence_length_score ,cue_phrases_score,strong_words_score]"
      ],
      "execution_count": null,
      "outputs": []
    },
    {
      "cell_type": "code",
      "metadata": {
        "id": "Z97X8NV7R70h"
      },
      "source": [
        "dubai = data.iloc[22,0]\n",
        "dubai = noramlize(dubai)\n",
        "#dubai = stopWordRmove(dubai)\n",
        "#dubai = stemmingSentence(dubai)\n",
        "dubai = stopWordRmoveSentence(dubai)\n"
      ],
      "execution_count": null,
      "outputs": []
    },
    {
      "cell_type": "code",
      "metadata": {
        "id": "NrOtDFJFWq94",
        "colab": {
          "base_uri": "https://localhost:8080/",
          "height": 34
        },
        "outputId": "15f3fab6-aafd-44c7-d7e1-d7a85e579a1e"
      },
      "source": [
        "len(dubai)"
      ],
      "execution_count": null,
      "outputs": [
        {
          "output_type": "execute_result",
          "data": {
            "text/plain": [
              "8"
            ]
          },
          "metadata": {
            "tags": []
          },
          "execution_count": 78
        }
      ]
    },
    {
      "cell_type": "code",
      "metadata": {
        "id": "_FvFrSb81lhN"
      },
      "source": [
        "def score(document_list) :\n",
        "  lst = []\n",
        "  ordered_list = []\n",
        "  max_legnth_summary = 4\n",
        "  S = document_list.copy()\n",
        "  summary  = []\n",
        "  sentence_scores = []\n",
        "  for index,sentence in enumerate(document_list) :\n",
        "    total_score = 0\n",
        "    score = sentence_length_score(sentence ,document_list)\n",
        "    total_score += score\n",
        "    sentence_scores.append((index,total_score))\n",
        "    \n",
        "  \n",
        "  ordered_list = sorted(sentence_scores,key =  lambda x : x[1] ,reverse = True)\n",
        "  \n",
        "  i = 0\n",
        "  while len(summary) < max_legnth_summary : \n",
        "    summary.append(ordered_list[i])\n",
        "    i+=1\n",
        "  \n",
        "  last_summary = sorted(summary,key =  lambda x : x[0])\n",
        "  return last_summary\n",
        "    \n",
        "    \n",
        "  \n",
        "  \n",
        "    \n",
        "    \n",
        "  "
      ],
      "execution_count": null,
      "outputs": []
    },
    {
      "cell_type": "code",
      "metadata": {
        "id": "HixzBtM3RqHh",
        "colab": {
          "base_uri": "https://localhost:8080/",
          "height": 85
        },
        "outputId": "993629f3-fa80-4a52-c552-e7b17d2b57f9"
      },
      "source": [
        "score_list = score(dubai)\n",
        "score_list"
      ],
      "execution_count": null,
      "outputs": [
        {
          "output_type": "execute_result",
          "data": {
            "text/plain": [
              "[(1, 0.8222222222222222),\n",
              " (4, 0.8222222222222222),\n",
              " (5, 0.9111111111111111),\n",
              " (6, 1.0)]"
            ]
          },
          "metadata": {
            "tags": []
          },
          "execution_count": 80
        }
      ]
    },
    {
      "cell_type": "code",
      "metadata": {
        "id": "EKbMmPPgSd30",
        "colab": {
          "base_uri": "https://localhost:8080/",
          "height": 85
        },
        "outputId": "eacc4a10-3041-4723-fa93-16a4e7308819"
      },
      "source": [
        "sum_list = [dubai[x] for (x,y) in score_list]\n",
        "text_list = [' '.join(s) for s in sum_list]\n",
        "text_list"
      ],
      "execution_count": null,
      "outputs": [
        {
          "output_type": "execute_result",
          "data": {
            "text/plain": [
              "['ان اصل نشاة الكاراتيه في اليابان علي جزيرة اوكيناوا وسبب موقعها الجغرافي الممتاز حيث قربها علي الصين ادي الي تفاعل تجارة ناجحة مع جيرانها الصينيين مما جعل بعضا من ثقافتة متاثر قليلا في ثقافة الصين وفنونها القتالية',\n",
              " 'وعندما ارادت اليابان التوحد في فترة ميجي واسقاط الحكم الاقطاعي في كانت هناك بعض المناطق في اليابان لا بد وان توحد بالقوة ومن هذه المناطق ارخبيل ريوكو الذي يوجد فيه ولاية اوكيناوا التي ظهر فيها فن الكاراتيه',\n",
              " 'فقد هاجمتها قوات هاءلة من الساموراي عام 1600م واسقطت النظام الاقطاعي الحاكم للارخبيل وعند ذلك اجرت قوات الساموراي عملية حظر السلاح علي سكان الجزيرة خوفا من الثورات ضدهم فاراد الاوكيناويين ان يستعملو اعضاء جسدهم كسلاح للدفاع عن النفس علي جزيرة اوكيناوا',\n",
              " 'وبعد ذلك وحدتها الحكومة اليابانية في فترة حكم الامبراطور ميجي عام 1879م وبعد ان ارجع ارخبيل ريوكو وجزيرة اوكيناوا الي الحكم الياباني اراد فوناكشي ومجموعة من خبراء فنون القتال اليابانيه في طوكيو ان يجعلوا الكاراتيه فن قتالي عسكري ياباني مءكد من جمعية اليابان لفنون القتال']"
            ]
          },
          "metadata": {
            "tags": []
          },
          "execution_count": 81
        }
      ]
    },
    {
      "cell_type": "markdown",
      "metadata": {
        "id": "PNvcbcjlh4x7"
      },
      "source": [
        "#Evaluation"
      ]
    },
    {
      "cell_type": "code",
      "metadata": {
        "id": "8DHD-yV3gMf9"
      },
      "source": [
        "# all=[]\n",
        "# for i in range(len(data.columns[1:])):\n",
        "#   all.append(data[data.columns[i][22]])\n",
        "\n",
        "# all\n",
        "# all=[]\n",
        "# for i in range(1,6):\n",
        "#   sumar_i = data['summary{}'.format(i)][22]\n",
        "#   all.append(sumar_i)\n"
      ],
      "execution_count": null,
      "outputs": []
    },
    {
      "cell_type": "code",
      "metadata": {
        "id": "fhODTprdeWV0",
        "colab": {
          "base_uri": "https://localhost:8080/",
          "height": 34
        },
        "outputId": "abaebdcd-c387-42d6-ab0e-53ee72af7009"
      },
      "source": [
        "print(data.columns[1:])"
      ],
      "execution_count": null,
      "outputs": [
        {
          "output_type": "stream",
          "text": [
            "Index(['Summary1', 'Summary2', 'Summary3', 'Summary4', 'Summary5'], dtype='object')\n"
          ],
          "name": "stdout"
        }
      ]
    },
    {
      "cell_type": "markdown",
      "metadata": {
        "id": "nUvvrKVVi-wS"
      },
      "source": [
        "#golden_summary"
      ]
    },
    {
      "cell_type": "code",
      "metadata": {
        "id": "HOKWM9mDjCkI"
      },
      "source": [
        ""
      ],
      "execution_count": null,
      "outputs": []
    },
    {
      "cell_type": "code",
      "metadata": {
        "id": "-pxCJg7vOjuG"
      },
      "source": [
        "sumar_1= data['Summary1'][21]\n",
        "sumar_2= data['Summary2'][21]\n",
        "sumar_3= data['Summary3'][21]\n",
        "sumar_4= data['Summary4'][21]\n",
        "sumar_5= data['Summary5'][21]\n",
        "all_summaries = [sumar_1,sumar_2,sumar_3,sumar_4,sumar_5]\n"
      ],
      "execution_count": null,
      "outputs": []
    },
    {
      "cell_type": "code",
      "metadata": {
        "id": "32Tzm1jYU7xk",
        "colab": {
          "base_uri": "https://localhost:8080/",
          "height": 360
        },
        "outputId": "265b9278-a579-458a-dd25-fb3c7e56839c"
      },
      "source": [
        "res=[]\n",
        "for sam in range(len(all_summaries)):\n",
        "  res.append(all_summaries[sam].split('.'))\n",
        "  #res[sam].remove('')\n",
        "  \n",
        "\n",
        "res"
      ],
      "execution_count": null,
      "outputs": [
        {
          "output_type": "execute_result",
          "data": {
            "text/plain": [
              "[[' وتم منح الجوائز في عدد من الفئات إلى المطورين الذين تمكنوا من استثمار تقنيات مايكروسوفت على أكمل وجه بما فيه فائدة قطاع التجزئة والعملاء',\n",
              "  ' وسبق في عام 2002 أن فازت \"دو كونت\" بجائزة \"مايكروسوفت فيوجن\" التي أقيمت في لوس أنجلوس عن حل الشرطة الإلكترونية ضمن فئة \"أفضل الحلول التنسيقية\"',\n",
              "  ' وقد جاء هذا الفوز نتيجة لالتزامنا بتطوير أفضل الحلول التقنية لهذه المنطقة، وللدعم الذي استمديناه من الرؤية الاستراتيجية لشرطة دبي والتطور الكبير الذي تتميز به تقنيات مايكروسوفت المبتكرة\"',\n",
              "  ''],\n",
              " [' ولكن لجنة التحكيم المستقلة التي تضم تجاراً وصحفيين ومحللين من قطاع التجزئة قررت ترقية حل \"دو كونت\" المتطور إلى فئة \"أفضل ابتكار\" التي استحقت الشركة عنها الجائزة الأولى بجدارة',\n",
              "  ''],\n",
              " ['وتم منح الجوائز في عدد من الفئات إلى المطورين الذين تمكنوا من استثمار تقنيات مايكروسوفت على أكمل وجه بما فيه فائدة قطاع التجزئة والعملاء\\nوقد تمكنت دوكونت، الشركة الرائدة في مجال تطبيقات الإنترنت السلكية واللاسلكية في منطقة الشرق الأوسط، من الفوز بجائزة هذه الفئة عن حل الحوسبة النقالة الذي طورته لصالح شرطة دبي العام الماضي',\n",
              "  ' وقال الدكتور عمر بن سليمان، الرئيس التنفيذي لمدينة دبي للإنترنت: \"تقدم هذه الجائزة خير دليل على أن البرمجيات التجارية توفر للمطورين المنصة المثالية لإيجاد حلول مبتكرة للتغلب على التحديات الفعلية التي تواجه قطاع الأعمال\"',\n",
              "  ' من جانبه، أضاف عبد اللطيف الملا، مدير عام مايكروسوفت جنوب الخليج: \"حظيت \"دوكونت\" من خلال الحل المبتكر الذي وفرته لشرطة دبي باستخدام تقنيات مايكروسوفت المتطورة بالفرصة للتنافس مع مطوري البرمجيات والأنظمة الحاسوبية العالميين واكتساب شهرة عالمية',\n",
              "  '  وعليه، فإننا نهنئ \"دوكونت\" ونتمنى لهم المزيد من النجاح\"',\n",
              "  '\\n\\n\\n \\n\\n'],\n",
              " ['دبي: أعلنت مايكروسوفت جنوب الخليج عن فوز شركة\" دوكونت\"، أحد أهم شركاء مايكروسوفت في الشرق الأوسط بجائزة \"أفضل ابتكار\"، وذلك في إطار مشاركتها في جوائز \"مطوري تطبيقات قطاع التجزئة\" لعام 2003 التي أقيمت في باريس\\nوتم منح الجوائز في عدد من الفئات إلى المطورين الذين تمكنوا من استثمار تقنيات مايكروسوفت على أكمل وجه بما فيه فائدة قطاع التجزئة والعملاء\\nوقد تمكنت دوكونت، الشركة الرائدة في مجال تطبيقات الإنترنت السلكية واللاسلكية في منطقة الشرق الأوسط، من الفوز بجائزة هذه الفئة عن حل الحوسبة النقالة الذي طورته لصالح شرطة دبي العام الماضي',\n",
              "  ' وقال الدكتور عمر بن سليمان، الرئيس التنفيذي لمدينة دبي للإنترنت: \"تقدم هذه الجائزة خير دليل على أن البرمجيات التجارية توفر للمطورين المنصة المثالية لإيجاد حلول مبتكرة للتغلب على التحديات الفعلية التي تواجه قطاع الأعمال\"',\n",
              "  ' من جانبه، أضاف عبد اللطيف الملا، مدير عام مايكروسوفت جنوب الخليج: \"حظيت \"دوكونت\" من خلال الحل المبتكر الذي وفرته لشرطة دبي باستخدام تقنيات مايكروسوفت المتطورة بالفرصة للتنافس مع مطوري البرمجيات والأنظمة الحاسوبية العالميين واكتساب شهرة عالمية',\n",
              "  '\\n\\n \\n\\n'],\n",
              " ['دبي: أعلنت مايكروسوفت جنوب الخليج عن فوز شركة\" دوكونت\"، أحد أهم شركاء مايكروسوفت في الشرق الأوسط بجائزة \"أفضل ابتكار\"، وذلك في إطار مشاركتها في جوائز \"مطوري تطبيقات قطاع التجزئة\" لعام 2003 التي أقيمت في باريس\\nوتم منح الجوائز في عدد من الفئات إلى المطورين الذين تمكنوا من استثمار تقنيات مايكروسوفت على أكمل وجه بما فيه فائدة قطاع التجزئة والعملاء\\nوقد تمكنت دوكونت، الشركة الرائدة في مجال تطبيقات الإنترنت السلكية واللاسلكية في منطقة الشرق الأوسط، من الفوز بجائزة هذه الفئة عن حل الحوسبة النقالة الذي طورته لصالح شرطة دبي العام الماضي',\n",
              "  ' وقال الدكتور عمر بن سليمان، الرئيس التنفيذي لمدينة دبي للإنترنت: \"تقدم هذه الجائزة خير دليل على أن البرمجيات التجارية توفر للمطورين المنصة المثالية لإيجاد حلول مبتكرة للتغلب على التحديات الفعلية التي تواجه قطاع الأعمال\"',\n",
              "  ' من جانبه، أضاف عبد اللطيف الملا، مدير عام مايكروسوفت جنوب الخليج: \"حظيت \"دوكونت\" من خلال الحل المبتكر الذي وفرته لشرطة دبي باستخدام تقنيات مايكروسوفت المتطورة بالفرصة للتنافس مع مطوري البرمجيات والأنظمة الحاسوبية العالميين واكتساب شهرة عالمية',\n",
              "  '\\n\\n \\n\\n']]"
            ]
          },
          "metadata": {
            "tags": []
          },
          "execution_count": 93
        }
      ]
    },
    {
      "cell_type": "code",
      "metadata": {
        "id": "g18dweLicML0",
        "colab": {
          "base_uri": "https://localhost:8080/",
          "height": 258
        },
        "outputId": "5ff26e02-9066-46a7-85b3-55d101e38516"
      },
      "source": [
        "from collections import defaultdict\n",
        "dic = defaultdict(int)\n",
        "\n",
        "golden_list = []\n",
        "for i in range (len (res)):\n",
        "  for l in range(len(res[i])):\n",
        "    dic[res[i][l]]+=1\n",
        "\n",
        "dic"
      ],
      "execution_count": null,
      "outputs": [
        {
          "output_type": "execute_result",
          "data": {
            "text/plain": [
              "defaultdict(int,\n",
              "            {'': 2,\n",
              "             '\\n\\n\\n \\n\\n': 1,\n",
              "             '\\n\\n \\n\\n': 2,\n",
              "             '  وعليه، فإننا نهنئ \"دوكونت\" ونتمنى لهم المزيد من النجاح\"': 1,\n",
              "             ' من جانبه، أضاف عبد اللطيف الملا، مدير عام مايكروسوفت جنوب الخليج: \"حظيت \"دوكونت\" من خلال الحل المبتكر الذي وفرته لشرطة دبي باستخدام تقنيات مايكروسوفت المتطورة بالفرصة للتنافس مع مطوري البرمجيات والأنظمة الحاسوبية العالميين واكتساب شهرة عالمية': 3,\n",
              "             ' وتم منح الجوائز في عدد من الفئات إلى المطورين الذين تمكنوا من استثمار تقنيات مايكروسوفت على أكمل وجه بما فيه فائدة قطاع التجزئة والعملاء': 1,\n",
              "             ' وسبق في عام 2002 أن فازت \"دو كونت\" بجائزة \"مايكروسوفت فيوجن\" التي أقيمت في لوس أنجلوس عن حل الشرطة الإلكترونية ضمن فئة \"أفضل الحلول التنسيقية\"': 1,\n",
              "             ' وقال الدكتور عمر بن سليمان، الرئيس التنفيذي لمدينة دبي للإنترنت: \"تقدم هذه الجائزة خير دليل على أن البرمجيات التجارية توفر للمطورين المنصة المثالية لإيجاد حلول مبتكرة للتغلب على التحديات الفعلية التي تواجه قطاع الأعمال\"': 3,\n",
              "             ' وقد جاء هذا الفوز نتيجة لالتزامنا بتطوير أفضل الحلول التقنية لهذه المنطقة، وللدعم الذي استمديناه من الرؤية الاستراتيجية لشرطة دبي والتطور الكبير الذي تتميز به تقنيات مايكروسوفت المبتكرة\"': 1,\n",
              "             ' ولكن لجنة التحكيم المستقلة التي تضم تجاراً وصحفيين ومحللين من قطاع التجزئة قررت ترقية حل \"دو كونت\" المتطور إلى فئة \"أفضل ابتكار\" التي استحقت الشركة عنها الجائزة الأولى بجدارة': 1,\n",
              "             'دبي: أعلنت مايكروسوفت جنوب الخليج عن فوز شركة\" دوكونت\"، أحد أهم شركاء مايكروسوفت في الشرق الأوسط بجائزة \"أفضل ابتكار\"، وذلك في إطار مشاركتها في جوائز \"مطوري تطبيقات قطاع التجزئة\" لعام 2003 التي أقيمت في باريس\\nوتم منح الجوائز في عدد من الفئات إلى المطورين الذين تمكنوا من استثمار تقنيات مايكروسوفت على أكمل وجه بما فيه فائدة قطاع التجزئة والعملاء\\nوقد تمكنت دوكونت، الشركة الرائدة في مجال تطبيقات الإنترنت السلكية واللاسلكية في منطقة الشرق الأوسط، من الفوز بجائزة هذه الفئة عن حل الحوسبة النقالة الذي طورته لصالح شرطة دبي العام الماضي': 2,\n",
              "             'وتم منح الجوائز في عدد من الفئات إلى المطورين الذين تمكنوا من استثمار تقنيات مايكروسوفت على أكمل وجه بما فيه فائدة قطاع التجزئة والعملاء\\nوقد تمكنت دوكونت، الشركة الرائدة في مجال تطبيقات الإنترنت السلكية واللاسلكية في منطقة الشرق الأوسط، من الفوز بجائزة هذه الفئة عن حل الحوسبة النقالة الذي طورته لصالح شرطة دبي العام الماضي': 1})"
            ]
          },
          "metadata": {
            "tags": []
          },
          "execution_count": 94
        }
      ]
    },
    {
      "cell_type": "code",
      "metadata": {
        "id": "6HLHVjsY0at_",
        "colab": {
          "base_uri": "https://localhost:8080/",
          "height": 122
        },
        "outputId": "bb4f3bc8-d2f2-4613-ee97-b2f0957f485b"
      },
      "source": [
        "for k,v in dic.items():\n",
        "  if v>=2 : golden_list.append(k)\n",
        "\n",
        "golden_list    "
      ],
      "execution_count": null,
      "outputs": [
        {
          "output_type": "execute_result",
          "data": {
            "text/plain": [
              "['',\n",
              " ' وقال الدكتور عمر بن سليمان، الرئيس التنفيذي لمدينة دبي للإنترنت: \"تقدم هذه الجائزة خير دليل على أن البرمجيات التجارية توفر للمطورين المنصة المثالية لإيجاد حلول مبتكرة للتغلب على التحديات الفعلية التي تواجه قطاع الأعمال\"',\n",
              " ' من جانبه، أضاف عبد اللطيف الملا، مدير عام مايكروسوفت جنوب الخليج: \"حظيت \"دوكونت\" من خلال الحل المبتكر الذي وفرته لشرطة دبي باستخدام تقنيات مايكروسوفت المتطورة بالفرصة للتنافس مع مطوري البرمجيات والأنظمة الحاسوبية العالميين واكتساب شهرة عالمية',\n",
              " 'دبي: أعلنت مايكروسوفت جنوب الخليج عن فوز شركة\" دوكونت\"، أحد أهم شركاء مايكروسوفت في الشرق الأوسط بجائزة \"أفضل ابتكار\"، وذلك في إطار مشاركتها في جوائز \"مطوري تطبيقات قطاع التجزئة\" لعام 2003 التي أقيمت في باريس\\nوتم منح الجوائز في عدد من الفئات إلى المطورين الذين تمكنوا من استثمار تقنيات مايكروسوفت على أكمل وجه بما فيه فائدة قطاع التجزئة والعملاء\\nوقد تمكنت دوكونت، الشركة الرائدة في مجال تطبيقات الإنترنت السلكية واللاسلكية في منطقة الشرق الأوسط، من الفوز بجائزة هذه الفئة عن حل الحوسبة النقالة الذي طورته لصالح شرطة دبي العام الماضي',\n",
              " '\\n\\n \\n\\n']"
            ]
          },
          "metadata": {
            "tags": []
          },
          "execution_count": 95
        }
      ]
    },
    {
      "cell_type": "code",
      "metadata": {
        "id": "V-Tvoo1uzvWW",
        "colab": {
          "base_uri": "https://localhost:8080/",
          "height": 85
        },
        "outputId": "9dfd9b74-ad53-475a-8159-2e7e2eba4ada"
      },
      "source": [
        "!pip install Rouge"
      ],
      "execution_count": null,
      "outputs": [
        {
          "output_type": "stream",
          "text": [
            "Collecting Rouge\n",
            "  Downloading https://files.pythonhosted.org/packages/63/ac/b93411318529980ab7f41e59ed64ec3ffed08ead32389e29eb78585dd55d/rouge-0.3.2-py3-none-any.whl\n",
            "Installing collected packages: Rouge\n",
            "Successfully installed Rouge-0.3.2\n"
          ],
          "name": "stdout"
        }
      ]
    },
    {
      "cell_type": "code",
      "metadata": {
        "id": "fz7RcyGed5Y5",
        "colab": {
          "base_uri": "https://localhost:8080/",
          "height": 54
        },
        "outputId": "f4878a0a-817c-41a9-e09b-0b73ad602d00"
      },
      "source": [
        "orgnl_doc = data['Orignal'][22].replace(\"\\ufeff\",\"\")\n",
        "orgnl_doc"
      ],
      "execution_count": null,
      "outputs": [
        {
          "output_type": "execute_result",
          "data": {
            "text/plain": [
              "'الكارتيه نوع من أنواع الفنون القتالية اليابانية و تستخدم فيه الأيدي والأقدام والركب و المرافق كأسلحة.\\nأن أصل نشأة الكاراتيه في اليابان على جزيرة اوكيناوا وسبب موقعها الجغرافى الممتاز حيث قربها على الصين ادى إلى تفاعل تجارة ناجحة مع جيرانها الصينيين مما جعل بعضا من ثقافتة متأثر قليلا في ثقافة الصين وفنونها القتالية.\\nكان الاوكيناويين يسافرون إلى الصين لتعلم فنون القتال وتحديدا الوشوو حيث طورو الكاراتيه من فنونهم القتالية المحلية وبعض من فنون قتالية صينة وهي الوشوو بتحديد.\\nاوكيناوا كانت محكومة في تلك الفترة بنظام اقطاعى حيث قد كانت فترة الاقطاعيين في اليابان وحيث كانت الحروب الاهلية كثيرة في اليابان.\\nوعندما ارادت اليابان التوحد في فترة ميجى واسقاط الحكم الاقطاعى في كانت هناك بعض المناطق في اليابان لا بد وان توحد بالقوة ومن هذه المناطق ارخبيل ريوكو الذي يوجد فيه ولاية اوكيناوا التي ظهر فيها فن الكاراتيه.\\nفقد هاجمتها قوات هائلة من الساموراى عام 1600م واسقطت النظام الاقطاعى الحاكم للارخبيل وعند ذلك اجرت قوات الساموراى عملية حظر السلاح على سكان الجزيرة خوفا من الثورات ضدهم فاراد الاوكيناويين ان يستعملو اعضاء جسدهم كسلاح للدفاع عن النفس على جزيرة اوكيناوا.\\nوبعد ذلك وحدتها الحكومة اليابانية في فترة حكم الامبراطور ميجي عام 1879م وبعد ان ارجع ارخبيل ريوكو وجزيرة اوكيناوا إلى الحكم اليابانى اراد فوناكشى ومجموعة من خبراء فنون القتال اليابانيه في طوكيو ان يجعلوا الكاراتيه فن قتالى عسكرى يابانى مؤكد من جمعية اليابان لفنون القتال.\\nبعد ذلك اسس الخبراء اليابانيون للكاراتيه وفوناكشي جيتشين جمعية اليابان للكاراتيه (Japan Karate Association)  ومن هذا المنطلق اشاعو اليابانيون الكاراتيه فى جميع اليابان على الجزر الرئيسية والعالم الخارجي.\\n\\n\\n'"
            ]
          },
          "metadata": {
            "tags": []
          },
          "execution_count": 97
        }
      ]
    },
    {
      "cell_type": "code",
      "metadata": {
        "id": "oVq_oG4EuLDi",
        "colab": {
          "base_uri": "https://localhost:8080/",
          "height": 54
        },
        "outputId": "9237f7b7-0213-4eb6-efad-542814332bb0"
      },
      "source": [
        "golden_list_str = \"\".join(str(x) for x in golden_list)\n",
        "golden_list_str"
      ],
      "execution_count": null,
      "outputs": [
        {
          "output_type": "execute_result",
          "data": {
            "text/plain": [
              "' وقال الدكتور عمر بن سليمان، الرئيس التنفيذي لمدينة دبي للإنترنت: \"تقدم هذه الجائزة خير دليل على أن البرمجيات التجارية توفر للمطورين المنصة المثالية لإيجاد حلول مبتكرة للتغلب على التحديات الفعلية التي تواجه قطاع الأعمال\" من جانبه، أضاف عبد اللطيف الملا، مدير عام مايكروسوفت جنوب الخليج: \"حظيت \"دوكونت\" من خلال الحل المبتكر الذي وفرته لشرطة دبي باستخدام تقنيات مايكروسوفت المتطورة بالفرصة للتنافس مع مطوري البرمجيات والأنظمة الحاسوبية العالميين واكتساب شهرة عالميةدبي: أعلنت مايكروسوفت جنوب الخليج عن فوز شركة\" دوكونت\"، أحد أهم شركاء مايكروسوفت في الشرق الأوسط بجائزة \"أفضل ابتكار\"، وذلك في إطار مشاركتها في جوائز \"مطوري تطبيقات قطاع التجزئة\" لعام 2003 التي أقيمت في باريس\\nوتم منح الجوائز في عدد من الفئات إلى المطورين الذين تمكنوا من استثمار تقنيات مايكروسوفت على أكمل وجه بما فيه فائدة قطاع التجزئة والعملاء\\nوقد تمكنت دوكونت، الشركة الرائدة في مجال تطبيقات الإنترنت السلكية واللاسلكية في منطقة الشرق الأوسط، من الفوز بجائزة هذه الفئة عن حل الحوسبة النقالة الذي طورته لصالح شرطة دبي العام الماضي\\n\\n \\n\\n'"
            ]
          },
          "metadata": {
            "tags": []
          },
          "execution_count": 98
        }
      ]
    },
    {
      "cell_type": "code",
      "metadata": {
        "id": "KevySM54Y6AR",
        "colab": {
          "base_uri": "https://localhost:8080/",
          "height": 34
        },
        "outputId": "ecd1f3aa-20be-40c3-a552-05b7a5b80e2e"
      },
      "source": [
        "from rouge import Rouge \n",
        "\n",
        "\n",
        "rouge = Rouge()\n",
        "scores = rouge.get_scores(orgnl_doc, golden_list_str)\n",
        "print(scores)"
      ],
      "execution_count": null,
      "outputs": [
        {
          "output_type": "stream",
          "text": [
            "[{'rouge-1': {'f': 0.07868851970889576, 'p': 0.06818181818181818, 'r': 0.09302325581395349}, 'rouge-2': {'f': 0.0, 'p': 0.0, 'r': 0.0}, 'rouge-l': {'f': 0.06266660437269503, 'p': 0.056818181818181816, 'r': 0.07751937984496124}}]\n"
          ],
          "name": "stdout"
        }
      ]
    },
    {
      "cell_type": "code",
      "metadata": {
        "id": "YH9C5IcGyPRC"
      },
      "source": [
        ""
      ],
      "execution_count": null,
      "outputs": []
    },
    {
      "cell_type": "code",
      "metadata": {
        "id": "uJY6bVHJB3hm",
        "colab": {
          "base_uri": "https://localhost:8080/",
          "height": 85
        },
        "outputId": "f1d0009c-2984-4a08-f493-0afa9af5b1da"
      },
      "source": [
        "!git clone https://github.com/motazsaad/khoja-stemmer-command-line.git"
      ],
      "execution_count": null,
      "outputs": [
        {
          "output_type": "stream",
          "text": [
            "Cloning into 'khoja-stemmer-command-line'...\n",
            "remote: Enumerating objects: 76, done.\u001b[K\n",
            "Unpacking objects:   1% (1/76)   \rUnpacking objects:   2% (2/76)   \rUnpacking objects:   3% (3/76)   \rUnpacking objects:   5% (4/76)   \rUnpacking objects:   6% (5/76)   \rUnpacking objects:   7% (6/76)   \rUnpacking objects:   9% (7/76)   \rUnpacking objects:  10% (8/76)   \rUnpacking objects:  11% (9/76)   \rUnpacking objects:  13% (10/76)   \rUnpacking objects:  14% (11/76)   \rUnpacking objects:  15% (12/76)   \rUnpacking objects:  17% (13/76)   \rUnpacking objects:  18% (14/76)   \rUnpacking objects:  19% (15/76)   \rUnpacking objects:  21% (16/76)   \rUnpacking objects:  22% (17/76)   \rUnpacking objects:  23% (18/76)   \rUnpacking objects:  25% (19/76)   \rUnpacking objects:  26% (20/76)   \rUnpacking objects:  27% (21/76)   \rUnpacking objects:  28% (22/76)   \rUnpacking objects:  30% (23/76)   \rUnpacking objects:  31% (24/76)   \rUnpacking objects:  32% (25/76)   \rUnpacking objects:  34% (26/76)   \rUnpacking objects:  35% (27/76)   \rUnpacking objects:  36% (28/76)   \rUnpacking objects:  38% (29/76)   \rUnpacking objects:  39% (30/76)   \rUnpacking objects:  40% (31/76)   \rUnpacking objects:  42% (32/76)   \rUnpacking objects:  43% (33/76)   \rUnpacking objects:  44% (34/76)   \rUnpacking objects:  46% (35/76)   \rUnpacking objects:  47% (36/76)   \rUnpacking objects:  48% (37/76)   \rUnpacking objects:  50% (38/76)   \rUnpacking objects:  51% (39/76)   \rUnpacking objects:  52% (40/76)   \rremote: Total 76 (delta 0), reused 0 (delta 0), pack-reused 76\u001b[K\n",
            "Unpacking objects:  53% (41/76)   \rUnpacking objects:  55% (42/76)   \rUnpacking objects:  56% (43/76)   \rUnpacking objects:  57% (44/76)   \rUnpacking objects:  59% (45/76)   \rUnpacking objects:  60% (46/76)   \rUnpacking objects:  61% (47/76)   \rUnpacking objects:  63% (48/76)   \rUnpacking objects:  64% (49/76)   \rUnpacking objects:  65% (50/76)   \rUnpacking objects:  67% (51/76)   \rUnpacking objects:  68% (52/76)   \rUnpacking objects:  69% (53/76)   \rUnpacking objects:  71% (54/76)   \rUnpacking objects:  72% (55/76)   \rUnpacking objects:  73% (56/76)   \rUnpacking objects:  75% (57/76)   \rUnpacking objects:  76% (58/76)   \rUnpacking objects:  77% (59/76)   \rUnpacking objects:  78% (60/76)   \rUnpacking objects:  80% (61/76)   \rUnpacking objects:  81% (62/76)   \rUnpacking objects:  82% (63/76)   \rUnpacking objects:  84% (64/76)   \rUnpacking objects:  85% (65/76)   \rUnpacking objects:  86% (66/76)   \rUnpacking objects:  88% (67/76)   \rUnpacking objects:  89% (68/76)   \rUnpacking objects:  90% (69/76)   \rUnpacking objects:  92% (70/76)   \rUnpacking objects:  93% (71/76)   \rUnpacking objects:  94% (72/76)   \rUnpacking objects:  96% (73/76)   \rUnpacking objects:  97% (74/76)   \rUnpacking objects:  98% (75/76)   \rUnpacking objects: 100% (76/76)   \rUnpacking objects: 100% (76/76), done.\n"
          ],
          "name": "stdout"
        }
      ]
    },
    {
      "cell_type": "code",
      "metadata": {
        "id": "DQM2wrklwaBs",
        "colab": {
          "base_uri": "https://localhost:8080/",
          "height": 68
        },
        "outputId": "6e2d18a2-d198-41c2-dda1-64b51013072b"
      },
      "source": [
        "ls"
      ],
      "execution_count": null,
      "outputs": [
        {
          "output_type": "stream",
          "text": [
            "COPYRIGHT         \u001b[0m\u001b[01;34mkhoja-stemmer-command-line\u001b[0m/  README\n",
            "\u001b[01;34mEASC-ISO-Arabic\u001b[0m/  list.txt                     SOURCES.CSV\n",
            "\u001b[01;34mEASC-UTF-8\u001b[0m/       myfile.txt                   test_in.txt\n"
          ],
          "name": "stdout"
        }
      ]
    },
    {
      "cell_type": "code",
      "metadata": {
        "id": "HnHdgfm0mL41",
        "colab": {
          "base_uri": "https://localhost:8080/",
          "height": 34
        },
        "outputId": "1983f73a-241b-485d-e42e-990146ebbc3a"
      },
      "source": [
        "cd khoja-stemmer-command-line"
      ],
      "execution_count": null,
      "outputs": [
        {
          "output_type": "stream",
          "text": [
            "/content/EASC/khoja-stemmer-command-line\n"
          ],
          "name": "stdout"
        }
      ]
    },
    {
      "cell_type": "code",
      "metadata": {
        "id": "3v12OZQXwBog"
      },
      "source": [
        "!ls"
      ],
      "execution_count": null,
      "outputs": []
    },
    {
      "cell_type": "code",
      "metadata": {
        "id": "qH3LQJmCwJsU"
      },
      "source": [
        "!pwd"
      ],
      "execution_count": null,
      "outputs": []
    },
    {
      "cell_type": "code",
      "metadata": {
        "id": "kfHjDIu5ufiS"
      },
      "source": [
        "from google.colab import files\n",
        "uploaded = files.upload()"
      ],
      "execution_count": null,
      "outputs": []
    },
    {
      "cell_type": "code",
      "metadata": {
        "id": "dHBYGIbJxD2s"
      },
      "source": [
        "ls"
      ],
      "execution_count": null,
      "outputs": []
    },
    {
      "cell_type": "code",
      "metadata": {
        "id": "w2SM916U-IOR"
      },
      "source": [
        "!cat test_in.txt  "
      ],
      "execution_count": null,
      "outputs": []
    },
    {
      "cell_type": "code",
      "metadata": {
        "id": "rAG1GwYL-Mnm",
        "colab": {
          "base_uri": "https://localhost:8080/",
          "height": 54
        },
        "outputId": "3c01be69-488f-4c78-8c68-ce29fc5676dc"
      },
      "source": [
        "golden_list_str"
      ],
      "execution_count": null,
      "outputs": [
        {
          "output_type": "execute_result",
          "data": {
            "text/plain": [
              "' وقال الدكتور عمر بن سليمان، الرئيس التنفيذي لمدينة دبي للإنترنت: \"تقدم هذه الجائزة خير دليل على أن البرمجيات التجارية توفر للمطورين المنصة المثالية لإيجاد حلول مبتكرة للتغلب على التحديات الفعلية التي تواجه قطاع الأعمال\" من جانبه، أضاف عبد اللطيف الملا، مدير عام مايكروسوفت جنوب الخليج: \"حظيت \"دوكونت\" من خلال الحل المبتكر الذي وفرته لشرطة دبي باستخدام تقنيات مايكروسوفت المتطورة بالفرصة للتنافس مع مطوري البرمجيات والأنظمة الحاسوبية العالميين واكتساب شهرة عالميةدبي: أعلنت مايكروسوفت جنوب الخليج عن فوز شركة\" دوكونت\"، أحد أهم شركاء مايكروسوفت في الشرق الأوسط بجائزة \"أفضل ابتكار\"، وذلك في إطار مشاركتها في جوائز \"مطوري تطبيقات قطاع التجزئة\" لعام 2003 التي أقيمت في باريس\\nوتم منح الجوائز في عدد من الفئات إلى المطورين الذين تمكنوا من استثمار تقنيات مايكروسوفت على أكمل وجه بما فيه فائدة قطاع التجزئة والعملاء\\nوقد تمكنت دوكونت، الشركة الرائدة في مجال تطبيقات الإنترنت السلكية واللاسلكية في منطقة الشرق الأوسط، من الفوز بجائزة هذه الفئة عن حل الحوسبة النقالة الذي طورته لصالح شرطة دبي العام الماضي\\n\\n \\n\\n'"
            ]
          },
          "metadata": {
            "tags": []
          },
          "execution_count": 107
        }
      ]
    },
    {
      "cell_type": "code",
      "metadata": {
        "id": "_mqjql_O-VBe"
      },
      "source": [
        "!echo 'امارة دبي هي ثاني الامارات المكونة لدولة الامارات العربية المتحدة وعاصمتها مدينة دبي . تشكل هذه الامارة مركزا هاما للمال والاعمال في العالم ووجهة سياحية يقصدها الملايين من السياح سنويا.دبي هي العاصمة الاقتصادية للامارات العربية المتحدة وقد تطورت تطورا كبيرا خلال السنوات الماضية . الاقتصاد الحر والنشط في الامارة وعدم وجود نظام ضريبي لعب دورا كبيرا في جذب المستثمرين من جميع انحاء العالم . وتقع امارة دبي بين امارتي ابو ظبي والشارقة . واهل امارة دبي ينحدرون من قباءل عربية متنوعة علي راسها قبيلة ال بو فلاسه التي تنحدر منها اسرة ال مكتوم الحاكمة . وتقطنها قباءل بني كعب و ال بو فلاح وال بو مهير والسودان والشوامس والبلوش والمناصير والرميثات والشحوح وغيرهم . وبها عواءل كثيرة من اصول افريقية وفارسية . ودين اهالي دبي هو الاسلام علي نهج اهل السنة والجماعة والمذهب الرسمي في دبي هو المذهب المالكي.ال مكتوم هم حكام دبي . وهم من ال بو فلاسه من بني ياس . حاكمها الان هو الشيخ محمد بن راشد ال مكتوم . وهو ايضا ناءب لرءيس الدولة و رءيس لمجلس الوزراء في الحكومة الاتحادية . وناءبيه في الحكم هما شقيقه الشيخ حمدان بن راشد ال مكتوم وزير المالية والصناعة والشيخ مكتوم بن محمد بن راشد ال مكتوم . بينما يتولي منصب ولاية العهد بالامارة الشيخ حمدان بن محمد بن راشد ال مكتوم رءيس المجلس التنفيذي للامارة . يراس المجلس التنفيذي لحكومة دبي الشيخ حمدان بن محمد بن راشد ال مكتوم . ويجمع هذا المجلس في عضويته جميع مدراء الدواءر في حكومة دبي حيث يعقدوت اجتماعاتهم الدورية لتسيير شءون الامارة .' > myfile.txt\n"
      ],
      "execution_count": null,
      "outputs": []
    },
    {
      "cell_type": "code",
      "metadata": {
        "id": "xLcHeLdB-g7S",
        "colab": {
          "base_uri": "https://localhost:8080/",
          "height": 54
        },
        "outputId": "5d01219a-0153-4cd9-ae4e-37ea98e4dea6"
      },
      "source": [
        "!cat myfile.txt"
      ],
      "execution_count": null,
      "outputs": [
        {
          "output_type": "stream",
          "text": [
            "امارة دبي هي ثاني الامارات المكونة لدولة الامارات العربية المتحدة وعاصمتها مدينة دبي . تشكل هذه الامارة مركزا هاما للمال والاعمال في العالم ووجهة سياحية يقصدها الملايين من السياح سنويا.دبي هي العاصمة الاقتصادية للامارات العربية المتحدة وقد تطورت تطورا كبيرا خلال السنوات الماضية . الاقتصاد الحر والنشط في الامارة وعدم وجود نظام ضريبي لعب دورا كبيرا في جذب المستثمرين من جميع انحاء العالم . وتقع امارة دبي بين امارتي ابو ظبي والشارقة . واهل امارة دبي ينحدرون من قباءل عربية متنوعة علي راسها قبيلة ال بو فلاسه التي تنحدر منها اسرة ال مكتوم الحاكمة . وتقطنها قباءل بني كعب و ال بو فلاح وال بو مهير والسودان والشوامس والبلوش والمناصير والرميثات والشحوح وغيرهم . وبها عواءل كثيرة من اصول افريقية وفارسية . ودين اهالي دبي هو الاسلام علي نهج اهل السنة والجماعة والمذهب الرسمي في دبي هو المذهب المالكي.ال مكتوم هم حكام دبي . وهم من ال بو فلاسه من بني ياس . حاكمها الان هو الشيخ محمد بن راشد ال مكتوم . وهو ايضا ناءب لرءيس الدولة و رءيس لمجلس الوزراء في الحكومة الاتحادية . وناءبيه في الحكم هما شقيقه الشيخ حمدان بن راشد ال مكتوم وزير المالية والصناعة والشيخ مكتوم بن محمد بن راشد ال مكتوم . بينما يتولي منصب ولاية العهد بالامارة الشيخ حمدان بن محمد بن راشد ال مكتوم رءيس المجلس التنفيذي للامارة . يراس المجلس التنفيذي لحكومة دبي الشيخ حمدان بن محمد بن راشد ال مكتوم . ويجمع هذا المجلس في عضويته جميع مدراء الدواءر في حكومة دبي حيث يعقدوت اجتماعاتهم الدورية لتسيير شءون الامارة .\n"
          ],
          "name": "stdout"
        }
      ]
    },
    {
      "cell_type": "code",
      "metadata": {
        "id": "sOhf_ukIB3dm",
        "colab": {
          "base_uri": "https://localhost:8080/",
          "height": 34
        },
        "outputId": "b9cddfe5-abbd-4f02-b947-547de05bc0d3"
      },
      "source": [
        "import subprocess\n",
        "subprocess.call(['java', '-jar', '.khoja-stemmer-command-line.jar'])"
      ],
      "execution_count": null,
      "outputs": [
        {
          "output_type": "execute_result",
          "data": {
            "text/plain": [
              "1"
            ]
          },
          "metadata": {
            "tags": []
          },
          "execution_count": 110
        }
      ]
    },
    {
      "cell_type": "code",
      "metadata": {
        "id": "3ZKkIvu9-gIJ"
      },
      "source": [
        "!java -jar khoja-stemmer-command-line.jar myfile.txt test-out.txt"
      ],
      "execution_count": null,
      "outputs": []
    },
    {
      "cell_type": "code",
      "metadata": {
        "id": "TUr2qTHh-ver",
        "colab": {
          "base_uri": "https://localhost:8080/",
          "height": 34
        },
        "outputId": "61339d52-8ab2-4f23-bbc2-011d638381b2"
      },
      "source": [
        "cd /content/EASC/khoja-stemmer-command-line"
      ],
      "execution_count": null,
      "outputs": [
        {
          "output_type": "stream",
          "text": [
            "/content/EASC/khoja-stemmer-command-line\n"
          ],
          "name": "stdout"
        }
      ]
    },
    {
      "cell_type": "code",
      "metadata": {
        "id": "D8nsGJHe-yPy",
        "colab": {
          "base_uri": "https://localhost:8080/",
          "height": 54
        },
        "outputId": "c61df938-5359-4a7d-fbdb-c079c1690a31"
      },
      "source": [
        "!cat test-out.txt"
      ],
      "execution_count": null,
      "outputs": [
        {
          "output_type": "stream",
          "text": [
            "مور دوب ثاني مرأ كون دول مرأ عرب حدد عصم مدين دوب . شكل مور مركز ها مول عمل علم وجه سوح قصد لون سوح سنويا.دبي عصم قصد مرأ عرب حدد طور طور كبر نوت مضي . قصد حري نشط مور عدم نظم ضرب لعب دور كبر جذب ثمر حاء علم . قعي مور دوب مور بوأ ظبي شرق . وهل مور دوب حدر قباءل عرب نوع علي روس قبل ل بوأ فلس تنحدر أسر ل كوم حكم . قطن قباءل بني كعب ل بوأ فلح ويل بوأ هور سود شمس بلوش نصر رمث شحح غير . بها عواءل كثر صول فرق فرس . دون هول دوب سلم علي نهج أهل وسن جمع مذهب رسم دوب مذهب مالكي.ال كوم حكم دوب . وهم ل بوأ فلس بني ياس . حكم شيخ حمد رشد ل كوم . ناءب لرءيس دول رءيس جلس وزر حكم حدأ . وناءبيه حكم هما شقق شيخ حمد رشد ل كوم وزر ملأ صنع شيخ كوم حمد رشد ل كوم . ولي نصب لوي عهد مور شيخ حمد حمد رشد ل كوم رءيس جلس نفذ مور . روس جلس نفذ حكم دوب شيخ حمد حمد رشد ل كوم . جمع جلس عضويته درأ دواءر حكم دوب يعقدوت جمع دور سور شءون مور . \n"
          ],
          "name": "stdout"
        }
      ]
    },
    {
      "cell_type": "code",
      "metadata": {
        "id": "l0SWbxAZtiri"
      },
      "source": [
        ""
      ],
      "execution_count": null,
      "outputs": []
    },
    {
      "cell_type": "code",
      "metadata": {
        "id": "aHncmG0H_LZS"
      },
      "source": [
        ""
      ],
      "execution_count": null,
      "outputs": []
    },
    {
      "cell_type": "code",
      "metadata": {
        "id": "HZnJYCvuBsLY"
      },
      "source": [
        ""
      ],
      "execution_count": null,
      "outputs": []
    },
    {
      "cell_type": "code",
      "metadata": {
        "id": "tZwWR39zBsO-"
      },
      "source": [
        ""
      ],
      "execution_count": null,
      "outputs": []
    }
  ]
}